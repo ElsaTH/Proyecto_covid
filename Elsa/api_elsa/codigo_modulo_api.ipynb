{
 "metadata": {
  "language_info": {
   "codemirror_mode": {
    "name": "ipython",
    "version": 3
   },
   "file_extension": ".py",
   "mimetype": "text/x-python",
   "name": "python",
   "nbconvert_exporter": "python",
   "pygments_lexer": "ipython3",
   "version": 3
  },
  "orig_nbformat": 2,
  "kernelspec": {
   "name": "python_defaultSpec_1596179430351",
   "display_name": "Python 3.8.3 64-bit"
  }
 },
 "nbformat": 4,
 "nbformat_minor": 2,
 "cells": [
  {
   "cell_type": "code",
   "execution_count": 30,
   "metadata": {},
   "outputs": [],
   "source": [
    "import pandas as pd\n",
    "import numpy\n",
    "import matplotlib.pyplot as plt \n",
    "import requests                                         # @Elsa TH\n",
    "import json"
   ]
  },
  {
   "cell_type": "code",
   "execution_count": 31,
   "metadata": {},
   "outputs": [
    {
     "output_type": "execute_result",
     "data": {
      "text/plain": "      iso_code continent       location        date  total_cases  new_cases  \\\n0          AFG      Asia    Afghanistan  2019-12-31          0.0        0.0   \n1          AFG      Asia    Afghanistan  2020-01-01          0.0        0.0   \n2          AFG      Asia    Afghanistan  2020-01-02          0.0        0.0   \n3          AFG      Asia    Afghanistan  2020-01-03          0.0        0.0   \n4          AFG      Asia    Afghanistan  2020-01-04          0.0        0.0   \n...        ...       ...            ...         ...          ...        ...   \n33832      NaN       NaN  International  2020-02-28        705.0        0.0   \n33833      NaN       NaN  International  2020-02-29        705.0        0.0   \n33834      NaN       NaN  International  2020-03-01        705.0        0.0   \n33835      NaN       NaN  International  2020-03-02        705.0        0.0   \n33836      NaN       NaN  International  2020-03-10        696.0       -9.0   \n\n       total_deaths  new_deaths  total_cases_per_million  \\\n0               0.0         0.0                      0.0   \n1               0.0         0.0                      0.0   \n2               0.0         0.0                      0.0   \n3               0.0         0.0                      0.0   \n4               0.0         0.0                      0.0   \n...             ...         ...                      ...   \n33832           4.0         0.0                      NaN   \n33833           6.0         2.0                      NaN   \n33834           6.0         0.0                      NaN   \n33835           6.0         0.0                      NaN   \n33836           7.0         1.0                      NaN   \n\n       new_cases_per_million  ...  aged_70_older  gdp_per_capita  \\\n0                        0.0  ...          1.337        1803.987   \n1                        0.0  ...          1.337        1803.987   \n2                        0.0  ...          1.337        1803.987   \n3                        0.0  ...          1.337        1803.987   \n4                        0.0  ...          1.337        1803.987   \n...                      ...  ...            ...             ...   \n33832                    NaN  ...            NaN             NaN   \n33833                    NaN  ...            NaN             NaN   \n33834                    NaN  ...            NaN             NaN   \n33835                    NaN  ...            NaN             NaN   \n33836                    NaN  ...            NaN             NaN   \n\n       extreme_poverty  cardiovasc_death_rate  diabetes_prevalence  \\\n0                  NaN                597.029                 9.59   \n1                  NaN                597.029                 9.59   \n2                  NaN                597.029                 9.59   \n3                  NaN                597.029                 9.59   \n4                  NaN                597.029                 9.59   \n...                ...                    ...                  ...   \n33832              NaN                    NaN                  NaN   \n33833              NaN                    NaN                  NaN   \n33834              NaN                    NaN                  NaN   \n33835              NaN                    NaN                  NaN   \n33836              NaN                    NaN                  NaN   \n\n       female_smokers  male_smokers  handwashing_facilities  \\\n0                 NaN           NaN                  37.746   \n1                 NaN           NaN                  37.746   \n2                 NaN           NaN                  37.746   \n3                 NaN           NaN                  37.746   \n4                 NaN           NaN                  37.746   \n...               ...           ...                     ...   \n33832             NaN           NaN                     NaN   \n33833             NaN           NaN                     NaN   \n33834             NaN           NaN                     NaN   \n33835             NaN           NaN                     NaN   \n33836             NaN           NaN                     NaN   \n\n      hospital_beds_per_thousand  life_expectancy  \n0                            0.5            64.83  \n1                            0.5            64.83  \n2                            0.5            64.83  \n3                            0.5            64.83  \n4                            0.5            64.83  \n...                          ...              ...  \n33832                        NaN              NaN  \n33833                        NaN              NaN  \n33834                        NaN              NaN  \n33835                        NaN              NaN  \n33836                        NaN              NaN  \n\n[33837 rows x 34 columns]",
      "text/html": "<div>\n<style scoped>\n    .dataframe tbody tr th:only-of-type {\n        vertical-align: middle;\n    }\n\n    .dataframe tbody tr th {\n        vertical-align: top;\n    }\n\n    .dataframe thead th {\n        text-align: right;\n    }\n</style>\n<table border=\"1\" class=\"dataframe\">\n  <thead>\n    <tr style=\"text-align: right;\">\n      <th></th>\n      <th>iso_code</th>\n      <th>continent</th>\n      <th>location</th>\n      <th>date</th>\n      <th>total_cases</th>\n      <th>new_cases</th>\n      <th>total_deaths</th>\n      <th>new_deaths</th>\n      <th>total_cases_per_million</th>\n      <th>new_cases_per_million</th>\n      <th>...</th>\n      <th>aged_70_older</th>\n      <th>gdp_per_capita</th>\n      <th>extreme_poverty</th>\n      <th>cardiovasc_death_rate</th>\n      <th>diabetes_prevalence</th>\n      <th>female_smokers</th>\n      <th>male_smokers</th>\n      <th>handwashing_facilities</th>\n      <th>hospital_beds_per_thousand</th>\n      <th>life_expectancy</th>\n    </tr>\n  </thead>\n  <tbody>\n    <tr>\n      <th>0</th>\n      <td>AFG</td>\n      <td>Asia</td>\n      <td>Afghanistan</td>\n      <td>2019-12-31</td>\n      <td>0.0</td>\n      <td>0.0</td>\n      <td>0.0</td>\n      <td>0.0</td>\n      <td>0.0</td>\n      <td>0.0</td>\n      <td>...</td>\n      <td>1.337</td>\n      <td>1803.987</td>\n      <td>NaN</td>\n      <td>597.029</td>\n      <td>9.59</td>\n      <td>NaN</td>\n      <td>NaN</td>\n      <td>37.746</td>\n      <td>0.5</td>\n      <td>64.83</td>\n    </tr>\n    <tr>\n      <th>1</th>\n      <td>AFG</td>\n      <td>Asia</td>\n      <td>Afghanistan</td>\n      <td>2020-01-01</td>\n      <td>0.0</td>\n      <td>0.0</td>\n      <td>0.0</td>\n      <td>0.0</td>\n      <td>0.0</td>\n      <td>0.0</td>\n      <td>...</td>\n      <td>1.337</td>\n      <td>1803.987</td>\n      <td>NaN</td>\n      <td>597.029</td>\n      <td>9.59</td>\n      <td>NaN</td>\n      <td>NaN</td>\n      <td>37.746</td>\n      <td>0.5</td>\n      <td>64.83</td>\n    </tr>\n    <tr>\n      <th>2</th>\n      <td>AFG</td>\n      <td>Asia</td>\n      <td>Afghanistan</td>\n      <td>2020-01-02</td>\n      <td>0.0</td>\n      <td>0.0</td>\n      <td>0.0</td>\n      <td>0.0</td>\n      <td>0.0</td>\n      <td>0.0</td>\n      <td>...</td>\n      <td>1.337</td>\n      <td>1803.987</td>\n      <td>NaN</td>\n      <td>597.029</td>\n      <td>9.59</td>\n      <td>NaN</td>\n      <td>NaN</td>\n      <td>37.746</td>\n      <td>0.5</td>\n      <td>64.83</td>\n    </tr>\n    <tr>\n      <th>3</th>\n      <td>AFG</td>\n      <td>Asia</td>\n      <td>Afghanistan</td>\n      <td>2020-01-03</td>\n      <td>0.0</td>\n      <td>0.0</td>\n      <td>0.0</td>\n      <td>0.0</td>\n      <td>0.0</td>\n      <td>0.0</td>\n      <td>...</td>\n      <td>1.337</td>\n      <td>1803.987</td>\n      <td>NaN</td>\n      <td>597.029</td>\n      <td>9.59</td>\n      <td>NaN</td>\n      <td>NaN</td>\n      <td>37.746</td>\n      <td>0.5</td>\n      <td>64.83</td>\n    </tr>\n    <tr>\n      <th>4</th>\n      <td>AFG</td>\n      <td>Asia</td>\n      <td>Afghanistan</td>\n      <td>2020-01-04</td>\n      <td>0.0</td>\n      <td>0.0</td>\n      <td>0.0</td>\n      <td>0.0</td>\n      <td>0.0</td>\n      <td>0.0</td>\n      <td>...</td>\n      <td>1.337</td>\n      <td>1803.987</td>\n      <td>NaN</td>\n      <td>597.029</td>\n      <td>9.59</td>\n      <td>NaN</td>\n      <td>NaN</td>\n      <td>37.746</td>\n      <td>0.5</td>\n      <td>64.83</td>\n    </tr>\n    <tr>\n      <th>...</th>\n      <td>...</td>\n      <td>...</td>\n      <td>...</td>\n      <td>...</td>\n      <td>...</td>\n      <td>...</td>\n      <td>...</td>\n      <td>...</td>\n      <td>...</td>\n      <td>...</td>\n      <td>...</td>\n      <td>...</td>\n      <td>...</td>\n      <td>...</td>\n      <td>...</td>\n      <td>...</td>\n      <td>...</td>\n      <td>...</td>\n      <td>...</td>\n      <td>...</td>\n      <td>...</td>\n    </tr>\n    <tr>\n      <th>33832</th>\n      <td>NaN</td>\n      <td>NaN</td>\n      <td>International</td>\n      <td>2020-02-28</td>\n      <td>705.0</td>\n      <td>0.0</td>\n      <td>4.0</td>\n      <td>0.0</td>\n      <td>NaN</td>\n      <td>NaN</td>\n      <td>...</td>\n      <td>NaN</td>\n      <td>NaN</td>\n      <td>NaN</td>\n      <td>NaN</td>\n      <td>NaN</td>\n      <td>NaN</td>\n      <td>NaN</td>\n      <td>NaN</td>\n      <td>NaN</td>\n      <td>NaN</td>\n    </tr>\n    <tr>\n      <th>33833</th>\n      <td>NaN</td>\n      <td>NaN</td>\n      <td>International</td>\n      <td>2020-02-29</td>\n      <td>705.0</td>\n      <td>0.0</td>\n      <td>6.0</td>\n      <td>2.0</td>\n      <td>NaN</td>\n      <td>NaN</td>\n      <td>...</td>\n      <td>NaN</td>\n      <td>NaN</td>\n      <td>NaN</td>\n      <td>NaN</td>\n      <td>NaN</td>\n      <td>NaN</td>\n      <td>NaN</td>\n      <td>NaN</td>\n      <td>NaN</td>\n      <td>NaN</td>\n    </tr>\n    <tr>\n      <th>33834</th>\n      <td>NaN</td>\n      <td>NaN</td>\n      <td>International</td>\n      <td>2020-03-01</td>\n      <td>705.0</td>\n      <td>0.0</td>\n      <td>6.0</td>\n      <td>0.0</td>\n      <td>NaN</td>\n      <td>NaN</td>\n      <td>...</td>\n      <td>NaN</td>\n      <td>NaN</td>\n      <td>NaN</td>\n      <td>NaN</td>\n      <td>NaN</td>\n      <td>NaN</td>\n      <td>NaN</td>\n      <td>NaN</td>\n      <td>NaN</td>\n      <td>NaN</td>\n    </tr>\n    <tr>\n      <th>33835</th>\n      <td>NaN</td>\n      <td>NaN</td>\n      <td>International</td>\n      <td>2020-03-02</td>\n      <td>705.0</td>\n      <td>0.0</td>\n      <td>6.0</td>\n      <td>0.0</td>\n      <td>NaN</td>\n      <td>NaN</td>\n      <td>...</td>\n      <td>NaN</td>\n      <td>NaN</td>\n      <td>NaN</td>\n      <td>NaN</td>\n      <td>NaN</td>\n      <td>NaN</td>\n      <td>NaN</td>\n      <td>NaN</td>\n      <td>NaN</td>\n      <td>NaN</td>\n    </tr>\n    <tr>\n      <th>33836</th>\n      <td>NaN</td>\n      <td>NaN</td>\n      <td>International</td>\n      <td>2020-03-10</td>\n      <td>696.0</td>\n      <td>-9.0</td>\n      <td>7.0</td>\n      <td>1.0</td>\n      <td>NaN</td>\n      <td>NaN</td>\n      <td>...</td>\n      <td>NaN</td>\n      <td>NaN</td>\n      <td>NaN</td>\n      <td>NaN</td>\n      <td>NaN</td>\n      <td>NaN</td>\n      <td>NaN</td>\n      <td>NaN</td>\n      <td>NaN</td>\n      <td>NaN</td>\n    </tr>\n  </tbody>\n</table>\n<p>33837 rows × 34 columns</p>\n</div>"
     },
     "metadata": {},
     "execution_count": 31
    }
   ],
   "source": [
    "data = pd.read_csv(url, date_parser=\"date\")\n",
    "data"
   ]
  },
  {
   "cell_type": "code",
   "execution_count": 32,
   "metadata": {},
   "outputs": [
    {
     "output_type": "execute_result",
     "data": {
      "text/plain": "            location        date  new_cases\n0        Afghanistan  2019-12-31        0.0\n1        Afghanistan  2020-01-01        0.0\n2        Afghanistan  2020-01-02        0.0\n3        Afghanistan  2020-01-03        0.0\n4        Afghanistan  2020-01-04        0.0\n...              ...         ...        ...\n33832  International  2020-02-28        0.0\n33833  International  2020-02-29        0.0\n33834  International  2020-03-01        0.0\n33835  International  2020-03-02        0.0\n33836  International  2020-03-10       -9.0\n\n[33837 rows x 3 columns]",
      "text/html": "<div>\n<style scoped>\n    .dataframe tbody tr th:only-of-type {\n        vertical-align: middle;\n    }\n\n    .dataframe tbody tr th {\n        vertical-align: top;\n    }\n\n    .dataframe thead th {\n        text-align: right;\n    }\n</style>\n<table border=\"1\" class=\"dataframe\">\n  <thead>\n    <tr style=\"text-align: right;\">\n      <th></th>\n      <th>location</th>\n      <th>date</th>\n      <th>new_cases</th>\n    </tr>\n  </thead>\n  <tbody>\n    <tr>\n      <th>0</th>\n      <td>Afghanistan</td>\n      <td>2019-12-31</td>\n      <td>0.0</td>\n    </tr>\n    <tr>\n      <th>1</th>\n      <td>Afghanistan</td>\n      <td>2020-01-01</td>\n      <td>0.0</td>\n    </tr>\n    <tr>\n      <th>2</th>\n      <td>Afghanistan</td>\n      <td>2020-01-02</td>\n      <td>0.0</td>\n    </tr>\n    <tr>\n      <th>3</th>\n      <td>Afghanistan</td>\n      <td>2020-01-03</td>\n      <td>0.0</td>\n    </tr>\n    <tr>\n      <th>4</th>\n      <td>Afghanistan</td>\n      <td>2020-01-04</td>\n      <td>0.0</td>\n    </tr>\n    <tr>\n      <th>...</th>\n      <td>...</td>\n      <td>...</td>\n      <td>...</td>\n    </tr>\n    <tr>\n      <th>33832</th>\n      <td>International</td>\n      <td>2020-02-28</td>\n      <td>0.0</td>\n    </tr>\n    <tr>\n      <th>33833</th>\n      <td>International</td>\n      <td>2020-02-29</td>\n      <td>0.0</td>\n    </tr>\n    <tr>\n      <th>33834</th>\n      <td>International</td>\n      <td>2020-03-01</td>\n      <td>0.0</td>\n    </tr>\n    <tr>\n      <th>33835</th>\n      <td>International</td>\n      <td>2020-03-02</td>\n      <td>0.0</td>\n    </tr>\n    <tr>\n      <th>33836</th>\n      <td>International</td>\n      <td>2020-03-10</td>\n      <td>-9.0</td>\n    </tr>\n  </tbody>\n</table>\n<p>33837 rows × 3 columns</p>\n</div>"
     },
     "metadata": {},
     "execution_count": 32
    }
   ],
   "source": [
    "data2 = data.loc[:,[\"location\",\"date\",\"new_cases\"]]\n",
    "data2"
   ]
  },
  {
   "cell_type": "code",
   "execution_count": 33,
   "metadata": {},
   "outputs": [
    {
     "output_type": "execute_result",
     "data": {
      "text/plain": "                     date  new_cases\nlocation                            \nAfghanistan    2019-12-31        0.0\nAfghanistan    2020-01-01        0.0\nAfghanistan    2020-01-02        0.0\nAfghanistan    2020-01-03        0.0\nAfghanistan    2020-01-04        0.0\n...                   ...        ...\nInternational  2020-02-28        0.0\nInternational  2020-02-29        0.0\nInternational  2020-03-01        0.0\nInternational  2020-03-02        0.0\nInternational  2020-03-10       -9.0\n\n[33482 rows x 2 columns]",
      "text/html": "<div>\n<style scoped>\n    .dataframe tbody tr th:only-of-type {\n        vertical-align: middle;\n    }\n\n    .dataframe tbody tr th {\n        vertical-align: top;\n    }\n\n    .dataframe thead th {\n        text-align: right;\n    }\n</style>\n<table border=\"1\" class=\"dataframe\">\n  <thead>\n    <tr style=\"text-align: right;\">\n      <th></th>\n      <th>date</th>\n      <th>new_cases</th>\n    </tr>\n    <tr>\n      <th>location</th>\n      <th></th>\n      <th></th>\n    </tr>\n  </thead>\n  <tbody>\n    <tr>\n      <th>Afghanistan</th>\n      <td>2019-12-31</td>\n      <td>0.0</td>\n    </tr>\n    <tr>\n      <th>Afghanistan</th>\n      <td>2020-01-01</td>\n      <td>0.0</td>\n    </tr>\n    <tr>\n      <th>Afghanistan</th>\n      <td>2020-01-02</td>\n      <td>0.0</td>\n    </tr>\n    <tr>\n      <th>Afghanistan</th>\n      <td>2020-01-03</td>\n      <td>0.0</td>\n    </tr>\n    <tr>\n      <th>Afghanistan</th>\n      <td>2020-01-04</td>\n      <td>0.0</td>\n    </tr>\n    <tr>\n      <th>...</th>\n      <td>...</td>\n      <td>...</td>\n    </tr>\n    <tr>\n      <th>International</th>\n      <td>2020-02-28</td>\n      <td>0.0</td>\n    </tr>\n    <tr>\n      <th>International</th>\n      <td>2020-02-29</td>\n      <td>0.0</td>\n    </tr>\n    <tr>\n      <th>International</th>\n      <td>2020-03-01</td>\n      <td>0.0</td>\n    </tr>\n    <tr>\n      <th>International</th>\n      <td>2020-03-02</td>\n      <td>0.0</td>\n    </tr>\n    <tr>\n      <th>International</th>\n      <td>2020-03-10</td>\n      <td>-9.0</td>\n    </tr>\n  </tbody>\n</table>\n<p>33482 rows × 2 columns</p>\n</div>"
     },
     "metadata": {},
     "execution_count": 33
    }
   ],
   "source": [
    "location = data2.set_index(\"location\").dropna()\n",
    "location"
   ]
  },
  {
   "cell_type": "code",
   "execution_count": 34,
   "metadata": {},
   "outputs": [
    {
     "output_type": "execute_result",
     "data": {
      "text/plain": "                date  new_cases\nlocation                       \nSpain     2019-12-31        0.0\nSpain     2020-01-01        0.0\nSpain     2020-01-02        0.0\nSpain     2020-01-03        0.0\nSpain     2020-01-04        0.0\n...              ...        ...\nRussia    2020-07-27     5765.0\nRussia    2020-07-28     5635.0\nRussia    2020-07-29     5395.0\nRussia    2020-07-30     5475.0\nRussia    2020-07-31     5509.0\n\n[866 rows x 2 columns]",
      "text/html": "<div>\n<style scoped>\n    .dataframe tbody tr th:only-of-type {\n        vertical-align: middle;\n    }\n\n    .dataframe tbody tr th {\n        vertical-align: top;\n    }\n\n    .dataframe thead th {\n        text-align: right;\n    }\n</style>\n<table border=\"1\" class=\"dataframe\">\n  <thead>\n    <tr style=\"text-align: right;\">\n      <th></th>\n      <th>date</th>\n      <th>new_cases</th>\n    </tr>\n    <tr>\n      <th>location</th>\n      <th></th>\n      <th></th>\n    </tr>\n  </thead>\n  <tbody>\n    <tr>\n      <th>Spain</th>\n      <td>2019-12-31</td>\n      <td>0.0</td>\n    </tr>\n    <tr>\n      <th>Spain</th>\n      <td>2020-01-01</td>\n      <td>0.0</td>\n    </tr>\n    <tr>\n      <th>Spain</th>\n      <td>2020-01-02</td>\n      <td>0.0</td>\n    </tr>\n    <tr>\n      <th>Spain</th>\n      <td>2020-01-03</td>\n      <td>0.0</td>\n    </tr>\n    <tr>\n      <th>Spain</th>\n      <td>2020-01-04</td>\n      <td>0.0</td>\n    </tr>\n    <tr>\n      <th>...</th>\n      <td>...</td>\n      <td>...</td>\n    </tr>\n    <tr>\n      <th>Russia</th>\n      <td>2020-07-27</td>\n      <td>5765.0</td>\n    </tr>\n    <tr>\n      <th>Russia</th>\n      <td>2020-07-28</td>\n      <td>5635.0</td>\n    </tr>\n    <tr>\n      <th>Russia</th>\n      <td>2020-07-29</td>\n      <td>5395.0</td>\n    </tr>\n    <tr>\n      <th>Russia</th>\n      <td>2020-07-30</td>\n      <td>5475.0</td>\n    </tr>\n    <tr>\n      <th>Russia</th>\n      <td>2020-07-31</td>\n      <td>5509.0</td>\n    </tr>\n  </tbody>\n</table>\n<p>866 rows × 2 columns</p>\n</div>"
     },
     "metadata": {},
     "execution_count": 34
    }
   ],
   "source": [
    "location.loc[[\"Spain\",\"Argentina\",\"Chile\",\"Colombia\",\"Russia\"],:]"
   ]
  },
  {
   "cell_type": "code",
   "execution_count": 35,
   "metadata": {},
   "outputs": [
    {
     "output_type": "execute_result",
     "data": {
      "text/plain": "            new_cases\ndate                 \n2019-12-31       0.79\n2020-01-01       0.00\n2020-01-02       0.00\n2020-01-03       0.50\n2020-01-04       0.00\n...               ...\n2020-07-27    2207.71\n2020-07-28    2021.01\n2020-07-29    2318.52\n2020-07-30    2824.46\n2020-07-31    2745.07\n\n[214 rows x 1 columns]",
      "text/html": "<div>\n<style scoped>\n    .dataframe tbody tr th:only-of-type {\n        vertical-align: middle;\n    }\n\n    .dataframe tbody tr th {\n        vertical-align: top;\n    }\n\n    .dataframe thead th {\n        text-align: right;\n    }\n</style>\n<table border=\"1\" class=\"dataframe\">\n  <thead>\n    <tr style=\"text-align: right;\">\n      <th></th>\n      <th>new_cases</th>\n    </tr>\n    <tr>\n      <th>date</th>\n      <th></th>\n    </tr>\n  </thead>\n  <tbody>\n    <tr>\n      <th>2019-12-31</th>\n      <td>0.79</td>\n    </tr>\n    <tr>\n      <th>2020-01-01</th>\n      <td>0.00</td>\n    </tr>\n    <tr>\n      <th>2020-01-02</th>\n      <td>0.00</td>\n    </tr>\n    <tr>\n      <th>2020-01-03</th>\n      <td>0.50</td>\n    </tr>\n    <tr>\n      <th>2020-01-04</th>\n      <td>0.00</td>\n    </tr>\n    <tr>\n      <th>...</th>\n      <td>...</td>\n    </tr>\n    <tr>\n      <th>2020-07-27</th>\n      <td>2207.71</td>\n    </tr>\n    <tr>\n      <th>2020-07-28</th>\n      <td>2021.01</td>\n    </tr>\n    <tr>\n      <th>2020-07-29</th>\n      <td>2318.52</td>\n    </tr>\n    <tr>\n      <th>2020-07-30</th>\n      <td>2824.46</td>\n    </tr>\n    <tr>\n      <th>2020-07-31</th>\n      <td>2745.07</td>\n    </tr>\n  </tbody>\n</table>\n<p>214 rows × 1 columns</p>\n</div>"
     },
     "metadata": {},
     "execution_count": 35
    }
   ],
   "source": [
    "c_averages = location.groupby(\"date\").mean().round(2)\n",
    "c_averages"
   ]
  },
  {
   "cell_type": "code",
   "execution_count": 36,
   "metadata": {},
   "outputs": [],
   "source": [
    "c_averages.rename(columns={\"new_cases\":\"c_averages\"}, inplace=True)"
   ]
  },
  {
   "cell_type": "code",
   "execution_count": 28,
   "metadata": {},
   "outputs": [
    {
     "output_type": "execute_result",
     "data": {
      "text/plain": "'{\"c_averages\":{\"2019-12-31\":0.79,\"2020-01-01\":0.0,\"2020-01-02\":0.0,\"2020-01-03\":0.5,\"2020-01-04\":0.0,\"2020-01-05\":0.44,\"2020-01-06\":0.0,\"2020-01-07\":0.0,\"2020-01-08\":0.0,\"2020-01-09\":0.0,\"2020-01-10\":0.0,\"2020-01-11\":0.0,\"2020-01-12\":0.0,\"2020-01-13\":0.03,\"2020-01-14\":0.0,\"2020-01-15\":0.03,\"2020-01-16\":0.0,\"2020-01-17\":0.15,\"2020-01-18\":0.5,\"2020-01-19\":4.0,\"2020-01-20\":0.59,\"2020-01-21\":4.5,\"2020-01-22\":4.18,\"2020-01-23\":2.85,\"2020-01-24\":7.82,\"2020-01-25\":13.32,\"2020-01-26\":19.79,\"2020-01-27\":23.44,\"2020-01-28\":51.97,\"2020-01-29\":43.53,\"2020-01-30\":51.65,\"2020-01-31\":58.85,\"2020-02-01\":62.41,\"2020-02-02\":76.71,\"2020-02-03\":82.88,\"2020-02-04\":95.38,\"2020-02-05\":114.94,\"2020-02-06\":110.32,\"2020-02-07\":94.65,\"2020-02-08\":101.24,\"2020-02-09\":77.0,\"2020-02-10\":88.0,\"2020-02-11\":75.35,\"2020-02-12\":60.94,\"2020-02-13\":445.62,\"2020-02-14\":123.97,\"2020-02-15\":75.29,\"2020-02-16\":63.59,\"2020-02-17\":60.79,\"2020-02-18\":58.68,\"2020-02-19\":54.82,\"2020-02-20\":15.65,\"2020-02-21\":29.29,\"2020-02-22\":31.91,\"2020-02-23\":29.68,\"2020-02-24\":15.38,\"2020-02-25\":23.32,\"2020-02-26\":25.5,\"2020-02-27\":32.76,\"2020-02-28\":37.35,\"2020-02-29\":54.59,\"2020-03-01\":53.65,\"2020-03-02\":61.35,\"2020-03-03\":88.29,\"2020-03-04\":98.26,\"2020-03-05\":99.4,\"2020-03-06\":101.97,\"2020-03-07\":123.49,\"2020-03-08\":130.16,\"2020-03-09\":126.42,\"2020-03-10\":144.3,\"2020-03-11\":128.76,\"2020-03-12\":172.26,\"2020-03-13\":203.4,\"2020-03-14\":210.42,\"2020-03-15\":197.27,\"2020-03-16\":192.42,\"2020-03-17\":203.01,\"2020-03-18\":235.11,\"2020-03-19\":267.67,\"2020-03-20\":379.01,\"2020-03-21\":371.17,\"2020-03-22\":388.27,\"2020-03-23\":382.53,\"2020-03-24\":478.83,\"2020-03-25\":451.77,\"2020-03-26\":559.04,\"2020-03-27\":625.9,\"2020-03-28\":663.04,\"2020-03-29\":641.91,\"2020-03-30\":584.51,\"2020-03-31\":667.5,\"2020-04-01\":750.0,\"2020-04-02\":770.39,\"2020-04-03\":765.66,\"2020-04-04\":806.73,\"2020-04-05\":843.5,\"2020-04-06\":651.4,\"2020-04-07\":715.87,\"2020-04-08\":754.75,\"2020-04-09\":829.02,\"2020-04-10\":848.07,\"2020-04-11\":869.67,\"2020-04-12\":731.64,\"2020-04-13\":664.19,\"2020-04-14\":628.5,\"2020-04-15\":743.16,\"2020-04-16\":763.37,\"2020-04-17\":813.81,\"2020-04-18\":797.11,\"2020-04-19\":765.19,\"2020-04-20\":681.03,\"2020-04-21\":726.65,\"2020-04-22\":840.28,\"2020-04-23\":644.81,\"2020-04-24\":760.89,\"2020-04-25\":707.0,\"2020-04-26\":965.54,\"2020-04-27\":789.74,\"2020-04-28\":629.44,\"2020-04-29\":697.58,\"2020-04-30\":758.0,\"2020-05-01\":807.07,\"2020-05-02\":863.42,\"2020-05-03\":774.16,\"2020-05-04\":738.11,\"2020-05-05\":731.79,\"2020-05-06\":750.88,\"2020-05-07\":838.05,\"2020-05-08\":883.28,\"2020-05-09\":853.13,\"2020-05-10\":851.67,\"2020-05-11\":716.51,\"2020-05-12\":665.63,\"2020-05-13\":823.2,\"2020-05-14\":825.21,\"2020-05-15\":919.2,\"2020-05-16\":924.75,\"2020-05-17\":886.64,\"2020-05-18\":757.6,\"2020-05-19\":821.92,\"2020-05-20\":907.43,\"2020-05-21\":982.35,\"2020-05-22\":1026.98,\"2020-05-23\":1008.12,\"2020-05-24\":952.55,\"2020-05-25\":886.89,\"2020-05-26\":846.64,\"2020-05-27\":890.94,\"2020-05-28\":974.08,\"2020-05-29\":1130.21,\"2020-05-30\":1168.07,\"2020-05-31\":1215.67,\"2020-06-01\":1019.29,\"2020-06-02\":951.81,\"2020-06-03\":1070.45,\"2020-06-04\":1203.14,\"2020-06-05\":1212.42,\"2020-06-06\":1267.9,\"2020-06-07\":1194.25,\"2020-06-08\":1102.56,\"2020-06-09\":1002.26,\"2020-06-10\":1190.61,\"2020-06-11\":1272.33,\"2020-06-12\":1309.17,\"2020-06-13\":1371.24,\"2020-06-14\":1273.21,\"2020-06-15\":1156.29,\"2020-06-16\":1130.5,\"2020-06-17\":1345.26,\"2020-06-18\":1689.23,\"2020-06-19\":1319.76,\"2020-06-20\":1685.75,\"2020-06-21\":1539.83,\"2020-06-22\":1232.72,\"2020-06-23\":1294.39,\"2020-06-24\":1579.47,\"2020-06-25\":1634.78,\"2020-06-26\":1725.89,\"2020-06-27\":1797.28,\"2020-06-28\":1726.4,\"2020-06-29\":1521.78,\"2020-06-30\":1519.49,\"2020-07-01\":1834.5,\"2020-07-02\":1906.6,\"2020-07-03\":1988.71,\"2020-07-04\":1967.81,\"2020-07-05\":1806.27,\"2020-07-06\":1703.65,\"2020-07-07\":1673.07,\"2020-07-08\":1971.51,\"2020-07-09\":2052.31,\"2020-07-10\":2145.39,\"2020-07-11\":2194.96,\"2020-07-12\":2076.5,\"2020-07-13\":1861.79,\"2020-07-14\":1805.47,\"2020-07-15\":2125.28,\"2020-07-16\":2208.22,\"2020-07-17\":2424.77,\"2020-07-18\":2415.69,\"2020-07-19\":2174.54,\"2020-07-20\":2018.33,\"2020-07-21\":1919.1,\"2020-07-22\":2283.91,\"2020-07-23\":2689.63,\"2020-07-24\":2628.7,\"2020-07-25\":2711.24,\"2020-07-26\":2460.72,\"2020-07-27\":2207.71,\"2020-07-28\":2019.64,\"2020-07-29\":2314.71,\"2020-07-30\":2810.52}}'"
     },
     "metadata": {},
     "execution_count": 28
    }
   ],
   "source": [
    "c_averages.to_json()"
   ]
  },
  {
   "cell_type": "code",
   "execution_count": 29,
   "metadata": {},
   "outputs": [],
   "source": [
    "c_averages.to_json(\"c_averages.json\")"
   ]
  }
 ]
}