{
 "cells": [
  {
   "cell_type": "code",
   "execution_count": 193,
   "metadata": {},
   "outputs": [],
   "source": [
    "import pandas as pd\n",
    "import numpy as np\n",
    "import matplotlib.pyplot as plt\n",
    "import seaborn as sns \n",
    "from seaborn import kdeplot\n",
    "import plotly.express as px\n",
    "import plotly.graph_objects as go\n",
    "import plotly.figure_factory as ff\n",
    "from plotly.colors import n_colors\n",
    "from plotly.subplots import make_subplots\n",
    "import nbconvert as nb\n",
    "import nbformat\n",
    "%matplotlib inline \n",
    "import plot as pltt\n",
    "import pycountry as pc "
   ]
  },
  {
   "cell_type": "code",
   "execution_count": 222,
   "metadata": {},
   "outputs": [
    {
     "output_type": "execute_result",
     "data": {
      "text/plain": "plotly.graph_objs._figurewidget.FigureWidget"
     },
     "metadata": {},
     "execution_count": 222
    }
   ],
   "source": [
    "go.FigureWidget"
   ]
  },
  {
   "cell_type": "code",
   "execution_count": 223,
   "metadata": {},
   "outputs": [],
   "source": [
    "covid = 'https://covid.ourworldindata.org/data/owid-covid-data.csv'    #@Natalio666Altube"
   ]
  },
  {
   "cell_type": "code",
   "execution_count": 224,
   "metadata": {},
   "outputs": [
    {
     "output_type": "execute_result",
     "data": {
      "text/plain": "      iso_code continent       location        date  total_cases  new_cases  \\\n0          AFG      Asia    Afghanistan  2019-12-31          0.0        0.0   \n1          AFG      Asia    Afghanistan  2020-01-01          0.0        0.0   \n2          AFG      Asia    Afghanistan  2020-01-02          0.0        0.0   \n3          AFG      Asia    Afghanistan  2020-01-03          0.0        0.0   \n4          AFG      Asia    Afghanistan  2020-01-04          0.0        0.0   \n...        ...       ...            ...         ...          ...        ...   \n34238      NaN       NaN  International  2020-02-28        705.0        0.0   \n34239      NaN       NaN  International  2020-02-29        705.0        0.0   \n34240      NaN       NaN  International  2020-03-01        705.0        0.0   \n34241      NaN       NaN  International  2020-03-02        705.0        0.0   \n34242      NaN       NaN  International  2020-03-10        696.0       -9.0   \n\n       total_deaths  new_deaths  total_cases_per_million  \\\n0               0.0         0.0                      0.0   \n1               0.0         0.0                      0.0   \n2               0.0         0.0                      0.0   \n3               0.0         0.0                      0.0   \n4               0.0         0.0                      0.0   \n...             ...         ...                      ...   \n34238           4.0         0.0                      NaN   \n34239           6.0         2.0                      NaN   \n34240           6.0         0.0                      NaN   \n34241           6.0         0.0                      NaN   \n34242           7.0         1.0                      NaN   \n\n       new_cases_per_million  ...  aged_70_older  gdp_per_capita  \\\n0                        0.0  ...          1.337        1803.987   \n1                        0.0  ...          1.337        1803.987   \n2                        0.0  ...          1.337        1803.987   \n3                        0.0  ...          1.337        1803.987   \n4                        0.0  ...          1.337        1803.987   \n...                      ...  ...            ...             ...   \n34238                    NaN  ...            NaN             NaN   \n34239                    NaN  ...            NaN             NaN   \n34240                    NaN  ...            NaN             NaN   \n34241                    NaN  ...            NaN             NaN   \n34242                    NaN  ...            NaN             NaN   \n\n       extreme_poverty  cardiovasc_death_rate  diabetes_prevalence  \\\n0                  NaN                597.029                 9.59   \n1                  NaN                597.029                 9.59   \n2                  NaN                597.029                 9.59   \n3                  NaN                597.029                 9.59   \n4                  NaN                597.029                 9.59   \n...                ...                    ...                  ...   \n34238              NaN                    NaN                  NaN   \n34239              NaN                    NaN                  NaN   \n34240              NaN                    NaN                  NaN   \n34241              NaN                    NaN                  NaN   \n34242              NaN                    NaN                  NaN   \n\n       female_smokers  male_smokers  handwashing_facilities  \\\n0                 NaN           NaN                  37.746   \n1                 NaN           NaN                  37.746   \n2                 NaN           NaN                  37.746   \n3                 NaN           NaN                  37.746   \n4                 NaN           NaN                  37.746   \n...               ...           ...                     ...   \n34238             NaN           NaN                     NaN   \n34239             NaN           NaN                     NaN   \n34240             NaN           NaN                     NaN   \n34241             NaN           NaN                     NaN   \n34242             NaN           NaN                     NaN   \n\n      hospital_beds_per_thousand  life_expectancy  \n0                            0.5            64.83  \n1                            0.5            64.83  \n2                            0.5            64.83  \n3                            0.5            64.83  \n4                            0.5            64.83  \n...                          ...              ...  \n34238                        NaN              NaN  \n34239                        NaN              NaN  \n34240                        NaN              NaN  \n34241                        NaN              NaN  \n34242                        NaN              NaN  \n\n[34243 rows x 34 columns]",
      "text/html": "<div>\n<style scoped>\n    .dataframe tbody tr th:only-of-type {\n        vertical-align: middle;\n    }\n\n    .dataframe tbody tr th {\n        vertical-align: top;\n    }\n\n    .dataframe thead th {\n        text-align: right;\n    }\n</style>\n<table border=\"1\" class=\"dataframe\">\n  <thead>\n    <tr style=\"text-align: right;\">\n      <th></th>\n      <th>iso_code</th>\n      <th>continent</th>\n      <th>location</th>\n      <th>date</th>\n      <th>total_cases</th>\n      <th>new_cases</th>\n      <th>total_deaths</th>\n      <th>new_deaths</th>\n      <th>total_cases_per_million</th>\n      <th>new_cases_per_million</th>\n      <th>...</th>\n      <th>aged_70_older</th>\n      <th>gdp_per_capita</th>\n      <th>extreme_poverty</th>\n      <th>cardiovasc_death_rate</th>\n      <th>diabetes_prevalence</th>\n      <th>female_smokers</th>\n      <th>male_smokers</th>\n      <th>handwashing_facilities</th>\n      <th>hospital_beds_per_thousand</th>\n      <th>life_expectancy</th>\n    </tr>\n  </thead>\n  <tbody>\n    <tr>\n      <th>0</th>\n      <td>AFG</td>\n      <td>Asia</td>\n      <td>Afghanistan</td>\n      <td>2019-12-31</td>\n      <td>0.0</td>\n      <td>0.0</td>\n      <td>0.0</td>\n      <td>0.0</td>\n      <td>0.0</td>\n      <td>0.0</td>\n      <td>...</td>\n      <td>1.337</td>\n      <td>1803.987</td>\n      <td>NaN</td>\n      <td>597.029</td>\n      <td>9.59</td>\n      <td>NaN</td>\n      <td>NaN</td>\n      <td>37.746</td>\n      <td>0.5</td>\n      <td>64.83</td>\n    </tr>\n    <tr>\n      <th>1</th>\n      <td>AFG</td>\n      <td>Asia</td>\n      <td>Afghanistan</td>\n      <td>2020-01-01</td>\n      <td>0.0</td>\n      <td>0.0</td>\n      <td>0.0</td>\n      <td>0.0</td>\n      <td>0.0</td>\n      <td>0.0</td>\n      <td>...</td>\n      <td>1.337</td>\n      <td>1803.987</td>\n      <td>NaN</td>\n      <td>597.029</td>\n      <td>9.59</td>\n      <td>NaN</td>\n      <td>NaN</td>\n      <td>37.746</td>\n      <td>0.5</td>\n      <td>64.83</td>\n    </tr>\n    <tr>\n      <th>2</th>\n      <td>AFG</td>\n      <td>Asia</td>\n      <td>Afghanistan</td>\n      <td>2020-01-02</td>\n      <td>0.0</td>\n      <td>0.0</td>\n      <td>0.0</td>\n      <td>0.0</td>\n      <td>0.0</td>\n      <td>0.0</td>\n      <td>...</td>\n      <td>1.337</td>\n      <td>1803.987</td>\n      <td>NaN</td>\n      <td>597.029</td>\n      <td>9.59</td>\n      <td>NaN</td>\n      <td>NaN</td>\n      <td>37.746</td>\n      <td>0.5</td>\n      <td>64.83</td>\n    </tr>\n    <tr>\n      <th>3</th>\n      <td>AFG</td>\n      <td>Asia</td>\n      <td>Afghanistan</td>\n      <td>2020-01-03</td>\n      <td>0.0</td>\n      <td>0.0</td>\n      <td>0.0</td>\n      <td>0.0</td>\n      <td>0.0</td>\n      <td>0.0</td>\n      <td>...</td>\n      <td>1.337</td>\n      <td>1803.987</td>\n      <td>NaN</td>\n      <td>597.029</td>\n      <td>9.59</td>\n      <td>NaN</td>\n      <td>NaN</td>\n      <td>37.746</td>\n      <td>0.5</td>\n      <td>64.83</td>\n    </tr>\n    <tr>\n      <th>4</th>\n      <td>AFG</td>\n      <td>Asia</td>\n      <td>Afghanistan</td>\n      <td>2020-01-04</td>\n      <td>0.0</td>\n      <td>0.0</td>\n      <td>0.0</td>\n      <td>0.0</td>\n      <td>0.0</td>\n      <td>0.0</td>\n      <td>...</td>\n      <td>1.337</td>\n      <td>1803.987</td>\n      <td>NaN</td>\n      <td>597.029</td>\n      <td>9.59</td>\n      <td>NaN</td>\n      <td>NaN</td>\n      <td>37.746</td>\n      <td>0.5</td>\n      <td>64.83</td>\n    </tr>\n    <tr>\n      <th>...</th>\n      <td>...</td>\n      <td>...</td>\n      <td>...</td>\n      <td>...</td>\n      <td>...</td>\n      <td>...</td>\n      <td>...</td>\n      <td>...</td>\n      <td>...</td>\n      <td>...</td>\n      <td>...</td>\n      <td>...</td>\n      <td>...</td>\n      <td>...</td>\n      <td>...</td>\n      <td>...</td>\n      <td>...</td>\n      <td>...</td>\n      <td>...</td>\n      <td>...</td>\n      <td>...</td>\n    </tr>\n    <tr>\n      <th>34238</th>\n      <td>NaN</td>\n      <td>NaN</td>\n      <td>International</td>\n      <td>2020-02-28</td>\n      <td>705.0</td>\n      <td>0.0</td>\n      <td>4.0</td>\n      <td>0.0</td>\n      <td>NaN</td>\n      <td>NaN</td>\n      <td>...</td>\n      <td>NaN</td>\n      <td>NaN</td>\n      <td>NaN</td>\n      <td>NaN</td>\n      <td>NaN</td>\n      <td>NaN</td>\n      <td>NaN</td>\n      <td>NaN</td>\n      <td>NaN</td>\n      <td>NaN</td>\n    </tr>\n    <tr>\n      <th>34239</th>\n      <td>NaN</td>\n      <td>NaN</td>\n      <td>International</td>\n      <td>2020-02-29</td>\n      <td>705.0</td>\n      <td>0.0</td>\n      <td>6.0</td>\n      <td>2.0</td>\n      <td>NaN</td>\n      <td>NaN</td>\n      <td>...</td>\n      <td>NaN</td>\n      <td>NaN</td>\n      <td>NaN</td>\n      <td>NaN</td>\n      <td>NaN</td>\n      <td>NaN</td>\n      <td>NaN</td>\n      <td>NaN</td>\n      <td>NaN</td>\n      <td>NaN</td>\n    </tr>\n    <tr>\n      <th>34240</th>\n      <td>NaN</td>\n      <td>NaN</td>\n      <td>International</td>\n      <td>2020-03-01</td>\n      <td>705.0</td>\n      <td>0.0</td>\n      <td>6.0</td>\n      <td>0.0</td>\n      <td>NaN</td>\n      <td>NaN</td>\n      <td>...</td>\n      <td>NaN</td>\n      <td>NaN</td>\n      <td>NaN</td>\n      <td>NaN</td>\n      <td>NaN</td>\n      <td>NaN</td>\n      <td>NaN</td>\n      <td>NaN</td>\n      <td>NaN</td>\n      <td>NaN</td>\n    </tr>\n    <tr>\n      <th>34241</th>\n      <td>NaN</td>\n      <td>NaN</td>\n      <td>International</td>\n      <td>2020-03-02</td>\n      <td>705.0</td>\n      <td>0.0</td>\n      <td>6.0</td>\n      <td>0.0</td>\n      <td>NaN</td>\n      <td>NaN</td>\n      <td>...</td>\n      <td>NaN</td>\n      <td>NaN</td>\n      <td>NaN</td>\n      <td>NaN</td>\n      <td>NaN</td>\n      <td>NaN</td>\n      <td>NaN</td>\n      <td>NaN</td>\n      <td>NaN</td>\n      <td>NaN</td>\n    </tr>\n    <tr>\n      <th>34242</th>\n      <td>NaN</td>\n      <td>NaN</td>\n      <td>International</td>\n      <td>2020-03-10</td>\n      <td>696.0</td>\n      <td>-9.0</td>\n      <td>7.0</td>\n      <td>1.0</td>\n      <td>NaN</td>\n      <td>NaN</td>\n      <td>...</td>\n      <td>NaN</td>\n      <td>NaN</td>\n      <td>NaN</td>\n      <td>NaN</td>\n      <td>NaN</td>\n      <td>NaN</td>\n      <td>NaN</td>\n      <td>NaN</td>\n      <td>NaN</td>\n      <td>NaN</td>\n    </tr>\n  </tbody>\n</table>\n<p>34243 rows × 34 columns</p>\n</div>"
     },
     "metadata": {},
     "execution_count": 224
    }
   ],
   "source": [
    "covid1 = pd.read_csv(covid)             #@Natalio666Altube\n",
    "covid1"
   ]
  },
  {
   "cell_type": "code",
   "execution_count": 226,
   "metadata": {},
   "outputs": [
    {
     "output_type": "execute_result",
     "data": {
      "text/plain": "      iso_code      continent   location        date  total_cases  new_cases  \\\n1105       ARG  South America  Argentina  2020-02-11          NaN        NaN   \n1106       ARG  South America  Argentina  2020-02-12          NaN        NaN   \n1107       ARG  South America  Argentina  2020-02-13          NaN        NaN   \n1108       ARG  South America  Argentina  2020-02-14          NaN        NaN   \n1109       ARG  South America  Argentina  2020-02-15          NaN        NaN   \n...        ...            ...        ...         ...          ...        ...   \n28934      ESP         Europe      Spain  2020-07-28     280610.0     1828.0   \n28935      ESP         Europe      Spain  2020-07-29     282641.0     2031.0   \n28936      ESP         Europe      Spain  2020-07-30     285430.0     2789.0   \n28937      ESP         Europe      Spain  2020-07-31     288522.0     3092.0   \n28938      ESP         Europe      Spain  2020-08-01     288522.0        0.0   \n\n       total_deaths  new_deaths  total_cases_per_million  \\\n1105            NaN         NaN                      NaN   \n1106            NaN         NaN                      NaN   \n1107            NaN         NaN                      NaN   \n1108            NaN         NaN                      NaN   \n1109            NaN         NaN                      NaN   \n...             ...         ...                      ...   \n28934       28436.0         2.0                 6001.739   \n28935       28441.0         5.0                 6045.178   \n28936       28443.0         2.0                 6104.830   \n28937       28445.0         2.0                 6170.962   \n28938       28445.0         0.0                 6170.962   \n\n       new_cases_per_million  ...  aged_70_older  gdp_per_capita  \\\n1105                     NaN  ...          7.441       18933.907   \n1106                     NaN  ...          7.441       18933.907   \n1107                     NaN  ...          7.441       18933.907   \n1108                     NaN  ...          7.441       18933.907   \n1109                     NaN  ...          7.441       18933.907   \n...                      ...  ...            ...             ...   \n28934                 39.098  ...         13.799       34272.360   \n28935                 43.439  ...         13.799       34272.360   \n28936                 59.652  ...         13.799       34272.360   \n28937                 66.132  ...         13.799       34272.360   \n28938                  0.000  ...         13.799       34272.360   \n\n       extreme_poverty  cardiovasc_death_rate  diabetes_prevalence  \\\n1105               0.6                191.032                 5.50   \n1106               0.6                191.032                 5.50   \n1107               0.6                191.032                 5.50   \n1108               0.6                191.032                 5.50   \n1109               0.6                191.032                 5.50   \n...                ...                    ...                  ...   \n28934              1.0                 99.403                 7.17   \n28935              1.0                 99.403                 7.17   \n28936              1.0                 99.403                 7.17   \n28937              1.0                 99.403                 7.17   \n28938              1.0                 99.403                 7.17   \n\n       female_smokers  male_smokers  handwashing_facilities  \\\n1105             16.2          27.7                     NaN   \n1106             16.2          27.7                     NaN   \n1107             16.2          27.7                     NaN   \n1108             16.2          27.7                     NaN   \n1109             16.2          27.7                     NaN   \n...               ...           ...                     ...   \n28934            27.4          31.4                     NaN   \n28935            27.4          31.4                     NaN   \n28936            27.4          31.4                     NaN   \n28937            27.4          31.4                     NaN   \n28938            27.4          31.4                     NaN   \n\n      hospital_beds_per_thousand  life_expectancy  \n1105                        5.00            76.67  \n1106                        5.00            76.67  \n1107                        5.00            76.67  \n1108                        5.00            76.67  \n1109                        5.00            76.67  \n...                          ...              ...  \n28934                       2.97            83.56  \n28935                       2.97            83.56  \n28936                       2.97            83.56  \n28937                       2.97            83.56  \n28938                       2.97            83.56  \n\n[907 rows x 34 columns]",
      "text/html": "<div>\n<style scoped>\n    .dataframe tbody tr th:only-of-type {\n        vertical-align: middle;\n    }\n\n    .dataframe tbody tr th {\n        vertical-align: top;\n    }\n\n    .dataframe thead th {\n        text-align: right;\n    }\n</style>\n<table border=\"1\" class=\"dataframe\">\n  <thead>\n    <tr style=\"text-align: right;\">\n      <th></th>\n      <th>iso_code</th>\n      <th>continent</th>\n      <th>location</th>\n      <th>date</th>\n      <th>total_cases</th>\n      <th>new_cases</th>\n      <th>total_deaths</th>\n      <th>new_deaths</th>\n      <th>total_cases_per_million</th>\n      <th>new_cases_per_million</th>\n      <th>...</th>\n      <th>aged_70_older</th>\n      <th>gdp_per_capita</th>\n      <th>extreme_poverty</th>\n      <th>cardiovasc_death_rate</th>\n      <th>diabetes_prevalence</th>\n      <th>female_smokers</th>\n      <th>male_smokers</th>\n      <th>handwashing_facilities</th>\n      <th>hospital_beds_per_thousand</th>\n      <th>life_expectancy</th>\n    </tr>\n  </thead>\n  <tbody>\n    <tr>\n      <th>1105</th>\n      <td>ARG</td>\n      <td>South America</td>\n      <td>Argentina</td>\n      <td>2020-02-11</td>\n      <td>NaN</td>\n      <td>NaN</td>\n      <td>NaN</td>\n      <td>NaN</td>\n      <td>NaN</td>\n      <td>NaN</td>\n      <td>...</td>\n      <td>7.441</td>\n      <td>18933.907</td>\n      <td>0.6</td>\n      <td>191.032</td>\n      <td>5.50</td>\n      <td>16.2</td>\n      <td>27.7</td>\n      <td>NaN</td>\n      <td>5.00</td>\n      <td>76.67</td>\n    </tr>\n    <tr>\n      <th>1106</th>\n      <td>ARG</td>\n      <td>South America</td>\n      <td>Argentina</td>\n      <td>2020-02-12</td>\n      <td>NaN</td>\n      <td>NaN</td>\n      <td>NaN</td>\n      <td>NaN</td>\n      <td>NaN</td>\n      <td>NaN</td>\n      <td>...</td>\n      <td>7.441</td>\n      <td>18933.907</td>\n      <td>0.6</td>\n      <td>191.032</td>\n      <td>5.50</td>\n      <td>16.2</td>\n      <td>27.7</td>\n      <td>NaN</td>\n      <td>5.00</td>\n      <td>76.67</td>\n    </tr>\n    <tr>\n      <th>1107</th>\n      <td>ARG</td>\n      <td>South America</td>\n      <td>Argentina</td>\n      <td>2020-02-13</td>\n      <td>NaN</td>\n      <td>NaN</td>\n      <td>NaN</td>\n      <td>NaN</td>\n      <td>NaN</td>\n      <td>NaN</td>\n      <td>...</td>\n      <td>7.441</td>\n      <td>18933.907</td>\n      <td>0.6</td>\n      <td>191.032</td>\n      <td>5.50</td>\n      <td>16.2</td>\n      <td>27.7</td>\n      <td>NaN</td>\n      <td>5.00</td>\n      <td>76.67</td>\n    </tr>\n    <tr>\n      <th>1108</th>\n      <td>ARG</td>\n      <td>South America</td>\n      <td>Argentina</td>\n      <td>2020-02-14</td>\n      <td>NaN</td>\n      <td>NaN</td>\n      <td>NaN</td>\n      <td>NaN</td>\n      <td>NaN</td>\n      <td>NaN</td>\n      <td>...</td>\n      <td>7.441</td>\n      <td>18933.907</td>\n      <td>0.6</td>\n      <td>191.032</td>\n      <td>5.50</td>\n      <td>16.2</td>\n      <td>27.7</td>\n      <td>NaN</td>\n      <td>5.00</td>\n      <td>76.67</td>\n    </tr>\n    <tr>\n      <th>1109</th>\n      <td>ARG</td>\n      <td>South America</td>\n      <td>Argentina</td>\n      <td>2020-02-15</td>\n      <td>NaN</td>\n      <td>NaN</td>\n      <td>NaN</td>\n      <td>NaN</td>\n      <td>NaN</td>\n      <td>NaN</td>\n      <td>...</td>\n      <td>7.441</td>\n      <td>18933.907</td>\n      <td>0.6</td>\n      <td>191.032</td>\n      <td>5.50</td>\n      <td>16.2</td>\n      <td>27.7</td>\n      <td>NaN</td>\n      <td>5.00</td>\n      <td>76.67</td>\n    </tr>\n    <tr>\n      <th>...</th>\n      <td>...</td>\n      <td>...</td>\n      <td>...</td>\n      <td>...</td>\n      <td>...</td>\n      <td>...</td>\n      <td>...</td>\n      <td>...</td>\n      <td>...</td>\n      <td>...</td>\n      <td>...</td>\n      <td>...</td>\n      <td>...</td>\n      <td>...</td>\n      <td>...</td>\n      <td>...</td>\n      <td>...</td>\n      <td>...</td>\n      <td>...</td>\n      <td>...</td>\n      <td>...</td>\n    </tr>\n    <tr>\n      <th>28934</th>\n      <td>ESP</td>\n      <td>Europe</td>\n      <td>Spain</td>\n      <td>2020-07-28</td>\n      <td>280610.0</td>\n      <td>1828.0</td>\n      <td>28436.0</td>\n      <td>2.0</td>\n      <td>6001.739</td>\n      <td>39.098</td>\n      <td>...</td>\n      <td>13.799</td>\n      <td>34272.360</td>\n      <td>1.0</td>\n      <td>99.403</td>\n      <td>7.17</td>\n      <td>27.4</td>\n      <td>31.4</td>\n      <td>NaN</td>\n      <td>2.97</td>\n      <td>83.56</td>\n    </tr>\n    <tr>\n      <th>28935</th>\n      <td>ESP</td>\n      <td>Europe</td>\n      <td>Spain</td>\n      <td>2020-07-29</td>\n      <td>282641.0</td>\n      <td>2031.0</td>\n      <td>28441.0</td>\n      <td>5.0</td>\n      <td>6045.178</td>\n      <td>43.439</td>\n      <td>...</td>\n      <td>13.799</td>\n      <td>34272.360</td>\n      <td>1.0</td>\n      <td>99.403</td>\n      <td>7.17</td>\n      <td>27.4</td>\n      <td>31.4</td>\n      <td>NaN</td>\n      <td>2.97</td>\n      <td>83.56</td>\n    </tr>\n    <tr>\n      <th>28936</th>\n      <td>ESP</td>\n      <td>Europe</td>\n      <td>Spain</td>\n      <td>2020-07-30</td>\n      <td>285430.0</td>\n      <td>2789.0</td>\n      <td>28443.0</td>\n      <td>2.0</td>\n      <td>6104.830</td>\n      <td>59.652</td>\n      <td>...</td>\n      <td>13.799</td>\n      <td>34272.360</td>\n      <td>1.0</td>\n      <td>99.403</td>\n      <td>7.17</td>\n      <td>27.4</td>\n      <td>31.4</td>\n      <td>NaN</td>\n      <td>2.97</td>\n      <td>83.56</td>\n    </tr>\n    <tr>\n      <th>28937</th>\n      <td>ESP</td>\n      <td>Europe</td>\n      <td>Spain</td>\n      <td>2020-07-31</td>\n      <td>288522.0</td>\n      <td>3092.0</td>\n      <td>28445.0</td>\n      <td>2.0</td>\n      <td>6170.962</td>\n      <td>66.132</td>\n      <td>...</td>\n      <td>13.799</td>\n      <td>34272.360</td>\n      <td>1.0</td>\n      <td>99.403</td>\n      <td>7.17</td>\n      <td>27.4</td>\n      <td>31.4</td>\n      <td>NaN</td>\n      <td>2.97</td>\n      <td>83.56</td>\n    </tr>\n    <tr>\n      <th>28938</th>\n      <td>ESP</td>\n      <td>Europe</td>\n      <td>Spain</td>\n      <td>2020-08-01</td>\n      <td>288522.0</td>\n      <td>0.0</td>\n      <td>28445.0</td>\n      <td>0.0</td>\n      <td>6170.962</td>\n      <td>0.000</td>\n      <td>...</td>\n      <td>13.799</td>\n      <td>34272.360</td>\n      <td>1.0</td>\n      <td>99.403</td>\n      <td>7.17</td>\n      <td>27.4</td>\n      <td>31.4</td>\n      <td>NaN</td>\n      <td>2.97</td>\n      <td>83.56</td>\n    </tr>\n  </tbody>\n</table>\n<p>907 rows × 34 columns</p>\n</div>"
     },
     "metadata": {},
     "execution_count": 226
    }
   ],
   "source": [
    "Df1 = covid1[covid1['location'].isin(['Argentina','Chile','Colombia','Russia','Spain'])]\n",
    "Df1                         #@Natalio666Altube"
   ]
  },
  {
   "cell_type": "code",
   "execution_count": 227,
   "metadata": {},
   "outputs": [],
   "source": [
    "Df1.dropna(subset=['new_cases'],axis=0, inplace=True)  #@Natalio666Altube"
   ]
  },
  {
   "cell_type": "code",
   "execution_count": 228,
   "metadata": {},
   "outputs": [
    {
     "output_type": "execute_result",
     "data": {
      "text/plain": "      iso_code      continent   location        date  total_cases  new_cases  \\\n1127       ARG  South America  Argentina  2020-03-04          1.0        1.0   \n1129       ARG  South America  Argentina  2020-03-06          2.0        1.0   \n1130       ARG  South America  Argentina  2020-03-07          8.0        6.0   \n1131       ARG  South America  Argentina  2020-03-08          9.0        1.0   \n1132       ARG  South America  Argentina  2020-03-09         12.0        3.0   \n...        ...            ...        ...         ...          ...        ...   \n28934      ESP         Europe      Spain  2020-07-28     280610.0     1828.0   \n28935      ESP         Europe      Spain  2020-07-29     282641.0     2031.0   \n28936      ESP         Europe      Spain  2020-07-30     285430.0     2789.0   \n28937      ESP         Europe      Spain  2020-07-31     288522.0     3092.0   \n28938      ESP         Europe      Spain  2020-08-01     288522.0        0.0   \n\n       total_deaths  new_deaths  total_cases_per_million  \\\n1127            0.0         0.0                    0.022   \n1129            0.0         0.0                    0.044   \n1130            0.0         0.0                    0.177   \n1131            1.0         1.0                    0.199   \n1132            1.0         0.0                    0.266   \n...             ...         ...                      ...   \n28934       28436.0         2.0                 6001.739   \n28935       28441.0         5.0                 6045.178   \n28936       28443.0         2.0                 6104.830   \n28937       28445.0         2.0                 6170.962   \n28938       28445.0         0.0                 6170.962   \n\n       new_cases_per_million  ...  aged_70_older  gdp_per_capita  \\\n1127                   0.022  ...          7.441       18933.907   \n1129                   0.022  ...          7.441       18933.907   \n1130                   0.133  ...          7.441       18933.907   \n1131                   0.022  ...          7.441       18933.907   \n1132                   0.066  ...          7.441       18933.907   \n...                      ...  ...            ...             ...   \n28934                 39.098  ...         13.799       34272.360   \n28935                 43.439  ...         13.799       34272.360   \n28936                 59.652  ...         13.799       34272.360   \n28937                 66.132  ...         13.799       34272.360   \n28938                  0.000  ...         13.799       34272.360   \n\n       extreme_poverty  cardiovasc_death_rate  diabetes_prevalence  \\\n1127               0.6                191.032                 5.50   \n1129               0.6                191.032                 5.50   \n1130               0.6                191.032                 5.50   \n1131               0.6                191.032                 5.50   \n1132               0.6                191.032                 5.50   \n...                ...                    ...                  ...   \n28934              1.0                 99.403                 7.17   \n28935              1.0                 99.403                 7.17   \n28936              1.0                 99.403                 7.17   \n28937              1.0                 99.403                 7.17   \n28938              1.0                 99.403                 7.17   \n\n       female_smokers  male_smokers  handwashing_facilities  \\\n1127             16.2          27.7                     NaN   \n1129             16.2          27.7                     NaN   \n1130             16.2          27.7                     NaN   \n1131             16.2          27.7                     NaN   \n1132             16.2          27.7                     NaN   \n...               ...           ...                     ...   \n28934            27.4          31.4                     NaN   \n28935            27.4          31.4                     NaN   \n28936            27.4          31.4                     NaN   \n28937            27.4          31.4                     NaN   \n28938            27.4          31.4                     NaN   \n\n      hospital_beds_per_thousand  life_expectancy  \n1127                        5.00            76.67  \n1129                        5.00            76.67  \n1130                        5.00            76.67  \n1131                        5.00            76.67  \n1132                        5.00            76.67  \n...                          ...              ...  \n28934                       2.97            83.56  \n28935                       2.97            83.56  \n28936                       2.97            83.56  \n28937                       2.97            83.56  \n28938                       2.97            83.56  \n\n[876 rows x 34 columns]",
      "text/html": "<div>\n<style scoped>\n    .dataframe tbody tr th:only-of-type {\n        vertical-align: middle;\n    }\n\n    .dataframe tbody tr th {\n        vertical-align: top;\n    }\n\n    .dataframe thead th {\n        text-align: right;\n    }\n</style>\n<table border=\"1\" class=\"dataframe\">\n  <thead>\n    <tr style=\"text-align: right;\">\n      <th></th>\n      <th>iso_code</th>\n      <th>continent</th>\n      <th>location</th>\n      <th>date</th>\n      <th>total_cases</th>\n      <th>new_cases</th>\n      <th>total_deaths</th>\n      <th>new_deaths</th>\n      <th>total_cases_per_million</th>\n      <th>new_cases_per_million</th>\n      <th>...</th>\n      <th>aged_70_older</th>\n      <th>gdp_per_capita</th>\n      <th>extreme_poverty</th>\n      <th>cardiovasc_death_rate</th>\n      <th>diabetes_prevalence</th>\n      <th>female_smokers</th>\n      <th>male_smokers</th>\n      <th>handwashing_facilities</th>\n      <th>hospital_beds_per_thousand</th>\n      <th>life_expectancy</th>\n    </tr>\n  </thead>\n  <tbody>\n    <tr>\n      <th>1127</th>\n      <td>ARG</td>\n      <td>South America</td>\n      <td>Argentina</td>\n      <td>2020-03-04</td>\n      <td>1.0</td>\n      <td>1.0</td>\n      <td>0.0</td>\n      <td>0.0</td>\n      <td>0.022</td>\n      <td>0.022</td>\n      <td>...</td>\n      <td>7.441</td>\n      <td>18933.907</td>\n      <td>0.6</td>\n      <td>191.032</td>\n      <td>5.50</td>\n      <td>16.2</td>\n      <td>27.7</td>\n      <td>NaN</td>\n      <td>5.00</td>\n      <td>76.67</td>\n    </tr>\n    <tr>\n      <th>1129</th>\n      <td>ARG</td>\n      <td>South America</td>\n      <td>Argentina</td>\n      <td>2020-03-06</td>\n      <td>2.0</td>\n      <td>1.0</td>\n      <td>0.0</td>\n      <td>0.0</td>\n      <td>0.044</td>\n      <td>0.022</td>\n      <td>...</td>\n      <td>7.441</td>\n      <td>18933.907</td>\n      <td>0.6</td>\n      <td>191.032</td>\n      <td>5.50</td>\n      <td>16.2</td>\n      <td>27.7</td>\n      <td>NaN</td>\n      <td>5.00</td>\n      <td>76.67</td>\n    </tr>\n    <tr>\n      <th>1130</th>\n      <td>ARG</td>\n      <td>South America</td>\n      <td>Argentina</td>\n      <td>2020-03-07</td>\n      <td>8.0</td>\n      <td>6.0</td>\n      <td>0.0</td>\n      <td>0.0</td>\n      <td>0.177</td>\n      <td>0.133</td>\n      <td>...</td>\n      <td>7.441</td>\n      <td>18933.907</td>\n      <td>0.6</td>\n      <td>191.032</td>\n      <td>5.50</td>\n      <td>16.2</td>\n      <td>27.7</td>\n      <td>NaN</td>\n      <td>5.00</td>\n      <td>76.67</td>\n    </tr>\n    <tr>\n      <th>1131</th>\n      <td>ARG</td>\n      <td>South America</td>\n      <td>Argentina</td>\n      <td>2020-03-08</td>\n      <td>9.0</td>\n      <td>1.0</td>\n      <td>1.0</td>\n      <td>1.0</td>\n      <td>0.199</td>\n      <td>0.022</td>\n      <td>...</td>\n      <td>7.441</td>\n      <td>18933.907</td>\n      <td>0.6</td>\n      <td>191.032</td>\n      <td>5.50</td>\n      <td>16.2</td>\n      <td>27.7</td>\n      <td>NaN</td>\n      <td>5.00</td>\n      <td>76.67</td>\n    </tr>\n    <tr>\n      <th>1132</th>\n      <td>ARG</td>\n      <td>South America</td>\n      <td>Argentina</td>\n      <td>2020-03-09</td>\n      <td>12.0</td>\n      <td>3.0</td>\n      <td>1.0</td>\n      <td>0.0</td>\n      <td>0.266</td>\n      <td>0.066</td>\n      <td>...</td>\n      <td>7.441</td>\n      <td>18933.907</td>\n      <td>0.6</td>\n      <td>191.032</td>\n      <td>5.50</td>\n      <td>16.2</td>\n      <td>27.7</td>\n      <td>NaN</td>\n      <td>5.00</td>\n      <td>76.67</td>\n    </tr>\n    <tr>\n      <th>...</th>\n      <td>...</td>\n      <td>...</td>\n      <td>...</td>\n      <td>...</td>\n      <td>...</td>\n      <td>...</td>\n      <td>...</td>\n      <td>...</td>\n      <td>...</td>\n      <td>...</td>\n      <td>...</td>\n      <td>...</td>\n      <td>...</td>\n      <td>...</td>\n      <td>...</td>\n      <td>...</td>\n      <td>...</td>\n      <td>...</td>\n      <td>...</td>\n      <td>...</td>\n      <td>...</td>\n    </tr>\n    <tr>\n      <th>28934</th>\n      <td>ESP</td>\n      <td>Europe</td>\n      <td>Spain</td>\n      <td>2020-07-28</td>\n      <td>280610.0</td>\n      <td>1828.0</td>\n      <td>28436.0</td>\n      <td>2.0</td>\n      <td>6001.739</td>\n      <td>39.098</td>\n      <td>...</td>\n      <td>13.799</td>\n      <td>34272.360</td>\n      <td>1.0</td>\n      <td>99.403</td>\n      <td>7.17</td>\n      <td>27.4</td>\n      <td>31.4</td>\n      <td>NaN</td>\n      <td>2.97</td>\n      <td>83.56</td>\n    </tr>\n    <tr>\n      <th>28935</th>\n      <td>ESP</td>\n      <td>Europe</td>\n      <td>Spain</td>\n      <td>2020-07-29</td>\n      <td>282641.0</td>\n      <td>2031.0</td>\n      <td>28441.0</td>\n      <td>5.0</td>\n      <td>6045.178</td>\n      <td>43.439</td>\n      <td>...</td>\n      <td>13.799</td>\n      <td>34272.360</td>\n      <td>1.0</td>\n      <td>99.403</td>\n      <td>7.17</td>\n      <td>27.4</td>\n      <td>31.4</td>\n      <td>NaN</td>\n      <td>2.97</td>\n      <td>83.56</td>\n    </tr>\n    <tr>\n      <th>28936</th>\n      <td>ESP</td>\n      <td>Europe</td>\n      <td>Spain</td>\n      <td>2020-07-30</td>\n      <td>285430.0</td>\n      <td>2789.0</td>\n      <td>28443.0</td>\n      <td>2.0</td>\n      <td>6104.830</td>\n      <td>59.652</td>\n      <td>...</td>\n      <td>13.799</td>\n      <td>34272.360</td>\n      <td>1.0</td>\n      <td>99.403</td>\n      <td>7.17</td>\n      <td>27.4</td>\n      <td>31.4</td>\n      <td>NaN</td>\n      <td>2.97</td>\n      <td>83.56</td>\n    </tr>\n    <tr>\n      <th>28937</th>\n      <td>ESP</td>\n      <td>Europe</td>\n      <td>Spain</td>\n      <td>2020-07-31</td>\n      <td>288522.0</td>\n      <td>3092.0</td>\n      <td>28445.0</td>\n      <td>2.0</td>\n      <td>6170.962</td>\n      <td>66.132</td>\n      <td>...</td>\n      <td>13.799</td>\n      <td>34272.360</td>\n      <td>1.0</td>\n      <td>99.403</td>\n      <td>7.17</td>\n      <td>27.4</td>\n      <td>31.4</td>\n      <td>NaN</td>\n      <td>2.97</td>\n      <td>83.56</td>\n    </tr>\n    <tr>\n      <th>28938</th>\n      <td>ESP</td>\n      <td>Europe</td>\n      <td>Spain</td>\n      <td>2020-08-01</td>\n      <td>288522.0</td>\n      <td>0.0</td>\n      <td>28445.0</td>\n      <td>0.0</td>\n      <td>6170.962</td>\n      <td>0.000</td>\n      <td>...</td>\n      <td>13.799</td>\n      <td>34272.360</td>\n      <td>1.0</td>\n      <td>99.403</td>\n      <td>7.17</td>\n      <td>27.4</td>\n      <td>31.4</td>\n      <td>NaN</td>\n      <td>2.97</td>\n      <td>83.56</td>\n    </tr>\n  </tbody>\n</table>\n<p>876 rows × 34 columns</p>\n</div>"
     },
     "metadata": {},
     "execution_count": 228
    }
   ],
   "source": [
    "Df1     #@Natalio666Altube"
   ]
  },
  {
   "cell_type": "code",
   "execution_count": 200,
   "metadata": {},
   "outputs": [
    {
     "output_type": "execute_result",
     "data": {
      "text/plain": "Index(['iso_code', 'continent', 'location', 'date', 'total_cases', 'new_cases',\n       'total_deaths', 'new_deaths', 'total_cases_per_million',\n       'new_cases_per_million', 'total_deaths_per_million',\n       'new_deaths_per_million', 'new_tests', 'total_tests',\n       'total_tests_per_thousand', 'new_tests_per_thousand',\n       'new_tests_smoothed', 'new_tests_smoothed_per_thousand', 'tests_units',\n       'stringency_index', 'population', 'population_density', 'median_age',\n       'aged_65_older', 'aged_70_older', 'gdp_per_capita', 'extreme_poverty',\n       'cardiovasc_death_rate', 'diabetes_prevalence', 'female_smokers',\n       'male_smokers', 'handwashing_facilities', 'hospital_beds_per_thousand',\n       'life_expectancy'],\n      dtype='object')"
     },
     "metadata": {},
     "execution_count": 200
    }
   ],
   "source": [
    "Df1.columns                 #@Natalio666Altube "
   ]
  },
  {
   "cell_type": "code",
   "execution_count": 230,
   "metadata": {},
   "outputs": [],
   "source": [
    "Df1 = Df1.drop(['continent', 'total_cases',\n",
    "       'total_deaths', 'new_deaths', 'total_cases_per_million',\n",
    "       'new_cases_per_million', 'total_deaths_per_million',\n",
    "       'new_deaths_per_million', 'new_tests', 'total_tests',\n",
    "       'total_tests_per_thousand', 'new_tests_per_thousand',\n",
    "       'new_tests_smoothed', 'new_tests_smoothed_per_thousand', 'tests_units',\n",
    "       'stringency_index', 'population', 'population_density', 'median_age',\n",
    "       'aged_65_older', 'aged_70_older', 'gdp_per_capita', 'extreme_poverty',\n",
    "       'cardiovasc_death_rate', 'diabetes_prevalence', 'female_smokers',\n",
    "       'male_smokers', 'handwashing_facilities', 'hospital_beds_per_thousand',\n",
    "       'life_expectancy'], axis=1)\n",
    "              \n",
    "       #@Natalio666Altube"
   ]
  },
  {
   "cell_type": "code",
   "execution_count": 231,
   "metadata": {},
   "outputs": [
    {
     "output_type": "execute_result",
     "data": {
      "text/plain": "      iso_code   location        date  new_cases\n1127       ARG  Argentina  2020-03-04        1.0\n1129       ARG  Argentina  2020-03-06        1.0\n1130       ARG  Argentina  2020-03-07        6.0\n1131       ARG  Argentina  2020-03-08        1.0\n1132       ARG  Argentina  2020-03-09        3.0\n...        ...        ...         ...        ...\n28934      ESP      Spain  2020-07-28     1828.0\n28935      ESP      Spain  2020-07-29     2031.0\n28936      ESP      Spain  2020-07-30     2789.0\n28937      ESP      Spain  2020-07-31     3092.0\n28938      ESP      Spain  2020-08-01        0.0\n\n[876 rows x 4 columns]",
      "text/html": "<div>\n<style scoped>\n    .dataframe tbody tr th:only-of-type {\n        vertical-align: middle;\n    }\n\n    .dataframe tbody tr th {\n        vertical-align: top;\n    }\n\n    .dataframe thead th {\n        text-align: right;\n    }\n</style>\n<table border=\"1\" class=\"dataframe\">\n  <thead>\n    <tr style=\"text-align: right;\">\n      <th></th>\n      <th>iso_code</th>\n      <th>location</th>\n      <th>date</th>\n      <th>new_cases</th>\n    </tr>\n  </thead>\n  <tbody>\n    <tr>\n      <th>1127</th>\n      <td>ARG</td>\n      <td>Argentina</td>\n      <td>2020-03-04</td>\n      <td>1.0</td>\n    </tr>\n    <tr>\n      <th>1129</th>\n      <td>ARG</td>\n      <td>Argentina</td>\n      <td>2020-03-06</td>\n      <td>1.0</td>\n    </tr>\n    <tr>\n      <th>1130</th>\n      <td>ARG</td>\n      <td>Argentina</td>\n      <td>2020-03-07</td>\n      <td>6.0</td>\n    </tr>\n    <tr>\n      <th>1131</th>\n      <td>ARG</td>\n      <td>Argentina</td>\n      <td>2020-03-08</td>\n      <td>1.0</td>\n    </tr>\n    <tr>\n      <th>1132</th>\n      <td>ARG</td>\n      <td>Argentina</td>\n      <td>2020-03-09</td>\n      <td>3.0</td>\n    </tr>\n    <tr>\n      <th>...</th>\n      <td>...</td>\n      <td>...</td>\n      <td>...</td>\n      <td>...</td>\n    </tr>\n    <tr>\n      <th>28934</th>\n      <td>ESP</td>\n      <td>Spain</td>\n      <td>2020-07-28</td>\n      <td>1828.0</td>\n    </tr>\n    <tr>\n      <th>28935</th>\n      <td>ESP</td>\n      <td>Spain</td>\n      <td>2020-07-29</td>\n      <td>2031.0</td>\n    </tr>\n    <tr>\n      <th>28936</th>\n      <td>ESP</td>\n      <td>Spain</td>\n      <td>2020-07-30</td>\n      <td>2789.0</td>\n    </tr>\n    <tr>\n      <th>28937</th>\n      <td>ESP</td>\n      <td>Spain</td>\n      <td>2020-07-31</td>\n      <td>3092.0</td>\n    </tr>\n    <tr>\n      <th>28938</th>\n      <td>ESP</td>\n      <td>Spain</td>\n      <td>2020-08-01</td>\n      <td>0.0</td>\n    </tr>\n  </tbody>\n</table>\n<p>876 rows × 4 columns</p>\n</div>"
     },
     "metadata": {},
     "execution_count": 231
    }
   ],
   "source": [
    "Df1                 #@Natalio666Altube"
   ]
  },
  {
   "cell_type": "code",
   "execution_count": 203,
   "metadata": {},
   "outputs": [
    {
     "output_type": "execute_result",
     "data": {
      "text/plain": "            new_cases\ndate                 \n2019-12-31       0.00\n2020-01-01       0.00\n2020-01-02       0.00\n2020-01-03       0.00\n2020-01-04       0.00\n...               ...\n2020-07-29    4895.40\n2020-07-30    4929.60\n2020-07-31    5233.60\n2020-08-01    4695.60\n2020-08-02    6013.75\n\n[216 rows x 1 columns]",
      "text/html": "<div>\n<style scoped>\n    .dataframe tbody tr th:only-of-type {\n        vertical-align: middle;\n    }\n\n    .dataframe tbody tr th {\n        vertical-align: top;\n    }\n\n    .dataframe thead th {\n        text-align: right;\n    }\n</style>\n<table border=\"1\" class=\"dataframe\">\n  <thead>\n    <tr style=\"text-align: right;\">\n      <th></th>\n      <th>new_cases</th>\n    </tr>\n    <tr>\n      <th>date</th>\n      <th></th>\n    </tr>\n  </thead>\n  <tbody>\n    <tr>\n      <th>2019-12-31</th>\n      <td>0.00</td>\n    </tr>\n    <tr>\n      <th>2020-01-01</th>\n      <td>0.00</td>\n    </tr>\n    <tr>\n      <th>2020-01-02</th>\n      <td>0.00</td>\n    </tr>\n    <tr>\n      <th>2020-01-03</th>\n      <td>0.00</td>\n    </tr>\n    <tr>\n      <th>2020-01-04</th>\n      <td>0.00</td>\n    </tr>\n    <tr>\n      <th>...</th>\n      <td>...</td>\n    </tr>\n    <tr>\n      <th>2020-07-29</th>\n      <td>4895.40</td>\n    </tr>\n    <tr>\n      <th>2020-07-30</th>\n      <td>4929.60</td>\n    </tr>\n    <tr>\n      <th>2020-07-31</th>\n      <td>5233.60</td>\n    </tr>\n    <tr>\n      <th>2020-08-01</th>\n      <td>4695.60</td>\n    </tr>\n    <tr>\n      <th>2020-08-02</th>\n      <td>6013.75</td>\n    </tr>\n  </tbody>\n</table>\n<p>216 rows × 1 columns</p>\n</div>"
     },
     "metadata": {},
     "execution_count": 203
    }
   ],
   "source": [
    "Df1.groupby('date').mean()              #@Natalio666Altube"
   ]
  },
  {
   "cell_type": "code",
   "execution_count": 204,
   "metadata": {},
   "outputs": [],
   "source": [
    "Df1.rename(columns={'new_cases': 'c_average'},inplace=True)             #@Natalio666Altube"
   ]
  },
  {
   "cell_type": "code",
   "execution_count": 205,
   "metadata": {},
   "outputs": [
    {
     "output_type": "execute_result",
     "data": {
      "text/plain": "            c_average\ndate                 \n2019-12-31       0.00\n2020-01-01       0.00\n2020-01-02       0.00\n2020-01-03       0.00\n2020-01-04       0.00\n...               ...\n2020-07-29    4895.40\n2020-07-30    4929.60\n2020-07-31    5233.60\n2020-08-01    4695.60\n2020-08-02    6013.75\n\n[216 rows x 1 columns]",
      "text/html": "<div>\n<style scoped>\n    .dataframe tbody tr th:only-of-type {\n        vertical-align: middle;\n    }\n\n    .dataframe tbody tr th {\n        vertical-align: top;\n    }\n\n    .dataframe thead th {\n        text-align: right;\n    }\n</style>\n<table border=\"1\" class=\"dataframe\">\n  <thead>\n    <tr style=\"text-align: right;\">\n      <th></th>\n      <th>c_average</th>\n    </tr>\n    <tr>\n      <th>date</th>\n      <th></th>\n    </tr>\n  </thead>\n  <tbody>\n    <tr>\n      <th>2019-12-31</th>\n      <td>0.00</td>\n    </tr>\n    <tr>\n      <th>2020-01-01</th>\n      <td>0.00</td>\n    </tr>\n    <tr>\n      <th>2020-01-02</th>\n      <td>0.00</td>\n    </tr>\n    <tr>\n      <th>2020-01-03</th>\n      <td>0.00</td>\n    </tr>\n    <tr>\n      <th>2020-01-04</th>\n      <td>0.00</td>\n    </tr>\n    <tr>\n      <th>...</th>\n      <td>...</td>\n    </tr>\n    <tr>\n      <th>2020-07-29</th>\n      <td>4895.40</td>\n    </tr>\n    <tr>\n      <th>2020-07-30</th>\n      <td>4929.60</td>\n    </tr>\n    <tr>\n      <th>2020-07-31</th>\n      <td>5233.60</td>\n    </tr>\n    <tr>\n      <th>2020-08-01</th>\n      <td>4695.60</td>\n    </tr>\n    <tr>\n      <th>2020-08-02</th>\n      <td>6013.75</td>\n    </tr>\n  </tbody>\n</table>\n<p>216 rows × 1 columns</p>\n</div>"
     },
     "metadata": {},
     "execution_count": 205
    }
   ],
   "source": [
    "Df1 = Df1.groupby('date').mean()            #@Natalio666Altube\n",
    "Df1\n"
   ]
  },
  {
   "cell_type": "code",
   "execution_count": null,
   "metadata": {},
   "outputs": [],
   "source": []
  },
  {
   "cell_type": "code",
   "execution_count": 131,
   "metadata": {},
   "outputs": [
    {
     "output_type": "execute_result",
     "data": {
      "text/plain": "array(['2019-12-31', '2020-01-01', '2020-01-02', '2020-01-03',\n       '2020-01-04', '2020-01-05', '2020-01-06', '2020-01-07',\n       '2020-01-08', '2020-01-09', '2020-01-10', '2020-01-11',\n       '2020-01-12', '2020-01-13', '2020-01-14', '2020-01-15',\n       '2020-01-16', '2020-01-17', '2020-01-18', '2020-01-19',\n       '2020-01-20', '2020-01-21', '2020-01-22', '2020-01-23',\n       '2020-01-24', '2020-01-25', '2020-01-26', '2020-01-27',\n       '2020-01-28', '2020-01-29', '2020-01-30', '2020-01-31',\n       '2020-02-01', '2020-02-02', '2020-02-03', '2020-02-04',\n       '2020-02-05', '2020-02-06', '2020-02-07', '2020-02-08',\n       '2020-02-09', '2020-02-10', '2020-02-11', '2020-02-12',\n       '2020-02-13', '2020-02-14', '2020-02-15', '2020-02-16',\n       '2020-02-17', '2020-02-18', '2020-02-19', '2020-02-20',\n       '2020-02-21', '2020-02-22', '2020-02-23', '2020-02-24',\n       '2020-02-25', '2020-02-26', '2020-02-27', '2020-02-28',\n       '2020-02-29', '2020-03-01', '2020-03-02', '2020-03-03',\n       '2020-03-04', '2020-03-05', '2020-03-06', '2020-03-07',\n       '2020-03-08', '2020-03-09', '2020-03-10', '2020-03-11',\n       '2020-03-12', '2020-03-13', '2020-03-14', '2020-03-15',\n       '2020-03-16', '2020-03-17', '2020-03-18', '2020-03-19',\n       '2020-03-20', '2020-03-21', '2020-03-22', '2020-03-23',\n       '2020-03-24', '2020-03-25', '2020-03-26', '2020-03-27',\n       '2020-03-28', '2020-03-29', '2020-03-30', '2020-03-31',\n       '2020-04-01', '2020-04-02', '2020-04-03', '2020-04-04',\n       '2020-04-05', '2020-04-06', '2020-04-07', '2020-04-08',\n       '2020-04-09', '2020-04-10', '2020-04-11', '2020-04-12',\n       '2020-04-13', '2020-04-14', '2020-04-15', '2020-04-16',\n       '2020-04-17', '2020-04-18', '2020-04-19', '2020-04-20',\n       '2020-04-21', '2020-04-22', '2020-04-23', '2020-04-24',\n       '2020-04-25', '2020-04-26', '2020-04-27', '2020-04-28',\n       '2020-04-29', '2020-04-30', '2020-05-01', '2020-05-02',\n       '2020-05-03', '2020-05-04', '2020-05-05', '2020-05-06',\n       '2020-05-07', '2020-05-08', '2020-05-09', '2020-05-10',\n       '2020-05-11', '2020-05-12', '2020-05-13', '2020-05-14',\n       '2020-05-15', '2020-05-16', '2020-05-17', '2020-05-18',\n       '2020-05-19', '2020-05-20', '2020-05-21', '2020-05-22',\n       '2020-05-23', '2020-05-24', '2020-05-25', '2020-05-26',\n       '2020-05-27', '2020-05-28', '2020-05-29', '2020-05-30',\n       '2020-05-31', '2020-06-01', '2020-06-02', '2020-06-03',\n       '2020-06-04', '2020-06-05', '2020-06-06', '2020-06-07',\n       '2020-06-08', '2020-06-09', '2020-06-10', '2020-06-11',\n       '2020-06-12', '2020-06-13', '2020-06-14', '2020-06-15',\n       '2020-06-16', '2020-06-17', '2020-06-18', '2020-06-19',\n       '2020-06-20', '2020-06-21', '2020-06-22', '2020-06-23',\n       '2020-06-24', '2020-06-25', '2020-06-26', '2020-06-27',\n       '2020-06-28', '2020-06-29', '2020-06-30', '2020-07-01',\n       '2020-07-02', '2020-07-03', '2020-07-04', '2020-07-05',\n       '2020-07-06', '2020-07-07', '2020-07-08', '2020-07-09',\n       '2020-07-10', '2020-07-11', '2020-07-12', '2020-07-13',\n       '2020-07-14', '2020-07-15', '2020-07-16', '2020-07-17',\n       '2020-07-18', '2020-07-19', '2020-07-20', '2020-07-21',\n       '2020-07-22', '2020-07-23', '2020-07-24', '2020-07-25',\n       '2020-07-26', '2020-07-27', '2020-07-28', '2020-07-29',\n       '2020-07-30', '2020-07-31', '2020-08-01'], dtype=object)"
     },
     "metadata": {},
     "execution_count": 131
    }
   ],
   "source": [
    "Df1.index.values            #@Natalio666Altube"
   ]
  },
  {
   "cell_type": "code",
   "execution_count": 132,
   "metadata": {},
   "outputs": [
    {
     "output_type": "execute_result",
     "data": {
      "text/plain": "           date  c_average\n0    2019-12-31        0.0\n1    2020-01-01        0.0\n2    2020-01-02        0.0\n3    2020-01-03        0.0\n4    2020-01-04        0.0\n..          ...        ...\n210  2020-07-28     3544.2\n211  2020-07-29     4895.4\n212  2020-07-30     4929.6\n213  2020-07-31     5233.6\n214  2020-08-01     5869.5\n\n[215 rows x 2 columns]",
      "text/html": "<div>\n<style scoped>\n    .dataframe tbody tr th:only-of-type {\n        vertical-align: middle;\n    }\n\n    .dataframe tbody tr th {\n        vertical-align: top;\n    }\n\n    .dataframe thead th {\n        text-align: right;\n    }\n</style>\n<table border=\"1\" class=\"dataframe\">\n  <thead>\n    <tr style=\"text-align: right;\">\n      <th></th>\n      <th>date</th>\n      <th>c_average</th>\n    </tr>\n  </thead>\n  <tbody>\n    <tr>\n      <th>0</th>\n      <td>2019-12-31</td>\n      <td>0.0</td>\n    </tr>\n    <tr>\n      <th>1</th>\n      <td>2020-01-01</td>\n      <td>0.0</td>\n    </tr>\n    <tr>\n      <th>2</th>\n      <td>2020-01-02</td>\n      <td>0.0</td>\n    </tr>\n    <tr>\n      <th>3</th>\n      <td>2020-01-03</td>\n      <td>0.0</td>\n    </tr>\n    <tr>\n      <th>4</th>\n      <td>2020-01-04</td>\n      <td>0.0</td>\n    </tr>\n    <tr>\n      <th>...</th>\n      <td>...</td>\n      <td>...</td>\n    </tr>\n    <tr>\n      <th>210</th>\n      <td>2020-07-28</td>\n      <td>3544.2</td>\n    </tr>\n    <tr>\n      <th>211</th>\n      <td>2020-07-29</td>\n      <td>4895.4</td>\n    </tr>\n    <tr>\n      <th>212</th>\n      <td>2020-07-30</td>\n      <td>4929.6</td>\n    </tr>\n    <tr>\n      <th>213</th>\n      <td>2020-07-31</td>\n      <td>5233.6</td>\n    </tr>\n    <tr>\n      <th>214</th>\n      <td>2020-08-01</td>\n      <td>5869.5</td>\n    </tr>\n  </tbody>\n</table>\n<p>215 rows × 2 columns</p>\n</div>"
     },
     "metadata": {},
     "execution_count": 132
    }
   ],
   "source": [
    "df2 = Df1.reset_index()\n",
    "df2                         #@Natalio666Altube\n"
   ]
  },
  {
   "cell_type": "code",
   "execution_count": 133,
   "metadata": {},
   "outputs": [
    {
     "output_type": "display_data",
     "data": {
      "application/vnd.plotly.v1+json": {
       "config": {
        "plotlyServerURL": "https://plot.ly"
       },
       "data": [
        {
         "mode": "lines",
         "type": "scatter",
         "x": [
          "2019-12-31",
          "2020-01-01",
          "2020-01-02",
          "2020-01-03",
          "2020-01-04",
          "2020-01-05",
          "2020-01-06",
          "2020-01-07",
          "2020-01-08",
          "2020-01-09",
          "2020-01-10",
          "2020-01-11",
          "2020-01-12",
          "2020-01-13",
          "2020-01-14",
          "2020-01-15",
          "2020-01-16",
          "2020-01-17",
          "2020-01-18",
          "2020-01-19",
          "2020-01-20",
          "2020-01-21",
          "2020-01-22",
          "2020-01-23",
          "2020-01-24",
          "2020-01-25",
          "2020-01-26",
          "2020-01-27",
          "2020-01-28",
          "2020-01-29",
          "2020-01-30",
          "2020-01-31",
          "2020-02-01",
          "2020-02-02",
          "2020-02-03",
          "2020-02-04",
          "2020-02-05",
          "2020-02-06",
          "2020-02-07",
          "2020-02-08",
          "2020-02-09",
          "2020-02-10",
          "2020-02-11",
          "2020-02-12",
          "2020-02-13",
          "2020-02-14",
          "2020-02-15",
          "2020-02-16",
          "2020-02-17",
          "2020-02-18",
          "2020-02-19",
          "2020-02-20",
          "2020-02-21",
          "2020-02-22",
          "2020-02-23",
          "2020-02-24",
          "2020-02-25",
          "2020-02-26",
          "2020-02-27",
          "2020-02-28",
          "2020-02-29",
          "2020-03-01",
          "2020-03-02",
          "2020-03-03",
          "2020-03-04",
          "2020-03-05",
          "2020-03-06",
          "2020-03-07",
          "2020-03-08",
          "2020-03-09",
          "2020-03-10",
          "2020-03-11",
          "2020-03-12",
          "2020-03-13",
          "2020-03-14",
          "2020-03-15",
          "2020-03-16",
          "2020-03-17",
          "2020-03-18",
          "2020-03-19",
          "2020-03-20",
          "2020-03-21",
          "2020-03-22",
          "2020-03-23",
          "2020-03-24",
          "2020-03-25",
          "2020-03-26",
          "2020-03-27",
          "2020-03-28",
          "2020-03-29",
          "2020-03-30",
          "2020-03-31",
          "2020-04-01",
          "2020-04-02",
          "2020-04-03",
          "2020-04-04",
          "2020-04-05",
          "2020-04-06",
          "2020-04-07",
          "2020-04-08",
          "2020-04-09",
          "2020-04-10",
          "2020-04-11",
          "2020-04-12",
          "2020-04-13",
          "2020-04-14",
          "2020-04-15",
          "2020-04-16",
          "2020-04-17",
          "2020-04-18",
          "2020-04-19",
          "2020-04-20",
          "2020-04-21",
          "2020-04-22",
          "2020-04-23",
          "2020-04-24",
          "2020-04-25",
          "2020-04-26",
          "2020-04-27",
          "2020-04-28",
          "2020-04-29",
          "2020-04-30",
          "2020-05-01",
          "2020-05-02",
          "2020-05-03",
          "2020-05-04",
          "2020-05-05",
          "2020-05-06",
          "2020-05-07",
          "2020-05-08",
          "2020-05-09",
          "2020-05-10",
          "2020-05-11",
          "2020-05-12",
          "2020-05-13",
          "2020-05-14",
          "2020-05-15",
          "2020-05-16",
          "2020-05-17",
          "2020-05-18",
          "2020-05-19",
          "2020-05-20",
          "2020-05-21",
          "2020-05-22",
          "2020-05-23",
          "2020-05-24",
          "2020-05-25",
          "2020-05-26",
          "2020-05-27",
          "2020-05-28",
          "2020-05-29",
          "2020-05-30",
          "2020-05-31",
          "2020-06-01",
          "2020-06-02",
          "2020-06-03",
          "2020-06-04",
          "2020-06-05",
          "2020-06-06",
          "2020-06-07",
          "2020-06-08",
          "2020-06-09",
          "2020-06-10",
          "2020-06-11",
          "2020-06-12",
          "2020-06-13",
          "2020-06-14",
          "2020-06-15",
          "2020-06-16",
          "2020-06-17",
          "2020-06-18",
          "2020-06-19",
          "2020-06-20",
          "2020-06-21",
          "2020-06-22",
          "2020-06-23",
          "2020-06-24",
          "2020-06-25",
          "2020-06-26",
          "2020-06-27",
          "2020-06-28",
          "2020-06-29",
          "2020-06-30",
          "2020-07-01",
          "2020-07-02",
          "2020-07-03",
          "2020-07-04",
          "2020-07-05",
          "2020-07-06",
          "2020-07-07",
          "2020-07-08",
          "2020-07-09",
          "2020-07-10",
          "2020-07-11",
          "2020-07-12",
          "2020-07-13",
          "2020-07-14",
          "2020-07-15",
          "2020-07-16",
          "2020-07-17",
          "2020-07-18",
          "2020-07-19",
          "2020-07-20",
          "2020-07-21",
          "2020-07-22",
          "2020-07-23",
          "2020-07-24",
          "2020-07-25",
          "2020-07-26",
          "2020-07-27",
          "2020-07-28",
          "2020-07-29",
          "2020-07-30",
          "2020-07-31",
          "2020-08-01"
         ],
         "y": [
          0,
          0,
          0,
          0,
          0,
          0,
          0,
          0,
          0,
          0,
          0,
          0,
          0,
          0,
          0,
          0,
          0,
          0,
          0,
          0,
          0,
          0,
          0,
          0,
          0,
          0,
          0,
          0,
          0,
          0,
          0,
          0,
          1.5,
          0,
          0,
          0,
          0,
          0,
          0,
          0,
          0,
          0.5,
          0,
          0,
          0,
          0,
          0,
          0,
          0,
          0,
          0,
          0,
          0,
          0,
          0,
          0,
          0.5,
          3,
          4,
          9,
          9.5,
          14,
          27,
          28.5,
          19.5,
          27.666666666666668,
          46.25,
          49.4,
          110.33333333333333,
          110.25,
          194.25,
          246.5,
          295,
          389.5,
          343.6,
          441,
          349.2,
          527,
          756.4,
          834.4,
          956.4,
          1130.4,
          1028.2,
          987.8,
          1582.2,
          1788.8,
          1908.8,
          1927,
          1778.6,
          1415,
          1296.4,
          1799.8,
          1662.2,
          1728.4,
          1702.4,
          1567,
          1372.8,
          963.4,
          1335,
          1465.2,
          1540.8,
          1338,
          1439.2,
          1278,
          1127,
          1226.2,
          1575.4,
          1538,
          1611.2,
          1731,
          980.4,
          1781.8,
          1582.6,
          1712.6,
          1793.4,
          1551.2,
          1833.8,
          1752.8,
          1746.2,
          1729.2,
          1657.2,
          1604.4,
          2012.6,
          2151,
          2482.6,
          2562.4,
          2601.8,
          2625.6,
          2609.2,
          2919.4,
          2733.6,
          3217.8,
          2726.6,
          2826,
          2836.8,
          2902.2,
          2842.2,
          2913.2,
          2557.4,
          2590.6,
          2584.4,
          2875.8,
          2902,
          3178.2,
          3031,
          3040.4,
          2731.4,
          3211.6,
          3002.2,
          3121.8,
          3142.8,
          2994,
          3143.2,
          3218.2,
          3294.8,
          3005.6,
          3256.4,
          3115.8,
          3309.8,
          3343.2,
          3507.8,
          3247.8,
          3064.4,
          3482.2,
          3250,
          4140.8,
          3791.4,
          3885.8,
          3388,
          3371.6,
          9623,
          3148.6,
          4340.4,
          3513.8,
          3633.4,
          3426.6,
          2790.4,
          3937.2,
          3654.4,
          3100.6,
          4199,
          2877,
          3767,
          3108,
          3296,
          3309,
          3301.2,
          2854.8,
          3595.2,
          3117.4,
          3211.6,
          3258.4,
          3886.6,
          4031.8,
          3463.8,
          4040.8,
          3251.6,
          3545.8,
          3682.2,
          4521.6,
          5607.6,
          4298.8,
          3293.2,
          4071,
          3981,
          4586,
          4837.4,
          4330.2,
          4181.2,
          6302.2,
          3544.2,
          4895.4,
          4929.6,
          5233.6,
          5869.5
         ]
        }
       ],
       "layout": {
        "template": {
         "data": {
          "bar": [
           {
            "error_x": {
             "color": "#2a3f5f"
            },
            "error_y": {
             "color": "#2a3f5f"
            },
            "marker": {
             "line": {
              "color": "#E5ECF6",
              "width": 0.5
             }
            },
            "type": "bar"
           }
          ],
          "barpolar": [
           {
            "marker": {
             "line": {
              "color": "#E5ECF6",
              "width": 0.5
             }
            },
            "type": "barpolar"
           }
          ],
          "carpet": [
           {
            "aaxis": {
             "endlinecolor": "#2a3f5f",
             "gridcolor": "white",
             "linecolor": "white",
             "minorgridcolor": "white",
             "startlinecolor": "#2a3f5f"
            },
            "baxis": {
             "endlinecolor": "#2a3f5f",
             "gridcolor": "white",
             "linecolor": "white",
             "minorgridcolor": "white",
             "startlinecolor": "#2a3f5f"
            },
            "type": "carpet"
           }
          ],
          "choropleth": [
           {
            "colorbar": {
             "outlinewidth": 0,
             "ticks": ""
            },
            "type": "choropleth"
           }
          ],
          "contour": [
           {
            "colorbar": {
             "outlinewidth": 0,
             "ticks": ""
            },
            "colorscale": [
             [
              0,
              "#0d0887"
             ],
             [
              0.1111111111111111,
              "#46039f"
             ],
             [
              0.2222222222222222,
              "#7201a8"
             ],
             [
              0.3333333333333333,
              "#9c179e"
             ],
             [
              0.4444444444444444,
              "#bd3786"
             ],
             [
              0.5555555555555556,
              "#d8576b"
             ],
             [
              0.6666666666666666,
              "#ed7953"
             ],
             [
              0.7777777777777778,
              "#fb9f3a"
             ],
             [
              0.8888888888888888,
              "#fdca26"
             ],
             [
              1,
              "#f0f921"
             ]
            ],
            "type": "contour"
           }
          ],
          "contourcarpet": [
           {
            "colorbar": {
             "outlinewidth": 0,
             "ticks": ""
            },
            "type": "contourcarpet"
           }
          ],
          "heatmap": [
           {
            "colorbar": {
             "outlinewidth": 0,
             "ticks": ""
            },
            "colorscale": [
             [
              0,
              "#0d0887"
             ],
             [
              0.1111111111111111,
              "#46039f"
             ],
             [
              0.2222222222222222,
              "#7201a8"
             ],
             [
              0.3333333333333333,
              "#9c179e"
             ],
             [
              0.4444444444444444,
              "#bd3786"
             ],
             [
              0.5555555555555556,
              "#d8576b"
             ],
             [
              0.6666666666666666,
              "#ed7953"
             ],
             [
              0.7777777777777778,
              "#fb9f3a"
             ],
             [
              0.8888888888888888,
              "#fdca26"
             ],
             [
              1,
              "#f0f921"
             ]
            ],
            "type": "heatmap"
           }
          ],
          "heatmapgl": [
           {
            "colorbar": {
             "outlinewidth": 0,
             "ticks": ""
            },
            "colorscale": [
             [
              0,
              "#0d0887"
             ],
             [
              0.1111111111111111,
              "#46039f"
             ],
             [
              0.2222222222222222,
              "#7201a8"
             ],
             [
              0.3333333333333333,
              "#9c179e"
             ],
             [
              0.4444444444444444,
              "#bd3786"
             ],
             [
              0.5555555555555556,
              "#d8576b"
             ],
             [
              0.6666666666666666,
              "#ed7953"
             ],
             [
              0.7777777777777778,
              "#fb9f3a"
             ],
             [
              0.8888888888888888,
              "#fdca26"
             ],
             [
              1,
              "#f0f921"
             ]
            ],
            "type": "heatmapgl"
           }
          ],
          "histogram": [
           {
            "marker": {
             "colorbar": {
              "outlinewidth": 0,
              "ticks": ""
             }
            },
            "type": "histogram"
           }
          ],
          "histogram2d": [
           {
            "colorbar": {
             "outlinewidth": 0,
             "ticks": ""
            },
            "colorscale": [
             [
              0,
              "#0d0887"
             ],
             [
              0.1111111111111111,
              "#46039f"
             ],
             [
              0.2222222222222222,
              "#7201a8"
             ],
             [
              0.3333333333333333,
              "#9c179e"
             ],
             [
              0.4444444444444444,
              "#bd3786"
             ],
             [
              0.5555555555555556,
              "#d8576b"
             ],
             [
              0.6666666666666666,
              "#ed7953"
             ],
             [
              0.7777777777777778,
              "#fb9f3a"
             ],
             [
              0.8888888888888888,
              "#fdca26"
             ],
             [
              1,
              "#f0f921"
             ]
            ],
            "type": "histogram2d"
           }
          ],
          "histogram2dcontour": [
           {
            "colorbar": {
             "outlinewidth": 0,
             "ticks": ""
            },
            "colorscale": [
             [
              0,
              "#0d0887"
             ],
             [
              0.1111111111111111,
              "#46039f"
             ],
             [
              0.2222222222222222,
              "#7201a8"
             ],
             [
              0.3333333333333333,
              "#9c179e"
             ],
             [
              0.4444444444444444,
              "#bd3786"
             ],
             [
              0.5555555555555556,
              "#d8576b"
             ],
             [
              0.6666666666666666,
              "#ed7953"
             ],
             [
              0.7777777777777778,
              "#fb9f3a"
             ],
             [
              0.8888888888888888,
              "#fdca26"
             ],
             [
              1,
              "#f0f921"
             ]
            ],
            "type": "histogram2dcontour"
           }
          ],
          "mesh3d": [
           {
            "colorbar": {
             "outlinewidth": 0,
             "ticks": ""
            },
            "type": "mesh3d"
           }
          ],
          "parcoords": [
           {
            "line": {
             "colorbar": {
              "outlinewidth": 0,
              "ticks": ""
             }
            },
            "type": "parcoords"
           }
          ],
          "pie": [
           {
            "automargin": true,
            "type": "pie"
           }
          ],
          "scatter": [
           {
            "marker": {
             "colorbar": {
              "outlinewidth": 0,
              "ticks": ""
             }
            },
            "type": "scatter"
           }
          ],
          "scatter3d": [
           {
            "line": {
             "colorbar": {
              "outlinewidth": 0,
              "ticks": ""
             }
            },
            "marker": {
             "colorbar": {
              "outlinewidth": 0,
              "ticks": ""
             }
            },
            "type": "scatter3d"
           }
          ],
          "scattercarpet": [
           {
            "marker": {
             "colorbar": {
              "outlinewidth": 0,
              "ticks": ""
             }
            },
            "type": "scattercarpet"
           }
          ],
          "scattergeo": [
           {
            "marker": {
             "colorbar": {
              "outlinewidth": 0,
              "ticks": ""
             }
            },
            "type": "scattergeo"
           }
          ],
          "scattergl": [
           {
            "marker": {
             "colorbar": {
              "outlinewidth": 0,
              "ticks": ""
             }
            },
            "type": "scattergl"
           }
          ],
          "scattermapbox": [
           {
            "marker": {
             "colorbar": {
              "outlinewidth": 0,
              "ticks": ""
             }
            },
            "type": "scattermapbox"
           }
          ],
          "scatterpolar": [
           {
            "marker": {
             "colorbar": {
              "outlinewidth": 0,
              "ticks": ""
             }
            },
            "type": "scatterpolar"
           }
          ],
          "scatterpolargl": [
           {
            "marker": {
             "colorbar": {
              "outlinewidth": 0,
              "ticks": ""
             }
            },
            "type": "scatterpolargl"
           }
          ],
          "scatterternary": [
           {
            "marker": {
             "colorbar": {
              "outlinewidth": 0,
              "ticks": ""
             }
            },
            "type": "scatterternary"
           }
          ],
          "surface": [
           {
            "colorbar": {
             "outlinewidth": 0,
             "ticks": ""
            },
            "colorscale": [
             [
              0,
              "#0d0887"
             ],
             [
              0.1111111111111111,
              "#46039f"
             ],
             [
              0.2222222222222222,
              "#7201a8"
             ],
             [
              0.3333333333333333,
              "#9c179e"
             ],
             [
              0.4444444444444444,
              "#bd3786"
             ],
             [
              0.5555555555555556,
              "#d8576b"
             ],
             [
              0.6666666666666666,
              "#ed7953"
             ],
             [
              0.7777777777777778,
              "#fb9f3a"
             ],
             [
              0.8888888888888888,
              "#fdca26"
             ],
             [
              1,
              "#f0f921"
             ]
            ],
            "type": "surface"
           }
          ],
          "table": [
           {
            "cells": {
             "fill": {
              "color": "#EBF0F8"
             },
             "line": {
              "color": "white"
             }
            },
            "header": {
             "fill": {
              "color": "#C8D4E3"
             },
             "line": {
              "color": "white"
             }
            },
            "type": "table"
           }
          ]
         },
         "layout": {
          "annotationdefaults": {
           "arrowcolor": "#2a3f5f",
           "arrowhead": 0,
           "arrowwidth": 1
          },
          "coloraxis": {
           "colorbar": {
            "outlinewidth": 0,
            "ticks": ""
           }
          },
          "colorscale": {
           "diverging": [
            [
             0,
             "#8e0152"
            ],
            [
             0.1,
             "#c51b7d"
            ],
            [
             0.2,
             "#de77ae"
            ],
            [
             0.3,
             "#f1b6da"
            ],
            [
             0.4,
             "#fde0ef"
            ],
            [
             0.5,
             "#f7f7f7"
            ],
            [
             0.6,
             "#e6f5d0"
            ],
            [
             0.7,
             "#b8e186"
            ],
            [
             0.8,
             "#7fbc41"
            ],
            [
             0.9,
             "#4d9221"
            ],
            [
             1,
             "#276419"
            ]
           ],
           "sequential": [
            [
             0,
             "#0d0887"
            ],
            [
             0.1111111111111111,
             "#46039f"
            ],
            [
             0.2222222222222222,
             "#7201a8"
            ],
            [
             0.3333333333333333,
             "#9c179e"
            ],
            [
             0.4444444444444444,
             "#bd3786"
            ],
            [
             0.5555555555555556,
             "#d8576b"
            ],
            [
             0.6666666666666666,
             "#ed7953"
            ],
            [
             0.7777777777777778,
             "#fb9f3a"
            ],
            [
             0.8888888888888888,
             "#fdca26"
            ],
            [
             1,
             "#f0f921"
            ]
           ],
           "sequentialminus": [
            [
             0,
             "#0d0887"
            ],
            [
             0.1111111111111111,
             "#46039f"
            ],
            [
             0.2222222222222222,
             "#7201a8"
            ],
            [
             0.3333333333333333,
             "#9c179e"
            ],
            [
             0.4444444444444444,
             "#bd3786"
            ],
            [
             0.5555555555555556,
             "#d8576b"
            ],
            [
             0.6666666666666666,
             "#ed7953"
            ],
            [
             0.7777777777777778,
             "#fb9f3a"
            ],
            [
             0.8888888888888888,
             "#fdca26"
            ],
            [
             1,
             "#f0f921"
            ]
           ]
          },
          "colorway": [
           "#636efa",
           "#EF553B",
           "#00cc96",
           "#ab63fa",
           "#FFA15A",
           "#19d3f3",
           "#FF6692",
           "#B6E880",
           "#FF97FF",
           "#FECB52"
          ],
          "font": {
           "color": "#2a3f5f"
          },
          "geo": {
           "bgcolor": "white",
           "lakecolor": "white",
           "landcolor": "#E5ECF6",
           "showlakes": true,
           "showland": true,
           "subunitcolor": "white"
          },
          "hoverlabel": {
           "align": "left"
          },
          "hovermode": "closest",
          "mapbox": {
           "style": "light"
          },
          "paper_bgcolor": "white",
          "plot_bgcolor": "#E5ECF6",
          "polar": {
           "angularaxis": {
            "gridcolor": "white",
            "linecolor": "white",
            "ticks": ""
           },
           "bgcolor": "#E5ECF6",
           "radialaxis": {
            "gridcolor": "white",
            "linecolor": "white",
            "ticks": ""
           }
          },
          "scene": {
           "xaxis": {
            "backgroundcolor": "#E5ECF6",
            "gridcolor": "white",
            "gridwidth": 2,
            "linecolor": "white",
            "showbackground": true,
            "ticks": "",
            "zerolinecolor": "white"
           },
           "yaxis": {
            "backgroundcolor": "#E5ECF6",
            "gridcolor": "white",
            "gridwidth": 2,
            "linecolor": "white",
            "showbackground": true,
            "ticks": "",
            "zerolinecolor": "white"
           },
           "zaxis": {
            "backgroundcolor": "#E5ECF6",
            "gridcolor": "white",
            "gridwidth": 2,
            "linecolor": "white",
            "showbackground": true,
            "ticks": "",
            "zerolinecolor": "white"
           }
          },
          "shapedefaults": {
           "line": {
            "color": "#2a3f5f"
           }
          },
          "ternary": {
           "aaxis": {
            "gridcolor": "white",
            "linecolor": "white",
            "ticks": ""
           },
           "baxis": {
            "gridcolor": "white",
            "linecolor": "white",
            "ticks": ""
           },
           "bgcolor": "#E5ECF6",
           "caxis": {
            "gridcolor": "white",
            "linecolor": "white",
            "ticks": ""
           }
          },
          "title": {
           "x": 0.05
          },
          "xaxis": {
           "automargin": true,
           "gridcolor": "white",
           "linecolor": "white",
           "ticks": "",
           "title": {
            "standoff": 15
           },
           "zerolinecolor": "white",
           "zerolinewidth": 2
          },
          "yaxis": {
           "automargin": true,
           "gridcolor": "white",
           "linecolor": "white",
           "ticks": "",
           "title": {
            "standoff": 15
           },
           "zerolinecolor": "white",
           "zerolinewidth": 2
          }
         }
        },
        "title": {
         "text": "Number of COVID cases over time"
        },
        "xaxis": {
         "title": {
          "text": "Date"
         }
        },
        "yaxis": {
         "title": {
          "text": "Number of cases"
         }
        }
       }
      }
     },
     "metadata": {}
    }
   ],
   "source": [
    "fig = go.Figure(data=go.Scatter(x=df2['date'],\n",
    "                                y=df2['c_average'],\n",
    "                                mode='lines')) # hover text goes here\n",
    "fig.update_layout(title='Number of COVID cases over time',xaxis_title=\"Date\",yaxis_title=\"Number of cases\")\n",
    "fig.show()                  #@Natalio666Altube"
   ]
  },
  {
   "cell_type": "code",
   "execution_count": 223,
   "metadata": {},
   "outputs": [
    {
     "output_type": "display_data",
     "data": {
      "application/vnd.plotly.v1+json": {
       "config": {
        "plotlyServerURL": "https://plot.ly"
       },
       "data": [
        {
         "boxmean": true,
         "marker": {
          "color": "green"
         },
         "name": "C",
         "type": "box",
         "y": [
          0,
          0,
          0,
          0,
          0,
          0,
          0,
          0,
          0,
          0,
          0,
          0,
          0,
          0,
          0,
          0,
          0,
          0,
          0,
          0,
          0,
          0,
          0,
          0,
          0,
          0,
          0,
          0,
          0,
          0,
          0,
          0,
          1.5,
          0,
          0,
          0,
          0,
          0,
          0,
          0,
          0,
          0.5,
          0,
          0,
          0,
          0,
          0,
          0,
          0,
          0,
          0,
          0,
          0,
          0,
          0,
          0,
          0.5,
          3,
          4,
          9,
          9.5,
          14,
          27,
          28.5,
          19.5,
          27.666666666666668,
          46.25,
          49.4,
          110.33333333333333,
          110.25,
          194.25,
          246.5,
          295,
          389.5,
          343.6,
          441,
          349.2,
          527,
          756.4,
          834.4,
          956.4,
          1130.4,
          1028.2,
          987.8,
          1582.2,
          1788.8,
          1908.8,
          1927,
          1778.6,
          1415,
          1296.4,
          1799.8,
          1662.2,
          1728.4,
          1702.4,
          1567,
          1372.8,
          963.4,
          1335,
          1465.2,
          1540.8,
          1338,
          1439.2,
          1278,
          1127,
          1226.2,
          1575.4,
          1538,
          1611.2,
          1731,
          980.4,
          1781.8,
          1582.6,
          1712.6,
          1793.4,
          1551.2,
          1833.8,
          1752.8,
          1746.2,
          1729.2,
          1657.2,
          1604.4,
          2012.6,
          2151,
          2482.6,
          2562.4,
          2601.8,
          2625.6,
          2609.2,
          2919.4,
          2733.6,
          3217.8,
          2726.6,
          2826,
          2836.8,
          2902.2,
          2842.2,
          2913.2,
          2557.4,
          2590.6,
          2584.4,
          2875.8,
          2902,
          3178.2,
          3031,
          3040.4,
          2731.4,
          3211.6,
          3002.2,
          3121.8,
          3142.8,
          2994,
          3143.2,
          3218.2,
          3294.8,
          3005.6,
          3256.4,
          3115.8,
          3309.8,
          3343.2,
          3507.8,
          3247.8,
          3064.4,
          3482.2,
          3250,
          4140.8,
          3791.4,
          3885.8,
          3388,
          3371.6,
          9623,
          3148.6,
          4340.4,
          3513.8,
          3633.4,
          3426.6,
          2790.4,
          3937.2,
          3654.4,
          3100.6,
          4199,
          2877,
          3767,
          3108,
          3296,
          3309,
          3301.2,
          2854.8,
          3595.2,
          3117.4,
          3211.6,
          3258.4,
          3886.6,
          4031.8,
          3463.8,
          4040.8,
          3251.6,
          3545.8,
          3682.2,
          4521.6,
          5607.6,
          3837.4,
          3754.6,
          4071,
          3981,
          4586,
          4837.4,
          4330.2,
          4181.2,
          6302.2,
          3544.2,
          4895.4,
          4929.6,
          5769
         ]
        },
        {
         "boxmean": "sd",
         "marker": {
          "color": "darkorchid"
         },
         "name": "D",
         "type": "box",
         "y": [
          "2019-12-31",
          "2020-01-01",
          "2020-01-02",
          "2020-01-03",
          "2020-01-04",
          "2020-01-05",
          "2020-01-06",
          "2020-01-07",
          "2020-01-08",
          "2020-01-09",
          "2020-01-10",
          "2020-01-11",
          "2020-01-12",
          "2020-01-13",
          "2020-01-14",
          "2020-01-15",
          "2020-01-16",
          "2020-01-17",
          "2020-01-18",
          "2020-01-19",
          "2020-01-20",
          "2020-01-21",
          "2020-01-22",
          "2020-01-23",
          "2020-01-24",
          "2020-01-25",
          "2020-01-26",
          "2020-01-27",
          "2020-01-28",
          "2020-01-29",
          "2020-01-30",
          "2020-01-31",
          "2020-02-01",
          "2020-02-02",
          "2020-02-03",
          "2020-02-04",
          "2020-02-05",
          "2020-02-06",
          "2020-02-07",
          "2020-02-08",
          "2020-02-09",
          "2020-02-10",
          "2020-02-11",
          "2020-02-12",
          "2020-02-13",
          "2020-02-14",
          "2020-02-15",
          "2020-02-16",
          "2020-02-17",
          "2020-02-18",
          "2020-02-19",
          "2020-02-20",
          "2020-02-21",
          "2020-02-22",
          "2020-02-23",
          "2020-02-24",
          "2020-02-25",
          "2020-02-26",
          "2020-02-27",
          "2020-02-28",
          "2020-02-29",
          "2020-03-01",
          "2020-03-02",
          "2020-03-03",
          "2020-03-04",
          "2020-03-05",
          "2020-03-06",
          "2020-03-07",
          "2020-03-08",
          "2020-03-09",
          "2020-03-10",
          "2020-03-11",
          "2020-03-12",
          "2020-03-13",
          "2020-03-14",
          "2020-03-15",
          "2020-03-16",
          "2020-03-17",
          "2020-03-18",
          "2020-03-19",
          "2020-03-20",
          "2020-03-21",
          "2020-03-22",
          "2020-03-23",
          "2020-03-24",
          "2020-03-25",
          "2020-03-26",
          "2020-03-27",
          "2020-03-28",
          "2020-03-29",
          "2020-03-30",
          "2020-03-31",
          "2020-04-01",
          "2020-04-02",
          "2020-04-03",
          "2020-04-04",
          "2020-04-05",
          "2020-04-06",
          "2020-04-07",
          "2020-04-08",
          "2020-04-09",
          "2020-04-10",
          "2020-04-11",
          "2020-04-12",
          "2020-04-13",
          "2020-04-14",
          "2020-04-15",
          "2020-04-16",
          "2020-04-17",
          "2020-04-18",
          "2020-04-19",
          "2020-04-20",
          "2020-04-21",
          "2020-04-22",
          "2020-04-23",
          "2020-04-24",
          "2020-04-25",
          "2020-04-26",
          "2020-04-27",
          "2020-04-28",
          "2020-04-29",
          "2020-04-30",
          "2020-05-01",
          "2020-05-02",
          "2020-05-03",
          "2020-05-04",
          "2020-05-05",
          "2020-05-06",
          "2020-05-07",
          "2020-05-08",
          "2020-05-09",
          "2020-05-10",
          "2020-05-11",
          "2020-05-12",
          "2020-05-13",
          "2020-05-14",
          "2020-05-15",
          "2020-05-16",
          "2020-05-17",
          "2020-05-18",
          "2020-05-19",
          "2020-05-20",
          "2020-05-21",
          "2020-05-22",
          "2020-05-23",
          "2020-05-24",
          "2020-05-25",
          "2020-05-26",
          "2020-05-27",
          "2020-05-28",
          "2020-05-29",
          "2020-05-30",
          "2020-05-31",
          "2020-06-01",
          "2020-06-02",
          "2020-06-03",
          "2020-06-04",
          "2020-06-05",
          "2020-06-06",
          "2020-06-07",
          "2020-06-08",
          "2020-06-09",
          "2020-06-10",
          "2020-06-11",
          "2020-06-12",
          "2020-06-13",
          "2020-06-14",
          "2020-06-15",
          "2020-06-16",
          "2020-06-17",
          "2020-06-18",
          "2020-06-19",
          "2020-06-20",
          "2020-06-21",
          "2020-06-22",
          "2020-06-23",
          "2020-06-24",
          "2020-06-25",
          "2020-06-26",
          "2020-06-27",
          "2020-06-28",
          "2020-06-29",
          "2020-06-30",
          "2020-07-01",
          "2020-07-02",
          "2020-07-03",
          "2020-07-04",
          "2020-07-05",
          "2020-07-06",
          "2020-07-07",
          "2020-07-08",
          "2020-07-09",
          "2020-07-10",
          "2020-07-11",
          "2020-07-12",
          "2020-07-13",
          "2020-07-14",
          "2020-07-15",
          "2020-07-16",
          "2020-07-17",
          "2020-07-18",
          "2020-07-19",
          "2020-07-20",
          "2020-07-21",
          "2020-07-22",
          "2020-07-23",
          "2020-07-24",
          "2020-07-25",
          "2020-07-26",
          "2020-07-27",
          "2020-07-28",
          "2020-07-29",
          "2020-07-30",
          "2020-07-31"
         ]
        }
       ],
       "layout": {
        "template": {
         "data": {
          "bar": [
           {
            "error_x": {
             "color": "#2a3f5f"
            },
            "error_y": {
             "color": "#2a3f5f"
            },
            "marker": {
             "line": {
              "color": "#E5ECF6",
              "width": 0.5
             }
            },
            "type": "bar"
           }
          ],
          "barpolar": [
           {
            "marker": {
             "line": {
              "color": "#E5ECF6",
              "width": 0.5
             }
            },
            "type": "barpolar"
           }
          ],
          "carpet": [
           {
            "aaxis": {
             "endlinecolor": "#2a3f5f",
             "gridcolor": "white",
             "linecolor": "white",
             "minorgridcolor": "white",
             "startlinecolor": "#2a3f5f"
            },
            "baxis": {
             "endlinecolor": "#2a3f5f",
             "gridcolor": "white",
             "linecolor": "white",
             "minorgridcolor": "white",
             "startlinecolor": "#2a3f5f"
            },
            "type": "carpet"
           }
          ],
          "choropleth": [
           {
            "colorbar": {
             "outlinewidth": 0,
             "ticks": ""
            },
            "type": "choropleth"
           }
          ],
          "contour": [
           {
            "colorbar": {
             "outlinewidth": 0,
             "ticks": ""
            },
            "colorscale": [
             [
              0,
              "#0d0887"
             ],
             [
              0.1111111111111111,
              "#46039f"
             ],
             [
              0.2222222222222222,
              "#7201a8"
             ],
             [
              0.3333333333333333,
              "#9c179e"
             ],
             [
              0.4444444444444444,
              "#bd3786"
             ],
             [
              0.5555555555555556,
              "#d8576b"
             ],
             [
              0.6666666666666666,
              "#ed7953"
             ],
             [
              0.7777777777777778,
              "#fb9f3a"
             ],
             [
              0.8888888888888888,
              "#fdca26"
             ],
             [
              1,
              "#f0f921"
             ]
            ],
            "type": "contour"
           }
          ],
          "contourcarpet": [
           {
            "colorbar": {
             "outlinewidth": 0,
             "ticks": ""
            },
            "type": "contourcarpet"
           }
          ],
          "heatmap": [
           {
            "colorbar": {
             "outlinewidth": 0,
             "ticks": ""
            },
            "colorscale": [
             [
              0,
              "#0d0887"
             ],
             [
              0.1111111111111111,
              "#46039f"
             ],
             [
              0.2222222222222222,
              "#7201a8"
             ],
             [
              0.3333333333333333,
              "#9c179e"
             ],
             [
              0.4444444444444444,
              "#bd3786"
             ],
             [
              0.5555555555555556,
              "#d8576b"
             ],
             [
              0.6666666666666666,
              "#ed7953"
             ],
             [
              0.7777777777777778,
              "#fb9f3a"
             ],
             [
              0.8888888888888888,
              "#fdca26"
             ],
             [
              1,
              "#f0f921"
             ]
            ],
            "type": "heatmap"
           }
          ],
          "heatmapgl": [
           {
            "colorbar": {
             "outlinewidth": 0,
             "ticks": ""
            },
            "colorscale": [
             [
              0,
              "#0d0887"
             ],
             [
              0.1111111111111111,
              "#46039f"
             ],
             [
              0.2222222222222222,
              "#7201a8"
             ],
             [
              0.3333333333333333,
              "#9c179e"
             ],
             [
              0.4444444444444444,
              "#bd3786"
             ],
             [
              0.5555555555555556,
              "#d8576b"
             ],
             [
              0.6666666666666666,
              "#ed7953"
             ],
             [
              0.7777777777777778,
              "#fb9f3a"
             ],
             [
              0.8888888888888888,
              "#fdca26"
             ],
             [
              1,
              "#f0f921"
             ]
            ],
            "type": "heatmapgl"
           }
          ],
          "histogram": [
           {
            "marker": {
             "colorbar": {
              "outlinewidth": 0,
              "ticks": ""
             }
            },
            "type": "histogram"
           }
          ],
          "histogram2d": [
           {
            "colorbar": {
             "outlinewidth": 0,
             "ticks": ""
            },
            "colorscale": [
             [
              0,
              "#0d0887"
             ],
             [
              0.1111111111111111,
              "#46039f"
             ],
             [
              0.2222222222222222,
              "#7201a8"
             ],
             [
              0.3333333333333333,
              "#9c179e"
             ],
             [
              0.4444444444444444,
              "#bd3786"
             ],
             [
              0.5555555555555556,
              "#d8576b"
             ],
             [
              0.6666666666666666,
              "#ed7953"
             ],
             [
              0.7777777777777778,
              "#fb9f3a"
             ],
             [
              0.8888888888888888,
              "#fdca26"
             ],
             [
              1,
              "#f0f921"
             ]
            ],
            "type": "histogram2d"
           }
          ],
          "histogram2dcontour": [
           {
            "colorbar": {
             "outlinewidth": 0,
             "ticks": ""
            },
            "colorscale": [
             [
              0,
              "#0d0887"
             ],
             [
              0.1111111111111111,
              "#46039f"
             ],
             [
              0.2222222222222222,
              "#7201a8"
             ],
             [
              0.3333333333333333,
              "#9c179e"
             ],
             [
              0.4444444444444444,
              "#bd3786"
             ],
             [
              0.5555555555555556,
              "#d8576b"
             ],
             [
              0.6666666666666666,
              "#ed7953"
             ],
             [
              0.7777777777777778,
              "#fb9f3a"
             ],
             [
              0.8888888888888888,
              "#fdca26"
             ],
             [
              1,
              "#f0f921"
             ]
            ],
            "type": "histogram2dcontour"
           }
          ],
          "mesh3d": [
           {
            "colorbar": {
             "outlinewidth": 0,
             "ticks": ""
            },
            "type": "mesh3d"
           }
          ],
          "parcoords": [
           {
            "line": {
             "colorbar": {
              "outlinewidth": 0,
              "ticks": ""
             }
            },
            "type": "parcoords"
           }
          ],
          "pie": [
           {
            "automargin": true,
            "type": "pie"
           }
          ],
          "scatter": [
           {
            "marker": {
             "colorbar": {
              "outlinewidth": 0,
              "ticks": ""
             }
            },
            "type": "scatter"
           }
          ],
          "scatter3d": [
           {
            "line": {
             "colorbar": {
              "outlinewidth": 0,
              "ticks": ""
             }
            },
            "marker": {
             "colorbar": {
              "outlinewidth": 0,
              "ticks": ""
             }
            },
            "type": "scatter3d"
           }
          ],
          "scattercarpet": [
           {
            "marker": {
             "colorbar": {
              "outlinewidth": 0,
              "ticks": ""
             }
            },
            "type": "scattercarpet"
           }
          ],
          "scattergeo": [
           {
            "marker": {
             "colorbar": {
              "outlinewidth": 0,
              "ticks": ""
             }
            },
            "type": "scattergeo"
           }
          ],
          "scattergl": [
           {
            "marker": {
             "colorbar": {
              "outlinewidth": 0,
              "ticks": ""
             }
            },
            "type": "scattergl"
           }
          ],
          "scattermapbox": [
           {
            "marker": {
             "colorbar": {
              "outlinewidth": 0,
              "ticks": ""
             }
            },
            "type": "scattermapbox"
           }
          ],
          "scatterpolar": [
           {
            "marker": {
             "colorbar": {
              "outlinewidth": 0,
              "ticks": ""
             }
            },
            "type": "scatterpolar"
           }
          ],
          "scatterpolargl": [
           {
            "marker": {
             "colorbar": {
              "outlinewidth": 0,
              "ticks": ""
             }
            },
            "type": "scatterpolargl"
           }
          ],
          "scatterternary": [
           {
            "marker": {
             "colorbar": {
              "outlinewidth": 0,
              "ticks": ""
             }
            },
            "type": "scatterternary"
           }
          ],
          "surface": [
           {
            "colorbar": {
             "outlinewidth": 0,
             "ticks": ""
            },
            "colorscale": [
             [
              0,
              "#0d0887"
             ],
             [
              0.1111111111111111,
              "#46039f"
             ],
             [
              0.2222222222222222,
              "#7201a8"
             ],
             [
              0.3333333333333333,
              "#9c179e"
             ],
             [
              0.4444444444444444,
              "#bd3786"
             ],
             [
              0.5555555555555556,
              "#d8576b"
             ],
             [
              0.6666666666666666,
              "#ed7953"
             ],
             [
              0.7777777777777778,
              "#fb9f3a"
             ],
             [
              0.8888888888888888,
              "#fdca26"
             ],
             [
              1,
              "#f0f921"
             ]
            ],
            "type": "surface"
           }
          ],
          "table": [
           {
            "cells": {
             "fill": {
              "color": "#EBF0F8"
             },
             "line": {
              "color": "white"
             }
            },
            "header": {
             "fill": {
              "color": "#C8D4E3"
             },
             "line": {
              "color": "white"
             }
            },
            "type": "table"
           }
          ]
         },
         "layout": {
          "annotationdefaults": {
           "arrowcolor": "#2a3f5f",
           "arrowhead": 0,
           "arrowwidth": 1
          },
          "coloraxis": {
           "colorbar": {
            "outlinewidth": 0,
            "ticks": ""
           }
          },
          "colorscale": {
           "diverging": [
            [
             0,
             "#8e0152"
            ],
            [
             0.1,
             "#c51b7d"
            ],
            [
             0.2,
             "#de77ae"
            ],
            [
             0.3,
             "#f1b6da"
            ],
            [
             0.4,
             "#fde0ef"
            ],
            [
             0.5,
             "#f7f7f7"
            ],
            [
             0.6,
             "#e6f5d0"
            ],
            [
             0.7,
             "#b8e186"
            ],
            [
             0.8,
             "#7fbc41"
            ],
            [
             0.9,
             "#4d9221"
            ],
            [
             1,
             "#276419"
            ]
           ],
           "sequential": [
            [
             0,
             "#0d0887"
            ],
            [
             0.1111111111111111,
             "#46039f"
            ],
            [
             0.2222222222222222,
             "#7201a8"
            ],
            [
             0.3333333333333333,
             "#9c179e"
            ],
            [
             0.4444444444444444,
             "#bd3786"
            ],
            [
             0.5555555555555556,
             "#d8576b"
            ],
            [
             0.6666666666666666,
             "#ed7953"
            ],
            [
             0.7777777777777778,
             "#fb9f3a"
            ],
            [
             0.8888888888888888,
             "#fdca26"
            ],
            [
             1,
             "#f0f921"
            ]
           ],
           "sequentialminus": [
            [
             0,
             "#0d0887"
            ],
            [
             0.1111111111111111,
             "#46039f"
            ],
            [
             0.2222222222222222,
             "#7201a8"
            ],
            [
             0.3333333333333333,
             "#9c179e"
            ],
            [
             0.4444444444444444,
             "#bd3786"
            ],
            [
             0.5555555555555556,
             "#d8576b"
            ],
            [
             0.6666666666666666,
             "#ed7953"
            ],
            [
             0.7777777777777778,
             "#fb9f3a"
            ],
            [
             0.8888888888888888,
             "#fdca26"
            ],
            [
             1,
             "#f0f921"
            ]
           ]
          },
          "colorway": [
           "#636efa",
           "#EF553B",
           "#00cc96",
           "#ab63fa",
           "#FFA15A",
           "#19d3f3",
           "#FF6692",
           "#B6E880",
           "#FF97FF",
           "#FECB52"
          ],
          "font": {
           "color": "#2a3f5f"
          },
          "geo": {
           "bgcolor": "white",
           "lakecolor": "white",
           "landcolor": "#E5ECF6",
           "showlakes": true,
           "showland": true,
           "subunitcolor": "white"
          },
          "hoverlabel": {
           "align": "left"
          },
          "hovermode": "closest",
          "mapbox": {
           "style": "light"
          },
          "paper_bgcolor": "white",
          "plot_bgcolor": "#E5ECF6",
          "polar": {
           "angularaxis": {
            "gridcolor": "white",
            "linecolor": "white",
            "ticks": ""
           },
           "bgcolor": "#E5ECF6",
           "radialaxis": {
            "gridcolor": "white",
            "linecolor": "white",
            "ticks": ""
           }
          },
          "scene": {
           "xaxis": {
            "backgroundcolor": "#E5ECF6",
            "gridcolor": "white",
            "gridwidth": 2,
            "linecolor": "white",
            "showbackground": true,
            "ticks": "",
            "zerolinecolor": "white"
           },
           "yaxis": {
            "backgroundcolor": "#E5ECF6",
            "gridcolor": "white",
            "gridwidth": 2,
            "linecolor": "white",
            "showbackground": true,
            "ticks": "",
            "zerolinecolor": "white"
           },
           "zaxis": {
            "backgroundcolor": "#E5ECF6",
            "gridcolor": "white",
            "gridwidth": 2,
            "linecolor": "white",
            "showbackground": true,
            "ticks": "",
            "zerolinecolor": "white"
           }
          },
          "shapedefaults": {
           "line": {
            "color": "#2a3f5f"
           }
          },
          "ternary": {
           "aaxis": {
            "gridcolor": "white",
            "linecolor": "white",
            "ticks": ""
           },
           "baxis": {
            "gridcolor": "white",
            "linecolor": "white",
            "ticks": ""
           },
           "bgcolor": "#E5ECF6",
           "caxis": {
            "gridcolor": "white",
            "linecolor": "white",
            "ticks": ""
           }
          },
          "title": {
           "x": 0.05
          },
          "xaxis": {
           "automargin": true,
           "gridcolor": "white",
           "linecolor": "white",
           "ticks": "",
           "title": {
            "standoff": 15
           },
           "zerolinecolor": "white",
           "zerolinewidth": 2
          },
          "yaxis": {
           "automargin": true,
           "gridcolor": "white",
           "linecolor": "white",
           "ticks": "",
           "title": {
            "standoff": 15
           },
           "zerolinecolor": "white",
           "zerolinewidth": 2
          }
         }
        },
        "title": {
         "text": "Outliers of COVID cases in All Countries"
        }
       }
      }
     },
     "metadata": {}
    }
   ],
   "source": [
    "fig = go.Figure()\n",
    "fig.add_trace(go.Box(y=df2.c_average,\n",
    "                     boxmean=True, # only mean visible on plot\n",
    "                     marker_color=\"green\",\n",
    "                     name=\"C\"))\n",
    "fig.add_trace(go.Box(y=df2.date,\n",
    "                     boxmean='sd', # mean and SD visible on plot\n",
    "                     marker_color=\"darkorchid\",\n",
    "                     name=\"D\"))\n",
    "fig.update_layout(title=\"Outliers of COVID cases in All Countries\")\n",
    "fig.show()                  #@Natalio666Altube\n"
   ]
  },
  {
   "cell_type": "code",
   "execution_count": 274,
   "metadata": {},
   "outputs": [
    {
     "output_type": "execute_result",
     "data": {
      "text/plain": "     iso_code      continent   location        date  total_cases  new_cases  \\\n1105      ARG  South America  Argentina  2020-02-11          NaN        NaN   \n1106      ARG  South America  Argentina  2020-02-12          NaN        NaN   \n1107      ARG  South America  Argentina  2020-02-13          NaN        NaN   \n1108      ARG  South America  Argentina  2020-02-14          NaN        NaN   \n1109      ARG  South America  Argentina  2020-02-15          NaN        NaN   \n...       ...            ...        ...         ...          ...        ...   \n1274      ARG  South America  Argentina  2020-07-29     167403.0     4890.0   \n1275      ARG  South America  Argentina  2020-07-30     173342.0     5939.0   \n1276      ARG  South America  Argentina  2020-07-31     178983.0     5641.0   \n1277      ARG  South America  Argentina  2020-08-01     185360.0     6377.0   \n1278      ARG  South America  Argentina  2020-08-02     191289.0     5929.0   \n\n      total_deaths  new_deaths  total_cases_per_million  \\\n1105           NaN         NaN                      NaN   \n1106           NaN         NaN                      NaN   \n1107           NaN         NaN                      NaN   \n1108           NaN         NaN                      NaN   \n1109           NaN         NaN                      NaN   \n...            ...         ...                      ...   \n1274        3082.0       126.0                 3703.952   \n1275        3200.0       118.0                 3835.358   \n1276        3311.0       111.0                 3960.171   \n1277        3466.0       155.0                 4101.268   \n1278        3558.0        92.0                 4232.453   \n\n      new_cases_per_million  ...  aged_70_older  gdp_per_capita  \\\n1105                    NaN  ...          7.441       18933.907   \n1106                    NaN  ...          7.441       18933.907   \n1107                    NaN  ...          7.441       18933.907   \n1108                    NaN  ...          7.441       18933.907   \n1109                    NaN  ...          7.441       18933.907   \n...                     ...  ...            ...             ...   \n1274                108.196  ...          7.441       18933.907   \n1275                131.406  ...          7.441       18933.907   \n1276                124.813  ...          7.441       18933.907   \n1277                141.097  ...          7.441       18933.907   \n1278                131.185  ...          7.441       18933.907   \n\n      extreme_poverty  cardiovasc_death_rate  diabetes_prevalence  \\\n1105              0.6                191.032                  5.5   \n1106              0.6                191.032                  5.5   \n1107              0.6                191.032                  5.5   \n1108              0.6                191.032                  5.5   \n1109              0.6                191.032                  5.5   \n...               ...                    ...                  ...   \n1274              0.6                191.032                  5.5   \n1275              0.6                191.032                  5.5   \n1276              0.6                191.032                  5.5   \n1277              0.6                191.032                  5.5   \n1278              0.6                191.032                  5.5   \n\n      female_smokers  male_smokers  handwashing_facilities  \\\n1105            16.2          27.7                     NaN   \n1106            16.2          27.7                     NaN   \n1107            16.2          27.7                     NaN   \n1108            16.2          27.7                     NaN   \n1109            16.2          27.7                     NaN   \n...              ...           ...                     ...   \n1274            16.2          27.7                     NaN   \n1275            16.2          27.7                     NaN   \n1276            16.2          27.7                     NaN   \n1277            16.2          27.7                     NaN   \n1278            16.2          27.7                     NaN   \n\n     hospital_beds_per_thousand  life_expectancy  \n1105                        5.0            76.67  \n1106                        5.0            76.67  \n1107                        5.0            76.67  \n1108                        5.0            76.67  \n1109                        5.0            76.67  \n...                         ...              ...  \n1274                        5.0            76.67  \n1275                        5.0            76.67  \n1276                        5.0            76.67  \n1277                        5.0            76.67  \n1278                        5.0            76.67  \n\n[174 rows x 34 columns]",
      "text/html": "<div>\n<style scoped>\n    .dataframe tbody tr th:only-of-type {\n        vertical-align: middle;\n    }\n\n    .dataframe tbody tr th {\n        vertical-align: top;\n    }\n\n    .dataframe thead th {\n        text-align: right;\n    }\n</style>\n<table border=\"1\" class=\"dataframe\">\n  <thead>\n    <tr style=\"text-align: right;\">\n      <th></th>\n      <th>iso_code</th>\n      <th>continent</th>\n      <th>location</th>\n      <th>date</th>\n      <th>total_cases</th>\n      <th>new_cases</th>\n      <th>total_deaths</th>\n      <th>new_deaths</th>\n      <th>total_cases_per_million</th>\n      <th>new_cases_per_million</th>\n      <th>...</th>\n      <th>aged_70_older</th>\n      <th>gdp_per_capita</th>\n      <th>extreme_poverty</th>\n      <th>cardiovasc_death_rate</th>\n      <th>diabetes_prevalence</th>\n      <th>female_smokers</th>\n      <th>male_smokers</th>\n      <th>handwashing_facilities</th>\n      <th>hospital_beds_per_thousand</th>\n      <th>life_expectancy</th>\n    </tr>\n  </thead>\n  <tbody>\n    <tr>\n      <th>1105</th>\n      <td>ARG</td>\n      <td>South America</td>\n      <td>Argentina</td>\n      <td>2020-02-11</td>\n      <td>NaN</td>\n      <td>NaN</td>\n      <td>NaN</td>\n      <td>NaN</td>\n      <td>NaN</td>\n      <td>NaN</td>\n      <td>...</td>\n      <td>7.441</td>\n      <td>18933.907</td>\n      <td>0.6</td>\n      <td>191.032</td>\n      <td>5.5</td>\n      <td>16.2</td>\n      <td>27.7</td>\n      <td>NaN</td>\n      <td>5.0</td>\n      <td>76.67</td>\n    </tr>\n    <tr>\n      <th>1106</th>\n      <td>ARG</td>\n      <td>South America</td>\n      <td>Argentina</td>\n      <td>2020-02-12</td>\n      <td>NaN</td>\n      <td>NaN</td>\n      <td>NaN</td>\n      <td>NaN</td>\n      <td>NaN</td>\n      <td>NaN</td>\n      <td>...</td>\n      <td>7.441</td>\n      <td>18933.907</td>\n      <td>0.6</td>\n      <td>191.032</td>\n      <td>5.5</td>\n      <td>16.2</td>\n      <td>27.7</td>\n      <td>NaN</td>\n      <td>5.0</td>\n      <td>76.67</td>\n    </tr>\n    <tr>\n      <th>1107</th>\n      <td>ARG</td>\n      <td>South America</td>\n      <td>Argentina</td>\n      <td>2020-02-13</td>\n      <td>NaN</td>\n      <td>NaN</td>\n      <td>NaN</td>\n      <td>NaN</td>\n      <td>NaN</td>\n      <td>NaN</td>\n      <td>...</td>\n      <td>7.441</td>\n      <td>18933.907</td>\n      <td>0.6</td>\n      <td>191.032</td>\n      <td>5.5</td>\n      <td>16.2</td>\n      <td>27.7</td>\n      <td>NaN</td>\n      <td>5.0</td>\n      <td>76.67</td>\n    </tr>\n    <tr>\n      <th>1108</th>\n      <td>ARG</td>\n      <td>South America</td>\n      <td>Argentina</td>\n      <td>2020-02-14</td>\n      <td>NaN</td>\n      <td>NaN</td>\n      <td>NaN</td>\n      <td>NaN</td>\n      <td>NaN</td>\n      <td>NaN</td>\n      <td>...</td>\n      <td>7.441</td>\n      <td>18933.907</td>\n      <td>0.6</td>\n      <td>191.032</td>\n      <td>5.5</td>\n      <td>16.2</td>\n      <td>27.7</td>\n      <td>NaN</td>\n      <td>5.0</td>\n      <td>76.67</td>\n    </tr>\n    <tr>\n      <th>1109</th>\n      <td>ARG</td>\n      <td>South America</td>\n      <td>Argentina</td>\n      <td>2020-02-15</td>\n      <td>NaN</td>\n      <td>NaN</td>\n      <td>NaN</td>\n      <td>NaN</td>\n      <td>NaN</td>\n      <td>NaN</td>\n      <td>...</td>\n      <td>7.441</td>\n      <td>18933.907</td>\n      <td>0.6</td>\n      <td>191.032</td>\n      <td>5.5</td>\n      <td>16.2</td>\n      <td>27.7</td>\n      <td>NaN</td>\n      <td>5.0</td>\n      <td>76.67</td>\n    </tr>\n    <tr>\n      <th>...</th>\n      <td>...</td>\n      <td>...</td>\n      <td>...</td>\n      <td>...</td>\n      <td>...</td>\n      <td>...</td>\n      <td>...</td>\n      <td>...</td>\n      <td>...</td>\n      <td>...</td>\n      <td>...</td>\n      <td>...</td>\n      <td>...</td>\n      <td>...</td>\n      <td>...</td>\n      <td>...</td>\n      <td>...</td>\n      <td>...</td>\n      <td>...</td>\n      <td>...</td>\n      <td>...</td>\n    </tr>\n    <tr>\n      <th>1274</th>\n      <td>ARG</td>\n      <td>South America</td>\n      <td>Argentina</td>\n      <td>2020-07-29</td>\n      <td>167403.0</td>\n      <td>4890.0</td>\n      <td>3082.0</td>\n      <td>126.0</td>\n      <td>3703.952</td>\n      <td>108.196</td>\n      <td>...</td>\n      <td>7.441</td>\n      <td>18933.907</td>\n      <td>0.6</td>\n      <td>191.032</td>\n      <td>5.5</td>\n      <td>16.2</td>\n      <td>27.7</td>\n      <td>NaN</td>\n      <td>5.0</td>\n      <td>76.67</td>\n    </tr>\n    <tr>\n      <th>1275</th>\n      <td>ARG</td>\n      <td>South America</td>\n      <td>Argentina</td>\n      <td>2020-07-30</td>\n      <td>173342.0</td>\n      <td>5939.0</td>\n      <td>3200.0</td>\n      <td>118.0</td>\n      <td>3835.358</td>\n      <td>131.406</td>\n      <td>...</td>\n      <td>7.441</td>\n      <td>18933.907</td>\n      <td>0.6</td>\n      <td>191.032</td>\n      <td>5.5</td>\n      <td>16.2</td>\n      <td>27.7</td>\n      <td>NaN</td>\n      <td>5.0</td>\n      <td>76.67</td>\n    </tr>\n    <tr>\n      <th>1276</th>\n      <td>ARG</td>\n      <td>South America</td>\n      <td>Argentina</td>\n      <td>2020-07-31</td>\n      <td>178983.0</td>\n      <td>5641.0</td>\n      <td>3311.0</td>\n      <td>111.0</td>\n      <td>3960.171</td>\n      <td>124.813</td>\n      <td>...</td>\n      <td>7.441</td>\n      <td>18933.907</td>\n      <td>0.6</td>\n      <td>191.032</td>\n      <td>5.5</td>\n      <td>16.2</td>\n      <td>27.7</td>\n      <td>NaN</td>\n      <td>5.0</td>\n      <td>76.67</td>\n    </tr>\n    <tr>\n      <th>1277</th>\n      <td>ARG</td>\n      <td>South America</td>\n      <td>Argentina</td>\n      <td>2020-08-01</td>\n      <td>185360.0</td>\n      <td>6377.0</td>\n      <td>3466.0</td>\n      <td>155.0</td>\n      <td>4101.268</td>\n      <td>141.097</td>\n      <td>...</td>\n      <td>7.441</td>\n      <td>18933.907</td>\n      <td>0.6</td>\n      <td>191.032</td>\n      <td>5.5</td>\n      <td>16.2</td>\n      <td>27.7</td>\n      <td>NaN</td>\n      <td>5.0</td>\n      <td>76.67</td>\n    </tr>\n    <tr>\n      <th>1278</th>\n      <td>ARG</td>\n      <td>South America</td>\n      <td>Argentina</td>\n      <td>2020-08-02</td>\n      <td>191289.0</td>\n      <td>5929.0</td>\n      <td>3558.0</td>\n      <td>92.0</td>\n      <td>4232.453</td>\n      <td>131.185</td>\n      <td>...</td>\n      <td>7.441</td>\n      <td>18933.907</td>\n      <td>0.6</td>\n      <td>191.032</td>\n      <td>5.5</td>\n      <td>16.2</td>\n      <td>27.7</td>\n      <td>NaN</td>\n      <td>5.0</td>\n      <td>76.67</td>\n    </tr>\n  </tbody>\n</table>\n<p>174 rows × 34 columns</p>\n</div>"
     },
     "metadata": {},
     "execution_count": 274
    }
   ],
   "source": [
    "df666 = covid1[covid1['location']=='Argentina']         #@Natalio666Altube\n",
    "df666"
   ]
  },
  {
   "cell_type": "code",
   "execution_count": 275,
   "metadata": {},
   "outputs": [],
   "source": [
    "df6 = df666.dropna(subset=['new_cases'],axis=0, inplace=True)   #@Natalio666Altube"
   ]
  },
  {
   "cell_type": "code",
   "execution_count": 276,
   "metadata": {},
   "outputs": [
    {
     "output_type": "execute_result",
     "data": {
      "text/plain": "     iso_code      continent   location        date  total_cases  new_cases  \\\n1127      ARG  South America  Argentina  2020-03-04          1.0        1.0   \n1129      ARG  South America  Argentina  2020-03-06          2.0        1.0   \n1130      ARG  South America  Argentina  2020-03-07          8.0        6.0   \n1131      ARG  South America  Argentina  2020-03-08          9.0        1.0   \n1132      ARG  South America  Argentina  2020-03-09         12.0        3.0   \n...       ...            ...        ...         ...          ...        ...   \n1274      ARG  South America  Argentina  2020-07-29     167403.0     4890.0   \n1275      ARG  South America  Argentina  2020-07-30     173342.0     5939.0   \n1276      ARG  South America  Argentina  2020-07-31     178983.0     5641.0   \n1277      ARG  South America  Argentina  2020-08-01     185360.0     6377.0   \n1278      ARG  South America  Argentina  2020-08-02     191289.0     5929.0   \n\n      total_deaths  new_deaths  total_cases_per_million  \\\n1127           0.0         0.0                    0.022   \n1129           0.0         0.0                    0.044   \n1130           0.0         0.0                    0.177   \n1131           1.0         1.0                    0.199   \n1132           1.0         0.0                    0.266   \n...            ...         ...                      ...   \n1274        3082.0       126.0                 3703.952   \n1275        3200.0       118.0                 3835.358   \n1276        3311.0       111.0                 3960.171   \n1277        3466.0       155.0                 4101.268   \n1278        3558.0        92.0                 4232.453   \n\n      new_cases_per_million  ...  aged_70_older  gdp_per_capita  \\\n1127                  0.022  ...          7.441       18933.907   \n1129                  0.022  ...          7.441       18933.907   \n1130                  0.133  ...          7.441       18933.907   \n1131                  0.022  ...          7.441       18933.907   \n1132                  0.066  ...          7.441       18933.907   \n...                     ...  ...            ...             ...   \n1274                108.196  ...          7.441       18933.907   \n1275                131.406  ...          7.441       18933.907   \n1276                124.813  ...          7.441       18933.907   \n1277                141.097  ...          7.441       18933.907   \n1278                131.185  ...          7.441       18933.907   \n\n      extreme_poverty  cardiovasc_death_rate  diabetes_prevalence  \\\n1127              0.6                191.032                  5.5   \n1129              0.6                191.032                  5.5   \n1130              0.6                191.032                  5.5   \n1131              0.6                191.032                  5.5   \n1132              0.6                191.032                  5.5   \n...               ...                    ...                  ...   \n1274              0.6                191.032                  5.5   \n1275              0.6                191.032                  5.5   \n1276              0.6                191.032                  5.5   \n1277              0.6                191.032                  5.5   \n1278              0.6                191.032                  5.5   \n\n      female_smokers  male_smokers  handwashing_facilities  \\\n1127            16.2          27.7                     NaN   \n1129            16.2          27.7                     NaN   \n1130            16.2          27.7                     NaN   \n1131            16.2          27.7                     NaN   \n1132            16.2          27.7                     NaN   \n...              ...           ...                     ...   \n1274            16.2          27.7                     NaN   \n1275            16.2          27.7                     NaN   \n1276            16.2          27.7                     NaN   \n1277            16.2          27.7                     NaN   \n1278            16.2          27.7                     NaN   \n\n     hospital_beds_per_thousand  life_expectancy  \n1127                        5.0            76.67  \n1129                        5.0            76.67  \n1130                        5.0            76.67  \n1131                        5.0            76.67  \n1132                        5.0            76.67  \n...                         ...              ...  \n1274                        5.0            76.67  \n1275                        5.0            76.67  \n1276                        5.0            76.67  \n1277                        5.0            76.67  \n1278                        5.0            76.67  \n\n[149 rows x 34 columns]",
      "text/html": "<div>\n<style scoped>\n    .dataframe tbody tr th:only-of-type {\n        vertical-align: middle;\n    }\n\n    .dataframe tbody tr th {\n        vertical-align: top;\n    }\n\n    .dataframe thead th {\n        text-align: right;\n    }\n</style>\n<table border=\"1\" class=\"dataframe\">\n  <thead>\n    <tr style=\"text-align: right;\">\n      <th></th>\n      <th>iso_code</th>\n      <th>continent</th>\n      <th>location</th>\n      <th>date</th>\n      <th>total_cases</th>\n      <th>new_cases</th>\n      <th>total_deaths</th>\n      <th>new_deaths</th>\n      <th>total_cases_per_million</th>\n      <th>new_cases_per_million</th>\n      <th>...</th>\n      <th>aged_70_older</th>\n      <th>gdp_per_capita</th>\n      <th>extreme_poverty</th>\n      <th>cardiovasc_death_rate</th>\n      <th>diabetes_prevalence</th>\n      <th>female_smokers</th>\n      <th>male_smokers</th>\n      <th>handwashing_facilities</th>\n      <th>hospital_beds_per_thousand</th>\n      <th>life_expectancy</th>\n    </tr>\n  </thead>\n  <tbody>\n    <tr>\n      <th>1127</th>\n      <td>ARG</td>\n      <td>South America</td>\n      <td>Argentina</td>\n      <td>2020-03-04</td>\n      <td>1.0</td>\n      <td>1.0</td>\n      <td>0.0</td>\n      <td>0.0</td>\n      <td>0.022</td>\n      <td>0.022</td>\n      <td>...</td>\n      <td>7.441</td>\n      <td>18933.907</td>\n      <td>0.6</td>\n      <td>191.032</td>\n      <td>5.5</td>\n      <td>16.2</td>\n      <td>27.7</td>\n      <td>NaN</td>\n      <td>5.0</td>\n      <td>76.67</td>\n    </tr>\n    <tr>\n      <th>1129</th>\n      <td>ARG</td>\n      <td>South America</td>\n      <td>Argentina</td>\n      <td>2020-03-06</td>\n      <td>2.0</td>\n      <td>1.0</td>\n      <td>0.0</td>\n      <td>0.0</td>\n      <td>0.044</td>\n      <td>0.022</td>\n      <td>...</td>\n      <td>7.441</td>\n      <td>18933.907</td>\n      <td>0.6</td>\n      <td>191.032</td>\n      <td>5.5</td>\n      <td>16.2</td>\n      <td>27.7</td>\n      <td>NaN</td>\n      <td>5.0</td>\n      <td>76.67</td>\n    </tr>\n    <tr>\n      <th>1130</th>\n      <td>ARG</td>\n      <td>South America</td>\n      <td>Argentina</td>\n      <td>2020-03-07</td>\n      <td>8.0</td>\n      <td>6.0</td>\n      <td>0.0</td>\n      <td>0.0</td>\n      <td>0.177</td>\n      <td>0.133</td>\n      <td>...</td>\n      <td>7.441</td>\n      <td>18933.907</td>\n      <td>0.6</td>\n      <td>191.032</td>\n      <td>5.5</td>\n      <td>16.2</td>\n      <td>27.7</td>\n      <td>NaN</td>\n      <td>5.0</td>\n      <td>76.67</td>\n    </tr>\n    <tr>\n      <th>1131</th>\n      <td>ARG</td>\n      <td>South America</td>\n      <td>Argentina</td>\n      <td>2020-03-08</td>\n      <td>9.0</td>\n      <td>1.0</td>\n      <td>1.0</td>\n      <td>1.0</td>\n      <td>0.199</td>\n      <td>0.022</td>\n      <td>...</td>\n      <td>7.441</td>\n      <td>18933.907</td>\n      <td>0.6</td>\n      <td>191.032</td>\n      <td>5.5</td>\n      <td>16.2</td>\n      <td>27.7</td>\n      <td>NaN</td>\n      <td>5.0</td>\n      <td>76.67</td>\n    </tr>\n    <tr>\n      <th>1132</th>\n      <td>ARG</td>\n      <td>South America</td>\n      <td>Argentina</td>\n      <td>2020-03-09</td>\n      <td>12.0</td>\n      <td>3.0</td>\n      <td>1.0</td>\n      <td>0.0</td>\n      <td>0.266</td>\n      <td>0.066</td>\n      <td>...</td>\n      <td>7.441</td>\n      <td>18933.907</td>\n      <td>0.6</td>\n      <td>191.032</td>\n      <td>5.5</td>\n      <td>16.2</td>\n      <td>27.7</td>\n      <td>NaN</td>\n      <td>5.0</td>\n      <td>76.67</td>\n    </tr>\n    <tr>\n      <th>...</th>\n      <td>...</td>\n      <td>...</td>\n      <td>...</td>\n      <td>...</td>\n      <td>...</td>\n      <td>...</td>\n      <td>...</td>\n      <td>...</td>\n      <td>...</td>\n      <td>...</td>\n      <td>...</td>\n      <td>...</td>\n      <td>...</td>\n      <td>...</td>\n      <td>...</td>\n      <td>...</td>\n      <td>...</td>\n      <td>...</td>\n      <td>...</td>\n      <td>...</td>\n      <td>...</td>\n    </tr>\n    <tr>\n      <th>1274</th>\n      <td>ARG</td>\n      <td>South America</td>\n      <td>Argentina</td>\n      <td>2020-07-29</td>\n      <td>167403.0</td>\n      <td>4890.0</td>\n      <td>3082.0</td>\n      <td>126.0</td>\n      <td>3703.952</td>\n      <td>108.196</td>\n      <td>...</td>\n      <td>7.441</td>\n      <td>18933.907</td>\n      <td>0.6</td>\n      <td>191.032</td>\n      <td>5.5</td>\n      <td>16.2</td>\n      <td>27.7</td>\n      <td>NaN</td>\n      <td>5.0</td>\n      <td>76.67</td>\n    </tr>\n    <tr>\n      <th>1275</th>\n      <td>ARG</td>\n      <td>South America</td>\n      <td>Argentina</td>\n      <td>2020-07-30</td>\n      <td>173342.0</td>\n      <td>5939.0</td>\n      <td>3200.0</td>\n      <td>118.0</td>\n      <td>3835.358</td>\n      <td>131.406</td>\n      <td>...</td>\n      <td>7.441</td>\n      <td>18933.907</td>\n      <td>0.6</td>\n      <td>191.032</td>\n      <td>5.5</td>\n      <td>16.2</td>\n      <td>27.7</td>\n      <td>NaN</td>\n      <td>5.0</td>\n      <td>76.67</td>\n    </tr>\n    <tr>\n      <th>1276</th>\n      <td>ARG</td>\n      <td>South America</td>\n      <td>Argentina</td>\n      <td>2020-07-31</td>\n      <td>178983.0</td>\n      <td>5641.0</td>\n      <td>3311.0</td>\n      <td>111.0</td>\n      <td>3960.171</td>\n      <td>124.813</td>\n      <td>...</td>\n      <td>7.441</td>\n      <td>18933.907</td>\n      <td>0.6</td>\n      <td>191.032</td>\n      <td>5.5</td>\n      <td>16.2</td>\n      <td>27.7</td>\n      <td>NaN</td>\n      <td>5.0</td>\n      <td>76.67</td>\n    </tr>\n    <tr>\n      <th>1277</th>\n      <td>ARG</td>\n      <td>South America</td>\n      <td>Argentina</td>\n      <td>2020-08-01</td>\n      <td>185360.0</td>\n      <td>6377.0</td>\n      <td>3466.0</td>\n      <td>155.0</td>\n      <td>4101.268</td>\n      <td>141.097</td>\n      <td>...</td>\n      <td>7.441</td>\n      <td>18933.907</td>\n      <td>0.6</td>\n      <td>191.032</td>\n      <td>5.5</td>\n      <td>16.2</td>\n      <td>27.7</td>\n      <td>NaN</td>\n      <td>5.0</td>\n      <td>76.67</td>\n    </tr>\n    <tr>\n      <th>1278</th>\n      <td>ARG</td>\n      <td>South America</td>\n      <td>Argentina</td>\n      <td>2020-08-02</td>\n      <td>191289.0</td>\n      <td>5929.0</td>\n      <td>3558.0</td>\n      <td>92.0</td>\n      <td>4232.453</td>\n      <td>131.185</td>\n      <td>...</td>\n      <td>7.441</td>\n      <td>18933.907</td>\n      <td>0.6</td>\n      <td>191.032</td>\n      <td>5.5</td>\n      <td>16.2</td>\n      <td>27.7</td>\n      <td>NaN</td>\n      <td>5.0</td>\n      <td>76.67</td>\n    </tr>\n  </tbody>\n</table>\n<p>149 rows × 34 columns</p>\n</div>"
     },
     "metadata": {},
     "execution_count": 276
    }
   ],
   "source": [
    "df666               #@Natalio666Altube"
   ]
  },
  {
   "cell_type": "code",
   "execution_count": 277,
   "metadata": {},
   "outputs": [],
   "source": [
    "df666 = df666.drop(['iso_code', 'continent', 'total_cases',\n",
    "       'total_deaths', 'new_deaths', 'total_cases_per_million',\n",
    "       'new_cases_per_million', 'total_deaths_per_million',\n",
    "       'new_deaths_per_million', 'new_tests', 'total_tests',\n",
    "       'total_tests_per_thousand', 'new_tests_per_thousand',\n",
    "       'new_tests_smoothed', 'new_tests_smoothed_per_thousand', 'tests_units',\n",
    "       'stringency_index', 'population', 'population_density', 'median_age',\n",
    "       'aged_65_older', 'aged_70_older', 'gdp_per_capita', 'extreme_poverty',\n",
    "       'cardiovasc_death_rate', 'diabetes_prevalence', 'female_smokers',\n",
    "       'male_smokers', 'handwashing_facilities', 'hospital_beds_per_thousand',\n",
    "       'life_expectancy'], axis=1)               #@Natalio666Altube"
   ]
  },
  {
   "cell_type": "code",
   "execution_count": 278,
   "metadata": {},
   "outputs": [
    {
     "output_type": "execute_result",
     "data": {
      "text/plain": "       location        date  new_cases\n1127  Argentina  2020-03-04        1.0\n1129  Argentina  2020-03-06        1.0\n1130  Argentina  2020-03-07        6.0\n1131  Argentina  2020-03-08        1.0\n1132  Argentina  2020-03-09        3.0\n...         ...         ...        ...\n1274  Argentina  2020-07-29     4890.0\n1275  Argentina  2020-07-30     5939.0\n1276  Argentina  2020-07-31     5641.0\n1277  Argentina  2020-08-01     6377.0\n1278  Argentina  2020-08-02     5929.0\n\n[149 rows x 3 columns]",
      "text/html": "<div>\n<style scoped>\n    .dataframe tbody tr th:only-of-type {\n        vertical-align: middle;\n    }\n\n    .dataframe tbody tr th {\n        vertical-align: top;\n    }\n\n    .dataframe thead th {\n        text-align: right;\n    }\n</style>\n<table border=\"1\" class=\"dataframe\">\n  <thead>\n    <tr style=\"text-align: right;\">\n      <th></th>\n      <th>location</th>\n      <th>date</th>\n      <th>new_cases</th>\n    </tr>\n  </thead>\n  <tbody>\n    <tr>\n      <th>1127</th>\n      <td>Argentina</td>\n      <td>2020-03-04</td>\n      <td>1.0</td>\n    </tr>\n    <tr>\n      <th>1129</th>\n      <td>Argentina</td>\n      <td>2020-03-06</td>\n      <td>1.0</td>\n    </tr>\n    <tr>\n      <th>1130</th>\n      <td>Argentina</td>\n      <td>2020-03-07</td>\n      <td>6.0</td>\n    </tr>\n    <tr>\n      <th>1131</th>\n      <td>Argentina</td>\n      <td>2020-03-08</td>\n      <td>1.0</td>\n    </tr>\n    <tr>\n      <th>1132</th>\n      <td>Argentina</td>\n      <td>2020-03-09</td>\n      <td>3.0</td>\n    </tr>\n    <tr>\n      <th>...</th>\n      <td>...</td>\n      <td>...</td>\n      <td>...</td>\n    </tr>\n    <tr>\n      <th>1274</th>\n      <td>Argentina</td>\n      <td>2020-07-29</td>\n      <td>4890.0</td>\n    </tr>\n    <tr>\n      <th>1275</th>\n      <td>Argentina</td>\n      <td>2020-07-30</td>\n      <td>5939.0</td>\n    </tr>\n    <tr>\n      <th>1276</th>\n      <td>Argentina</td>\n      <td>2020-07-31</td>\n      <td>5641.0</td>\n    </tr>\n    <tr>\n      <th>1277</th>\n      <td>Argentina</td>\n      <td>2020-08-01</td>\n      <td>6377.0</td>\n    </tr>\n    <tr>\n      <th>1278</th>\n      <td>Argentina</td>\n      <td>2020-08-02</td>\n      <td>5929.0</td>\n    </tr>\n  </tbody>\n</table>\n<p>149 rows × 3 columns</p>\n</div>"
     },
     "metadata": {},
     "execution_count": 278
    }
   ],
   "source": [
    "df666       #@Natalio666Altube"
   ]
  },
  {
   "cell_type": "code",
   "execution_count": 279,
   "metadata": {},
   "outputs": [
    {
     "output_type": "execute_result",
     "data": {
      "text/plain": "            new_cases\ndate                 \n2020-03-04        1.0\n2020-03-06        1.0\n2020-03-07        6.0\n2020-03-08        1.0\n2020-03-09        3.0\n...               ...\n2020-07-29     4890.0\n2020-07-30     5939.0\n2020-07-31     5641.0\n2020-08-01     6377.0\n2020-08-02     5929.0\n\n[149 rows x 1 columns]",
      "text/html": "<div>\n<style scoped>\n    .dataframe tbody tr th:only-of-type {\n        vertical-align: middle;\n    }\n\n    .dataframe tbody tr th {\n        vertical-align: top;\n    }\n\n    .dataframe thead th {\n        text-align: right;\n    }\n</style>\n<table border=\"1\" class=\"dataframe\">\n  <thead>\n    <tr style=\"text-align: right;\">\n      <th></th>\n      <th>new_cases</th>\n    </tr>\n    <tr>\n      <th>date</th>\n      <th></th>\n    </tr>\n  </thead>\n  <tbody>\n    <tr>\n      <th>2020-03-04</th>\n      <td>1.0</td>\n    </tr>\n    <tr>\n      <th>2020-03-06</th>\n      <td>1.0</td>\n    </tr>\n    <tr>\n      <th>2020-03-07</th>\n      <td>6.0</td>\n    </tr>\n    <tr>\n      <th>2020-03-08</th>\n      <td>1.0</td>\n    </tr>\n    <tr>\n      <th>2020-03-09</th>\n      <td>3.0</td>\n    </tr>\n    <tr>\n      <th>...</th>\n      <td>...</td>\n    </tr>\n    <tr>\n      <th>2020-07-29</th>\n      <td>4890.0</td>\n    </tr>\n    <tr>\n      <th>2020-07-30</th>\n      <td>5939.0</td>\n    </tr>\n    <tr>\n      <th>2020-07-31</th>\n      <td>5641.0</td>\n    </tr>\n    <tr>\n      <th>2020-08-01</th>\n      <td>6377.0</td>\n    </tr>\n    <tr>\n      <th>2020-08-02</th>\n      <td>5929.0</td>\n    </tr>\n  </tbody>\n</table>\n<p>149 rows × 1 columns</p>\n</div>"
     },
     "metadata": {},
     "execution_count": 279
    }
   ],
   "source": [
    "df666.groupby('date').mean()            #@Natalio666Altube"
   ]
  },
  {
   "cell_type": "code",
   "execution_count": 280,
   "metadata": {},
   "outputs": [],
   "source": [
    "df666.rename(columns={'new_cases': 'E_average'},inplace=True)           #@Natalio666Altube\n"
   ]
  },
  {
   "cell_type": "code",
   "execution_count": 281,
   "metadata": {},
   "outputs": [
    {
     "output_type": "display_data",
     "data": {
      "application/vnd.plotly.v1+json": {
       "config": {
        "plotlyServerURL": "https://plot.ly"
       },
       "data": [
        {
         "mode": "lines",
         "type": "scatter",
         "x": [
          "2020-03-04",
          "2020-03-06",
          "2020-03-07",
          "2020-03-08",
          "2020-03-09",
          "2020-03-11",
          "2020-03-13",
          "2020-03-14",
          "2020-03-15",
          "2020-03-16",
          "2020-03-17",
          "2020-03-18",
          "2020-03-19",
          "2020-03-20",
          "2020-03-21",
          "2020-03-22",
          "2020-03-23",
          "2020-03-24",
          "2020-03-25",
          "2020-03-26",
          "2020-03-27",
          "2020-03-28",
          "2020-03-29",
          "2020-03-30",
          "2020-03-31",
          "2020-04-01",
          "2020-04-02",
          "2020-04-03",
          "2020-04-04",
          "2020-04-05",
          "2020-04-06",
          "2020-04-07",
          "2020-04-08",
          "2020-04-09",
          "2020-04-10",
          "2020-04-11",
          "2020-04-12",
          "2020-04-13",
          "2020-04-14",
          "2020-04-15",
          "2020-04-16",
          "2020-04-17",
          "2020-04-18",
          "2020-04-19",
          "2020-04-20",
          "2020-04-21",
          "2020-04-22",
          "2020-04-23",
          "2020-04-24",
          "2020-04-25",
          "2020-04-26",
          "2020-04-27",
          "2020-04-28",
          "2020-04-29",
          "2020-04-30",
          "2020-05-01",
          "2020-05-02",
          "2020-05-03",
          "2020-05-04",
          "2020-05-05",
          "2020-05-06",
          "2020-05-07",
          "2020-05-08",
          "2020-05-09",
          "2020-05-10",
          "2020-05-11",
          "2020-05-12",
          "2020-05-13",
          "2020-05-14",
          "2020-05-15",
          "2020-05-16",
          "2020-05-17",
          "2020-05-18",
          "2020-05-19",
          "2020-05-20",
          "2020-05-21",
          "2020-05-22",
          "2020-05-23",
          "2020-05-24",
          "2020-05-25",
          "2020-05-26",
          "2020-05-27",
          "2020-05-28",
          "2020-05-29",
          "2020-05-30",
          "2020-05-31",
          "2020-06-01",
          "2020-06-02",
          "2020-06-03",
          "2020-06-04",
          "2020-06-05",
          "2020-06-06",
          "2020-06-07",
          "2020-06-08",
          "2020-06-09",
          "2020-06-10",
          "2020-06-11",
          "2020-06-12",
          "2020-06-13",
          "2020-06-14",
          "2020-06-15",
          "2020-06-16",
          "2020-06-17",
          "2020-06-18",
          "2020-06-19",
          "2020-06-20",
          "2020-06-21",
          "2020-06-22",
          "2020-06-23",
          "2020-06-24",
          "2020-06-25",
          "2020-06-26",
          "2020-06-27",
          "2020-06-28",
          "2020-06-29",
          "2020-06-30",
          "2020-07-01",
          "2020-07-02",
          "2020-07-03",
          "2020-07-04",
          "2020-07-05",
          "2020-07-06",
          "2020-07-07",
          "2020-07-08",
          "2020-07-09",
          "2020-07-10",
          "2020-07-11",
          "2020-07-12",
          "2020-07-13",
          "2020-07-14",
          "2020-07-15",
          "2020-07-16",
          "2020-07-17",
          "2020-07-18",
          "2020-07-19",
          "2020-07-20",
          "2020-07-21",
          "2020-07-22",
          "2020-07-23",
          "2020-07-24",
          "2020-07-25",
          "2020-07-26",
          "2020-07-27",
          "2020-07-28",
          "2020-07-29",
          "2020-07-30",
          "2020-07-31",
          "2020-08-01",
          "2020-08-02"
         ],
         "y": [
          1,
          1,
          6,
          1,
          3,
          7,
          12,
          3,
          11,
          11,
          9,
          14,
          18,
          31,
          30,
          67,
          41,
          35,
          86,
          115,
          87,
          101,
          55,
          75,
          146,
          0,
          167,
          0,
          132,
          186,
          103,
          74,
          87,
          80,
          99,
          81,
          162,
          66,
          69,
          160,
          0,
          128,
          98,
          170,
          102,
          90,
          112,
          144,
          147,
          0,
          344,
          0,
          223,
          124,
          158,
          143,
          104,
          149,
          102,
          104,
          133,
          188,
          163,
          240,
          165,
          13,
          245,
          529,
          316,
          255,
          345,
          326,
          0,
          566,
          438,
          474,
          648,
          718,
          704,
          723,
          552,
          600,
          705,
          769,
          717,
          795,
          637,
          564,
          904,
          949,
          0,
          1769,
          983,
          774,
          826,
          1141,
          1239,
          1373,
          1391,
          1531,
          1282,
          1208,
          1374,
          1393,
          0,
          4018,
          1634,
          1581,
          2146,
          0,
          4920,
          2606,
          0,
          5287,
          0,
          4524,
          2262,
          2667,
          2744,
          2845,
          0,
          2590,
          2439,
          2632,
          2979,
          3604,
          3663,
          3367,
          3449,
          2657,
          3099,
          3645,
          4250,
          3623,
          4518,
          3223,
          4231,
          4019,
          5344,
          5782,
          6127,
          5493,
          9006,
          0,
          4890,
          5939,
          5641,
          6377,
          5929
         ]
        }
       ],
       "layout": {
        "template": {
         "data": {
          "bar": [
           {
            "error_x": {
             "color": "#2a3f5f"
            },
            "error_y": {
             "color": "#2a3f5f"
            },
            "marker": {
             "line": {
              "color": "#E5ECF6",
              "width": 0.5
             }
            },
            "type": "bar"
           }
          ],
          "barpolar": [
           {
            "marker": {
             "line": {
              "color": "#E5ECF6",
              "width": 0.5
             }
            },
            "type": "barpolar"
           }
          ],
          "carpet": [
           {
            "aaxis": {
             "endlinecolor": "#2a3f5f",
             "gridcolor": "white",
             "linecolor": "white",
             "minorgridcolor": "white",
             "startlinecolor": "#2a3f5f"
            },
            "baxis": {
             "endlinecolor": "#2a3f5f",
             "gridcolor": "white",
             "linecolor": "white",
             "minorgridcolor": "white",
             "startlinecolor": "#2a3f5f"
            },
            "type": "carpet"
           }
          ],
          "choropleth": [
           {
            "colorbar": {
             "outlinewidth": 0,
             "ticks": ""
            },
            "type": "choropleth"
           }
          ],
          "contour": [
           {
            "colorbar": {
             "outlinewidth": 0,
             "ticks": ""
            },
            "colorscale": [
             [
              0,
              "#0d0887"
             ],
             [
              0.1111111111111111,
              "#46039f"
             ],
             [
              0.2222222222222222,
              "#7201a8"
             ],
             [
              0.3333333333333333,
              "#9c179e"
             ],
             [
              0.4444444444444444,
              "#bd3786"
             ],
             [
              0.5555555555555556,
              "#d8576b"
             ],
             [
              0.6666666666666666,
              "#ed7953"
             ],
             [
              0.7777777777777778,
              "#fb9f3a"
             ],
             [
              0.8888888888888888,
              "#fdca26"
             ],
             [
              1,
              "#f0f921"
             ]
            ],
            "type": "contour"
           }
          ],
          "contourcarpet": [
           {
            "colorbar": {
             "outlinewidth": 0,
             "ticks": ""
            },
            "type": "contourcarpet"
           }
          ],
          "heatmap": [
           {
            "colorbar": {
             "outlinewidth": 0,
             "ticks": ""
            },
            "colorscale": [
             [
              0,
              "#0d0887"
             ],
             [
              0.1111111111111111,
              "#46039f"
             ],
             [
              0.2222222222222222,
              "#7201a8"
             ],
             [
              0.3333333333333333,
              "#9c179e"
             ],
             [
              0.4444444444444444,
              "#bd3786"
             ],
             [
              0.5555555555555556,
              "#d8576b"
             ],
             [
              0.6666666666666666,
              "#ed7953"
             ],
             [
              0.7777777777777778,
              "#fb9f3a"
             ],
             [
              0.8888888888888888,
              "#fdca26"
             ],
             [
              1,
              "#f0f921"
             ]
            ],
            "type": "heatmap"
           }
          ],
          "heatmapgl": [
           {
            "colorbar": {
             "outlinewidth": 0,
             "ticks": ""
            },
            "colorscale": [
             [
              0,
              "#0d0887"
             ],
             [
              0.1111111111111111,
              "#46039f"
             ],
             [
              0.2222222222222222,
              "#7201a8"
             ],
             [
              0.3333333333333333,
              "#9c179e"
             ],
             [
              0.4444444444444444,
              "#bd3786"
             ],
             [
              0.5555555555555556,
              "#d8576b"
             ],
             [
              0.6666666666666666,
              "#ed7953"
             ],
             [
              0.7777777777777778,
              "#fb9f3a"
             ],
             [
              0.8888888888888888,
              "#fdca26"
             ],
             [
              1,
              "#f0f921"
             ]
            ],
            "type": "heatmapgl"
           }
          ],
          "histogram": [
           {
            "marker": {
             "colorbar": {
              "outlinewidth": 0,
              "ticks": ""
             }
            },
            "type": "histogram"
           }
          ],
          "histogram2d": [
           {
            "colorbar": {
             "outlinewidth": 0,
             "ticks": ""
            },
            "colorscale": [
             [
              0,
              "#0d0887"
             ],
             [
              0.1111111111111111,
              "#46039f"
             ],
             [
              0.2222222222222222,
              "#7201a8"
             ],
             [
              0.3333333333333333,
              "#9c179e"
             ],
             [
              0.4444444444444444,
              "#bd3786"
             ],
             [
              0.5555555555555556,
              "#d8576b"
             ],
             [
              0.6666666666666666,
              "#ed7953"
             ],
             [
              0.7777777777777778,
              "#fb9f3a"
             ],
             [
              0.8888888888888888,
              "#fdca26"
             ],
             [
              1,
              "#f0f921"
             ]
            ],
            "type": "histogram2d"
           }
          ],
          "histogram2dcontour": [
           {
            "colorbar": {
             "outlinewidth": 0,
             "ticks": ""
            },
            "colorscale": [
             [
              0,
              "#0d0887"
             ],
             [
              0.1111111111111111,
              "#46039f"
             ],
             [
              0.2222222222222222,
              "#7201a8"
             ],
             [
              0.3333333333333333,
              "#9c179e"
             ],
             [
              0.4444444444444444,
              "#bd3786"
             ],
             [
              0.5555555555555556,
              "#d8576b"
             ],
             [
              0.6666666666666666,
              "#ed7953"
             ],
             [
              0.7777777777777778,
              "#fb9f3a"
             ],
             [
              0.8888888888888888,
              "#fdca26"
             ],
             [
              1,
              "#f0f921"
             ]
            ],
            "type": "histogram2dcontour"
           }
          ],
          "mesh3d": [
           {
            "colorbar": {
             "outlinewidth": 0,
             "ticks": ""
            },
            "type": "mesh3d"
           }
          ],
          "parcoords": [
           {
            "line": {
             "colorbar": {
              "outlinewidth": 0,
              "ticks": ""
             }
            },
            "type": "parcoords"
           }
          ],
          "pie": [
           {
            "automargin": true,
            "type": "pie"
           }
          ],
          "scatter": [
           {
            "marker": {
             "colorbar": {
              "outlinewidth": 0,
              "ticks": ""
             }
            },
            "type": "scatter"
           }
          ],
          "scatter3d": [
           {
            "line": {
             "colorbar": {
              "outlinewidth": 0,
              "ticks": ""
             }
            },
            "marker": {
             "colorbar": {
              "outlinewidth": 0,
              "ticks": ""
             }
            },
            "type": "scatter3d"
           }
          ],
          "scattercarpet": [
           {
            "marker": {
             "colorbar": {
              "outlinewidth": 0,
              "ticks": ""
             }
            },
            "type": "scattercarpet"
           }
          ],
          "scattergeo": [
           {
            "marker": {
             "colorbar": {
              "outlinewidth": 0,
              "ticks": ""
             }
            },
            "type": "scattergeo"
           }
          ],
          "scattergl": [
           {
            "marker": {
             "colorbar": {
              "outlinewidth": 0,
              "ticks": ""
             }
            },
            "type": "scattergl"
           }
          ],
          "scattermapbox": [
           {
            "marker": {
             "colorbar": {
              "outlinewidth": 0,
              "ticks": ""
             }
            },
            "type": "scattermapbox"
           }
          ],
          "scatterpolar": [
           {
            "marker": {
             "colorbar": {
              "outlinewidth": 0,
              "ticks": ""
             }
            },
            "type": "scatterpolar"
           }
          ],
          "scatterpolargl": [
           {
            "marker": {
             "colorbar": {
              "outlinewidth": 0,
              "ticks": ""
             }
            },
            "type": "scatterpolargl"
           }
          ],
          "scatterternary": [
           {
            "marker": {
             "colorbar": {
              "outlinewidth": 0,
              "ticks": ""
             }
            },
            "type": "scatterternary"
           }
          ],
          "surface": [
           {
            "colorbar": {
             "outlinewidth": 0,
             "ticks": ""
            },
            "colorscale": [
             [
              0,
              "#0d0887"
             ],
             [
              0.1111111111111111,
              "#46039f"
             ],
             [
              0.2222222222222222,
              "#7201a8"
             ],
             [
              0.3333333333333333,
              "#9c179e"
             ],
             [
              0.4444444444444444,
              "#bd3786"
             ],
             [
              0.5555555555555556,
              "#d8576b"
             ],
             [
              0.6666666666666666,
              "#ed7953"
             ],
             [
              0.7777777777777778,
              "#fb9f3a"
             ],
             [
              0.8888888888888888,
              "#fdca26"
             ],
             [
              1,
              "#f0f921"
             ]
            ],
            "type": "surface"
           }
          ],
          "table": [
           {
            "cells": {
             "fill": {
              "color": "#EBF0F8"
             },
             "line": {
              "color": "white"
             }
            },
            "header": {
             "fill": {
              "color": "#C8D4E3"
             },
             "line": {
              "color": "white"
             }
            },
            "type": "table"
           }
          ]
         },
         "layout": {
          "annotationdefaults": {
           "arrowcolor": "#2a3f5f",
           "arrowhead": 0,
           "arrowwidth": 1
          },
          "coloraxis": {
           "colorbar": {
            "outlinewidth": 0,
            "ticks": ""
           }
          },
          "colorscale": {
           "diverging": [
            [
             0,
             "#8e0152"
            ],
            [
             0.1,
             "#c51b7d"
            ],
            [
             0.2,
             "#de77ae"
            ],
            [
             0.3,
             "#f1b6da"
            ],
            [
             0.4,
             "#fde0ef"
            ],
            [
             0.5,
             "#f7f7f7"
            ],
            [
             0.6,
             "#e6f5d0"
            ],
            [
             0.7,
             "#b8e186"
            ],
            [
             0.8,
             "#7fbc41"
            ],
            [
             0.9,
             "#4d9221"
            ],
            [
             1,
             "#276419"
            ]
           ],
           "sequential": [
            [
             0,
             "#0d0887"
            ],
            [
             0.1111111111111111,
             "#46039f"
            ],
            [
             0.2222222222222222,
             "#7201a8"
            ],
            [
             0.3333333333333333,
             "#9c179e"
            ],
            [
             0.4444444444444444,
             "#bd3786"
            ],
            [
             0.5555555555555556,
             "#d8576b"
            ],
            [
             0.6666666666666666,
             "#ed7953"
            ],
            [
             0.7777777777777778,
             "#fb9f3a"
            ],
            [
             0.8888888888888888,
             "#fdca26"
            ],
            [
             1,
             "#f0f921"
            ]
           ],
           "sequentialminus": [
            [
             0,
             "#0d0887"
            ],
            [
             0.1111111111111111,
             "#46039f"
            ],
            [
             0.2222222222222222,
             "#7201a8"
            ],
            [
             0.3333333333333333,
             "#9c179e"
            ],
            [
             0.4444444444444444,
             "#bd3786"
            ],
            [
             0.5555555555555556,
             "#d8576b"
            ],
            [
             0.6666666666666666,
             "#ed7953"
            ],
            [
             0.7777777777777778,
             "#fb9f3a"
            ],
            [
             0.8888888888888888,
             "#fdca26"
            ],
            [
             1,
             "#f0f921"
            ]
           ]
          },
          "colorway": [
           "#636efa",
           "#EF553B",
           "#00cc96",
           "#ab63fa",
           "#FFA15A",
           "#19d3f3",
           "#FF6692",
           "#B6E880",
           "#FF97FF",
           "#FECB52"
          ],
          "font": {
           "color": "#2a3f5f"
          },
          "geo": {
           "bgcolor": "white",
           "lakecolor": "white",
           "landcolor": "#E5ECF6",
           "showlakes": true,
           "showland": true,
           "subunitcolor": "white"
          },
          "hoverlabel": {
           "align": "left"
          },
          "hovermode": "closest",
          "mapbox": {
           "style": "light"
          },
          "paper_bgcolor": "white",
          "plot_bgcolor": "#E5ECF6",
          "polar": {
           "angularaxis": {
            "gridcolor": "white",
            "linecolor": "white",
            "ticks": ""
           },
           "bgcolor": "#E5ECF6",
           "radialaxis": {
            "gridcolor": "white",
            "linecolor": "white",
            "ticks": ""
           }
          },
          "scene": {
           "xaxis": {
            "backgroundcolor": "#E5ECF6",
            "gridcolor": "white",
            "gridwidth": 2,
            "linecolor": "white",
            "showbackground": true,
            "ticks": "",
            "zerolinecolor": "white"
           },
           "yaxis": {
            "backgroundcolor": "#E5ECF6",
            "gridcolor": "white",
            "gridwidth": 2,
            "linecolor": "white",
            "showbackground": true,
            "ticks": "",
            "zerolinecolor": "white"
           },
           "zaxis": {
            "backgroundcolor": "#E5ECF6",
            "gridcolor": "white",
            "gridwidth": 2,
            "linecolor": "white",
            "showbackground": true,
            "ticks": "",
            "zerolinecolor": "white"
           }
          },
          "shapedefaults": {
           "line": {
            "color": "#2a3f5f"
           }
          },
          "ternary": {
           "aaxis": {
            "gridcolor": "white",
            "linecolor": "white",
            "ticks": ""
           },
           "baxis": {
            "gridcolor": "white",
            "linecolor": "white",
            "ticks": ""
           },
           "bgcolor": "#E5ECF6",
           "caxis": {
            "gridcolor": "white",
            "linecolor": "white",
            "ticks": ""
           }
          },
          "title": {
           "x": 0.05
          },
          "xaxis": {
           "automargin": true,
           "gridcolor": "white",
           "linecolor": "white",
           "ticks": "",
           "title": {
            "standoff": 15
           },
           "zerolinecolor": "white",
           "zerolinewidth": 2
          },
          "yaxis": {
           "automargin": true,
           "gridcolor": "white",
           "linecolor": "white",
           "ticks": "",
           "title": {
            "standoff": 15
           },
           "zerolinecolor": "white",
           "zerolinewidth": 2
          }
         }
        },
        "title": {
         "text": "Number of COVID cases over time in Argentina"
        },
        "xaxis": {
         "title": {
          "text": "Date"
         }
        },
        "yaxis": {
         "title": {
          "text": "Number of cases"
         }
        }
       }
      }
     },
     "metadata": {}
    }
   ],
   "source": [
    "fig = go.Figure(data=go.Scatter(x=df666['date'],y=df666['E_average'],mode='lines')) # hover text goes here\n",
    "fig.update_layout(title='Number of COVID cases over time in Argentina',xaxis_title=\"Date\",yaxis_title=\"Number of cases\")    \n",
    "fig.show()          #@Natalio666Altube"
   ]
  },
  {
   "cell_type": "code",
   "execution_count": null,
   "metadata": {},
   "outputs": [],
   "source": []
  },
  {
   "cell_type": "code",
   "execution_count": 185,
   "metadata": {},
   "outputs": [
    {
     "output_type": "display_data",
     "data": {
      "application/vnd.plotly.v1+json": {
       "config": {
        "plotlyServerURL": "https://plot.ly"
       },
       "data": [
        {
         "autocolorscale": false,
         "colorbar": {
          "title": {
           "text": "Millions USD"
          }
         },
         "colorscale": [
          [
           0,
           "rgb(255,245,240)"
          ],
          [
           0.125,
           "rgb(254,224,210)"
          ],
          [
           0.25,
           "rgb(252,187,161)"
          ],
          [
           0.375,
           "rgb(252,146,114)"
          ],
          [
           0.5,
           "rgb(251,106,74)"
          ],
          [
           0.625,
           "rgb(239,59,44)"
          ],
          [
           0.75,
           "rgb(203,24,29)"
          ],
          [
           0.875,
           "rgb(165,15,21)"
          ],
          [
           1,
           "rgb(103,0,13)"
          ]
         ],
         "locationmode": "ISO-3",
         "locations": [
          1,
          1,
          6,
          1,
          3,
          7,
          12,
          3,
          11,
          11,
          9,
          14,
          18,
          31,
          30,
          67,
          41,
          35,
          86,
          115,
          87,
          101,
          55,
          75,
          146,
          0,
          167,
          0,
          132,
          186,
          103,
          74,
          87,
          80,
          99,
          81,
          162,
          66,
          69,
          160,
          0,
          128,
          98,
          170,
          102,
          90,
          112,
          144,
          147,
          0,
          344,
          0,
          223,
          124,
          158,
          143,
          104,
          149,
          102,
          104,
          133,
          188,
          163,
          240,
          165,
          13,
          245,
          529,
          316,
          255,
          345,
          326,
          0,
          566,
          438,
          474,
          648,
          718,
          704,
          723,
          552,
          600,
          705,
          769,
          717,
          795,
          637,
          564,
          904,
          949,
          0,
          1769,
          983,
          774,
          826,
          1141,
          1239,
          1373,
          1391,
          1531,
          1282,
          1208,
          1374,
          1393,
          0,
          4018,
          1634,
          1581,
          2146,
          0,
          4920,
          2606,
          0,
          5287,
          0,
          4524,
          2262,
          2667,
          2744,
          2845,
          0,
          2590,
          2439,
          2632,
          2979,
          3604,
          3663,
          3367,
          3449,
          2657,
          3099,
          3645,
          4250,
          3623,
          4518,
          3223,
          4231,
          4019,
          5344,
          5782,
          6127,
          5493,
          9006,
          0,
          4890,
          5939,
          5641,
          6377
         ],
         "marker": {
          "line": {
           "color": "white"
          }
         },
         "showscale": false,
         "text": [
          1,
          1,
          6,
          1,
          3,
          7,
          12,
          3,
          11,
          11,
          9,
          14,
          18,
          31,
          30,
          67,
          41,
          35,
          86,
          115,
          87,
          101,
          55,
          75,
          146,
          0,
          167,
          0,
          132,
          186,
          103,
          74,
          87,
          80,
          99,
          81,
          162,
          66,
          69,
          160,
          0,
          128,
          98,
          170,
          102,
          90,
          112,
          144,
          147,
          0,
          344,
          0,
          223,
          124,
          158,
          143,
          104,
          149,
          102,
          104,
          133,
          188,
          163,
          240,
          165,
          13,
          245,
          529,
          316,
          255,
          345,
          326,
          0,
          566,
          438,
          474,
          648,
          718,
          704,
          723,
          552,
          600,
          705,
          769,
          717,
          795,
          637,
          564,
          904,
          949,
          0,
          1769,
          983,
          774,
          826,
          1141,
          1239,
          1373,
          1391,
          1531,
          1282,
          1208,
          1374,
          1393,
          0,
          4018,
          1634,
          1581,
          2146,
          0,
          4920,
          2606,
          0,
          5287,
          0,
          4524,
          2262,
          2667,
          2744,
          2845,
          0,
          2590,
          2439,
          2632,
          2979,
          3604,
          3663,
          3367,
          3449,
          2657,
          3099,
          3645,
          4250,
          3623,
          4518,
          3223,
          4231,
          4019,
          5344,
          5782,
          6127,
          5493,
          9006,
          0,
          4890,
          5939,
          5641,
          6377
         ],
         "type": "choropleth",
         "z": [
          1,
          1,
          6,
          1,
          3,
          7,
          12,
          3,
          11,
          11,
          9,
          14,
          18,
          31,
          30,
          67,
          41,
          35,
          86,
          115,
          87,
          101,
          55,
          75,
          146,
          0,
          167,
          0,
          132,
          186,
          103,
          74,
          87,
          80,
          99,
          81,
          162,
          66,
          69,
          160,
          0,
          128,
          98,
          170,
          102,
          90,
          112,
          144,
          147,
          0,
          344,
          0,
          223,
          124,
          158,
          143,
          104,
          149,
          102,
          104,
          133,
          188,
          163,
          240,
          165,
          13,
          245,
          529,
          316,
          255,
          345,
          326,
          0,
          566,
          438,
          474,
          648,
          718,
          704,
          723,
          552,
          600,
          705,
          769,
          717,
          795,
          637,
          564,
          904,
          949,
          0,
          1769,
          983,
          774,
          826,
          1141,
          1239,
          1373,
          1391,
          1531,
          1282,
          1208,
          1374,
          1393,
          0,
          4018,
          1634,
          1581,
          2146,
          0,
          4920,
          2606,
          0,
          5287,
          0,
          4524,
          2262,
          2667,
          2744,
          2845,
          0,
          2590,
          2439,
          2632,
          2979,
          3604,
          3663,
          3367,
          3449,
          2657,
          3099,
          3645,
          4250,
          3623,
          4518,
          3223,
          4231,
          4019,
          5344,
          5782,
          6127,
          5493,
          9006,
          0,
          4890,
          5939,
          5641,
          6377
         ]
        }
       ],
       "layout": {
        "geo": {
         "lakecolor": "rgb(255, 255, 255)",
         "projection": {
          "type": "stereographic"
         },
         "scope": "usa",
         "showlakes": true
        },
        "template": {
         "data": {
          "bar": [
           {
            "error_x": {
             "color": "#f2f5fa"
            },
            "error_y": {
             "color": "#f2f5fa"
            },
            "marker": {
             "line": {
              "color": "rgb(17,17,17)",
              "width": 0.5
             }
            },
            "type": "bar"
           }
          ],
          "barpolar": [
           {
            "marker": {
             "line": {
              "color": "rgb(17,17,17)",
              "width": 0.5
             }
            },
            "type": "barpolar"
           }
          ],
          "carpet": [
           {
            "aaxis": {
             "endlinecolor": "#A2B1C6",
             "gridcolor": "#506784",
             "linecolor": "#506784",
             "minorgridcolor": "#506784",
             "startlinecolor": "#A2B1C6"
            },
            "baxis": {
             "endlinecolor": "#A2B1C6",
             "gridcolor": "#506784",
             "linecolor": "#506784",
             "minorgridcolor": "#506784",
             "startlinecolor": "#A2B1C6"
            },
            "type": "carpet"
           }
          ],
          "choropleth": [
           {
            "colorbar": {
             "outlinewidth": 0,
             "ticks": ""
            },
            "type": "choropleth"
           }
          ],
          "contour": [
           {
            "colorbar": {
             "outlinewidth": 0,
             "ticks": ""
            },
            "colorscale": [
             [
              0,
              "#0d0887"
             ],
             [
              0.1111111111111111,
              "#46039f"
             ],
             [
              0.2222222222222222,
              "#7201a8"
             ],
             [
              0.3333333333333333,
              "#9c179e"
             ],
             [
              0.4444444444444444,
              "#bd3786"
             ],
             [
              0.5555555555555556,
              "#d8576b"
             ],
             [
              0.6666666666666666,
              "#ed7953"
             ],
             [
              0.7777777777777778,
              "#fb9f3a"
             ],
             [
              0.8888888888888888,
              "#fdca26"
             ],
             [
              1,
              "#f0f921"
             ]
            ],
            "type": "contour"
           }
          ],
          "contourcarpet": [
           {
            "colorbar": {
             "outlinewidth": 0,
             "ticks": ""
            },
            "type": "contourcarpet"
           }
          ],
          "heatmap": [
           {
            "colorbar": {
             "outlinewidth": 0,
             "ticks": ""
            },
            "colorscale": [
             [
              0,
              "#0d0887"
             ],
             [
              0.1111111111111111,
              "#46039f"
             ],
             [
              0.2222222222222222,
              "#7201a8"
             ],
             [
              0.3333333333333333,
              "#9c179e"
             ],
             [
              0.4444444444444444,
              "#bd3786"
             ],
             [
              0.5555555555555556,
              "#d8576b"
             ],
             [
              0.6666666666666666,
              "#ed7953"
             ],
             [
              0.7777777777777778,
              "#fb9f3a"
             ],
             [
              0.8888888888888888,
              "#fdca26"
             ],
             [
              1,
              "#f0f921"
             ]
            ],
            "type": "heatmap"
           }
          ],
          "heatmapgl": [
           {
            "colorbar": {
             "outlinewidth": 0,
             "ticks": ""
            },
            "colorscale": [
             [
              0,
              "#0d0887"
             ],
             [
              0.1111111111111111,
              "#46039f"
             ],
             [
              0.2222222222222222,
              "#7201a8"
             ],
             [
              0.3333333333333333,
              "#9c179e"
             ],
             [
              0.4444444444444444,
              "#bd3786"
             ],
             [
              0.5555555555555556,
              "#d8576b"
             ],
             [
              0.6666666666666666,
              "#ed7953"
             ],
             [
              0.7777777777777778,
              "#fb9f3a"
             ],
             [
              0.8888888888888888,
              "#fdca26"
             ],
             [
              1,
              "#f0f921"
             ]
            ],
            "type": "heatmapgl"
           }
          ],
          "histogram": [
           {
            "marker": {
             "colorbar": {
              "outlinewidth": 0,
              "ticks": ""
             }
            },
            "type": "histogram"
           }
          ],
          "histogram2d": [
           {
            "colorbar": {
             "outlinewidth": 0,
             "ticks": ""
            },
            "colorscale": [
             [
              0,
              "#0d0887"
             ],
             [
              0.1111111111111111,
              "#46039f"
             ],
             [
              0.2222222222222222,
              "#7201a8"
             ],
             [
              0.3333333333333333,
              "#9c179e"
             ],
             [
              0.4444444444444444,
              "#bd3786"
             ],
             [
              0.5555555555555556,
              "#d8576b"
             ],
             [
              0.6666666666666666,
              "#ed7953"
             ],
             [
              0.7777777777777778,
              "#fb9f3a"
             ],
             [
              0.8888888888888888,
              "#fdca26"
             ],
             [
              1,
              "#f0f921"
             ]
            ],
            "type": "histogram2d"
           }
          ],
          "histogram2dcontour": [
           {
            "colorbar": {
             "outlinewidth": 0,
             "ticks": ""
            },
            "colorscale": [
             [
              0,
              "#0d0887"
             ],
             [
              0.1111111111111111,
              "#46039f"
             ],
             [
              0.2222222222222222,
              "#7201a8"
             ],
             [
              0.3333333333333333,
              "#9c179e"
             ],
             [
              0.4444444444444444,
              "#bd3786"
             ],
             [
              0.5555555555555556,
              "#d8576b"
             ],
             [
              0.6666666666666666,
              "#ed7953"
             ],
             [
              0.7777777777777778,
              "#fb9f3a"
             ],
             [
              0.8888888888888888,
              "#fdca26"
             ],
             [
              1,
              "#f0f921"
             ]
            ],
            "type": "histogram2dcontour"
           }
          ],
          "mesh3d": [
           {
            "colorbar": {
             "outlinewidth": 0,
             "ticks": ""
            },
            "type": "mesh3d"
           }
          ],
          "parcoords": [
           {
            "line": {
             "colorbar": {
              "outlinewidth": 0,
              "ticks": ""
             }
            },
            "type": "parcoords"
           }
          ],
          "pie": [
           {
            "automargin": true,
            "type": "pie"
           }
          ],
          "scatter": [
           {
            "marker": {
             "line": {
              "color": "#283442"
             }
            },
            "type": "scatter"
           }
          ],
          "scatter3d": [
           {
            "line": {
             "colorbar": {
              "outlinewidth": 0,
              "ticks": ""
             }
            },
            "marker": {
             "colorbar": {
              "outlinewidth": 0,
              "ticks": ""
             }
            },
            "type": "scatter3d"
           }
          ],
          "scattercarpet": [
           {
            "marker": {
             "colorbar": {
              "outlinewidth": 0,
              "ticks": ""
             }
            },
            "type": "scattercarpet"
           }
          ],
          "scattergeo": [
           {
            "marker": {
             "colorbar": {
              "outlinewidth": 0,
              "ticks": ""
             }
            },
            "type": "scattergeo"
           }
          ],
          "scattergl": [
           {
            "marker": {
             "line": {
              "color": "#283442"
             }
            },
            "type": "scattergl"
           }
          ],
          "scattermapbox": [
           {
            "marker": {
             "colorbar": {
              "outlinewidth": 0,
              "ticks": ""
             }
            },
            "type": "scattermapbox"
           }
          ],
          "scatterpolar": [
           {
            "marker": {
             "colorbar": {
              "outlinewidth": 0,
              "ticks": ""
             }
            },
            "type": "scatterpolar"
           }
          ],
          "scatterpolargl": [
           {
            "marker": {
             "colorbar": {
              "outlinewidth": 0,
              "ticks": ""
             }
            },
            "type": "scatterpolargl"
           }
          ],
          "scatterternary": [
           {
            "marker": {
             "colorbar": {
              "outlinewidth": 0,
              "ticks": ""
             }
            },
            "type": "scatterternary"
           }
          ],
          "surface": [
           {
            "colorbar": {
             "outlinewidth": 0,
             "ticks": ""
            },
            "colorscale": [
             [
              0,
              "#0d0887"
             ],
             [
              0.1111111111111111,
              "#46039f"
             ],
             [
              0.2222222222222222,
              "#7201a8"
             ],
             [
              0.3333333333333333,
              "#9c179e"
             ],
             [
              0.4444444444444444,
              "#bd3786"
             ],
             [
              0.5555555555555556,
              "#d8576b"
             ],
             [
              0.6666666666666666,
              "#ed7953"
             ],
             [
              0.7777777777777778,
              "#fb9f3a"
             ],
             [
              0.8888888888888888,
              "#fdca26"
             ],
             [
              1,
              "#f0f921"
             ]
            ],
            "type": "surface"
           }
          ],
          "table": [
           {
            "cells": {
             "fill": {
              "color": "#506784"
             },
             "line": {
              "color": "rgb(17,17,17)"
             }
            },
            "header": {
             "fill": {
              "color": "#2a3f5f"
             },
             "line": {
              "color": "rgb(17,17,17)"
             }
            },
            "type": "table"
           }
          ]
         },
         "layout": {
          "annotationdefaults": {
           "arrowcolor": "#f2f5fa",
           "arrowhead": 0,
           "arrowwidth": 1
          },
          "coloraxis": {
           "colorbar": {
            "outlinewidth": 0,
            "ticks": ""
           }
          },
          "colorscale": {
           "diverging": [
            [
             0,
             "#8e0152"
            ],
            [
             0.1,
             "#c51b7d"
            ],
            [
             0.2,
             "#de77ae"
            ],
            [
             0.3,
             "#f1b6da"
            ],
            [
             0.4,
             "#fde0ef"
            ],
            [
             0.5,
             "#f7f7f7"
            ],
            [
             0.6,
             "#e6f5d0"
            ],
            [
             0.7,
             "#b8e186"
            ],
            [
             0.8,
             "#7fbc41"
            ],
            [
             0.9,
             "#4d9221"
            ],
            [
             1,
             "#276419"
            ]
           ],
           "sequential": [
            [
             0,
             "#0d0887"
            ],
            [
             0.1111111111111111,
             "#46039f"
            ],
            [
             0.2222222222222222,
             "#7201a8"
            ],
            [
             0.3333333333333333,
             "#9c179e"
            ],
            [
             0.4444444444444444,
             "#bd3786"
            ],
            [
             0.5555555555555556,
             "#d8576b"
            ],
            [
             0.6666666666666666,
             "#ed7953"
            ],
            [
             0.7777777777777778,
             "#fb9f3a"
            ],
            [
             0.8888888888888888,
             "#fdca26"
            ],
            [
             1,
             "#f0f921"
            ]
           ],
           "sequentialminus": [
            [
             0,
             "#0d0887"
            ],
            [
             0.1111111111111111,
             "#46039f"
            ],
            [
             0.2222222222222222,
             "#7201a8"
            ],
            [
             0.3333333333333333,
             "#9c179e"
            ],
            [
             0.4444444444444444,
             "#bd3786"
            ],
            [
             0.5555555555555556,
             "#d8576b"
            ],
            [
             0.6666666666666666,
             "#ed7953"
            ],
            [
             0.7777777777777778,
             "#fb9f3a"
            ],
            [
             0.8888888888888888,
             "#fdca26"
            ],
            [
             1,
             "#f0f921"
            ]
           ]
          },
          "colorway": [
           "#636efa",
           "#EF553B",
           "#00cc96",
           "#ab63fa",
           "#FFA15A",
           "#19d3f3",
           "#FF6692",
           "#B6E880",
           "#FF97FF",
           "#FECB52"
          ],
          "font": {
           "color": "#f2f5fa"
          },
          "geo": {
           "bgcolor": "rgb(17,17,17)",
           "lakecolor": "rgb(17,17,17)",
           "landcolor": "rgb(17,17,17)",
           "showlakes": true,
           "showland": true,
           "subunitcolor": "#506784"
          },
          "hoverlabel": {
           "align": "left"
          },
          "hovermode": "closest",
          "mapbox": {
           "style": "dark"
          },
          "paper_bgcolor": "rgb(17,17,17)",
          "plot_bgcolor": "rgb(17,17,17)",
          "polar": {
           "angularaxis": {
            "gridcolor": "#506784",
            "linecolor": "#506784",
            "ticks": ""
           },
           "bgcolor": "rgb(17,17,17)",
           "radialaxis": {
            "gridcolor": "#506784",
            "linecolor": "#506784",
            "ticks": ""
           }
          },
          "scene": {
           "xaxis": {
            "backgroundcolor": "rgb(17,17,17)",
            "gridcolor": "#506784",
            "gridwidth": 2,
            "linecolor": "#506784",
            "showbackground": true,
            "ticks": "",
            "zerolinecolor": "#C8D4E3"
           },
           "yaxis": {
            "backgroundcolor": "rgb(17,17,17)",
            "gridcolor": "#506784",
            "gridwidth": 2,
            "linecolor": "#506784",
            "showbackground": true,
            "ticks": "",
            "zerolinecolor": "#C8D4E3"
           },
           "zaxis": {
            "backgroundcolor": "rgb(17,17,17)",
            "gridcolor": "#506784",
            "gridwidth": 2,
            "linecolor": "#506784",
            "showbackground": true,
            "ticks": "",
            "zerolinecolor": "#C8D4E3"
           }
          },
          "shapedefaults": {
           "line": {
            "color": "#f2f5fa"
           }
          },
          "sliderdefaults": {
           "bgcolor": "#C8D4E3",
           "bordercolor": "rgb(17,17,17)",
           "borderwidth": 1,
           "tickwidth": 0
          },
          "ternary": {
           "aaxis": {
            "gridcolor": "#506784",
            "linecolor": "#506784",
            "ticks": ""
           },
           "baxis": {
            "gridcolor": "#506784",
            "linecolor": "#506784",
            "ticks": ""
           },
           "bgcolor": "rgb(17,17,17)",
           "caxis": {
            "gridcolor": "#506784",
            "linecolor": "#506784",
            "ticks": ""
           }
          },
          "title": {
           "x": 0.05
          },
          "updatemenudefaults": {
           "bgcolor": "#506784",
           "borderwidth": 0
          },
          "xaxis": {
           "automargin": true,
           "gridcolor": "#283442",
           "linecolor": "#506784",
           "ticks": "",
           "title": {
            "standoff": 15
           },
           "zerolinecolor": "#283442",
           "zerolinewidth": 2
          },
          "yaxis": {
           "automargin": true,
           "gridcolor": "#283442",
           "linecolor": "#506784",
           "ticks": "",
           "title": {
            "standoff": 15
           },
           "zerolinecolor": "#283442",
           "zerolinewidth": 2
          }
         }
        },
        "title": {
         "text": "New COVID cases in Argentina",
         "x": 0.5
        }
       }
      }
     },
     "metadata": {}
    }
   ],
   "source": [
    "fig = go.Figure(go.Choropleth(\n",
    "    locations=df666['E_average'],\n",
    "    z=df666['E_average'].astype(float),\n",
    "    locationmode='ISO-3',\n",
    "    colorscale='Reds',\n",
    "    autocolorscale=False,\n",
    "    text=df666['E_average'], # hover text\n",
    "    marker_line_color='white', # line markers between states\n",
    "    colorbar_title=\"Millions USD\",showscale = False,\n",
    "))\n",
    "fig.update_layout(\n",
    "    title_text='New COVID cases in Argentina',\n",
    "    title_x=0.5,\n",
    "    geo = dict(\n",
    "        scope='usa',\n",
    "        projection=go.layout.geo.Projection(type = 'stereographic'),\n",
    "        showlakes=True, # lakes\n",
    "        lakecolor='rgb(255, 255, 255)'))\n",
    "fig.update_layout(\n",
    "    template=\"plotly_dark\")\n",
    "fig.show()"
   ]
  },
  {
   "cell_type": "code",
   "execution_count": 183,
   "metadata": {},
   "outputs": [],
   "source": [
    "def draw_hermite(n, a, b, nodes, *args):\n",
    "    func_values = [values(func, n, a, b) for func in args]\n",
    "\n",
    "    xvalues = values(lambda x: x, n, a, b)\n",
    "\n",
    "    traceHermite = go.Scatter(\n",
    "        x=xvalues,\n",
    "        y=func_values[1],\n",
    "        mode='markers',\n",
    "        name='Hermite'\n",
    "    )\n",
    "    traceFunc = go.Scatter(\n",
    "            x=xvalues,\n",
    "            y=func_values[0],\n",
    "            mode='markers',\n",
    "            name='Original function'\n",
    "        )\n",
    "    xi, yi = zip(*nodes)\n",
    "    traceCoordinates = go.Scatter(\n",
    "        x=xi,\n",
    "        y=yi,\n",
    "        mode='markers',\n",
    "        name='Nodes',\n",
    "        marker=dict(\n",
    "            size=15,\n",
    "            color='rgba(0,0,0, 1)'\n",
    "        )\n",
    "    )\n",
    "\n",
    "    data = [traceHermite, traceFunc, traceCoordinates]\n",
    "\n",
    "    tls.set_credentials_file(username='mrapacz', api_key='e78ht2ggmf')\n",
    "    py.plot(data, filename='plot' + str(len(nodes)))"
   ]
  },
  {
   "cell_type": "code",
   "execution_count": 282,
   "metadata": {},
   "outputs": [
    {
     "output_type": "display_data",
     "data": {
      "application/vnd.plotly.v1+json": {
       "config": {
        "plotlyServerURL": "https://plot.ly"
       },
       "data": [
        {
         "boxmean": true,
         "marker": {
          "color": "green"
         },
         "name": "E",
         "type": "box",
         "y": [
          1,
          1,
          6,
          1,
          3,
          7,
          12,
          3,
          11,
          11,
          9,
          14,
          18,
          31,
          30,
          67,
          41,
          35,
          86,
          115,
          87,
          101,
          55,
          75,
          146,
          0,
          167,
          0,
          132,
          186,
          103,
          74,
          87,
          80,
          99,
          81,
          162,
          66,
          69,
          160,
          0,
          128,
          98,
          170,
          102,
          90,
          112,
          144,
          147,
          0,
          344,
          0,
          223,
          124,
          158,
          143,
          104,
          149,
          102,
          104,
          133,
          188,
          163,
          240,
          165,
          13,
          245,
          529,
          316,
          255,
          345,
          326,
          0,
          566,
          438,
          474,
          648,
          718,
          704,
          723,
          552,
          600,
          705,
          769,
          717,
          795,
          637,
          564,
          904,
          949,
          0,
          1769,
          983,
          774,
          826,
          1141,
          1239,
          1373,
          1391,
          1531,
          1282,
          1208,
          1374,
          1393,
          0,
          4018,
          1634,
          1581,
          2146,
          0,
          4920,
          2606,
          0,
          5287,
          0,
          4524,
          2262,
          2667,
          2744,
          2845,
          0,
          2590,
          2439,
          2632,
          2979,
          3604,
          3663,
          3367,
          3449,
          2657,
          3099,
          3645,
          4250,
          3623,
          4518,
          3223,
          4231,
          4019,
          5344,
          5782,
          6127,
          5493,
          9006,
          0,
          4890,
          5939,
          5641,
          6377,
          5929
         ]
        },
        {
         "boxmean": "sd",
         "marker": {
          "color": "darkorchid"
         },
         "name": "D",
         "type": "box",
         "y": [
          "2020-03-04",
          "2020-03-06",
          "2020-03-07",
          "2020-03-08",
          "2020-03-09",
          "2020-03-11",
          "2020-03-13",
          "2020-03-14",
          "2020-03-15",
          "2020-03-16",
          "2020-03-17",
          "2020-03-18",
          "2020-03-19",
          "2020-03-20",
          "2020-03-21",
          "2020-03-22",
          "2020-03-23",
          "2020-03-24",
          "2020-03-25",
          "2020-03-26",
          "2020-03-27",
          "2020-03-28",
          "2020-03-29",
          "2020-03-30",
          "2020-03-31",
          "2020-04-01",
          "2020-04-02",
          "2020-04-03",
          "2020-04-04",
          "2020-04-05",
          "2020-04-06",
          "2020-04-07",
          "2020-04-08",
          "2020-04-09",
          "2020-04-10",
          "2020-04-11",
          "2020-04-12",
          "2020-04-13",
          "2020-04-14",
          "2020-04-15",
          "2020-04-16",
          "2020-04-17",
          "2020-04-18",
          "2020-04-19",
          "2020-04-20",
          "2020-04-21",
          "2020-04-22",
          "2020-04-23",
          "2020-04-24",
          "2020-04-25",
          "2020-04-26",
          "2020-04-27",
          "2020-04-28",
          "2020-04-29",
          "2020-04-30",
          "2020-05-01",
          "2020-05-02",
          "2020-05-03",
          "2020-05-04",
          "2020-05-05",
          "2020-05-06",
          "2020-05-07",
          "2020-05-08",
          "2020-05-09",
          "2020-05-10",
          "2020-05-11",
          "2020-05-12",
          "2020-05-13",
          "2020-05-14",
          "2020-05-15",
          "2020-05-16",
          "2020-05-17",
          "2020-05-18",
          "2020-05-19",
          "2020-05-20",
          "2020-05-21",
          "2020-05-22",
          "2020-05-23",
          "2020-05-24",
          "2020-05-25",
          "2020-05-26",
          "2020-05-27",
          "2020-05-28",
          "2020-05-29",
          "2020-05-30",
          "2020-05-31",
          "2020-06-01",
          "2020-06-02",
          "2020-06-03",
          "2020-06-04",
          "2020-06-05",
          "2020-06-06",
          "2020-06-07",
          "2020-06-08",
          "2020-06-09",
          "2020-06-10",
          "2020-06-11",
          "2020-06-12",
          "2020-06-13",
          "2020-06-14",
          "2020-06-15",
          "2020-06-16",
          "2020-06-17",
          "2020-06-18",
          "2020-06-19",
          "2020-06-20",
          "2020-06-21",
          "2020-06-22",
          "2020-06-23",
          "2020-06-24",
          "2020-06-25",
          "2020-06-26",
          "2020-06-27",
          "2020-06-28",
          "2020-06-29",
          "2020-06-30",
          "2020-07-01",
          "2020-07-02",
          "2020-07-03",
          "2020-07-04",
          "2020-07-05",
          "2020-07-06",
          "2020-07-07",
          "2020-07-08",
          "2020-07-09",
          "2020-07-10",
          "2020-07-11",
          "2020-07-12",
          "2020-07-13",
          "2020-07-14",
          "2020-07-15",
          "2020-07-16",
          "2020-07-17",
          "2020-07-18",
          "2020-07-19",
          "2020-07-20",
          "2020-07-21",
          "2020-07-22",
          "2020-07-23",
          "2020-07-24",
          "2020-07-25",
          "2020-07-26",
          "2020-07-27",
          "2020-07-28",
          "2020-07-29",
          "2020-07-30",
          "2020-07-31",
          "2020-08-01",
          "2020-08-02"
         ]
        }
       ],
       "layout": {
        "template": {
         "data": {
          "bar": [
           {
            "error_x": {
             "color": "#2a3f5f"
            },
            "error_y": {
             "color": "#2a3f5f"
            },
            "marker": {
             "line": {
              "color": "#E5ECF6",
              "width": 0.5
             }
            },
            "type": "bar"
           }
          ],
          "barpolar": [
           {
            "marker": {
             "line": {
              "color": "#E5ECF6",
              "width": 0.5
             }
            },
            "type": "barpolar"
           }
          ],
          "carpet": [
           {
            "aaxis": {
             "endlinecolor": "#2a3f5f",
             "gridcolor": "white",
             "linecolor": "white",
             "minorgridcolor": "white",
             "startlinecolor": "#2a3f5f"
            },
            "baxis": {
             "endlinecolor": "#2a3f5f",
             "gridcolor": "white",
             "linecolor": "white",
             "minorgridcolor": "white",
             "startlinecolor": "#2a3f5f"
            },
            "type": "carpet"
           }
          ],
          "choropleth": [
           {
            "colorbar": {
             "outlinewidth": 0,
             "ticks": ""
            },
            "type": "choropleth"
           }
          ],
          "contour": [
           {
            "colorbar": {
             "outlinewidth": 0,
             "ticks": ""
            },
            "colorscale": [
             [
              0,
              "#0d0887"
             ],
             [
              0.1111111111111111,
              "#46039f"
             ],
             [
              0.2222222222222222,
              "#7201a8"
             ],
             [
              0.3333333333333333,
              "#9c179e"
             ],
             [
              0.4444444444444444,
              "#bd3786"
             ],
             [
              0.5555555555555556,
              "#d8576b"
             ],
             [
              0.6666666666666666,
              "#ed7953"
             ],
             [
              0.7777777777777778,
              "#fb9f3a"
             ],
             [
              0.8888888888888888,
              "#fdca26"
             ],
             [
              1,
              "#f0f921"
             ]
            ],
            "type": "contour"
           }
          ],
          "contourcarpet": [
           {
            "colorbar": {
             "outlinewidth": 0,
             "ticks": ""
            },
            "type": "contourcarpet"
           }
          ],
          "heatmap": [
           {
            "colorbar": {
             "outlinewidth": 0,
             "ticks": ""
            },
            "colorscale": [
             [
              0,
              "#0d0887"
             ],
             [
              0.1111111111111111,
              "#46039f"
             ],
             [
              0.2222222222222222,
              "#7201a8"
             ],
             [
              0.3333333333333333,
              "#9c179e"
             ],
             [
              0.4444444444444444,
              "#bd3786"
             ],
             [
              0.5555555555555556,
              "#d8576b"
             ],
             [
              0.6666666666666666,
              "#ed7953"
             ],
             [
              0.7777777777777778,
              "#fb9f3a"
             ],
             [
              0.8888888888888888,
              "#fdca26"
             ],
             [
              1,
              "#f0f921"
             ]
            ],
            "type": "heatmap"
           }
          ],
          "heatmapgl": [
           {
            "colorbar": {
             "outlinewidth": 0,
             "ticks": ""
            },
            "colorscale": [
             [
              0,
              "#0d0887"
             ],
             [
              0.1111111111111111,
              "#46039f"
             ],
             [
              0.2222222222222222,
              "#7201a8"
             ],
             [
              0.3333333333333333,
              "#9c179e"
             ],
             [
              0.4444444444444444,
              "#bd3786"
             ],
             [
              0.5555555555555556,
              "#d8576b"
             ],
             [
              0.6666666666666666,
              "#ed7953"
             ],
             [
              0.7777777777777778,
              "#fb9f3a"
             ],
             [
              0.8888888888888888,
              "#fdca26"
             ],
             [
              1,
              "#f0f921"
             ]
            ],
            "type": "heatmapgl"
           }
          ],
          "histogram": [
           {
            "marker": {
             "colorbar": {
              "outlinewidth": 0,
              "ticks": ""
             }
            },
            "type": "histogram"
           }
          ],
          "histogram2d": [
           {
            "colorbar": {
             "outlinewidth": 0,
             "ticks": ""
            },
            "colorscale": [
             [
              0,
              "#0d0887"
             ],
             [
              0.1111111111111111,
              "#46039f"
             ],
             [
              0.2222222222222222,
              "#7201a8"
             ],
             [
              0.3333333333333333,
              "#9c179e"
             ],
             [
              0.4444444444444444,
              "#bd3786"
             ],
             [
              0.5555555555555556,
              "#d8576b"
             ],
             [
              0.6666666666666666,
              "#ed7953"
             ],
             [
              0.7777777777777778,
              "#fb9f3a"
             ],
             [
              0.8888888888888888,
              "#fdca26"
             ],
             [
              1,
              "#f0f921"
             ]
            ],
            "type": "histogram2d"
           }
          ],
          "histogram2dcontour": [
           {
            "colorbar": {
             "outlinewidth": 0,
             "ticks": ""
            },
            "colorscale": [
             [
              0,
              "#0d0887"
             ],
             [
              0.1111111111111111,
              "#46039f"
             ],
             [
              0.2222222222222222,
              "#7201a8"
             ],
             [
              0.3333333333333333,
              "#9c179e"
             ],
             [
              0.4444444444444444,
              "#bd3786"
             ],
             [
              0.5555555555555556,
              "#d8576b"
             ],
             [
              0.6666666666666666,
              "#ed7953"
             ],
             [
              0.7777777777777778,
              "#fb9f3a"
             ],
             [
              0.8888888888888888,
              "#fdca26"
             ],
             [
              1,
              "#f0f921"
             ]
            ],
            "type": "histogram2dcontour"
           }
          ],
          "mesh3d": [
           {
            "colorbar": {
             "outlinewidth": 0,
             "ticks": ""
            },
            "type": "mesh3d"
           }
          ],
          "parcoords": [
           {
            "line": {
             "colorbar": {
              "outlinewidth": 0,
              "ticks": ""
             }
            },
            "type": "parcoords"
           }
          ],
          "pie": [
           {
            "automargin": true,
            "type": "pie"
           }
          ],
          "scatter": [
           {
            "marker": {
             "colorbar": {
              "outlinewidth": 0,
              "ticks": ""
             }
            },
            "type": "scatter"
           }
          ],
          "scatter3d": [
           {
            "line": {
             "colorbar": {
              "outlinewidth": 0,
              "ticks": ""
             }
            },
            "marker": {
             "colorbar": {
              "outlinewidth": 0,
              "ticks": ""
             }
            },
            "type": "scatter3d"
           }
          ],
          "scattercarpet": [
           {
            "marker": {
             "colorbar": {
              "outlinewidth": 0,
              "ticks": ""
             }
            },
            "type": "scattercarpet"
           }
          ],
          "scattergeo": [
           {
            "marker": {
             "colorbar": {
              "outlinewidth": 0,
              "ticks": ""
             }
            },
            "type": "scattergeo"
           }
          ],
          "scattergl": [
           {
            "marker": {
             "colorbar": {
              "outlinewidth": 0,
              "ticks": ""
             }
            },
            "type": "scattergl"
           }
          ],
          "scattermapbox": [
           {
            "marker": {
             "colorbar": {
              "outlinewidth": 0,
              "ticks": ""
             }
            },
            "type": "scattermapbox"
           }
          ],
          "scatterpolar": [
           {
            "marker": {
             "colorbar": {
              "outlinewidth": 0,
              "ticks": ""
             }
            },
            "type": "scatterpolar"
           }
          ],
          "scatterpolargl": [
           {
            "marker": {
             "colorbar": {
              "outlinewidth": 0,
              "ticks": ""
             }
            },
            "type": "scatterpolargl"
           }
          ],
          "scatterternary": [
           {
            "marker": {
             "colorbar": {
              "outlinewidth": 0,
              "ticks": ""
             }
            },
            "type": "scatterternary"
           }
          ],
          "surface": [
           {
            "colorbar": {
             "outlinewidth": 0,
             "ticks": ""
            },
            "colorscale": [
             [
              0,
              "#0d0887"
             ],
             [
              0.1111111111111111,
              "#46039f"
             ],
             [
              0.2222222222222222,
              "#7201a8"
             ],
             [
              0.3333333333333333,
              "#9c179e"
             ],
             [
              0.4444444444444444,
              "#bd3786"
             ],
             [
              0.5555555555555556,
              "#d8576b"
             ],
             [
              0.6666666666666666,
              "#ed7953"
             ],
             [
              0.7777777777777778,
              "#fb9f3a"
             ],
             [
              0.8888888888888888,
              "#fdca26"
             ],
             [
              1,
              "#f0f921"
             ]
            ],
            "type": "surface"
           }
          ],
          "table": [
           {
            "cells": {
             "fill": {
              "color": "#EBF0F8"
             },
             "line": {
              "color": "white"
             }
            },
            "header": {
             "fill": {
              "color": "#C8D4E3"
             },
             "line": {
              "color": "white"
             }
            },
            "type": "table"
           }
          ]
         },
         "layout": {
          "annotationdefaults": {
           "arrowcolor": "#2a3f5f",
           "arrowhead": 0,
           "arrowwidth": 1
          },
          "coloraxis": {
           "colorbar": {
            "outlinewidth": 0,
            "ticks": ""
           }
          },
          "colorscale": {
           "diverging": [
            [
             0,
             "#8e0152"
            ],
            [
             0.1,
             "#c51b7d"
            ],
            [
             0.2,
             "#de77ae"
            ],
            [
             0.3,
             "#f1b6da"
            ],
            [
             0.4,
             "#fde0ef"
            ],
            [
             0.5,
             "#f7f7f7"
            ],
            [
             0.6,
             "#e6f5d0"
            ],
            [
             0.7,
             "#b8e186"
            ],
            [
             0.8,
             "#7fbc41"
            ],
            [
             0.9,
             "#4d9221"
            ],
            [
             1,
             "#276419"
            ]
           ],
           "sequential": [
            [
             0,
             "#0d0887"
            ],
            [
             0.1111111111111111,
             "#46039f"
            ],
            [
             0.2222222222222222,
             "#7201a8"
            ],
            [
             0.3333333333333333,
             "#9c179e"
            ],
            [
             0.4444444444444444,
             "#bd3786"
            ],
            [
             0.5555555555555556,
             "#d8576b"
            ],
            [
             0.6666666666666666,
             "#ed7953"
            ],
            [
             0.7777777777777778,
             "#fb9f3a"
            ],
            [
             0.8888888888888888,
             "#fdca26"
            ],
            [
             1,
             "#f0f921"
            ]
           ],
           "sequentialminus": [
            [
             0,
             "#0d0887"
            ],
            [
             0.1111111111111111,
             "#46039f"
            ],
            [
             0.2222222222222222,
             "#7201a8"
            ],
            [
             0.3333333333333333,
             "#9c179e"
            ],
            [
             0.4444444444444444,
             "#bd3786"
            ],
            [
             0.5555555555555556,
             "#d8576b"
            ],
            [
             0.6666666666666666,
             "#ed7953"
            ],
            [
             0.7777777777777778,
             "#fb9f3a"
            ],
            [
             0.8888888888888888,
             "#fdca26"
            ],
            [
             1,
             "#f0f921"
            ]
           ]
          },
          "colorway": [
           "#636efa",
           "#EF553B",
           "#00cc96",
           "#ab63fa",
           "#FFA15A",
           "#19d3f3",
           "#FF6692",
           "#B6E880",
           "#FF97FF",
           "#FECB52"
          ],
          "font": {
           "color": "#2a3f5f"
          },
          "geo": {
           "bgcolor": "white",
           "lakecolor": "white",
           "landcolor": "#E5ECF6",
           "showlakes": true,
           "showland": true,
           "subunitcolor": "white"
          },
          "hoverlabel": {
           "align": "left"
          },
          "hovermode": "closest",
          "mapbox": {
           "style": "light"
          },
          "paper_bgcolor": "white",
          "plot_bgcolor": "#E5ECF6",
          "polar": {
           "angularaxis": {
            "gridcolor": "white",
            "linecolor": "white",
            "ticks": ""
           },
           "bgcolor": "#E5ECF6",
           "radialaxis": {
            "gridcolor": "white",
            "linecolor": "white",
            "ticks": ""
           }
          },
          "scene": {
           "xaxis": {
            "backgroundcolor": "#E5ECF6",
            "gridcolor": "white",
            "gridwidth": 2,
            "linecolor": "white",
            "showbackground": true,
            "ticks": "",
            "zerolinecolor": "white"
           },
           "yaxis": {
            "backgroundcolor": "#E5ECF6",
            "gridcolor": "white",
            "gridwidth": 2,
            "linecolor": "white",
            "showbackground": true,
            "ticks": "",
            "zerolinecolor": "white"
           },
           "zaxis": {
            "backgroundcolor": "#E5ECF6",
            "gridcolor": "white",
            "gridwidth": 2,
            "linecolor": "white",
            "showbackground": true,
            "ticks": "",
            "zerolinecolor": "white"
           }
          },
          "shapedefaults": {
           "line": {
            "color": "#2a3f5f"
           }
          },
          "ternary": {
           "aaxis": {
            "gridcolor": "white",
            "linecolor": "white",
            "ticks": ""
           },
           "baxis": {
            "gridcolor": "white",
            "linecolor": "white",
            "ticks": ""
           },
           "bgcolor": "#E5ECF6",
           "caxis": {
            "gridcolor": "white",
            "linecolor": "white",
            "ticks": ""
           }
          },
          "title": {
           "x": 0.05
          },
          "xaxis": {
           "automargin": true,
           "gridcolor": "white",
           "linecolor": "white",
           "ticks": "",
           "title": {
            "standoff": 15
           },
           "zerolinecolor": "white",
           "zerolinewidth": 2
          },
          "yaxis": {
           "automargin": true,
           "gridcolor": "white",
           "linecolor": "white",
           "ticks": "",
           "title": {
            "standoff": 15
           },
           "zerolinecolor": "white",
           "zerolinewidth": 2
          }
         }
        },
        "title": {
         "text": "Outliers of COVID cases in Argentina"
        }
       }
      }
     },
     "metadata": {}
    }
   ],
   "source": [
    "fig = go.Figure()\n",
    "fig.add_trace(go.Box(y=df666.E_average,\n",
    "                     boxmean=True, # only mean visible on plot\n",
    "                     marker_color=\"green\",\n",
    "                     name=\"E\"))\n",
    "fig.add_trace(go.Box(y=df666.date,\n",
    "                     boxmean='sd', # mean and SD visible on plot\n",
    "                     marker_color=\"darkorchid\",\n",
    "                     name=\"D\"))\n",
    "fig.update_layout(title=\"Outliers of COVID cases in Argentina\")\n",
    "fig.show()              #@Natalio666Altube"
   ]
  },
  {
   "cell_type": "code",
   "execution_count": 283,
   "metadata": {},
   "outputs": [
    {
     "output_type": "execute_result",
     "data": {
      "text/plain": "      iso_code continent location        date  total_cases  new_cases  \\\n25609      RUS    Europe   Russia  2019-12-31          0.0        0.0   \n25610      RUS    Europe   Russia  2020-01-01          0.0        0.0   \n25611      RUS    Europe   Russia  2020-01-02          0.0        0.0   \n25612      RUS    Europe   Russia  2020-01-03          0.0        0.0   \n25613      RUS    Europe   Russia  2020-01-04          0.0        0.0   \n...        ...       ...      ...         ...          ...        ...   \n25820      RUS    Europe   Russia  2020-07-29     823515.0     5395.0   \n25821      RUS    Europe   Russia  2020-07-30     828990.0     5475.0   \n25822      RUS    Europe   Russia  2020-07-31     834499.0     5509.0   \n25823      RUS    Europe   Russia  2020-08-01     839981.0     5482.0   \n25824      RUS    Europe   Russia  2020-08-02     845443.0     5462.0   \n\n       total_deaths  new_deaths  total_cases_per_million  \\\n25609           0.0         0.0                    0.000   \n25610           0.0         0.0                    0.000   \n25611           0.0         0.0                    0.000   \n25612           0.0         0.0                    0.000   \n25613           0.0         0.0                    0.000   \n...             ...         ...                      ...   \n25820       13504.0       150.0                 5643.047   \n25821       13673.0       169.0                 5680.564   \n25822       13802.0       129.0                 5718.314   \n25823       13963.0       161.0                 5755.878   \n25824       14058.0        95.0                 5793.306   \n\n       new_cases_per_million  ...  aged_70_older  gdp_per_capita  \\\n25609                  0.000  ...          9.393       24765.954   \n25610                  0.000  ...          9.393       24765.954   \n25611                  0.000  ...          9.393       24765.954   \n25612                  0.000  ...          9.393       24765.954   \n25613                  0.000  ...          9.393       24765.954   \n...                      ...  ...            ...             ...   \n25820                 36.969  ...          9.393       24765.954   \n25821                 37.517  ...          9.393       24765.954   \n25822                 37.750  ...          9.393       24765.954   \n25823                 37.565  ...          9.393       24765.954   \n25824                 37.428  ...          9.393       24765.954   \n\n       extreme_poverty  cardiovasc_death_rate  diabetes_prevalence  \\\n25609              0.1                431.297                 6.18   \n25610              0.1                431.297                 6.18   \n25611              0.1                431.297                 6.18   \n25612              0.1                431.297                 6.18   \n25613              0.1                431.297                 6.18   \n...                ...                    ...                  ...   \n25820              0.1                431.297                 6.18   \n25821              0.1                431.297                 6.18   \n25822              0.1                431.297                 6.18   \n25823              0.1                431.297                 6.18   \n25824              0.1                431.297                 6.18   \n\n       female_smokers  male_smokers  handwashing_facilities  \\\n25609            23.4          58.3                     NaN   \n25610            23.4          58.3                     NaN   \n25611            23.4          58.3                     NaN   \n25612            23.4          58.3                     NaN   \n25613            23.4          58.3                     NaN   \n...               ...           ...                     ...   \n25820            23.4          58.3                     NaN   \n25821            23.4          58.3                     NaN   \n25822            23.4          58.3                     NaN   \n25823            23.4          58.3                     NaN   \n25824            23.4          58.3                     NaN   \n\n      hospital_beds_per_thousand  life_expectancy  \n25609                       8.05            72.58  \n25610                       8.05            72.58  \n25611                       8.05            72.58  \n25612                       8.05            72.58  \n25613                       8.05            72.58  \n...                          ...              ...  \n25820                       8.05            72.58  \n25821                       8.05            72.58  \n25822                       8.05            72.58  \n25823                       8.05            72.58  \n25824                       8.05            72.58  \n\n[216 rows x 34 columns]",
      "text/html": "<div>\n<style scoped>\n    .dataframe tbody tr th:only-of-type {\n        vertical-align: middle;\n    }\n\n    .dataframe tbody tr th {\n        vertical-align: top;\n    }\n\n    .dataframe thead th {\n        text-align: right;\n    }\n</style>\n<table border=\"1\" class=\"dataframe\">\n  <thead>\n    <tr style=\"text-align: right;\">\n      <th></th>\n      <th>iso_code</th>\n      <th>continent</th>\n      <th>location</th>\n      <th>date</th>\n      <th>total_cases</th>\n      <th>new_cases</th>\n      <th>total_deaths</th>\n      <th>new_deaths</th>\n      <th>total_cases_per_million</th>\n      <th>new_cases_per_million</th>\n      <th>...</th>\n      <th>aged_70_older</th>\n      <th>gdp_per_capita</th>\n      <th>extreme_poverty</th>\n      <th>cardiovasc_death_rate</th>\n      <th>diabetes_prevalence</th>\n      <th>female_smokers</th>\n      <th>male_smokers</th>\n      <th>handwashing_facilities</th>\n      <th>hospital_beds_per_thousand</th>\n      <th>life_expectancy</th>\n    </tr>\n  </thead>\n  <tbody>\n    <tr>\n      <th>25609</th>\n      <td>RUS</td>\n      <td>Europe</td>\n      <td>Russia</td>\n      <td>2019-12-31</td>\n      <td>0.0</td>\n      <td>0.0</td>\n      <td>0.0</td>\n      <td>0.0</td>\n      <td>0.000</td>\n      <td>0.000</td>\n      <td>...</td>\n      <td>9.393</td>\n      <td>24765.954</td>\n      <td>0.1</td>\n      <td>431.297</td>\n      <td>6.18</td>\n      <td>23.4</td>\n      <td>58.3</td>\n      <td>NaN</td>\n      <td>8.05</td>\n      <td>72.58</td>\n    </tr>\n    <tr>\n      <th>25610</th>\n      <td>RUS</td>\n      <td>Europe</td>\n      <td>Russia</td>\n      <td>2020-01-01</td>\n      <td>0.0</td>\n      <td>0.0</td>\n      <td>0.0</td>\n      <td>0.0</td>\n      <td>0.000</td>\n      <td>0.000</td>\n      <td>...</td>\n      <td>9.393</td>\n      <td>24765.954</td>\n      <td>0.1</td>\n      <td>431.297</td>\n      <td>6.18</td>\n      <td>23.4</td>\n      <td>58.3</td>\n      <td>NaN</td>\n      <td>8.05</td>\n      <td>72.58</td>\n    </tr>\n    <tr>\n      <th>25611</th>\n      <td>RUS</td>\n      <td>Europe</td>\n      <td>Russia</td>\n      <td>2020-01-02</td>\n      <td>0.0</td>\n      <td>0.0</td>\n      <td>0.0</td>\n      <td>0.0</td>\n      <td>0.000</td>\n      <td>0.000</td>\n      <td>...</td>\n      <td>9.393</td>\n      <td>24765.954</td>\n      <td>0.1</td>\n      <td>431.297</td>\n      <td>6.18</td>\n      <td>23.4</td>\n      <td>58.3</td>\n      <td>NaN</td>\n      <td>8.05</td>\n      <td>72.58</td>\n    </tr>\n    <tr>\n      <th>25612</th>\n      <td>RUS</td>\n      <td>Europe</td>\n      <td>Russia</td>\n      <td>2020-01-03</td>\n      <td>0.0</td>\n      <td>0.0</td>\n      <td>0.0</td>\n      <td>0.0</td>\n      <td>0.000</td>\n      <td>0.000</td>\n      <td>...</td>\n      <td>9.393</td>\n      <td>24765.954</td>\n      <td>0.1</td>\n      <td>431.297</td>\n      <td>6.18</td>\n      <td>23.4</td>\n      <td>58.3</td>\n      <td>NaN</td>\n      <td>8.05</td>\n      <td>72.58</td>\n    </tr>\n    <tr>\n      <th>25613</th>\n      <td>RUS</td>\n      <td>Europe</td>\n      <td>Russia</td>\n      <td>2020-01-04</td>\n      <td>0.0</td>\n      <td>0.0</td>\n      <td>0.0</td>\n      <td>0.0</td>\n      <td>0.000</td>\n      <td>0.000</td>\n      <td>...</td>\n      <td>9.393</td>\n      <td>24765.954</td>\n      <td>0.1</td>\n      <td>431.297</td>\n      <td>6.18</td>\n      <td>23.4</td>\n      <td>58.3</td>\n      <td>NaN</td>\n      <td>8.05</td>\n      <td>72.58</td>\n    </tr>\n    <tr>\n      <th>...</th>\n      <td>...</td>\n      <td>...</td>\n      <td>...</td>\n      <td>...</td>\n      <td>...</td>\n      <td>...</td>\n      <td>...</td>\n      <td>...</td>\n      <td>...</td>\n      <td>...</td>\n      <td>...</td>\n      <td>...</td>\n      <td>...</td>\n      <td>...</td>\n      <td>...</td>\n      <td>...</td>\n      <td>...</td>\n      <td>...</td>\n      <td>...</td>\n      <td>...</td>\n      <td>...</td>\n    </tr>\n    <tr>\n      <th>25820</th>\n      <td>RUS</td>\n      <td>Europe</td>\n      <td>Russia</td>\n      <td>2020-07-29</td>\n      <td>823515.0</td>\n      <td>5395.0</td>\n      <td>13504.0</td>\n      <td>150.0</td>\n      <td>5643.047</td>\n      <td>36.969</td>\n      <td>...</td>\n      <td>9.393</td>\n      <td>24765.954</td>\n      <td>0.1</td>\n      <td>431.297</td>\n      <td>6.18</td>\n      <td>23.4</td>\n      <td>58.3</td>\n      <td>NaN</td>\n      <td>8.05</td>\n      <td>72.58</td>\n    </tr>\n    <tr>\n      <th>25821</th>\n      <td>RUS</td>\n      <td>Europe</td>\n      <td>Russia</td>\n      <td>2020-07-30</td>\n      <td>828990.0</td>\n      <td>5475.0</td>\n      <td>13673.0</td>\n      <td>169.0</td>\n      <td>5680.564</td>\n      <td>37.517</td>\n      <td>...</td>\n      <td>9.393</td>\n      <td>24765.954</td>\n      <td>0.1</td>\n      <td>431.297</td>\n      <td>6.18</td>\n      <td>23.4</td>\n      <td>58.3</td>\n      <td>NaN</td>\n      <td>8.05</td>\n      <td>72.58</td>\n    </tr>\n    <tr>\n      <th>25822</th>\n      <td>RUS</td>\n      <td>Europe</td>\n      <td>Russia</td>\n      <td>2020-07-31</td>\n      <td>834499.0</td>\n      <td>5509.0</td>\n      <td>13802.0</td>\n      <td>129.0</td>\n      <td>5718.314</td>\n      <td>37.750</td>\n      <td>...</td>\n      <td>9.393</td>\n      <td>24765.954</td>\n      <td>0.1</td>\n      <td>431.297</td>\n      <td>6.18</td>\n      <td>23.4</td>\n      <td>58.3</td>\n      <td>NaN</td>\n      <td>8.05</td>\n      <td>72.58</td>\n    </tr>\n    <tr>\n      <th>25823</th>\n      <td>RUS</td>\n      <td>Europe</td>\n      <td>Russia</td>\n      <td>2020-08-01</td>\n      <td>839981.0</td>\n      <td>5482.0</td>\n      <td>13963.0</td>\n      <td>161.0</td>\n      <td>5755.878</td>\n      <td>37.565</td>\n      <td>...</td>\n      <td>9.393</td>\n      <td>24765.954</td>\n      <td>0.1</td>\n      <td>431.297</td>\n      <td>6.18</td>\n      <td>23.4</td>\n      <td>58.3</td>\n      <td>NaN</td>\n      <td>8.05</td>\n      <td>72.58</td>\n    </tr>\n    <tr>\n      <th>25824</th>\n      <td>RUS</td>\n      <td>Europe</td>\n      <td>Russia</td>\n      <td>2020-08-02</td>\n      <td>845443.0</td>\n      <td>5462.0</td>\n      <td>14058.0</td>\n      <td>95.0</td>\n      <td>5793.306</td>\n      <td>37.428</td>\n      <td>...</td>\n      <td>9.393</td>\n      <td>24765.954</td>\n      <td>0.1</td>\n      <td>431.297</td>\n      <td>6.18</td>\n      <td>23.4</td>\n      <td>58.3</td>\n      <td>NaN</td>\n      <td>8.05</td>\n      <td>72.58</td>\n    </tr>\n  </tbody>\n</table>\n<p>216 rows × 34 columns</p>\n</div>"
     },
     "metadata": {},
     "execution_count": 283
    }
   ],
   "source": [
    "dfx = covid1[covid1['location']=='Russia']          #@Natalio666Altube\n",
    "dfx"
   ]
  },
  {
   "cell_type": "code",
   "execution_count": 284,
   "metadata": {},
   "outputs": [],
   "source": [
    "dfx.dropna(subset=['new_cases'],axis=0, inplace=True)       #@Natalio666Altube"
   ]
  },
  {
   "cell_type": "code",
   "execution_count": 285,
   "metadata": {},
   "outputs": [
    {
     "output_type": "execute_result",
     "data": {
      "text/plain": "      iso_code continent location        date  total_cases  new_cases  \\\n25609      RUS    Europe   Russia  2019-12-31          0.0        0.0   \n25610      RUS    Europe   Russia  2020-01-01          0.0        0.0   \n25611      RUS    Europe   Russia  2020-01-02          0.0        0.0   \n25612      RUS    Europe   Russia  2020-01-03          0.0        0.0   \n25613      RUS    Europe   Russia  2020-01-04          0.0        0.0   \n...        ...       ...      ...         ...          ...        ...   \n25820      RUS    Europe   Russia  2020-07-29     823515.0     5395.0   \n25821      RUS    Europe   Russia  2020-07-30     828990.0     5475.0   \n25822      RUS    Europe   Russia  2020-07-31     834499.0     5509.0   \n25823      RUS    Europe   Russia  2020-08-01     839981.0     5482.0   \n25824      RUS    Europe   Russia  2020-08-02     845443.0     5462.0   \n\n       total_deaths  new_deaths  total_cases_per_million  \\\n25609           0.0         0.0                    0.000   \n25610           0.0         0.0                    0.000   \n25611           0.0         0.0                    0.000   \n25612           0.0         0.0                    0.000   \n25613           0.0         0.0                    0.000   \n...             ...         ...                      ...   \n25820       13504.0       150.0                 5643.047   \n25821       13673.0       169.0                 5680.564   \n25822       13802.0       129.0                 5718.314   \n25823       13963.0       161.0                 5755.878   \n25824       14058.0        95.0                 5793.306   \n\n       new_cases_per_million  ...  aged_70_older  gdp_per_capita  \\\n25609                  0.000  ...          9.393       24765.954   \n25610                  0.000  ...          9.393       24765.954   \n25611                  0.000  ...          9.393       24765.954   \n25612                  0.000  ...          9.393       24765.954   \n25613                  0.000  ...          9.393       24765.954   \n...                      ...  ...            ...             ...   \n25820                 36.969  ...          9.393       24765.954   \n25821                 37.517  ...          9.393       24765.954   \n25822                 37.750  ...          9.393       24765.954   \n25823                 37.565  ...          9.393       24765.954   \n25824                 37.428  ...          9.393       24765.954   \n\n       extreme_poverty  cardiovasc_death_rate  diabetes_prevalence  \\\n25609              0.1                431.297                 6.18   \n25610              0.1                431.297                 6.18   \n25611              0.1                431.297                 6.18   \n25612              0.1                431.297                 6.18   \n25613              0.1                431.297                 6.18   \n...                ...                    ...                  ...   \n25820              0.1                431.297                 6.18   \n25821              0.1                431.297                 6.18   \n25822              0.1                431.297                 6.18   \n25823              0.1                431.297                 6.18   \n25824              0.1                431.297                 6.18   \n\n       female_smokers  male_smokers  handwashing_facilities  \\\n25609            23.4          58.3                     NaN   \n25610            23.4          58.3                     NaN   \n25611            23.4          58.3                     NaN   \n25612            23.4          58.3                     NaN   \n25613            23.4          58.3                     NaN   \n...               ...           ...                     ...   \n25820            23.4          58.3                     NaN   \n25821            23.4          58.3                     NaN   \n25822            23.4          58.3                     NaN   \n25823            23.4          58.3                     NaN   \n25824            23.4          58.3                     NaN   \n\n      hospital_beds_per_thousand  life_expectancy  \n25609                       8.05            72.58  \n25610                       8.05            72.58  \n25611                       8.05            72.58  \n25612                       8.05            72.58  \n25613                       8.05            72.58  \n...                          ...              ...  \n25820                       8.05            72.58  \n25821                       8.05            72.58  \n25822                       8.05            72.58  \n25823                       8.05            72.58  \n25824                       8.05            72.58  \n\n[216 rows x 34 columns]",
      "text/html": "<div>\n<style scoped>\n    .dataframe tbody tr th:only-of-type {\n        vertical-align: middle;\n    }\n\n    .dataframe tbody tr th {\n        vertical-align: top;\n    }\n\n    .dataframe thead th {\n        text-align: right;\n    }\n</style>\n<table border=\"1\" class=\"dataframe\">\n  <thead>\n    <tr style=\"text-align: right;\">\n      <th></th>\n      <th>iso_code</th>\n      <th>continent</th>\n      <th>location</th>\n      <th>date</th>\n      <th>total_cases</th>\n      <th>new_cases</th>\n      <th>total_deaths</th>\n      <th>new_deaths</th>\n      <th>total_cases_per_million</th>\n      <th>new_cases_per_million</th>\n      <th>...</th>\n      <th>aged_70_older</th>\n      <th>gdp_per_capita</th>\n      <th>extreme_poverty</th>\n      <th>cardiovasc_death_rate</th>\n      <th>diabetes_prevalence</th>\n      <th>female_smokers</th>\n      <th>male_smokers</th>\n      <th>handwashing_facilities</th>\n      <th>hospital_beds_per_thousand</th>\n      <th>life_expectancy</th>\n    </tr>\n  </thead>\n  <tbody>\n    <tr>\n      <th>25609</th>\n      <td>RUS</td>\n      <td>Europe</td>\n      <td>Russia</td>\n      <td>2019-12-31</td>\n      <td>0.0</td>\n      <td>0.0</td>\n      <td>0.0</td>\n      <td>0.0</td>\n      <td>0.000</td>\n      <td>0.000</td>\n      <td>...</td>\n      <td>9.393</td>\n      <td>24765.954</td>\n      <td>0.1</td>\n      <td>431.297</td>\n      <td>6.18</td>\n      <td>23.4</td>\n      <td>58.3</td>\n      <td>NaN</td>\n      <td>8.05</td>\n      <td>72.58</td>\n    </tr>\n    <tr>\n      <th>25610</th>\n      <td>RUS</td>\n      <td>Europe</td>\n      <td>Russia</td>\n      <td>2020-01-01</td>\n      <td>0.0</td>\n      <td>0.0</td>\n      <td>0.0</td>\n      <td>0.0</td>\n      <td>0.000</td>\n      <td>0.000</td>\n      <td>...</td>\n      <td>9.393</td>\n      <td>24765.954</td>\n      <td>0.1</td>\n      <td>431.297</td>\n      <td>6.18</td>\n      <td>23.4</td>\n      <td>58.3</td>\n      <td>NaN</td>\n      <td>8.05</td>\n      <td>72.58</td>\n    </tr>\n    <tr>\n      <th>25611</th>\n      <td>RUS</td>\n      <td>Europe</td>\n      <td>Russia</td>\n      <td>2020-01-02</td>\n      <td>0.0</td>\n      <td>0.0</td>\n      <td>0.0</td>\n      <td>0.0</td>\n      <td>0.000</td>\n      <td>0.000</td>\n      <td>...</td>\n      <td>9.393</td>\n      <td>24765.954</td>\n      <td>0.1</td>\n      <td>431.297</td>\n      <td>6.18</td>\n      <td>23.4</td>\n      <td>58.3</td>\n      <td>NaN</td>\n      <td>8.05</td>\n      <td>72.58</td>\n    </tr>\n    <tr>\n      <th>25612</th>\n      <td>RUS</td>\n      <td>Europe</td>\n      <td>Russia</td>\n      <td>2020-01-03</td>\n      <td>0.0</td>\n      <td>0.0</td>\n      <td>0.0</td>\n      <td>0.0</td>\n      <td>0.000</td>\n      <td>0.000</td>\n      <td>...</td>\n      <td>9.393</td>\n      <td>24765.954</td>\n      <td>0.1</td>\n      <td>431.297</td>\n      <td>6.18</td>\n      <td>23.4</td>\n      <td>58.3</td>\n      <td>NaN</td>\n      <td>8.05</td>\n      <td>72.58</td>\n    </tr>\n    <tr>\n      <th>25613</th>\n      <td>RUS</td>\n      <td>Europe</td>\n      <td>Russia</td>\n      <td>2020-01-04</td>\n      <td>0.0</td>\n      <td>0.0</td>\n      <td>0.0</td>\n      <td>0.0</td>\n      <td>0.000</td>\n      <td>0.000</td>\n      <td>...</td>\n      <td>9.393</td>\n      <td>24765.954</td>\n      <td>0.1</td>\n      <td>431.297</td>\n      <td>6.18</td>\n      <td>23.4</td>\n      <td>58.3</td>\n      <td>NaN</td>\n      <td>8.05</td>\n      <td>72.58</td>\n    </tr>\n    <tr>\n      <th>...</th>\n      <td>...</td>\n      <td>...</td>\n      <td>...</td>\n      <td>...</td>\n      <td>...</td>\n      <td>...</td>\n      <td>...</td>\n      <td>...</td>\n      <td>...</td>\n      <td>...</td>\n      <td>...</td>\n      <td>...</td>\n      <td>...</td>\n      <td>...</td>\n      <td>...</td>\n      <td>...</td>\n      <td>...</td>\n      <td>...</td>\n      <td>...</td>\n      <td>...</td>\n      <td>...</td>\n    </tr>\n    <tr>\n      <th>25820</th>\n      <td>RUS</td>\n      <td>Europe</td>\n      <td>Russia</td>\n      <td>2020-07-29</td>\n      <td>823515.0</td>\n      <td>5395.0</td>\n      <td>13504.0</td>\n      <td>150.0</td>\n      <td>5643.047</td>\n      <td>36.969</td>\n      <td>...</td>\n      <td>9.393</td>\n      <td>24765.954</td>\n      <td>0.1</td>\n      <td>431.297</td>\n      <td>6.18</td>\n      <td>23.4</td>\n      <td>58.3</td>\n      <td>NaN</td>\n      <td>8.05</td>\n      <td>72.58</td>\n    </tr>\n    <tr>\n      <th>25821</th>\n      <td>RUS</td>\n      <td>Europe</td>\n      <td>Russia</td>\n      <td>2020-07-30</td>\n      <td>828990.0</td>\n      <td>5475.0</td>\n      <td>13673.0</td>\n      <td>169.0</td>\n      <td>5680.564</td>\n      <td>37.517</td>\n      <td>...</td>\n      <td>9.393</td>\n      <td>24765.954</td>\n      <td>0.1</td>\n      <td>431.297</td>\n      <td>6.18</td>\n      <td>23.4</td>\n      <td>58.3</td>\n      <td>NaN</td>\n      <td>8.05</td>\n      <td>72.58</td>\n    </tr>\n    <tr>\n      <th>25822</th>\n      <td>RUS</td>\n      <td>Europe</td>\n      <td>Russia</td>\n      <td>2020-07-31</td>\n      <td>834499.0</td>\n      <td>5509.0</td>\n      <td>13802.0</td>\n      <td>129.0</td>\n      <td>5718.314</td>\n      <td>37.750</td>\n      <td>...</td>\n      <td>9.393</td>\n      <td>24765.954</td>\n      <td>0.1</td>\n      <td>431.297</td>\n      <td>6.18</td>\n      <td>23.4</td>\n      <td>58.3</td>\n      <td>NaN</td>\n      <td>8.05</td>\n      <td>72.58</td>\n    </tr>\n    <tr>\n      <th>25823</th>\n      <td>RUS</td>\n      <td>Europe</td>\n      <td>Russia</td>\n      <td>2020-08-01</td>\n      <td>839981.0</td>\n      <td>5482.0</td>\n      <td>13963.0</td>\n      <td>161.0</td>\n      <td>5755.878</td>\n      <td>37.565</td>\n      <td>...</td>\n      <td>9.393</td>\n      <td>24765.954</td>\n      <td>0.1</td>\n      <td>431.297</td>\n      <td>6.18</td>\n      <td>23.4</td>\n      <td>58.3</td>\n      <td>NaN</td>\n      <td>8.05</td>\n      <td>72.58</td>\n    </tr>\n    <tr>\n      <th>25824</th>\n      <td>RUS</td>\n      <td>Europe</td>\n      <td>Russia</td>\n      <td>2020-08-02</td>\n      <td>845443.0</td>\n      <td>5462.0</td>\n      <td>14058.0</td>\n      <td>95.0</td>\n      <td>5793.306</td>\n      <td>37.428</td>\n      <td>...</td>\n      <td>9.393</td>\n      <td>24765.954</td>\n      <td>0.1</td>\n      <td>431.297</td>\n      <td>6.18</td>\n      <td>23.4</td>\n      <td>58.3</td>\n      <td>NaN</td>\n      <td>8.05</td>\n      <td>72.58</td>\n    </tr>\n  </tbody>\n</table>\n<p>216 rows × 34 columns</p>\n</div>"
     },
     "metadata": {},
     "execution_count": 285
    }
   ],
   "source": [
    "dfx             #@Natalio666Altube"
   ]
  },
  {
   "cell_type": "code",
   "execution_count": 286,
   "metadata": {},
   "outputs": [],
   "source": [
    "dfx= dfx.drop(['iso_code', 'continent', 'total_cases',\n",
    "       'total_deaths', 'new_deaths', 'total_cases_per_million',\n",
    "       'new_cases_per_million', 'total_deaths_per_million',\n",
    "       'new_deaths_per_million', 'new_tests', 'total_tests',\n",
    "       'total_tests_per_thousand', 'new_tests_per_thousand',\n",
    "       'new_tests_smoothed', 'new_tests_smoothed_per_thousand', 'tests_units',\n",
    "       'stringency_index', 'population', 'population_density', 'median_age',\n",
    "       'aged_65_older', 'aged_70_older', 'gdp_per_capita', 'extreme_poverty',\n",
    "       'cardiovasc_death_rate', 'diabetes_prevalence', 'female_smokers',\n",
    "       'male_smokers', 'handwashing_facilities', 'hospital_beds_per_thousand',\n",
    "       'life_expectancy'], axis=1)\n",
    "\n",
    "       #@Natalio666Altube"
   ]
  },
  {
   "cell_type": "code",
   "execution_count": 287,
   "metadata": {},
   "outputs": [
    {
     "output_type": "execute_result",
     "data": {
      "text/plain": "            new_cases\ndate                 \n2019-12-31        0.0\n2020-01-01        0.0\n2020-01-02        0.0\n2020-01-03        0.0\n2020-01-04        0.0\n...               ...\n2020-07-29     5395.0\n2020-07-30     5475.0\n2020-07-31     5509.0\n2020-08-01     5482.0\n2020-08-02     5462.0\n\n[216 rows x 1 columns]",
      "text/html": "<div>\n<style scoped>\n    .dataframe tbody tr th:only-of-type {\n        vertical-align: middle;\n    }\n\n    .dataframe tbody tr th {\n        vertical-align: top;\n    }\n\n    .dataframe thead th {\n        text-align: right;\n    }\n</style>\n<table border=\"1\" class=\"dataframe\">\n  <thead>\n    <tr style=\"text-align: right;\">\n      <th></th>\n      <th>new_cases</th>\n    </tr>\n    <tr>\n      <th>date</th>\n      <th></th>\n    </tr>\n  </thead>\n  <tbody>\n    <tr>\n      <th>2019-12-31</th>\n      <td>0.0</td>\n    </tr>\n    <tr>\n      <th>2020-01-01</th>\n      <td>0.0</td>\n    </tr>\n    <tr>\n      <th>2020-01-02</th>\n      <td>0.0</td>\n    </tr>\n    <tr>\n      <th>2020-01-03</th>\n      <td>0.0</td>\n    </tr>\n    <tr>\n      <th>2020-01-04</th>\n      <td>0.0</td>\n    </tr>\n    <tr>\n      <th>...</th>\n      <td>...</td>\n    </tr>\n    <tr>\n      <th>2020-07-29</th>\n      <td>5395.0</td>\n    </tr>\n    <tr>\n      <th>2020-07-30</th>\n      <td>5475.0</td>\n    </tr>\n    <tr>\n      <th>2020-07-31</th>\n      <td>5509.0</td>\n    </tr>\n    <tr>\n      <th>2020-08-01</th>\n      <td>5482.0</td>\n    </tr>\n    <tr>\n      <th>2020-08-02</th>\n      <td>5462.0</td>\n    </tr>\n  </tbody>\n</table>\n<p>216 rows × 1 columns</p>\n</div>"
     },
     "metadata": {},
     "execution_count": 287
    }
   ],
   "source": [
    "dfx.groupby('date').mean()      #@Natalio666Altube"
   ]
  },
  {
   "cell_type": "code",
   "execution_count": 61,
   "metadata": {},
   "outputs": [],
   "source": [
    "dfx.rename(columns={'new_cases': 'Z_average'},inplace=True)     #@Natalio666Altube"
   ]
  },
  {
   "cell_type": "code",
   "execution_count": 62,
   "metadata": {},
   "outputs": [
    {
     "output_type": "execute_result",
     "data": {
      "text/plain": "      location        date  Z_average\n25453   Russia  2019-12-31        0.0\n25454   Russia  2020-01-01        0.0\n25455   Russia  2020-01-02        0.0\n25456   Russia  2020-01-03        0.0\n25457   Russia  2020-01-04        0.0\n...        ...         ...        ...\n25663   Russia  2020-07-28     5635.0\n25664   Russia  2020-07-29     5395.0\n25665   Russia  2020-07-30     5475.0\n25666   Russia  2020-07-31     5509.0\n25667   Russia  2020-08-01     5482.0\n\n[215 rows x 3 columns]",
      "text/html": "<div>\n<style scoped>\n    .dataframe tbody tr th:only-of-type {\n        vertical-align: middle;\n    }\n\n    .dataframe tbody tr th {\n        vertical-align: top;\n    }\n\n    .dataframe thead th {\n        text-align: right;\n    }\n</style>\n<table border=\"1\" class=\"dataframe\">\n  <thead>\n    <tr style=\"text-align: right;\">\n      <th></th>\n      <th>location</th>\n      <th>date</th>\n      <th>Z_average</th>\n    </tr>\n  </thead>\n  <tbody>\n    <tr>\n      <th>25453</th>\n      <td>Russia</td>\n      <td>2019-12-31</td>\n      <td>0.0</td>\n    </tr>\n    <tr>\n      <th>25454</th>\n      <td>Russia</td>\n      <td>2020-01-01</td>\n      <td>0.0</td>\n    </tr>\n    <tr>\n      <th>25455</th>\n      <td>Russia</td>\n      <td>2020-01-02</td>\n      <td>0.0</td>\n    </tr>\n    <tr>\n      <th>25456</th>\n      <td>Russia</td>\n      <td>2020-01-03</td>\n      <td>0.0</td>\n    </tr>\n    <tr>\n      <th>25457</th>\n      <td>Russia</td>\n      <td>2020-01-04</td>\n      <td>0.0</td>\n    </tr>\n    <tr>\n      <th>...</th>\n      <td>...</td>\n      <td>...</td>\n      <td>...</td>\n    </tr>\n    <tr>\n      <th>25663</th>\n      <td>Russia</td>\n      <td>2020-07-28</td>\n      <td>5635.0</td>\n    </tr>\n    <tr>\n      <th>25664</th>\n      <td>Russia</td>\n      <td>2020-07-29</td>\n      <td>5395.0</td>\n    </tr>\n    <tr>\n      <th>25665</th>\n      <td>Russia</td>\n      <td>2020-07-30</td>\n      <td>5475.0</td>\n    </tr>\n    <tr>\n      <th>25666</th>\n      <td>Russia</td>\n      <td>2020-07-31</td>\n      <td>5509.0</td>\n    </tr>\n    <tr>\n      <th>25667</th>\n      <td>Russia</td>\n      <td>2020-08-01</td>\n      <td>5482.0</td>\n    </tr>\n  </tbody>\n</table>\n<p>215 rows × 3 columns</p>\n</div>"
     },
     "metadata": {},
     "execution_count": 62
    }
   ],
   "source": [
    "dfx         #@Natalio666Altube"
   ]
  },
  {
   "cell_type": "code",
   "execution_count": 63,
   "metadata": {},
   "outputs": [
    {
     "output_type": "display_data",
     "data": {
      "application/vnd.plotly.v1+json": {
       "config": {
        "plotlyServerURL": "https://plot.ly"
       },
       "data": [
        {
         "marker": {
          "color": "red"
         },
         "mode": "lines",
         "type": "scatter",
         "x": [
          "2019-12-31",
          "2020-01-01",
          "2020-01-02",
          "2020-01-03",
          "2020-01-04",
          "2020-01-05",
          "2020-01-06",
          "2020-01-07",
          "2020-01-08",
          "2020-01-09",
          "2020-01-10",
          "2020-01-11",
          "2020-01-12",
          "2020-01-13",
          "2020-01-14",
          "2020-01-15",
          "2020-01-16",
          "2020-01-17",
          "2020-01-18",
          "2020-01-19",
          "2020-01-20",
          "2020-01-21",
          "2020-01-22",
          "2020-01-23",
          "2020-01-24",
          "2020-01-25",
          "2020-01-26",
          "2020-01-27",
          "2020-01-28",
          "2020-01-29",
          "2020-01-30",
          "2020-01-31",
          "2020-02-01",
          "2020-02-02",
          "2020-02-03",
          "2020-02-04",
          "2020-02-05",
          "2020-02-06",
          "2020-02-07",
          "2020-02-08",
          "2020-02-09",
          "2020-02-10",
          "2020-02-11",
          "2020-02-12",
          "2020-02-13",
          "2020-02-14",
          "2020-02-15",
          "2020-02-16",
          "2020-02-17",
          "2020-02-18",
          "2020-02-19",
          "2020-02-20",
          "2020-02-21",
          "2020-02-22",
          "2020-02-23",
          "2020-02-24",
          "2020-02-25",
          "2020-02-26",
          "2020-02-27",
          "2020-02-28",
          "2020-02-29",
          "2020-03-01",
          "2020-03-02",
          "2020-03-03",
          "2020-03-04",
          "2020-03-05",
          "2020-03-06",
          "2020-03-07",
          "2020-03-08",
          "2020-03-09",
          "2020-03-10",
          "2020-03-11",
          "2020-03-12",
          "2020-03-13",
          "2020-03-14",
          "2020-03-15",
          "2020-03-16",
          "2020-03-17",
          "2020-03-18",
          "2020-03-19",
          "2020-03-20",
          "2020-03-21",
          "2020-03-22",
          "2020-03-23",
          "2020-03-24",
          "2020-03-25",
          "2020-03-26",
          "2020-03-27",
          "2020-03-28",
          "2020-03-29",
          "2020-03-30",
          "2020-03-31",
          "2020-04-01",
          "2020-04-02",
          "2020-04-03",
          "2020-04-04",
          "2020-04-05",
          "2020-04-06",
          "2020-04-07",
          "2020-04-08",
          "2020-04-09",
          "2020-04-10",
          "2020-04-11",
          "2020-04-12",
          "2020-04-13",
          "2020-04-14",
          "2020-04-15",
          "2020-04-16",
          "2020-04-17",
          "2020-04-18",
          "2020-04-19",
          "2020-04-20",
          "2020-04-21",
          "2020-04-22",
          "2020-04-23",
          "2020-04-24",
          "2020-04-25",
          "2020-04-26",
          "2020-04-27",
          "2020-04-28",
          "2020-04-29",
          "2020-04-30",
          "2020-05-01",
          "2020-05-02",
          "2020-05-03",
          "2020-05-04",
          "2020-05-05",
          "2020-05-06",
          "2020-05-07",
          "2020-05-08",
          "2020-05-09",
          "2020-05-10",
          "2020-05-11",
          "2020-05-12",
          "2020-05-13",
          "2020-05-14",
          "2020-05-15",
          "2020-05-16",
          "2020-05-17",
          "2020-05-18",
          "2020-05-19",
          "2020-05-20",
          "2020-05-21",
          "2020-05-22",
          "2020-05-23",
          "2020-05-24",
          "2020-05-25",
          "2020-05-26",
          "2020-05-27",
          "2020-05-28",
          "2020-05-29",
          "2020-05-30",
          "2020-05-31",
          "2020-06-01",
          "2020-06-02",
          "2020-06-03",
          "2020-06-04",
          "2020-06-05",
          "2020-06-06",
          "2020-06-07",
          "2020-06-08",
          "2020-06-09",
          "2020-06-10",
          "2020-06-11",
          "2020-06-12",
          "2020-06-13",
          "2020-06-14",
          "2020-06-15",
          "2020-06-16",
          "2020-06-17",
          "2020-06-18",
          "2020-06-19",
          "2020-06-20",
          "2020-06-21",
          "2020-06-22",
          "2020-06-23",
          "2020-06-24",
          "2020-06-25",
          "2020-06-26",
          "2020-06-27",
          "2020-06-28",
          "2020-06-29",
          "2020-06-30",
          "2020-07-01",
          "2020-07-02",
          "2020-07-03",
          "2020-07-04",
          "2020-07-05",
          "2020-07-06",
          "2020-07-07",
          "2020-07-08",
          "2020-07-09",
          "2020-07-10",
          "2020-07-11",
          "2020-07-12",
          "2020-07-13",
          "2020-07-14",
          "2020-07-15",
          "2020-07-16",
          "2020-07-17",
          "2020-07-18",
          "2020-07-19",
          "2020-07-20",
          "2020-07-21",
          "2020-07-22",
          "2020-07-23",
          "2020-07-24",
          "2020-07-25",
          "2020-07-26",
          "2020-07-27",
          "2020-07-28",
          "2020-07-29",
          "2020-07-30",
          "2020-07-31",
          "2020-08-01"
         ],
         "y": [
          0,
          0,
          0,
          0,
          0,
          0,
          0,
          0,
          0,
          0,
          0,
          0,
          0,
          0,
          0,
          0,
          0,
          0,
          0,
          0,
          0,
          0,
          0,
          0,
          0,
          0,
          0,
          0,
          0,
          0,
          0,
          0,
          2,
          0,
          0,
          0,
          0,
          0,
          0,
          0,
          0,
          0,
          0,
          0,
          0,
          0,
          0,
          0,
          0,
          0,
          0,
          0,
          0,
          0,
          0,
          0,
          0,
          0,
          0,
          0,
          0,
          0,
          0,
          1,
          1,
          0,
          0,
          6,
          0,
          0,
          0,
          0,
          15,
          5,
          15,
          14,
          4,
          30,
          21,
          33,
          52,
          54,
          53,
          132,
          0,
          57,
          163,
          182,
          196,
          228,
          270,
          302,
          501,
          440,
          771,
          601,
          582,
          658,
          954,
          1154,
          1175,
          1459,
          1786,
          1667,
          2186,
          2558,
          2774,
          3388,
          3448,
          4070,
          4785,
          6060,
          4268,
          5642,
          5236,
          4774,
          5849,
          5966,
          6361,
          6198,
          6411,
          5841,
          7099,
          7933,
          9623,
          10633,
          10581,
          10102,
          10559,
          11231,
          10699,
          10817,
          11012,
          11656,
          10899,
          10028,
          9974,
          10598,
          9200,
          9709,
          8926,
          9263,
          8764,
          8849,
          8894,
          9434,
          8599,
          8946,
          8915,
          8338,
          8371,
          8572,
          8952,
          9268,
          9035,
          8863,
          8536,
          8831,
          8726,
          8855,
          8984,
          8985,
          8595,
          8404,
          8779,
          8987,
          8706,
          8835,
          8246,
          8248,
          7843,
          7790,
          7972,
          7889,
          7728,
          7600,
          7425,
          7176,
          7113,
          6800,
          6852,
          6791,
          6719,
          6693,
          6556,
          6760,
          6718,
          6632,
          6736,
          6611,
          6368,
          6562,
          6509,
          6635,
          6611,
          6615,
          6537,
          6248,
          6422,
          6428,
          12640,
          6109,
          0,
          5940,
          5842,
          5862,
          5848,
          5811,
          5871,
          5765,
          5635,
          5395,
          5475,
          5509,
          5482
         ]
        }
       ],
       "layout": {
        "template": {
         "data": {
          "bar": [
           {
            "error_x": {
             "color": "#2a3f5f"
            },
            "error_y": {
             "color": "#2a3f5f"
            },
            "marker": {
             "line": {
              "color": "#E5ECF6",
              "width": 0.5
             }
            },
            "type": "bar"
           }
          ],
          "barpolar": [
           {
            "marker": {
             "line": {
              "color": "#E5ECF6",
              "width": 0.5
             }
            },
            "type": "barpolar"
           }
          ],
          "carpet": [
           {
            "aaxis": {
             "endlinecolor": "#2a3f5f",
             "gridcolor": "white",
             "linecolor": "white",
             "minorgridcolor": "white",
             "startlinecolor": "#2a3f5f"
            },
            "baxis": {
             "endlinecolor": "#2a3f5f",
             "gridcolor": "white",
             "linecolor": "white",
             "minorgridcolor": "white",
             "startlinecolor": "#2a3f5f"
            },
            "type": "carpet"
           }
          ],
          "choropleth": [
           {
            "colorbar": {
             "outlinewidth": 0,
             "ticks": ""
            },
            "type": "choropleth"
           }
          ],
          "contour": [
           {
            "colorbar": {
             "outlinewidth": 0,
             "ticks": ""
            },
            "colorscale": [
             [
              0,
              "#0d0887"
             ],
             [
              0.1111111111111111,
              "#46039f"
             ],
             [
              0.2222222222222222,
              "#7201a8"
             ],
             [
              0.3333333333333333,
              "#9c179e"
             ],
             [
              0.4444444444444444,
              "#bd3786"
             ],
             [
              0.5555555555555556,
              "#d8576b"
             ],
             [
              0.6666666666666666,
              "#ed7953"
             ],
             [
              0.7777777777777778,
              "#fb9f3a"
             ],
             [
              0.8888888888888888,
              "#fdca26"
             ],
             [
              1,
              "#f0f921"
             ]
            ],
            "type": "contour"
           }
          ],
          "contourcarpet": [
           {
            "colorbar": {
             "outlinewidth": 0,
             "ticks": ""
            },
            "type": "contourcarpet"
           }
          ],
          "heatmap": [
           {
            "colorbar": {
             "outlinewidth": 0,
             "ticks": ""
            },
            "colorscale": [
             [
              0,
              "#0d0887"
             ],
             [
              0.1111111111111111,
              "#46039f"
             ],
             [
              0.2222222222222222,
              "#7201a8"
             ],
             [
              0.3333333333333333,
              "#9c179e"
             ],
             [
              0.4444444444444444,
              "#bd3786"
             ],
             [
              0.5555555555555556,
              "#d8576b"
             ],
             [
              0.6666666666666666,
              "#ed7953"
             ],
             [
              0.7777777777777778,
              "#fb9f3a"
             ],
             [
              0.8888888888888888,
              "#fdca26"
             ],
             [
              1,
              "#f0f921"
             ]
            ],
            "type": "heatmap"
           }
          ],
          "heatmapgl": [
           {
            "colorbar": {
             "outlinewidth": 0,
             "ticks": ""
            },
            "colorscale": [
             [
              0,
              "#0d0887"
             ],
             [
              0.1111111111111111,
              "#46039f"
             ],
             [
              0.2222222222222222,
              "#7201a8"
             ],
             [
              0.3333333333333333,
              "#9c179e"
             ],
             [
              0.4444444444444444,
              "#bd3786"
             ],
             [
              0.5555555555555556,
              "#d8576b"
             ],
             [
              0.6666666666666666,
              "#ed7953"
             ],
             [
              0.7777777777777778,
              "#fb9f3a"
             ],
             [
              0.8888888888888888,
              "#fdca26"
             ],
             [
              1,
              "#f0f921"
             ]
            ],
            "type": "heatmapgl"
           }
          ],
          "histogram": [
           {
            "marker": {
             "colorbar": {
              "outlinewidth": 0,
              "ticks": ""
             }
            },
            "type": "histogram"
           }
          ],
          "histogram2d": [
           {
            "colorbar": {
             "outlinewidth": 0,
             "ticks": ""
            },
            "colorscale": [
             [
              0,
              "#0d0887"
             ],
             [
              0.1111111111111111,
              "#46039f"
             ],
             [
              0.2222222222222222,
              "#7201a8"
             ],
             [
              0.3333333333333333,
              "#9c179e"
             ],
             [
              0.4444444444444444,
              "#bd3786"
             ],
             [
              0.5555555555555556,
              "#d8576b"
             ],
             [
              0.6666666666666666,
              "#ed7953"
             ],
             [
              0.7777777777777778,
              "#fb9f3a"
             ],
             [
              0.8888888888888888,
              "#fdca26"
             ],
             [
              1,
              "#f0f921"
             ]
            ],
            "type": "histogram2d"
           }
          ],
          "histogram2dcontour": [
           {
            "colorbar": {
             "outlinewidth": 0,
             "ticks": ""
            },
            "colorscale": [
             [
              0,
              "#0d0887"
             ],
             [
              0.1111111111111111,
              "#46039f"
             ],
             [
              0.2222222222222222,
              "#7201a8"
             ],
             [
              0.3333333333333333,
              "#9c179e"
             ],
             [
              0.4444444444444444,
              "#bd3786"
             ],
             [
              0.5555555555555556,
              "#d8576b"
             ],
             [
              0.6666666666666666,
              "#ed7953"
             ],
             [
              0.7777777777777778,
              "#fb9f3a"
             ],
             [
              0.8888888888888888,
              "#fdca26"
             ],
             [
              1,
              "#f0f921"
             ]
            ],
            "type": "histogram2dcontour"
           }
          ],
          "mesh3d": [
           {
            "colorbar": {
             "outlinewidth": 0,
             "ticks": ""
            },
            "type": "mesh3d"
           }
          ],
          "parcoords": [
           {
            "line": {
             "colorbar": {
              "outlinewidth": 0,
              "ticks": ""
             }
            },
            "type": "parcoords"
           }
          ],
          "pie": [
           {
            "automargin": true,
            "type": "pie"
           }
          ],
          "scatter": [
           {
            "marker": {
             "colorbar": {
              "outlinewidth": 0,
              "ticks": ""
             }
            },
            "type": "scatter"
           }
          ],
          "scatter3d": [
           {
            "line": {
             "colorbar": {
              "outlinewidth": 0,
              "ticks": ""
             }
            },
            "marker": {
             "colorbar": {
              "outlinewidth": 0,
              "ticks": ""
             }
            },
            "type": "scatter3d"
           }
          ],
          "scattercarpet": [
           {
            "marker": {
             "colorbar": {
              "outlinewidth": 0,
              "ticks": ""
             }
            },
            "type": "scattercarpet"
           }
          ],
          "scattergeo": [
           {
            "marker": {
             "colorbar": {
              "outlinewidth": 0,
              "ticks": ""
             }
            },
            "type": "scattergeo"
           }
          ],
          "scattergl": [
           {
            "marker": {
             "colorbar": {
              "outlinewidth": 0,
              "ticks": ""
             }
            },
            "type": "scattergl"
           }
          ],
          "scattermapbox": [
           {
            "marker": {
             "colorbar": {
              "outlinewidth": 0,
              "ticks": ""
             }
            },
            "type": "scattermapbox"
           }
          ],
          "scatterpolar": [
           {
            "marker": {
             "colorbar": {
              "outlinewidth": 0,
              "ticks": ""
             }
            },
            "type": "scatterpolar"
           }
          ],
          "scatterpolargl": [
           {
            "marker": {
             "colorbar": {
              "outlinewidth": 0,
              "ticks": ""
             }
            },
            "type": "scatterpolargl"
           }
          ],
          "scatterternary": [
           {
            "marker": {
             "colorbar": {
              "outlinewidth": 0,
              "ticks": ""
             }
            },
            "type": "scatterternary"
           }
          ],
          "surface": [
           {
            "colorbar": {
             "outlinewidth": 0,
             "ticks": ""
            },
            "colorscale": [
             [
              0,
              "#0d0887"
             ],
             [
              0.1111111111111111,
              "#46039f"
             ],
             [
              0.2222222222222222,
              "#7201a8"
             ],
             [
              0.3333333333333333,
              "#9c179e"
             ],
             [
              0.4444444444444444,
              "#bd3786"
             ],
             [
              0.5555555555555556,
              "#d8576b"
             ],
             [
              0.6666666666666666,
              "#ed7953"
             ],
             [
              0.7777777777777778,
              "#fb9f3a"
             ],
             [
              0.8888888888888888,
              "#fdca26"
             ],
             [
              1,
              "#f0f921"
             ]
            ],
            "type": "surface"
           }
          ],
          "table": [
           {
            "cells": {
             "fill": {
              "color": "#EBF0F8"
             },
             "line": {
              "color": "white"
             }
            },
            "header": {
             "fill": {
              "color": "#C8D4E3"
             },
             "line": {
              "color": "white"
             }
            },
            "type": "table"
           }
          ]
         },
         "layout": {
          "annotationdefaults": {
           "arrowcolor": "#2a3f5f",
           "arrowhead": 0,
           "arrowwidth": 1
          },
          "coloraxis": {
           "colorbar": {
            "outlinewidth": 0,
            "ticks": ""
           }
          },
          "colorscale": {
           "diverging": [
            [
             0,
             "#8e0152"
            ],
            [
             0.1,
             "#c51b7d"
            ],
            [
             0.2,
             "#de77ae"
            ],
            [
             0.3,
             "#f1b6da"
            ],
            [
             0.4,
             "#fde0ef"
            ],
            [
             0.5,
             "#f7f7f7"
            ],
            [
             0.6,
             "#e6f5d0"
            ],
            [
             0.7,
             "#b8e186"
            ],
            [
             0.8,
             "#7fbc41"
            ],
            [
             0.9,
             "#4d9221"
            ],
            [
             1,
             "#276419"
            ]
           ],
           "sequential": [
            [
             0,
             "#0d0887"
            ],
            [
             0.1111111111111111,
             "#46039f"
            ],
            [
             0.2222222222222222,
             "#7201a8"
            ],
            [
             0.3333333333333333,
             "#9c179e"
            ],
            [
             0.4444444444444444,
             "#bd3786"
            ],
            [
             0.5555555555555556,
             "#d8576b"
            ],
            [
             0.6666666666666666,
             "#ed7953"
            ],
            [
             0.7777777777777778,
             "#fb9f3a"
            ],
            [
             0.8888888888888888,
             "#fdca26"
            ],
            [
             1,
             "#f0f921"
            ]
           ],
           "sequentialminus": [
            [
             0,
             "#0d0887"
            ],
            [
             0.1111111111111111,
             "#46039f"
            ],
            [
             0.2222222222222222,
             "#7201a8"
            ],
            [
             0.3333333333333333,
             "#9c179e"
            ],
            [
             0.4444444444444444,
             "#bd3786"
            ],
            [
             0.5555555555555556,
             "#d8576b"
            ],
            [
             0.6666666666666666,
             "#ed7953"
            ],
            [
             0.7777777777777778,
             "#fb9f3a"
            ],
            [
             0.8888888888888888,
             "#fdca26"
            ],
            [
             1,
             "#f0f921"
            ]
           ]
          },
          "colorway": [
           "#636efa",
           "#EF553B",
           "#00cc96",
           "#ab63fa",
           "#FFA15A",
           "#19d3f3",
           "#FF6692",
           "#B6E880",
           "#FF97FF",
           "#FECB52"
          ],
          "font": {
           "color": "#2a3f5f"
          },
          "geo": {
           "bgcolor": "white",
           "lakecolor": "white",
           "landcolor": "#E5ECF6",
           "showlakes": true,
           "showland": true,
           "subunitcolor": "white"
          },
          "hoverlabel": {
           "align": "left"
          },
          "hovermode": "closest",
          "mapbox": {
           "style": "light"
          },
          "paper_bgcolor": "white",
          "plot_bgcolor": "#E5ECF6",
          "polar": {
           "angularaxis": {
            "gridcolor": "white",
            "linecolor": "white",
            "ticks": ""
           },
           "bgcolor": "#E5ECF6",
           "radialaxis": {
            "gridcolor": "white",
            "linecolor": "white",
            "ticks": ""
           }
          },
          "scene": {
           "xaxis": {
            "backgroundcolor": "#E5ECF6",
            "gridcolor": "white",
            "gridwidth": 2,
            "linecolor": "white",
            "showbackground": true,
            "ticks": "",
            "zerolinecolor": "white"
           },
           "yaxis": {
            "backgroundcolor": "#E5ECF6",
            "gridcolor": "white",
            "gridwidth": 2,
            "linecolor": "white",
            "showbackground": true,
            "ticks": "",
            "zerolinecolor": "white"
           },
           "zaxis": {
            "backgroundcolor": "#E5ECF6",
            "gridcolor": "white",
            "gridwidth": 2,
            "linecolor": "white",
            "showbackground": true,
            "ticks": "",
            "zerolinecolor": "white"
           }
          },
          "shapedefaults": {
           "line": {
            "color": "#2a3f5f"
           }
          },
          "ternary": {
           "aaxis": {
            "gridcolor": "white",
            "linecolor": "white",
            "ticks": ""
           },
           "baxis": {
            "gridcolor": "white",
            "linecolor": "white",
            "ticks": ""
           },
           "bgcolor": "#E5ECF6",
           "caxis": {
            "gridcolor": "white",
            "linecolor": "white",
            "ticks": ""
           }
          },
          "title": {
           "x": 0.05
          },
          "xaxis": {
           "automargin": true,
           "gridcolor": "white",
           "linecolor": "white",
           "ticks": "",
           "title": {
            "standoff": 15
           },
           "zerolinecolor": "white",
           "zerolinewidth": 2
          },
          "yaxis": {
           "automargin": true,
           "gridcolor": "white",
           "linecolor": "white",
           "ticks": "",
           "title": {
            "standoff": 15
           },
           "zerolinecolor": "white",
           "zerolinewidth": 2
          }
         }
        },
        "title": {
         "text": "Number of COVID cases over time in Russia"
        },
        "xaxis": {
         "title": {
          "text": "Date"
         }
        },
        "yaxis": {
         "title": {
          "text": "Number of cases"
         }
        }
       }
      }
     },
     "metadata": {}
    }
   ],
   "source": [
    "fig = go.Figure(data=go.Scatter(x=dfx['date'],y=dfx['Z_average'],mode='lines',marker_color='red')) # hover text goes here\n",
    "fig.update_layout(title='Number of COVID cases over time in Russia',xaxis_title=\"Date\",yaxis_title=\"Number of cases\")\n",
    "fig.show()          #@Natalio666Altube"
   ]
  },
  {
   "cell_type": "code",
   "execution_count": 180,
   "metadata": {},
   "outputs": [
    {
     "output_type": "display_data",
     "data": {
      "application/vnd.plotly.v1+json": {
       "config": {
        "plotlyServerURL": "https://plot.ly"
       },
       "data": [
        {
         "boxmean": true,
         "marker": {
          "color": "green"
         },
         "name": "Z",
         "type": "box",
         "y": [
          0,
          0,
          0,
          0,
          0,
          0,
          0,
          0,
          0,
          0,
          0,
          0,
          0,
          0,
          0,
          0,
          0,
          0,
          0,
          0,
          0,
          0,
          0,
          0,
          0,
          0,
          0,
          0,
          0,
          0,
          0,
          0,
          2,
          0,
          0,
          0,
          0,
          0,
          0,
          0,
          0,
          0,
          0,
          0,
          0,
          0,
          0,
          0,
          0,
          0,
          0,
          0,
          0,
          0,
          0,
          0,
          0,
          0,
          0,
          0,
          0,
          0,
          0,
          1,
          1,
          0,
          0,
          6,
          0,
          0,
          0,
          0,
          15,
          5,
          15,
          14,
          4,
          30,
          21,
          33,
          52,
          54,
          53,
          132,
          0,
          57,
          163,
          182,
          196,
          228,
          270,
          302,
          501,
          440,
          771,
          601,
          582,
          658,
          954,
          1154,
          1175,
          1459,
          1786,
          1667,
          2186,
          2558,
          2774,
          3388,
          3448,
          4070,
          4785,
          6060,
          4268,
          5642,
          5236,
          4774,
          5849,
          5966,
          6361,
          6198,
          6411,
          5841,
          7099,
          7933,
          9623,
          10633,
          10581,
          10102,
          10559,
          11231,
          10699,
          10817,
          11012,
          11656,
          10899,
          10028,
          9974,
          10598,
          9200,
          9709,
          8926,
          9263,
          8764,
          8849,
          8894,
          9434,
          8599,
          8946,
          8915,
          8338,
          8371,
          8572,
          8952,
          9268,
          9035,
          8863,
          8536,
          8831,
          8726,
          8855,
          8984,
          8985,
          8595,
          8404,
          8779,
          8987,
          8706,
          8835,
          8246,
          8248,
          7843,
          7790,
          7972,
          7889,
          7728,
          7600,
          7425,
          7176,
          7113,
          6800,
          6852,
          6791,
          6719,
          6693,
          6556,
          6760,
          6718,
          6632,
          6736,
          6611,
          6368,
          6562,
          6509,
          6635,
          6611,
          6615,
          6537,
          6248,
          6422,
          6428,
          12640,
          6109,
          0,
          5940,
          5842,
          5862,
          5848,
          5811,
          5871,
          5765,
          5635,
          5395,
          5475,
          5509
         ]
        },
        {
         "boxmean": "sd",
         "marker": {
          "color": "darkorchid"
         },
         "name": "D",
         "type": "box",
         "y": [
          "2019-12-31",
          "2020-01-01",
          "2020-01-02",
          "2020-01-03",
          "2020-01-04",
          "2020-01-05",
          "2020-01-06",
          "2020-01-07",
          "2020-01-08",
          "2020-01-09",
          "2020-01-10",
          "2020-01-11",
          "2020-01-12",
          "2020-01-13",
          "2020-01-14",
          "2020-01-15",
          "2020-01-16",
          "2020-01-17",
          "2020-01-18",
          "2020-01-19",
          "2020-01-20",
          "2020-01-21",
          "2020-01-22",
          "2020-01-23",
          "2020-01-24",
          "2020-01-25",
          "2020-01-26",
          "2020-01-27",
          "2020-01-28",
          "2020-01-29",
          "2020-01-30",
          "2020-01-31",
          "2020-02-01",
          "2020-02-02",
          "2020-02-03",
          "2020-02-04",
          "2020-02-05",
          "2020-02-06",
          "2020-02-07",
          "2020-02-08",
          "2020-02-09",
          "2020-02-10",
          "2020-02-11",
          "2020-02-12",
          "2020-02-13",
          "2020-02-14",
          "2020-02-15",
          "2020-02-16",
          "2020-02-17",
          "2020-02-18",
          "2020-02-19",
          "2020-02-20",
          "2020-02-21",
          "2020-02-22",
          "2020-02-23",
          "2020-02-24",
          "2020-02-25",
          "2020-02-26",
          "2020-02-27",
          "2020-02-28",
          "2020-02-29",
          "2020-03-01",
          "2020-03-02",
          "2020-03-03",
          "2020-03-04",
          "2020-03-05",
          "2020-03-06",
          "2020-03-07",
          "2020-03-08",
          "2020-03-09",
          "2020-03-10",
          "2020-03-11",
          "2020-03-12",
          "2020-03-13",
          "2020-03-14",
          "2020-03-15",
          "2020-03-16",
          "2020-03-17",
          "2020-03-18",
          "2020-03-19",
          "2020-03-20",
          "2020-03-21",
          "2020-03-22",
          "2020-03-23",
          "2020-03-24",
          "2020-03-25",
          "2020-03-26",
          "2020-03-27",
          "2020-03-28",
          "2020-03-29",
          "2020-03-30",
          "2020-03-31",
          "2020-04-01",
          "2020-04-02",
          "2020-04-03",
          "2020-04-04",
          "2020-04-05",
          "2020-04-06",
          "2020-04-07",
          "2020-04-08",
          "2020-04-09",
          "2020-04-10",
          "2020-04-11",
          "2020-04-12",
          "2020-04-13",
          "2020-04-14",
          "2020-04-15",
          "2020-04-16",
          "2020-04-17",
          "2020-04-18",
          "2020-04-19",
          "2020-04-20",
          "2020-04-21",
          "2020-04-22",
          "2020-04-23",
          "2020-04-24",
          "2020-04-25",
          "2020-04-26",
          "2020-04-27",
          "2020-04-28",
          "2020-04-29",
          "2020-04-30",
          "2020-05-01",
          "2020-05-02",
          "2020-05-03",
          "2020-05-04",
          "2020-05-05",
          "2020-05-06",
          "2020-05-07",
          "2020-05-08",
          "2020-05-09",
          "2020-05-10",
          "2020-05-11",
          "2020-05-12",
          "2020-05-13",
          "2020-05-14",
          "2020-05-15",
          "2020-05-16",
          "2020-05-17",
          "2020-05-18",
          "2020-05-19",
          "2020-05-20",
          "2020-05-21",
          "2020-05-22",
          "2020-05-23",
          "2020-05-24",
          "2020-05-25",
          "2020-05-26",
          "2020-05-27",
          "2020-05-28",
          "2020-05-29",
          "2020-05-30",
          "2020-05-31",
          "2020-06-01",
          "2020-06-02",
          "2020-06-03",
          "2020-06-04",
          "2020-06-05",
          "2020-06-06",
          "2020-06-07",
          "2020-06-08",
          "2020-06-09",
          "2020-06-10",
          "2020-06-11",
          "2020-06-12",
          "2020-06-13",
          "2020-06-14",
          "2020-06-15",
          "2020-06-16",
          "2020-06-17",
          "2020-06-18",
          "2020-06-19",
          "2020-06-20",
          "2020-06-21",
          "2020-06-22",
          "2020-06-23",
          "2020-06-24",
          "2020-06-25",
          "2020-06-26",
          "2020-06-27",
          "2020-06-28",
          "2020-06-29",
          "2020-06-30",
          "2020-07-01",
          "2020-07-02",
          "2020-07-03",
          "2020-07-04",
          "2020-07-05",
          "2020-07-06",
          "2020-07-07",
          "2020-07-08",
          "2020-07-09",
          "2020-07-10",
          "2020-07-11",
          "2020-07-12",
          "2020-07-13",
          "2020-07-14",
          "2020-07-15",
          "2020-07-16",
          "2020-07-17",
          "2020-07-18",
          "2020-07-19",
          "2020-07-20",
          "2020-07-21",
          "2020-07-22",
          "2020-07-23",
          "2020-07-24",
          "2020-07-25",
          "2020-07-26",
          "2020-07-27",
          "2020-07-28",
          "2020-07-29",
          "2020-07-30",
          "2020-07-31"
         ]
        }
       ],
       "layout": {
        "template": {
         "data": {
          "bar": [
           {
            "error_x": {
             "color": "#2a3f5f"
            },
            "error_y": {
             "color": "#2a3f5f"
            },
            "marker": {
             "line": {
              "color": "#E5ECF6",
              "width": 0.5
             }
            },
            "type": "bar"
           }
          ],
          "barpolar": [
           {
            "marker": {
             "line": {
              "color": "#E5ECF6",
              "width": 0.5
             }
            },
            "type": "barpolar"
           }
          ],
          "carpet": [
           {
            "aaxis": {
             "endlinecolor": "#2a3f5f",
             "gridcolor": "white",
             "linecolor": "white",
             "minorgridcolor": "white",
             "startlinecolor": "#2a3f5f"
            },
            "baxis": {
             "endlinecolor": "#2a3f5f",
             "gridcolor": "white",
             "linecolor": "white",
             "minorgridcolor": "white",
             "startlinecolor": "#2a3f5f"
            },
            "type": "carpet"
           }
          ],
          "choropleth": [
           {
            "colorbar": {
             "outlinewidth": 0,
             "ticks": ""
            },
            "type": "choropleth"
           }
          ],
          "contour": [
           {
            "colorbar": {
             "outlinewidth": 0,
             "ticks": ""
            },
            "colorscale": [
             [
              0,
              "#0d0887"
             ],
             [
              0.1111111111111111,
              "#46039f"
             ],
             [
              0.2222222222222222,
              "#7201a8"
             ],
             [
              0.3333333333333333,
              "#9c179e"
             ],
             [
              0.4444444444444444,
              "#bd3786"
             ],
             [
              0.5555555555555556,
              "#d8576b"
             ],
             [
              0.6666666666666666,
              "#ed7953"
             ],
             [
              0.7777777777777778,
              "#fb9f3a"
             ],
             [
              0.8888888888888888,
              "#fdca26"
             ],
             [
              1,
              "#f0f921"
             ]
            ],
            "type": "contour"
           }
          ],
          "contourcarpet": [
           {
            "colorbar": {
             "outlinewidth": 0,
             "ticks": ""
            },
            "type": "contourcarpet"
           }
          ],
          "heatmap": [
           {
            "colorbar": {
             "outlinewidth": 0,
             "ticks": ""
            },
            "colorscale": [
             [
              0,
              "#0d0887"
             ],
             [
              0.1111111111111111,
              "#46039f"
             ],
             [
              0.2222222222222222,
              "#7201a8"
             ],
             [
              0.3333333333333333,
              "#9c179e"
             ],
             [
              0.4444444444444444,
              "#bd3786"
             ],
             [
              0.5555555555555556,
              "#d8576b"
             ],
             [
              0.6666666666666666,
              "#ed7953"
             ],
             [
              0.7777777777777778,
              "#fb9f3a"
             ],
             [
              0.8888888888888888,
              "#fdca26"
             ],
             [
              1,
              "#f0f921"
             ]
            ],
            "type": "heatmap"
           }
          ],
          "heatmapgl": [
           {
            "colorbar": {
             "outlinewidth": 0,
             "ticks": ""
            },
            "colorscale": [
             [
              0,
              "#0d0887"
             ],
             [
              0.1111111111111111,
              "#46039f"
             ],
             [
              0.2222222222222222,
              "#7201a8"
             ],
             [
              0.3333333333333333,
              "#9c179e"
             ],
             [
              0.4444444444444444,
              "#bd3786"
             ],
             [
              0.5555555555555556,
              "#d8576b"
             ],
             [
              0.6666666666666666,
              "#ed7953"
             ],
             [
              0.7777777777777778,
              "#fb9f3a"
             ],
             [
              0.8888888888888888,
              "#fdca26"
             ],
             [
              1,
              "#f0f921"
             ]
            ],
            "type": "heatmapgl"
           }
          ],
          "histogram": [
           {
            "marker": {
             "colorbar": {
              "outlinewidth": 0,
              "ticks": ""
             }
            },
            "type": "histogram"
           }
          ],
          "histogram2d": [
           {
            "colorbar": {
             "outlinewidth": 0,
             "ticks": ""
            },
            "colorscale": [
             [
              0,
              "#0d0887"
             ],
             [
              0.1111111111111111,
              "#46039f"
             ],
             [
              0.2222222222222222,
              "#7201a8"
             ],
             [
              0.3333333333333333,
              "#9c179e"
             ],
             [
              0.4444444444444444,
              "#bd3786"
             ],
             [
              0.5555555555555556,
              "#d8576b"
             ],
             [
              0.6666666666666666,
              "#ed7953"
             ],
             [
              0.7777777777777778,
              "#fb9f3a"
             ],
             [
              0.8888888888888888,
              "#fdca26"
             ],
             [
              1,
              "#f0f921"
             ]
            ],
            "type": "histogram2d"
           }
          ],
          "histogram2dcontour": [
           {
            "colorbar": {
             "outlinewidth": 0,
             "ticks": ""
            },
            "colorscale": [
             [
              0,
              "#0d0887"
             ],
             [
              0.1111111111111111,
              "#46039f"
             ],
             [
              0.2222222222222222,
              "#7201a8"
             ],
             [
              0.3333333333333333,
              "#9c179e"
             ],
             [
              0.4444444444444444,
              "#bd3786"
             ],
             [
              0.5555555555555556,
              "#d8576b"
             ],
             [
              0.6666666666666666,
              "#ed7953"
             ],
             [
              0.7777777777777778,
              "#fb9f3a"
             ],
             [
              0.8888888888888888,
              "#fdca26"
             ],
             [
              1,
              "#f0f921"
             ]
            ],
            "type": "histogram2dcontour"
           }
          ],
          "mesh3d": [
           {
            "colorbar": {
             "outlinewidth": 0,
             "ticks": ""
            },
            "type": "mesh3d"
           }
          ],
          "parcoords": [
           {
            "line": {
             "colorbar": {
              "outlinewidth": 0,
              "ticks": ""
             }
            },
            "type": "parcoords"
           }
          ],
          "pie": [
           {
            "automargin": true,
            "type": "pie"
           }
          ],
          "scatter": [
           {
            "marker": {
             "colorbar": {
              "outlinewidth": 0,
              "ticks": ""
             }
            },
            "type": "scatter"
           }
          ],
          "scatter3d": [
           {
            "line": {
             "colorbar": {
              "outlinewidth": 0,
              "ticks": ""
             }
            },
            "marker": {
             "colorbar": {
              "outlinewidth": 0,
              "ticks": ""
             }
            },
            "type": "scatter3d"
           }
          ],
          "scattercarpet": [
           {
            "marker": {
             "colorbar": {
              "outlinewidth": 0,
              "ticks": ""
             }
            },
            "type": "scattercarpet"
           }
          ],
          "scattergeo": [
           {
            "marker": {
             "colorbar": {
              "outlinewidth": 0,
              "ticks": ""
             }
            },
            "type": "scattergeo"
           }
          ],
          "scattergl": [
           {
            "marker": {
             "colorbar": {
              "outlinewidth": 0,
              "ticks": ""
             }
            },
            "type": "scattergl"
           }
          ],
          "scattermapbox": [
           {
            "marker": {
             "colorbar": {
              "outlinewidth": 0,
              "ticks": ""
             }
            },
            "type": "scattermapbox"
           }
          ],
          "scatterpolar": [
           {
            "marker": {
             "colorbar": {
              "outlinewidth": 0,
              "ticks": ""
             }
            },
            "type": "scatterpolar"
           }
          ],
          "scatterpolargl": [
           {
            "marker": {
             "colorbar": {
              "outlinewidth": 0,
              "ticks": ""
             }
            },
            "type": "scatterpolargl"
           }
          ],
          "scatterternary": [
           {
            "marker": {
             "colorbar": {
              "outlinewidth": 0,
              "ticks": ""
             }
            },
            "type": "scatterternary"
           }
          ],
          "surface": [
           {
            "colorbar": {
             "outlinewidth": 0,
             "ticks": ""
            },
            "colorscale": [
             [
              0,
              "#0d0887"
             ],
             [
              0.1111111111111111,
              "#46039f"
             ],
             [
              0.2222222222222222,
              "#7201a8"
             ],
             [
              0.3333333333333333,
              "#9c179e"
             ],
             [
              0.4444444444444444,
              "#bd3786"
             ],
             [
              0.5555555555555556,
              "#d8576b"
             ],
             [
              0.6666666666666666,
              "#ed7953"
             ],
             [
              0.7777777777777778,
              "#fb9f3a"
             ],
             [
              0.8888888888888888,
              "#fdca26"
             ],
             [
              1,
              "#f0f921"
             ]
            ],
            "type": "surface"
           }
          ],
          "table": [
           {
            "cells": {
             "fill": {
              "color": "#EBF0F8"
             },
             "line": {
              "color": "white"
             }
            },
            "header": {
             "fill": {
              "color": "#C8D4E3"
             },
             "line": {
              "color": "white"
             }
            },
            "type": "table"
           }
          ]
         },
         "layout": {
          "annotationdefaults": {
           "arrowcolor": "#2a3f5f",
           "arrowhead": 0,
           "arrowwidth": 1
          },
          "coloraxis": {
           "colorbar": {
            "outlinewidth": 0,
            "ticks": ""
           }
          },
          "colorscale": {
           "diverging": [
            [
             0,
             "#8e0152"
            ],
            [
             0.1,
             "#c51b7d"
            ],
            [
             0.2,
             "#de77ae"
            ],
            [
             0.3,
             "#f1b6da"
            ],
            [
             0.4,
             "#fde0ef"
            ],
            [
             0.5,
             "#f7f7f7"
            ],
            [
             0.6,
             "#e6f5d0"
            ],
            [
             0.7,
             "#b8e186"
            ],
            [
             0.8,
             "#7fbc41"
            ],
            [
             0.9,
             "#4d9221"
            ],
            [
             1,
             "#276419"
            ]
           ],
           "sequential": [
            [
             0,
             "#0d0887"
            ],
            [
             0.1111111111111111,
             "#46039f"
            ],
            [
             0.2222222222222222,
             "#7201a8"
            ],
            [
             0.3333333333333333,
             "#9c179e"
            ],
            [
             0.4444444444444444,
             "#bd3786"
            ],
            [
             0.5555555555555556,
             "#d8576b"
            ],
            [
             0.6666666666666666,
             "#ed7953"
            ],
            [
             0.7777777777777778,
             "#fb9f3a"
            ],
            [
             0.8888888888888888,
             "#fdca26"
            ],
            [
             1,
             "#f0f921"
            ]
           ],
           "sequentialminus": [
            [
             0,
             "#0d0887"
            ],
            [
             0.1111111111111111,
             "#46039f"
            ],
            [
             0.2222222222222222,
             "#7201a8"
            ],
            [
             0.3333333333333333,
             "#9c179e"
            ],
            [
             0.4444444444444444,
             "#bd3786"
            ],
            [
             0.5555555555555556,
             "#d8576b"
            ],
            [
             0.6666666666666666,
             "#ed7953"
            ],
            [
             0.7777777777777778,
             "#fb9f3a"
            ],
            [
             0.8888888888888888,
             "#fdca26"
            ],
            [
             1,
             "#f0f921"
            ]
           ]
          },
          "colorway": [
           "#636efa",
           "#EF553B",
           "#00cc96",
           "#ab63fa",
           "#FFA15A",
           "#19d3f3",
           "#FF6692",
           "#B6E880",
           "#FF97FF",
           "#FECB52"
          ],
          "font": {
           "color": "#2a3f5f"
          },
          "geo": {
           "bgcolor": "white",
           "lakecolor": "white",
           "landcolor": "#E5ECF6",
           "showlakes": true,
           "showland": true,
           "subunitcolor": "white"
          },
          "hoverlabel": {
           "align": "left"
          },
          "hovermode": "closest",
          "mapbox": {
           "style": "light"
          },
          "paper_bgcolor": "white",
          "plot_bgcolor": "#E5ECF6",
          "polar": {
           "angularaxis": {
            "gridcolor": "white",
            "linecolor": "white",
            "ticks": ""
           },
           "bgcolor": "#E5ECF6",
           "radialaxis": {
            "gridcolor": "white",
            "linecolor": "white",
            "ticks": ""
           }
          },
          "scene": {
           "xaxis": {
            "backgroundcolor": "#E5ECF6",
            "gridcolor": "white",
            "gridwidth": 2,
            "linecolor": "white",
            "showbackground": true,
            "ticks": "",
            "zerolinecolor": "white"
           },
           "yaxis": {
            "backgroundcolor": "#E5ECF6",
            "gridcolor": "white",
            "gridwidth": 2,
            "linecolor": "white",
            "showbackground": true,
            "ticks": "",
            "zerolinecolor": "white"
           },
           "zaxis": {
            "backgroundcolor": "#E5ECF6",
            "gridcolor": "white",
            "gridwidth": 2,
            "linecolor": "white",
            "showbackground": true,
            "ticks": "",
            "zerolinecolor": "white"
           }
          },
          "shapedefaults": {
           "line": {
            "color": "#2a3f5f"
           }
          },
          "ternary": {
           "aaxis": {
            "gridcolor": "white",
            "linecolor": "white",
            "ticks": ""
           },
           "baxis": {
            "gridcolor": "white",
            "linecolor": "white",
            "ticks": ""
           },
           "bgcolor": "#E5ECF6",
           "caxis": {
            "gridcolor": "white",
            "linecolor": "white",
            "ticks": ""
           }
          },
          "title": {
           "x": 0.05
          },
          "xaxis": {
           "automargin": true,
           "gridcolor": "white",
           "linecolor": "white",
           "ticks": "",
           "title": {
            "standoff": 15
           },
           "zerolinecolor": "white",
           "zerolinewidth": 2
          },
          "yaxis": {
           "automargin": true,
           "gridcolor": "white",
           "linecolor": "white",
           "ticks": "",
           "title": {
            "standoff": 15
           },
           "zerolinecolor": "white",
           "zerolinewidth": 2
          }
         }
        },
        "title": {
         "text": "Outliers of COVID cases in Russia"
        }
       }
      }
     },
     "metadata": {}
    }
   ],
   "source": [
    "fig = go.Figure()\n",
    "fig.add_trace(go.Box(y=dfx.Z_average,\n",
    "                     boxmean=True, # only mean visible on plot\n",
    "                     marker_color=\"green\",\n",
    "                     name=\"Z\"))\n",
    "fig.add_trace(go.Box(y=dfx.date,\n",
    "                     boxmean='sd', # mean and SD visible on plot\n",
    "                     marker_color=\"darkorchid\",\n",
    "                     name=\"D\"))\n",
    "fig.update_layout(title=\"Outliers of COVID cases in Russia\")\n",
    "fig.show()              #@Natalio666Altube"
   ]
  },
  {
   "cell_type": "code",
   "execution_count": 181,
   "metadata": {},
   "outputs": [
    {
     "output_type": "execute_result",
     "data": {
      "text/plain": "     iso_code      continent  location        date  total_cases  new_cases  \\\n6622      COL  South America  Colombia  2020-03-05          NaN        NaN   \n6623      COL  South America  Colombia  2020-03-06          NaN        NaN   \n6624      COL  South America  Colombia  2020-03-07          1.0        1.0   \n6625      COL  South America  Colombia  2020-03-08          NaN        NaN   \n6626      COL  South America  Colombia  2020-03-09          NaN        NaN   \n...       ...            ...       ...         ...          ...        ...   \n6766      COL  South America  Colombia  2020-07-27     248976.0     8181.0   \n6767      COL  South America  Colombia  2020-07-28     257101.0     8125.0   \n6768      COL  South America  Colombia  2020-07-29     267385.0    10284.0   \n6769      COL  South America  Colombia  2020-07-30     276055.0     8670.0   \n6770      COL  South America  Colombia  2020-07-31     286020.0     9965.0   \n\n      total_deaths  new_deaths  total_cases_per_million  \\\n6622           NaN         NaN                      NaN   \n6623           NaN         NaN                      NaN   \n6624           0.0         0.0                    0.020   \n6625           NaN         NaN                      NaN   \n6626           NaN         NaN                      NaN   \n...            ...         ...                      ...   \n6766        8525.0       256.0                 4893.119   \n6767        8777.0       252.0                 5052.799   \n6768        9074.0       297.0                 5254.910   \n6769        9454.0       380.0                 5425.302   \n6770        9810.0       356.0                 5621.144   \n\n      new_cases_per_million  ...  aged_70_older  gdp_per_capita  \\\n6622                    NaN  ...          4.312       13254.949   \n6623                    NaN  ...          4.312       13254.949   \n6624                  0.020  ...          4.312       13254.949   \n6625                    NaN  ...          4.312       13254.949   \n6626                    NaN  ...          4.312       13254.949   \n...                     ...  ...            ...             ...   \n6766                160.781  ...          4.312       13254.949   \n6767                159.680  ...          4.312       13254.949   \n6768                202.111  ...          4.312       13254.949   \n6769                170.391  ...          4.312       13254.949   \n6770                195.842  ...          4.312       13254.949   \n\n      extreme_poverty  cardiovasc_death_rate  diabetes_prevalence  \\\n6622              4.5                 124.24                 7.44   \n6623              4.5                 124.24                 7.44   \n6624              4.5                 124.24                 7.44   \n6625              4.5                 124.24                 7.44   \n6626              4.5                 124.24                 7.44   \n...               ...                    ...                  ...   \n6766              4.5                 124.24                 7.44   \n6767              4.5                 124.24                 7.44   \n6768              4.5                 124.24                 7.44   \n6769              4.5                 124.24                 7.44   \n6770              4.5                 124.24                 7.44   \n\n      female_smokers  male_smokers  handwashing_facilities  \\\n6622             4.7          13.5                  65.386   \n6623             4.7          13.5                  65.386   \n6624             4.7          13.5                  65.386   \n6625             4.7          13.5                  65.386   \n6626             4.7          13.5                  65.386   \n...              ...           ...                     ...   \n6766             4.7          13.5                  65.386   \n6767             4.7          13.5                  65.386   \n6768             4.7          13.5                  65.386   \n6769             4.7          13.5                  65.386   \n6770             4.7          13.5                  65.386   \n\n     hospital_beds_per_thousand  life_expectancy  \n6622                       1.71            77.29  \n6623                       1.71            77.29  \n6624                       1.71            77.29  \n6625                       1.71            77.29  \n6626                       1.71            77.29  \n...                         ...              ...  \n6766                       1.71            77.29  \n6767                       1.71            77.29  \n6768                       1.71            77.29  \n6769                       1.71            77.29  \n6770                       1.71            77.29  \n\n[149 rows x 34 columns]",
      "text/html": "<div>\n<style scoped>\n    .dataframe tbody tr th:only-of-type {\n        vertical-align: middle;\n    }\n\n    .dataframe tbody tr th {\n        vertical-align: top;\n    }\n\n    .dataframe thead th {\n        text-align: right;\n    }\n</style>\n<table border=\"1\" class=\"dataframe\">\n  <thead>\n    <tr style=\"text-align: right;\">\n      <th></th>\n      <th>iso_code</th>\n      <th>continent</th>\n      <th>location</th>\n      <th>date</th>\n      <th>total_cases</th>\n      <th>new_cases</th>\n      <th>total_deaths</th>\n      <th>new_deaths</th>\n      <th>total_cases_per_million</th>\n      <th>new_cases_per_million</th>\n      <th>...</th>\n      <th>aged_70_older</th>\n      <th>gdp_per_capita</th>\n      <th>extreme_poverty</th>\n      <th>cardiovasc_death_rate</th>\n      <th>diabetes_prevalence</th>\n      <th>female_smokers</th>\n      <th>male_smokers</th>\n      <th>handwashing_facilities</th>\n      <th>hospital_beds_per_thousand</th>\n      <th>life_expectancy</th>\n    </tr>\n  </thead>\n  <tbody>\n    <tr>\n      <th>6622</th>\n      <td>COL</td>\n      <td>South America</td>\n      <td>Colombia</td>\n      <td>2020-03-05</td>\n      <td>NaN</td>\n      <td>NaN</td>\n      <td>NaN</td>\n      <td>NaN</td>\n      <td>NaN</td>\n      <td>NaN</td>\n      <td>...</td>\n      <td>4.312</td>\n      <td>13254.949</td>\n      <td>4.5</td>\n      <td>124.24</td>\n      <td>7.44</td>\n      <td>4.7</td>\n      <td>13.5</td>\n      <td>65.386</td>\n      <td>1.71</td>\n      <td>77.29</td>\n    </tr>\n    <tr>\n      <th>6623</th>\n      <td>COL</td>\n      <td>South America</td>\n      <td>Colombia</td>\n      <td>2020-03-06</td>\n      <td>NaN</td>\n      <td>NaN</td>\n      <td>NaN</td>\n      <td>NaN</td>\n      <td>NaN</td>\n      <td>NaN</td>\n      <td>...</td>\n      <td>4.312</td>\n      <td>13254.949</td>\n      <td>4.5</td>\n      <td>124.24</td>\n      <td>7.44</td>\n      <td>4.7</td>\n      <td>13.5</td>\n      <td>65.386</td>\n      <td>1.71</td>\n      <td>77.29</td>\n    </tr>\n    <tr>\n      <th>6624</th>\n      <td>COL</td>\n      <td>South America</td>\n      <td>Colombia</td>\n      <td>2020-03-07</td>\n      <td>1.0</td>\n      <td>1.0</td>\n      <td>0.0</td>\n      <td>0.0</td>\n      <td>0.020</td>\n      <td>0.020</td>\n      <td>...</td>\n      <td>4.312</td>\n      <td>13254.949</td>\n      <td>4.5</td>\n      <td>124.24</td>\n      <td>7.44</td>\n      <td>4.7</td>\n      <td>13.5</td>\n      <td>65.386</td>\n      <td>1.71</td>\n      <td>77.29</td>\n    </tr>\n    <tr>\n      <th>6625</th>\n      <td>COL</td>\n      <td>South America</td>\n      <td>Colombia</td>\n      <td>2020-03-08</td>\n      <td>NaN</td>\n      <td>NaN</td>\n      <td>NaN</td>\n      <td>NaN</td>\n      <td>NaN</td>\n      <td>NaN</td>\n      <td>...</td>\n      <td>4.312</td>\n      <td>13254.949</td>\n      <td>4.5</td>\n      <td>124.24</td>\n      <td>7.44</td>\n      <td>4.7</td>\n      <td>13.5</td>\n      <td>65.386</td>\n      <td>1.71</td>\n      <td>77.29</td>\n    </tr>\n    <tr>\n      <th>6626</th>\n      <td>COL</td>\n      <td>South America</td>\n      <td>Colombia</td>\n      <td>2020-03-09</td>\n      <td>NaN</td>\n      <td>NaN</td>\n      <td>NaN</td>\n      <td>NaN</td>\n      <td>NaN</td>\n      <td>NaN</td>\n      <td>...</td>\n      <td>4.312</td>\n      <td>13254.949</td>\n      <td>4.5</td>\n      <td>124.24</td>\n      <td>7.44</td>\n      <td>4.7</td>\n      <td>13.5</td>\n      <td>65.386</td>\n      <td>1.71</td>\n      <td>77.29</td>\n    </tr>\n    <tr>\n      <th>...</th>\n      <td>...</td>\n      <td>...</td>\n      <td>...</td>\n      <td>...</td>\n      <td>...</td>\n      <td>...</td>\n      <td>...</td>\n      <td>...</td>\n      <td>...</td>\n      <td>...</td>\n      <td>...</td>\n      <td>...</td>\n      <td>...</td>\n      <td>...</td>\n      <td>...</td>\n      <td>...</td>\n      <td>...</td>\n      <td>...</td>\n      <td>...</td>\n      <td>...</td>\n      <td>...</td>\n    </tr>\n    <tr>\n      <th>6766</th>\n      <td>COL</td>\n      <td>South America</td>\n      <td>Colombia</td>\n      <td>2020-07-27</td>\n      <td>248976.0</td>\n      <td>8181.0</td>\n      <td>8525.0</td>\n      <td>256.0</td>\n      <td>4893.119</td>\n      <td>160.781</td>\n      <td>...</td>\n      <td>4.312</td>\n      <td>13254.949</td>\n      <td>4.5</td>\n      <td>124.24</td>\n      <td>7.44</td>\n      <td>4.7</td>\n      <td>13.5</td>\n      <td>65.386</td>\n      <td>1.71</td>\n      <td>77.29</td>\n    </tr>\n    <tr>\n      <th>6767</th>\n      <td>COL</td>\n      <td>South America</td>\n      <td>Colombia</td>\n      <td>2020-07-28</td>\n      <td>257101.0</td>\n      <td>8125.0</td>\n      <td>8777.0</td>\n      <td>252.0</td>\n      <td>5052.799</td>\n      <td>159.680</td>\n      <td>...</td>\n      <td>4.312</td>\n      <td>13254.949</td>\n      <td>4.5</td>\n      <td>124.24</td>\n      <td>7.44</td>\n      <td>4.7</td>\n      <td>13.5</td>\n      <td>65.386</td>\n      <td>1.71</td>\n      <td>77.29</td>\n    </tr>\n    <tr>\n      <th>6768</th>\n      <td>COL</td>\n      <td>South America</td>\n      <td>Colombia</td>\n      <td>2020-07-29</td>\n      <td>267385.0</td>\n      <td>10284.0</td>\n      <td>9074.0</td>\n      <td>297.0</td>\n      <td>5254.910</td>\n      <td>202.111</td>\n      <td>...</td>\n      <td>4.312</td>\n      <td>13254.949</td>\n      <td>4.5</td>\n      <td>124.24</td>\n      <td>7.44</td>\n      <td>4.7</td>\n      <td>13.5</td>\n      <td>65.386</td>\n      <td>1.71</td>\n      <td>77.29</td>\n    </tr>\n    <tr>\n      <th>6769</th>\n      <td>COL</td>\n      <td>South America</td>\n      <td>Colombia</td>\n      <td>2020-07-30</td>\n      <td>276055.0</td>\n      <td>8670.0</td>\n      <td>9454.0</td>\n      <td>380.0</td>\n      <td>5425.302</td>\n      <td>170.391</td>\n      <td>...</td>\n      <td>4.312</td>\n      <td>13254.949</td>\n      <td>4.5</td>\n      <td>124.24</td>\n      <td>7.44</td>\n      <td>4.7</td>\n      <td>13.5</td>\n      <td>65.386</td>\n      <td>1.71</td>\n      <td>77.29</td>\n    </tr>\n    <tr>\n      <th>6770</th>\n      <td>COL</td>\n      <td>South America</td>\n      <td>Colombia</td>\n      <td>2020-07-31</td>\n      <td>286020.0</td>\n      <td>9965.0</td>\n      <td>9810.0</td>\n      <td>356.0</td>\n      <td>5621.144</td>\n      <td>195.842</td>\n      <td>...</td>\n      <td>4.312</td>\n      <td>13254.949</td>\n      <td>4.5</td>\n      <td>124.24</td>\n      <td>7.44</td>\n      <td>4.7</td>\n      <td>13.5</td>\n      <td>65.386</td>\n      <td>1.71</td>\n      <td>77.29</td>\n    </tr>\n  </tbody>\n</table>\n<p>149 rows × 34 columns</p>\n</div>"
     },
     "metadata": {},
     "execution_count": 181
    }
   ],
   "source": [
    "dfc = covid1[covid1['location']=='Colombia']        #@Natalio666Altube\n",
    "dfc"
   ]
  },
  {
   "cell_type": "code",
   "execution_count": 182,
   "metadata": {},
   "outputs": [],
   "source": [
    "dfc.dropna(subset=['new_cases'],axis=0, inplace=True)       #@Natalio666Altube"
   ]
  },
  {
   "cell_type": "code",
   "execution_count": 183,
   "metadata": {},
   "outputs": [
    {
     "output_type": "execute_result",
     "data": {
      "text/plain": "     iso_code      continent  location        date  total_cases  new_cases  \\\n6624      COL  South America  Colombia  2020-03-07          1.0        1.0   \n6627      COL  South America  Colombia  2020-03-10          3.0        2.0   \n6629      COL  South America  Colombia  2020-03-12          9.0        6.0   \n6631      COL  South America  Colombia  2020-03-14         16.0        7.0   \n6632      COL  South America  Colombia  2020-03-15         34.0       18.0   \n...       ...            ...       ...         ...          ...        ...   \n6766      COL  South America  Colombia  2020-07-27     248976.0     8181.0   \n6767      COL  South America  Colombia  2020-07-28     257101.0     8125.0   \n6768      COL  South America  Colombia  2020-07-29     267385.0    10284.0   \n6769      COL  South America  Colombia  2020-07-30     276055.0     8670.0   \n6770      COL  South America  Colombia  2020-07-31     286020.0     9965.0   \n\n      total_deaths  new_deaths  total_cases_per_million  \\\n6624           0.0         0.0                    0.020   \n6627           0.0         0.0                    0.059   \n6629           0.0         0.0                    0.177   \n6631           0.0         0.0                    0.314   \n6632           0.0         0.0                    0.668   \n...            ...         ...                      ...   \n6766        8525.0       256.0                 4893.119   \n6767        8777.0       252.0                 5052.799   \n6768        9074.0       297.0                 5254.910   \n6769        9454.0       380.0                 5425.302   \n6770        9810.0       356.0                 5621.144   \n\n      new_cases_per_million  ...  aged_70_older  gdp_per_capita  \\\n6624                  0.020  ...          4.312       13254.949   \n6627                  0.039  ...          4.312       13254.949   \n6629                  0.118  ...          4.312       13254.949   \n6631                  0.138  ...          4.312       13254.949   \n6632                  0.354  ...          4.312       13254.949   \n...                     ...  ...            ...             ...   \n6766                160.781  ...          4.312       13254.949   \n6767                159.680  ...          4.312       13254.949   \n6768                202.111  ...          4.312       13254.949   \n6769                170.391  ...          4.312       13254.949   \n6770                195.842  ...          4.312       13254.949   \n\n      extreme_poverty  cardiovasc_death_rate  diabetes_prevalence  \\\n6624              4.5                 124.24                 7.44   \n6627              4.5                 124.24                 7.44   \n6629              4.5                 124.24                 7.44   \n6631              4.5                 124.24                 7.44   \n6632              4.5                 124.24                 7.44   \n...               ...                    ...                  ...   \n6766              4.5                 124.24                 7.44   \n6767              4.5                 124.24                 7.44   \n6768              4.5                 124.24                 7.44   \n6769              4.5                 124.24                 7.44   \n6770              4.5                 124.24                 7.44   \n\n      female_smokers  male_smokers  handwashing_facilities  \\\n6624             4.7          13.5                  65.386   \n6627             4.7          13.5                  65.386   \n6629             4.7          13.5                  65.386   \n6631             4.7          13.5                  65.386   \n6632             4.7          13.5                  65.386   \n...              ...           ...                     ...   \n6766             4.7          13.5                  65.386   \n6767             4.7          13.5                  65.386   \n6768             4.7          13.5                  65.386   \n6769             4.7          13.5                  65.386   \n6770             4.7          13.5                  65.386   \n\n     hospital_beds_per_thousand  life_expectancy  \n6624                       1.71            77.29  \n6627                       1.71            77.29  \n6629                       1.71            77.29  \n6631                       1.71            77.29  \n6632                       1.71            77.29  \n...                         ...              ...  \n6766                       1.71            77.29  \n6767                       1.71            77.29  \n6768                       1.71            77.29  \n6769                       1.71            77.29  \n6770                       1.71            77.29  \n\n[143 rows x 34 columns]",
      "text/html": "<div>\n<style scoped>\n    .dataframe tbody tr th:only-of-type {\n        vertical-align: middle;\n    }\n\n    .dataframe tbody tr th {\n        vertical-align: top;\n    }\n\n    .dataframe thead th {\n        text-align: right;\n    }\n</style>\n<table border=\"1\" class=\"dataframe\">\n  <thead>\n    <tr style=\"text-align: right;\">\n      <th></th>\n      <th>iso_code</th>\n      <th>continent</th>\n      <th>location</th>\n      <th>date</th>\n      <th>total_cases</th>\n      <th>new_cases</th>\n      <th>total_deaths</th>\n      <th>new_deaths</th>\n      <th>total_cases_per_million</th>\n      <th>new_cases_per_million</th>\n      <th>...</th>\n      <th>aged_70_older</th>\n      <th>gdp_per_capita</th>\n      <th>extreme_poverty</th>\n      <th>cardiovasc_death_rate</th>\n      <th>diabetes_prevalence</th>\n      <th>female_smokers</th>\n      <th>male_smokers</th>\n      <th>handwashing_facilities</th>\n      <th>hospital_beds_per_thousand</th>\n      <th>life_expectancy</th>\n    </tr>\n  </thead>\n  <tbody>\n    <tr>\n      <th>6624</th>\n      <td>COL</td>\n      <td>South America</td>\n      <td>Colombia</td>\n      <td>2020-03-07</td>\n      <td>1.0</td>\n      <td>1.0</td>\n      <td>0.0</td>\n      <td>0.0</td>\n      <td>0.020</td>\n      <td>0.020</td>\n      <td>...</td>\n      <td>4.312</td>\n      <td>13254.949</td>\n      <td>4.5</td>\n      <td>124.24</td>\n      <td>7.44</td>\n      <td>4.7</td>\n      <td>13.5</td>\n      <td>65.386</td>\n      <td>1.71</td>\n      <td>77.29</td>\n    </tr>\n    <tr>\n      <th>6627</th>\n      <td>COL</td>\n      <td>South America</td>\n      <td>Colombia</td>\n      <td>2020-03-10</td>\n      <td>3.0</td>\n      <td>2.0</td>\n      <td>0.0</td>\n      <td>0.0</td>\n      <td>0.059</td>\n      <td>0.039</td>\n      <td>...</td>\n      <td>4.312</td>\n      <td>13254.949</td>\n      <td>4.5</td>\n      <td>124.24</td>\n      <td>7.44</td>\n      <td>4.7</td>\n      <td>13.5</td>\n      <td>65.386</td>\n      <td>1.71</td>\n      <td>77.29</td>\n    </tr>\n    <tr>\n      <th>6629</th>\n      <td>COL</td>\n      <td>South America</td>\n      <td>Colombia</td>\n      <td>2020-03-12</td>\n      <td>9.0</td>\n      <td>6.0</td>\n      <td>0.0</td>\n      <td>0.0</td>\n      <td>0.177</td>\n      <td>0.118</td>\n      <td>...</td>\n      <td>4.312</td>\n      <td>13254.949</td>\n      <td>4.5</td>\n      <td>124.24</td>\n      <td>7.44</td>\n      <td>4.7</td>\n      <td>13.5</td>\n      <td>65.386</td>\n      <td>1.71</td>\n      <td>77.29</td>\n    </tr>\n    <tr>\n      <th>6631</th>\n      <td>COL</td>\n      <td>South America</td>\n      <td>Colombia</td>\n      <td>2020-03-14</td>\n      <td>16.0</td>\n      <td>7.0</td>\n      <td>0.0</td>\n      <td>0.0</td>\n      <td>0.314</td>\n      <td>0.138</td>\n      <td>...</td>\n      <td>4.312</td>\n      <td>13254.949</td>\n      <td>4.5</td>\n      <td>124.24</td>\n      <td>7.44</td>\n      <td>4.7</td>\n      <td>13.5</td>\n      <td>65.386</td>\n      <td>1.71</td>\n      <td>77.29</td>\n    </tr>\n    <tr>\n      <th>6632</th>\n      <td>COL</td>\n      <td>South America</td>\n      <td>Colombia</td>\n      <td>2020-03-15</td>\n      <td>34.0</td>\n      <td>18.0</td>\n      <td>0.0</td>\n      <td>0.0</td>\n      <td>0.668</td>\n      <td>0.354</td>\n      <td>...</td>\n      <td>4.312</td>\n      <td>13254.949</td>\n      <td>4.5</td>\n      <td>124.24</td>\n      <td>7.44</td>\n      <td>4.7</td>\n      <td>13.5</td>\n      <td>65.386</td>\n      <td>1.71</td>\n      <td>77.29</td>\n    </tr>\n    <tr>\n      <th>...</th>\n      <td>...</td>\n      <td>...</td>\n      <td>...</td>\n      <td>...</td>\n      <td>...</td>\n      <td>...</td>\n      <td>...</td>\n      <td>...</td>\n      <td>...</td>\n      <td>...</td>\n      <td>...</td>\n      <td>...</td>\n      <td>...</td>\n      <td>...</td>\n      <td>...</td>\n      <td>...</td>\n      <td>...</td>\n      <td>...</td>\n      <td>...</td>\n      <td>...</td>\n      <td>...</td>\n    </tr>\n    <tr>\n      <th>6766</th>\n      <td>COL</td>\n      <td>South America</td>\n      <td>Colombia</td>\n      <td>2020-07-27</td>\n      <td>248976.0</td>\n      <td>8181.0</td>\n      <td>8525.0</td>\n      <td>256.0</td>\n      <td>4893.119</td>\n      <td>160.781</td>\n      <td>...</td>\n      <td>4.312</td>\n      <td>13254.949</td>\n      <td>4.5</td>\n      <td>124.24</td>\n      <td>7.44</td>\n      <td>4.7</td>\n      <td>13.5</td>\n      <td>65.386</td>\n      <td>1.71</td>\n      <td>77.29</td>\n    </tr>\n    <tr>\n      <th>6767</th>\n      <td>COL</td>\n      <td>South America</td>\n      <td>Colombia</td>\n      <td>2020-07-28</td>\n      <td>257101.0</td>\n      <td>8125.0</td>\n      <td>8777.0</td>\n      <td>252.0</td>\n      <td>5052.799</td>\n      <td>159.680</td>\n      <td>...</td>\n      <td>4.312</td>\n      <td>13254.949</td>\n      <td>4.5</td>\n      <td>124.24</td>\n      <td>7.44</td>\n      <td>4.7</td>\n      <td>13.5</td>\n      <td>65.386</td>\n      <td>1.71</td>\n      <td>77.29</td>\n    </tr>\n    <tr>\n      <th>6768</th>\n      <td>COL</td>\n      <td>South America</td>\n      <td>Colombia</td>\n      <td>2020-07-29</td>\n      <td>267385.0</td>\n      <td>10284.0</td>\n      <td>9074.0</td>\n      <td>297.0</td>\n      <td>5254.910</td>\n      <td>202.111</td>\n      <td>...</td>\n      <td>4.312</td>\n      <td>13254.949</td>\n      <td>4.5</td>\n      <td>124.24</td>\n      <td>7.44</td>\n      <td>4.7</td>\n      <td>13.5</td>\n      <td>65.386</td>\n      <td>1.71</td>\n      <td>77.29</td>\n    </tr>\n    <tr>\n      <th>6769</th>\n      <td>COL</td>\n      <td>South America</td>\n      <td>Colombia</td>\n      <td>2020-07-30</td>\n      <td>276055.0</td>\n      <td>8670.0</td>\n      <td>9454.0</td>\n      <td>380.0</td>\n      <td>5425.302</td>\n      <td>170.391</td>\n      <td>...</td>\n      <td>4.312</td>\n      <td>13254.949</td>\n      <td>4.5</td>\n      <td>124.24</td>\n      <td>7.44</td>\n      <td>4.7</td>\n      <td>13.5</td>\n      <td>65.386</td>\n      <td>1.71</td>\n      <td>77.29</td>\n    </tr>\n    <tr>\n      <th>6770</th>\n      <td>COL</td>\n      <td>South America</td>\n      <td>Colombia</td>\n      <td>2020-07-31</td>\n      <td>286020.0</td>\n      <td>9965.0</td>\n      <td>9810.0</td>\n      <td>356.0</td>\n      <td>5621.144</td>\n      <td>195.842</td>\n      <td>...</td>\n      <td>4.312</td>\n      <td>13254.949</td>\n      <td>4.5</td>\n      <td>124.24</td>\n      <td>7.44</td>\n      <td>4.7</td>\n      <td>13.5</td>\n      <td>65.386</td>\n      <td>1.71</td>\n      <td>77.29</td>\n    </tr>\n  </tbody>\n</table>\n<p>143 rows × 34 columns</p>\n</div>"
     },
     "metadata": {},
     "execution_count": 183
    }
   ],
   "source": [
    "dfc         #@Natalio666Altube"
   ]
  },
  {
   "cell_type": "code",
   "execution_count": 184,
   "metadata": {},
   "outputs": [],
   "source": [
    "dfc= dfc.drop(['iso_code', 'continent', 'total_cases',\n",
    "       'total_deaths', 'new_deaths', 'total_cases_per_million',\n",
    "       'new_cases_per_million', 'total_deaths_per_million',\n",
    "       'new_deaths_per_million', 'new_tests', 'total_tests',\n",
    "       'total_tests_per_thousand', 'new_tests_per_thousand',\n",
    "       'new_tests_smoothed', 'new_tests_smoothed_per_thousand', 'tests_units',\n",
    "       'stringency_index', 'population', 'population_density', 'median_age',\n",
    "       'aged_65_older', 'aged_70_older', 'gdp_per_capita', 'extreme_poverty',\n",
    "       'cardiovasc_death_rate', 'diabetes_prevalence', 'female_smokers',\n",
    "       'male_smokers', 'handwashing_facilities', 'hospital_beds_per_thousand',\n",
    "       'life_expectancy'], axis=1)\n",
    "\n",
    "       #@Natalio666Altube"
   ]
  },
  {
   "cell_type": "code",
   "execution_count": 185,
   "metadata": {},
   "outputs": [
    {
     "output_type": "execute_result",
     "data": {
      "text/plain": "      location        date  new_cases\n6624  Colombia  2020-03-07        1.0\n6627  Colombia  2020-03-10        2.0\n6629  Colombia  2020-03-12        6.0\n6631  Colombia  2020-03-14        7.0\n6632  Colombia  2020-03-15       18.0\n...        ...         ...        ...\n6766  Colombia  2020-07-27     8181.0\n6767  Colombia  2020-07-28     8125.0\n6768  Colombia  2020-07-29    10284.0\n6769  Colombia  2020-07-30     8670.0\n6770  Colombia  2020-07-31     9965.0\n\n[143 rows x 3 columns]",
      "text/html": "<div>\n<style scoped>\n    .dataframe tbody tr th:only-of-type {\n        vertical-align: middle;\n    }\n\n    .dataframe tbody tr th {\n        vertical-align: top;\n    }\n\n    .dataframe thead th {\n        text-align: right;\n    }\n</style>\n<table border=\"1\" class=\"dataframe\">\n  <thead>\n    <tr style=\"text-align: right;\">\n      <th></th>\n      <th>location</th>\n      <th>date</th>\n      <th>new_cases</th>\n    </tr>\n  </thead>\n  <tbody>\n    <tr>\n      <th>6624</th>\n      <td>Colombia</td>\n      <td>2020-03-07</td>\n      <td>1.0</td>\n    </tr>\n    <tr>\n      <th>6627</th>\n      <td>Colombia</td>\n      <td>2020-03-10</td>\n      <td>2.0</td>\n    </tr>\n    <tr>\n      <th>6629</th>\n      <td>Colombia</td>\n      <td>2020-03-12</td>\n      <td>6.0</td>\n    </tr>\n    <tr>\n      <th>6631</th>\n      <td>Colombia</td>\n      <td>2020-03-14</td>\n      <td>7.0</td>\n    </tr>\n    <tr>\n      <th>6632</th>\n      <td>Colombia</td>\n      <td>2020-03-15</td>\n      <td>18.0</td>\n    </tr>\n    <tr>\n      <th>...</th>\n      <td>...</td>\n      <td>...</td>\n      <td>...</td>\n    </tr>\n    <tr>\n      <th>6766</th>\n      <td>Colombia</td>\n      <td>2020-07-27</td>\n      <td>8181.0</td>\n    </tr>\n    <tr>\n      <th>6767</th>\n      <td>Colombia</td>\n      <td>2020-07-28</td>\n      <td>8125.0</td>\n    </tr>\n    <tr>\n      <th>6768</th>\n      <td>Colombia</td>\n      <td>2020-07-29</td>\n      <td>10284.0</td>\n    </tr>\n    <tr>\n      <th>6769</th>\n      <td>Colombia</td>\n      <td>2020-07-30</td>\n      <td>8670.0</td>\n    </tr>\n    <tr>\n      <th>6770</th>\n      <td>Colombia</td>\n      <td>2020-07-31</td>\n      <td>9965.0</td>\n    </tr>\n  </tbody>\n</table>\n<p>143 rows × 3 columns</p>\n</div>"
     },
     "metadata": {},
     "execution_count": 185
    }
   ],
   "source": [
    "dfc             #@Natalio666Altube"
   ]
  },
  {
   "cell_type": "code",
   "execution_count": 186,
   "metadata": {},
   "outputs": [
    {
     "output_type": "execute_result",
     "data": {
      "text/plain": "            new_cases\ndate                 \n2020-03-07        1.0\n2020-03-10        2.0\n2020-03-12        6.0\n2020-03-14        7.0\n2020-03-15       18.0\n...               ...\n2020-07-27     8181.0\n2020-07-28     8125.0\n2020-07-29    10284.0\n2020-07-30     8670.0\n2020-07-31     9965.0\n\n[143 rows x 1 columns]",
      "text/html": "<div>\n<style scoped>\n    .dataframe tbody tr th:only-of-type {\n        vertical-align: middle;\n    }\n\n    .dataframe tbody tr th {\n        vertical-align: top;\n    }\n\n    .dataframe thead th {\n        text-align: right;\n    }\n</style>\n<table border=\"1\" class=\"dataframe\">\n  <thead>\n    <tr style=\"text-align: right;\">\n      <th></th>\n      <th>new_cases</th>\n    </tr>\n    <tr>\n      <th>date</th>\n      <th></th>\n    </tr>\n  </thead>\n  <tbody>\n    <tr>\n      <th>2020-03-07</th>\n      <td>1.0</td>\n    </tr>\n    <tr>\n      <th>2020-03-10</th>\n      <td>2.0</td>\n    </tr>\n    <tr>\n      <th>2020-03-12</th>\n      <td>6.0</td>\n    </tr>\n    <tr>\n      <th>2020-03-14</th>\n      <td>7.0</td>\n    </tr>\n    <tr>\n      <th>2020-03-15</th>\n      <td>18.0</td>\n    </tr>\n    <tr>\n      <th>...</th>\n      <td>...</td>\n    </tr>\n    <tr>\n      <th>2020-07-27</th>\n      <td>8181.0</td>\n    </tr>\n    <tr>\n      <th>2020-07-28</th>\n      <td>8125.0</td>\n    </tr>\n    <tr>\n      <th>2020-07-29</th>\n      <td>10284.0</td>\n    </tr>\n    <tr>\n      <th>2020-07-30</th>\n      <td>8670.0</td>\n    </tr>\n    <tr>\n      <th>2020-07-31</th>\n      <td>9965.0</td>\n    </tr>\n  </tbody>\n</table>\n<p>143 rows × 1 columns</p>\n</div>"
     },
     "metadata": {},
     "execution_count": 186
    }
   ],
   "source": [
    "dfc.groupby('date').mean()          #@Natalio666Altube"
   ]
  },
  {
   "cell_type": "code",
   "execution_count": 187,
   "metadata": {},
   "outputs": [],
   "source": [
    "dfc.rename(columns={'new_cases': 'Col_average'},inplace=True)       #@Natalio666Altube"
   ]
  },
  {
   "cell_type": "code",
   "execution_count": 188,
   "metadata": {},
   "outputs": [
    {
     "output_type": "execute_result",
     "data": {
      "text/plain": "      location        date  Col_average\n6624  Colombia  2020-03-07          1.0\n6627  Colombia  2020-03-10          2.0\n6629  Colombia  2020-03-12          6.0\n6631  Colombia  2020-03-14          7.0\n6632  Colombia  2020-03-15         18.0\n...        ...         ...          ...\n6766  Colombia  2020-07-27       8181.0\n6767  Colombia  2020-07-28       8125.0\n6768  Colombia  2020-07-29      10284.0\n6769  Colombia  2020-07-30       8670.0\n6770  Colombia  2020-07-31       9965.0\n\n[143 rows x 3 columns]",
      "text/html": "<div>\n<style scoped>\n    .dataframe tbody tr th:only-of-type {\n        vertical-align: middle;\n    }\n\n    .dataframe tbody tr th {\n        vertical-align: top;\n    }\n\n    .dataframe thead th {\n        text-align: right;\n    }\n</style>\n<table border=\"1\" class=\"dataframe\">\n  <thead>\n    <tr style=\"text-align: right;\">\n      <th></th>\n      <th>location</th>\n      <th>date</th>\n      <th>Col_average</th>\n    </tr>\n  </thead>\n  <tbody>\n    <tr>\n      <th>6624</th>\n      <td>Colombia</td>\n      <td>2020-03-07</td>\n      <td>1.0</td>\n    </tr>\n    <tr>\n      <th>6627</th>\n      <td>Colombia</td>\n      <td>2020-03-10</td>\n      <td>2.0</td>\n    </tr>\n    <tr>\n      <th>6629</th>\n      <td>Colombia</td>\n      <td>2020-03-12</td>\n      <td>6.0</td>\n    </tr>\n    <tr>\n      <th>6631</th>\n      <td>Colombia</td>\n      <td>2020-03-14</td>\n      <td>7.0</td>\n    </tr>\n    <tr>\n      <th>6632</th>\n      <td>Colombia</td>\n      <td>2020-03-15</td>\n      <td>18.0</td>\n    </tr>\n    <tr>\n      <th>...</th>\n      <td>...</td>\n      <td>...</td>\n      <td>...</td>\n    </tr>\n    <tr>\n      <th>6766</th>\n      <td>Colombia</td>\n      <td>2020-07-27</td>\n      <td>8181.0</td>\n    </tr>\n    <tr>\n      <th>6767</th>\n      <td>Colombia</td>\n      <td>2020-07-28</td>\n      <td>8125.0</td>\n    </tr>\n    <tr>\n      <th>6768</th>\n      <td>Colombia</td>\n      <td>2020-07-29</td>\n      <td>10284.0</td>\n    </tr>\n    <tr>\n      <th>6769</th>\n      <td>Colombia</td>\n      <td>2020-07-30</td>\n      <td>8670.0</td>\n    </tr>\n    <tr>\n      <th>6770</th>\n      <td>Colombia</td>\n      <td>2020-07-31</td>\n      <td>9965.0</td>\n    </tr>\n  </tbody>\n</table>\n<p>143 rows × 3 columns</p>\n</div>"
     },
     "metadata": {},
     "execution_count": 188
    }
   ],
   "source": [
    "dfc             #@Natalio666Altube"
   ]
  },
  {
   "cell_type": "code",
   "execution_count": 189,
   "metadata": {},
   "outputs": [
    {
     "output_type": "display_data",
     "data": {
      "application/vnd.plotly.v1+json": {
       "config": {
        "plotlyServerURL": "https://plot.ly"
       },
       "data": [
        {
         "marker": {
          "color": "orange"
         },
         "mode": "lines",
         "type": "scatter",
         "x": [
          "2020-03-07",
          "2020-03-10",
          "2020-03-12",
          "2020-03-14",
          "2020-03-15",
          "2020-03-16",
          "2020-03-17",
          "2020-03-18",
          "2020-03-19",
          "2020-03-20",
          "2020-03-21",
          "2020-03-22",
          "2020-03-23",
          "2020-03-24",
          "2020-03-25",
          "2020-03-26",
          "2020-03-27",
          "2020-03-28",
          "2020-03-29",
          "2020-03-30",
          "2020-03-31",
          "2020-04-01",
          "2020-04-02",
          "2020-04-03",
          "2020-04-04",
          "2020-04-05",
          "2020-04-06",
          "2020-04-07",
          "2020-04-08",
          "2020-04-09",
          "2020-04-10",
          "2020-04-11",
          "2020-04-12",
          "2020-04-13",
          "2020-04-14",
          "2020-04-15",
          "2020-04-16",
          "2020-04-17",
          "2020-04-18",
          "2020-04-19",
          "2020-04-20",
          "2020-04-21",
          "2020-04-22",
          "2020-04-23",
          "2020-04-24",
          "2020-04-25",
          "2020-04-26",
          "2020-04-27",
          "2020-04-28",
          "2020-04-29",
          "2020-04-30",
          "2020-05-01",
          "2020-05-02",
          "2020-05-03",
          "2020-05-04",
          "2020-05-05",
          "2020-05-06",
          "2020-05-07",
          "2020-05-08",
          "2020-05-09",
          "2020-05-10",
          "2020-05-11",
          "2020-05-12",
          "2020-05-13",
          "2020-05-14",
          "2020-05-15",
          "2020-05-16",
          "2020-05-17",
          "2020-05-18",
          "2020-05-19",
          "2020-05-20",
          "2020-05-21",
          "2020-05-22",
          "2020-05-23",
          "2020-05-24",
          "2020-05-25",
          "2020-05-26",
          "2020-05-27",
          "2020-05-28",
          "2020-05-29",
          "2020-05-30",
          "2020-05-31",
          "2020-06-01",
          "2020-06-02",
          "2020-06-03",
          "2020-06-04",
          "2020-06-05",
          "2020-06-06",
          "2020-06-07",
          "2020-06-08",
          "2020-06-09",
          "2020-06-10",
          "2020-06-11",
          "2020-06-12",
          "2020-06-13",
          "2020-06-14",
          "2020-06-15",
          "2020-06-16",
          "2020-06-17",
          "2020-06-18",
          "2020-06-19",
          "2020-06-20",
          "2020-06-21",
          "2020-06-22",
          "2020-06-23",
          "2020-06-24",
          "2020-06-25",
          "2020-06-26",
          "2020-06-27",
          "2020-06-28",
          "2020-06-29",
          "2020-06-30",
          "2020-07-01",
          "2020-07-02",
          "2020-07-03",
          "2020-07-04",
          "2020-07-05",
          "2020-07-06",
          "2020-07-07",
          "2020-07-08",
          "2020-07-09",
          "2020-07-10",
          "2020-07-11",
          "2020-07-12",
          "2020-07-13",
          "2020-07-14",
          "2020-07-15",
          "2020-07-16",
          "2020-07-17",
          "2020-07-18",
          "2020-07-19",
          "2020-07-20",
          "2020-07-21",
          "2020-07-22",
          "2020-07-23",
          "2020-07-24",
          "2020-07-25",
          "2020-07-26",
          "2020-07-27",
          "2020-07-28",
          "2020-07-29",
          "2020-07-30",
          "2020-07-31"
         ],
         "y": [
          1,
          2,
          6,
          7,
          18,
          11,
          12,
          8,
          37,
          26,
          30,
          52,
          25,
          71,
          72,
          92,
          21,
          48,
          69,
          94,
          96,
          108,
          159,
          96,
          106,
          139,
          79,
          94,
          201,
          274,
          169,
          250,
          236,
          67,
          76,
          127,
          126,
          128,
          206,
          182,
          171,
          185,
          172,
          207,
          205,
          320,
          261,
          237,
          218,
          352,
          262,
          296,
          499,
          279,
          383,
          305,
          640,
          346,
          497,
          595,
          444,
          568,
          550,
          659,
          658,
          680,
          606,
          723,
          635,
          721,
          640,
          752,
          643,
          801,
          1046,
          998,
          806,
          1022,
          1101,
          1262,
          1322,
          1548,
          1147,
          1110,
          1340,
          1521,
          1766,
          1515,
          1392,
          1209,
          1483,
          1359,
          1604,
          0,
          3176,
          1888,
          2193,
          2124,
          1868,
          2115,
          3171,
          3059,
          2357,
          3019,
          2531,
          2389,
          3541,
          3486,
          3843,
          4149,
          3178,
          3274,
          2803,
          4163,
          4101,
          3395,
          3884,
          3721,
          3171,
          4213,
          4144,
          5335,
          6803,
          4586,
          5083,
          3782,
          5671,
          5271,
          8037,
          8934,
          8560,
          6578,
          6727,
          7033,
          7390,
          7945,
          7168,
          7254,
          8181,
          8125,
          10284,
          8670,
          9965
         ]
        }
       ],
       "layout": {
        "template": {
         "data": {
          "bar": [
           {
            "error_x": {
             "color": "#2a3f5f"
            },
            "error_y": {
             "color": "#2a3f5f"
            },
            "marker": {
             "line": {
              "color": "#E5ECF6",
              "width": 0.5
             }
            },
            "type": "bar"
           }
          ],
          "barpolar": [
           {
            "marker": {
             "line": {
              "color": "#E5ECF6",
              "width": 0.5
             }
            },
            "type": "barpolar"
           }
          ],
          "carpet": [
           {
            "aaxis": {
             "endlinecolor": "#2a3f5f",
             "gridcolor": "white",
             "linecolor": "white",
             "minorgridcolor": "white",
             "startlinecolor": "#2a3f5f"
            },
            "baxis": {
             "endlinecolor": "#2a3f5f",
             "gridcolor": "white",
             "linecolor": "white",
             "minorgridcolor": "white",
             "startlinecolor": "#2a3f5f"
            },
            "type": "carpet"
           }
          ],
          "choropleth": [
           {
            "colorbar": {
             "outlinewidth": 0,
             "ticks": ""
            },
            "type": "choropleth"
           }
          ],
          "contour": [
           {
            "colorbar": {
             "outlinewidth": 0,
             "ticks": ""
            },
            "colorscale": [
             [
              0,
              "#0d0887"
             ],
             [
              0.1111111111111111,
              "#46039f"
             ],
             [
              0.2222222222222222,
              "#7201a8"
             ],
             [
              0.3333333333333333,
              "#9c179e"
             ],
             [
              0.4444444444444444,
              "#bd3786"
             ],
             [
              0.5555555555555556,
              "#d8576b"
             ],
             [
              0.6666666666666666,
              "#ed7953"
             ],
             [
              0.7777777777777778,
              "#fb9f3a"
             ],
             [
              0.8888888888888888,
              "#fdca26"
             ],
             [
              1,
              "#f0f921"
             ]
            ],
            "type": "contour"
           }
          ],
          "contourcarpet": [
           {
            "colorbar": {
             "outlinewidth": 0,
             "ticks": ""
            },
            "type": "contourcarpet"
           }
          ],
          "heatmap": [
           {
            "colorbar": {
             "outlinewidth": 0,
             "ticks": ""
            },
            "colorscale": [
             [
              0,
              "#0d0887"
             ],
             [
              0.1111111111111111,
              "#46039f"
             ],
             [
              0.2222222222222222,
              "#7201a8"
             ],
             [
              0.3333333333333333,
              "#9c179e"
             ],
             [
              0.4444444444444444,
              "#bd3786"
             ],
             [
              0.5555555555555556,
              "#d8576b"
             ],
             [
              0.6666666666666666,
              "#ed7953"
             ],
             [
              0.7777777777777778,
              "#fb9f3a"
             ],
             [
              0.8888888888888888,
              "#fdca26"
             ],
             [
              1,
              "#f0f921"
             ]
            ],
            "type": "heatmap"
           }
          ],
          "heatmapgl": [
           {
            "colorbar": {
             "outlinewidth": 0,
             "ticks": ""
            },
            "colorscale": [
             [
              0,
              "#0d0887"
             ],
             [
              0.1111111111111111,
              "#46039f"
             ],
             [
              0.2222222222222222,
              "#7201a8"
             ],
             [
              0.3333333333333333,
              "#9c179e"
             ],
             [
              0.4444444444444444,
              "#bd3786"
             ],
             [
              0.5555555555555556,
              "#d8576b"
             ],
             [
              0.6666666666666666,
              "#ed7953"
             ],
             [
              0.7777777777777778,
              "#fb9f3a"
             ],
             [
              0.8888888888888888,
              "#fdca26"
             ],
             [
              1,
              "#f0f921"
             ]
            ],
            "type": "heatmapgl"
           }
          ],
          "histogram": [
           {
            "marker": {
             "colorbar": {
              "outlinewidth": 0,
              "ticks": ""
             }
            },
            "type": "histogram"
           }
          ],
          "histogram2d": [
           {
            "colorbar": {
             "outlinewidth": 0,
             "ticks": ""
            },
            "colorscale": [
             [
              0,
              "#0d0887"
             ],
             [
              0.1111111111111111,
              "#46039f"
             ],
             [
              0.2222222222222222,
              "#7201a8"
             ],
             [
              0.3333333333333333,
              "#9c179e"
             ],
             [
              0.4444444444444444,
              "#bd3786"
             ],
             [
              0.5555555555555556,
              "#d8576b"
             ],
             [
              0.6666666666666666,
              "#ed7953"
             ],
             [
              0.7777777777777778,
              "#fb9f3a"
             ],
             [
              0.8888888888888888,
              "#fdca26"
             ],
             [
              1,
              "#f0f921"
             ]
            ],
            "type": "histogram2d"
           }
          ],
          "histogram2dcontour": [
           {
            "colorbar": {
             "outlinewidth": 0,
             "ticks": ""
            },
            "colorscale": [
             [
              0,
              "#0d0887"
             ],
             [
              0.1111111111111111,
              "#46039f"
             ],
             [
              0.2222222222222222,
              "#7201a8"
             ],
             [
              0.3333333333333333,
              "#9c179e"
             ],
             [
              0.4444444444444444,
              "#bd3786"
             ],
             [
              0.5555555555555556,
              "#d8576b"
             ],
             [
              0.6666666666666666,
              "#ed7953"
             ],
             [
              0.7777777777777778,
              "#fb9f3a"
             ],
             [
              0.8888888888888888,
              "#fdca26"
             ],
             [
              1,
              "#f0f921"
             ]
            ],
            "type": "histogram2dcontour"
           }
          ],
          "mesh3d": [
           {
            "colorbar": {
             "outlinewidth": 0,
             "ticks": ""
            },
            "type": "mesh3d"
           }
          ],
          "parcoords": [
           {
            "line": {
             "colorbar": {
              "outlinewidth": 0,
              "ticks": ""
             }
            },
            "type": "parcoords"
           }
          ],
          "pie": [
           {
            "automargin": true,
            "type": "pie"
           }
          ],
          "scatter": [
           {
            "marker": {
             "colorbar": {
              "outlinewidth": 0,
              "ticks": ""
             }
            },
            "type": "scatter"
           }
          ],
          "scatter3d": [
           {
            "line": {
             "colorbar": {
              "outlinewidth": 0,
              "ticks": ""
             }
            },
            "marker": {
             "colorbar": {
              "outlinewidth": 0,
              "ticks": ""
             }
            },
            "type": "scatter3d"
           }
          ],
          "scattercarpet": [
           {
            "marker": {
             "colorbar": {
              "outlinewidth": 0,
              "ticks": ""
             }
            },
            "type": "scattercarpet"
           }
          ],
          "scattergeo": [
           {
            "marker": {
             "colorbar": {
              "outlinewidth": 0,
              "ticks": ""
             }
            },
            "type": "scattergeo"
           }
          ],
          "scattergl": [
           {
            "marker": {
             "colorbar": {
              "outlinewidth": 0,
              "ticks": ""
             }
            },
            "type": "scattergl"
           }
          ],
          "scattermapbox": [
           {
            "marker": {
             "colorbar": {
              "outlinewidth": 0,
              "ticks": ""
             }
            },
            "type": "scattermapbox"
           }
          ],
          "scatterpolar": [
           {
            "marker": {
             "colorbar": {
              "outlinewidth": 0,
              "ticks": ""
             }
            },
            "type": "scatterpolar"
           }
          ],
          "scatterpolargl": [
           {
            "marker": {
             "colorbar": {
              "outlinewidth": 0,
              "ticks": ""
             }
            },
            "type": "scatterpolargl"
           }
          ],
          "scatterternary": [
           {
            "marker": {
             "colorbar": {
              "outlinewidth": 0,
              "ticks": ""
             }
            },
            "type": "scatterternary"
           }
          ],
          "surface": [
           {
            "colorbar": {
             "outlinewidth": 0,
             "ticks": ""
            },
            "colorscale": [
             [
              0,
              "#0d0887"
             ],
             [
              0.1111111111111111,
              "#46039f"
             ],
             [
              0.2222222222222222,
              "#7201a8"
             ],
             [
              0.3333333333333333,
              "#9c179e"
             ],
             [
              0.4444444444444444,
              "#bd3786"
             ],
             [
              0.5555555555555556,
              "#d8576b"
             ],
             [
              0.6666666666666666,
              "#ed7953"
             ],
             [
              0.7777777777777778,
              "#fb9f3a"
             ],
             [
              0.8888888888888888,
              "#fdca26"
             ],
             [
              1,
              "#f0f921"
             ]
            ],
            "type": "surface"
           }
          ],
          "table": [
           {
            "cells": {
             "fill": {
              "color": "#EBF0F8"
             },
             "line": {
              "color": "white"
             }
            },
            "header": {
             "fill": {
              "color": "#C8D4E3"
             },
             "line": {
              "color": "white"
             }
            },
            "type": "table"
           }
          ]
         },
         "layout": {
          "annotationdefaults": {
           "arrowcolor": "#2a3f5f",
           "arrowhead": 0,
           "arrowwidth": 1
          },
          "coloraxis": {
           "colorbar": {
            "outlinewidth": 0,
            "ticks": ""
           }
          },
          "colorscale": {
           "diverging": [
            [
             0,
             "#8e0152"
            ],
            [
             0.1,
             "#c51b7d"
            ],
            [
             0.2,
             "#de77ae"
            ],
            [
             0.3,
             "#f1b6da"
            ],
            [
             0.4,
             "#fde0ef"
            ],
            [
             0.5,
             "#f7f7f7"
            ],
            [
             0.6,
             "#e6f5d0"
            ],
            [
             0.7,
             "#b8e186"
            ],
            [
             0.8,
             "#7fbc41"
            ],
            [
             0.9,
             "#4d9221"
            ],
            [
             1,
             "#276419"
            ]
           ],
           "sequential": [
            [
             0,
             "#0d0887"
            ],
            [
             0.1111111111111111,
             "#46039f"
            ],
            [
             0.2222222222222222,
             "#7201a8"
            ],
            [
             0.3333333333333333,
             "#9c179e"
            ],
            [
             0.4444444444444444,
             "#bd3786"
            ],
            [
             0.5555555555555556,
             "#d8576b"
            ],
            [
             0.6666666666666666,
             "#ed7953"
            ],
            [
             0.7777777777777778,
             "#fb9f3a"
            ],
            [
             0.8888888888888888,
             "#fdca26"
            ],
            [
             1,
             "#f0f921"
            ]
           ],
           "sequentialminus": [
            [
             0,
             "#0d0887"
            ],
            [
             0.1111111111111111,
             "#46039f"
            ],
            [
             0.2222222222222222,
             "#7201a8"
            ],
            [
             0.3333333333333333,
             "#9c179e"
            ],
            [
             0.4444444444444444,
             "#bd3786"
            ],
            [
             0.5555555555555556,
             "#d8576b"
            ],
            [
             0.6666666666666666,
             "#ed7953"
            ],
            [
             0.7777777777777778,
             "#fb9f3a"
            ],
            [
             0.8888888888888888,
             "#fdca26"
            ],
            [
             1,
             "#f0f921"
            ]
           ]
          },
          "colorway": [
           "#636efa",
           "#EF553B",
           "#00cc96",
           "#ab63fa",
           "#FFA15A",
           "#19d3f3",
           "#FF6692",
           "#B6E880",
           "#FF97FF",
           "#FECB52"
          ],
          "font": {
           "color": "#2a3f5f"
          },
          "geo": {
           "bgcolor": "white",
           "lakecolor": "white",
           "landcolor": "#E5ECF6",
           "showlakes": true,
           "showland": true,
           "subunitcolor": "white"
          },
          "hoverlabel": {
           "align": "left"
          },
          "hovermode": "closest",
          "mapbox": {
           "style": "light"
          },
          "paper_bgcolor": "white",
          "plot_bgcolor": "#E5ECF6",
          "polar": {
           "angularaxis": {
            "gridcolor": "white",
            "linecolor": "white",
            "ticks": ""
           },
           "bgcolor": "#E5ECF6",
           "radialaxis": {
            "gridcolor": "white",
            "linecolor": "white",
            "ticks": ""
           }
          },
          "scene": {
           "xaxis": {
            "backgroundcolor": "#E5ECF6",
            "gridcolor": "white",
            "gridwidth": 2,
            "linecolor": "white",
            "showbackground": true,
            "ticks": "",
            "zerolinecolor": "white"
           },
           "yaxis": {
            "backgroundcolor": "#E5ECF6",
            "gridcolor": "white",
            "gridwidth": 2,
            "linecolor": "white",
            "showbackground": true,
            "ticks": "",
            "zerolinecolor": "white"
           },
           "zaxis": {
            "backgroundcolor": "#E5ECF6",
            "gridcolor": "white",
            "gridwidth": 2,
            "linecolor": "white",
            "showbackground": true,
            "ticks": "",
            "zerolinecolor": "white"
           }
          },
          "shapedefaults": {
           "line": {
            "color": "#2a3f5f"
           }
          },
          "ternary": {
           "aaxis": {
            "gridcolor": "white",
            "linecolor": "white",
            "ticks": ""
           },
           "baxis": {
            "gridcolor": "white",
            "linecolor": "white",
            "ticks": ""
           },
           "bgcolor": "#E5ECF6",
           "caxis": {
            "gridcolor": "white",
            "linecolor": "white",
            "ticks": ""
           }
          },
          "title": {
           "x": 0.05
          },
          "xaxis": {
           "automargin": true,
           "gridcolor": "white",
           "linecolor": "white",
           "ticks": "",
           "title": {
            "standoff": 15
           },
           "zerolinecolor": "white",
           "zerolinewidth": 2
          },
          "yaxis": {
           "automargin": true,
           "gridcolor": "white",
           "linecolor": "white",
           "ticks": "",
           "title": {
            "standoff": 15
           },
           "zerolinecolor": "white",
           "zerolinewidth": 2
          }
         }
        },
        "title": {
         "text": "Number of COVID cases over time in Colombia"
        },
        "xaxis": {
         "title": {
          "text": "Date"
         }
        },
        "yaxis": {
         "title": {
          "text": "Number of cases"
         }
        }
       }
      }
     },
     "metadata": {}
    }
   ],
   "source": [
    "fig = go.Figure(data=go.Scatter(x=dfc['date'],y=dfc['Col_average'],mode='lines',marker_color='orange')) # hover text goes here\n",
    "fig.update_layout(title='Number of COVID cases over time in Colombia',xaxis_title=\"Date\",yaxis_title=\"Number of cases\")\n",
    "fig.show()              #@Natalio666Altube"
   ]
  },
  {
   "cell_type": "code",
   "execution_count": 128,
   "metadata": {},
   "outputs": [
    {
     "output_type": "display_data",
     "data": {
      "application/vnd.plotly.v1+json": {
       "config": {
        "plotlyServerURL": "https://plot.ly"
       },
       "data": [
        {
         "boxmean": true,
         "marker": {
          "color": "green"
         },
         "name": "Col",
         "type": "box",
         "y": [
          1,
          2,
          6,
          7,
          18,
          11,
          12,
          8,
          37,
          26,
          30,
          52,
          25,
          71,
          72,
          92,
          21,
          48,
          69,
          94,
          96,
          108,
          159,
          96,
          106,
          139,
          79,
          94,
          201,
          274,
          169,
          250,
          236,
          67,
          76,
          127,
          126,
          128,
          206,
          182,
          171,
          185,
          172,
          207,
          205,
          320,
          261,
          237,
          218,
          352,
          262,
          296,
          499,
          279,
          383,
          305,
          640,
          346,
          497,
          595,
          444,
          568,
          550,
          659,
          658,
          680,
          606,
          723,
          635,
          721,
          640,
          752,
          643,
          801,
          1046,
          998,
          806,
          1022,
          1101,
          1262,
          1322,
          1548,
          1147,
          1110,
          1340,
          1521,
          1766,
          1515,
          1392,
          1209,
          1483,
          1359,
          1604,
          0,
          3176,
          1888,
          2193,
          2124,
          1868,
          2115,
          3171,
          3059,
          2357,
          3019,
          2531,
          2389,
          3541,
          3486,
          3843,
          4149,
          3178,
          3274,
          2803,
          4163,
          4101,
          3395,
          3884,
          3721,
          3171,
          4213,
          4144,
          5335,
          6803,
          4586,
          5083,
          3782,
          5671,
          5271,
          8037,
          8934,
          8560,
          6578,
          6727,
          7033,
          7390,
          7945,
          7168,
          7254,
          8181,
          8125,
          10284,
          8670,
          9965
         ]
        },
        {
         "boxmean": "sd",
         "marker": {
          "color": "darkorchid"
         },
         "name": "D",
         "type": "box",
         "y": [
          "2020-03-07",
          "2020-03-10",
          "2020-03-12",
          "2020-03-14",
          "2020-03-15",
          "2020-03-16",
          "2020-03-17",
          "2020-03-18",
          "2020-03-19",
          "2020-03-20",
          "2020-03-21",
          "2020-03-22",
          "2020-03-23",
          "2020-03-24",
          "2020-03-25",
          "2020-03-26",
          "2020-03-27",
          "2020-03-28",
          "2020-03-29",
          "2020-03-30",
          "2020-03-31",
          "2020-04-01",
          "2020-04-02",
          "2020-04-03",
          "2020-04-04",
          "2020-04-05",
          "2020-04-06",
          "2020-04-07",
          "2020-04-08",
          "2020-04-09",
          "2020-04-10",
          "2020-04-11",
          "2020-04-12",
          "2020-04-13",
          "2020-04-14",
          "2020-04-15",
          "2020-04-16",
          "2020-04-17",
          "2020-04-18",
          "2020-04-19",
          "2020-04-20",
          "2020-04-21",
          "2020-04-22",
          "2020-04-23",
          "2020-04-24",
          "2020-04-25",
          "2020-04-26",
          "2020-04-27",
          "2020-04-28",
          "2020-04-29",
          "2020-04-30",
          "2020-05-01",
          "2020-05-02",
          "2020-05-03",
          "2020-05-04",
          "2020-05-05",
          "2020-05-06",
          "2020-05-07",
          "2020-05-08",
          "2020-05-09",
          "2020-05-10",
          "2020-05-11",
          "2020-05-12",
          "2020-05-13",
          "2020-05-14",
          "2020-05-15",
          "2020-05-16",
          "2020-05-17",
          "2020-05-18",
          "2020-05-19",
          "2020-05-20",
          "2020-05-21",
          "2020-05-22",
          "2020-05-23",
          "2020-05-24",
          "2020-05-25",
          "2020-05-26",
          "2020-05-27",
          "2020-05-28",
          "2020-05-29",
          "2020-05-30",
          "2020-05-31",
          "2020-06-01",
          "2020-06-02",
          "2020-06-03",
          "2020-06-04",
          "2020-06-05",
          "2020-06-06",
          "2020-06-07",
          "2020-06-08",
          "2020-06-09",
          "2020-06-10",
          "2020-06-11",
          "2020-06-12",
          "2020-06-13",
          "2020-06-14",
          "2020-06-15",
          "2020-06-16",
          "2020-06-17",
          "2020-06-18",
          "2020-06-19",
          "2020-06-20",
          "2020-06-21",
          "2020-06-22",
          "2020-06-23",
          "2020-06-24",
          "2020-06-25",
          "2020-06-26",
          "2020-06-27",
          "2020-06-28",
          "2020-06-29",
          "2020-06-30",
          "2020-07-01",
          "2020-07-02",
          "2020-07-03",
          "2020-07-04",
          "2020-07-05",
          "2020-07-06",
          "2020-07-07",
          "2020-07-08",
          "2020-07-09",
          "2020-07-10",
          "2020-07-11",
          "2020-07-12",
          "2020-07-13",
          "2020-07-14",
          "2020-07-15",
          "2020-07-16",
          "2020-07-17",
          "2020-07-18",
          "2020-07-19",
          "2020-07-20",
          "2020-07-21",
          "2020-07-22",
          "2020-07-23",
          "2020-07-24",
          "2020-07-25",
          "2020-07-26",
          "2020-07-27",
          "2020-07-28",
          "2020-07-29",
          "2020-07-30",
          "2020-07-31"
         ]
        }
       ],
       "layout": {
        "template": {
         "data": {
          "bar": [
           {
            "error_x": {
             "color": "#2a3f5f"
            },
            "error_y": {
             "color": "#2a3f5f"
            },
            "marker": {
             "line": {
              "color": "#E5ECF6",
              "width": 0.5
             }
            },
            "type": "bar"
           }
          ],
          "barpolar": [
           {
            "marker": {
             "line": {
              "color": "#E5ECF6",
              "width": 0.5
             }
            },
            "type": "barpolar"
           }
          ],
          "carpet": [
           {
            "aaxis": {
             "endlinecolor": "#2a3f5f",
             "gridcolor": "white",
             "linecolor": "white",
             "minorgridcolor": "white",
             "startlinecolor": "#2a3f5f"
            },
            "baxis": {
             "endlinecolor": "#2a3f5f",
             "gridcolor": "white",
             "linecolor": "white",
             "minorgridcolor": "white",
             "startlinecolor": "#2a3f5f"
            },
            "type": "carpet"
           }
          ],
          "choropleth": [
           {
            "colorbar": {
             "outlinewidth": 0,
             "ticks": ""
            },
            "type": "choropleth"
           }
          ],
          "contour": [
           {
            "colorbar": {
             "outlinewidth": 0,
             "ticks": ""
            },
            "colorscale": [
             [
              0,
              "#0d0887"
             ],
             [
              0.1111111111111111,
              "#46039f"
             ],
             [
              0.2222222222222222,
              "#7201a8"
             ],
             [
              0.3333333333333333,
              "#9c179e"
             ],
             [
              0.4444444444444444,
              "#bd3786"
             ],
             [
              0.5555555555555556,
              "#d8576b"
             ],
             [
              0.6666666666666666,
              "#ed7953"
             ],
             [
              0.7777777777777778,
              "#fb9f3a"
             ],
             [
              0.8888888888888888,
              "#fdca26"
             ],
             [
              1,
              "#f0f921"
             ]
            ],
            "type": "contour"
           }
          ],
          "contourcarpet": [
           {
            "colorbar": {
             "outlinewidth": 0,
             "ticks": ""
            },
            "type": "contourcarpet"
           }
          ],
          "heatmap": [
           {
            "colorbar": {
             "outlinewidth": 0,
             "ticks": ""
            },
            "colorscale": [
             [
              0,
              "#0d0887"
             ],
             [
              0.1111111111111111,
              "#46039f"
             ],
             [
              0.2222222222222222,
              "#7201a8"
             ],
             [
              0.3333333333333333,
              "#9c179e"
             ],
             [
              0.4444444444444444,
              "#bd3786"
             ],
             [
              0.5555555555555556,
              "#d8576b"
             ],
             [
              0.6666666666666666,
              "#ed7953"
             ],
             [
              0.7777777777777778,
              "#fb9f3a"
             ],
             [
              0.8888888888888888,
              "#fdca26"
             ],
             [
              1,
              "#f0f921"
             ]
            ],
            "type": "heatmap"
           }
          ],
          "heatmapgl": [
           {
            "colorbar": {
             "outlinewidth": 0,
             "ticks": ""
            },
            "colorscale": [
             [
              0,
              "#0d0887"
             ],
             [
              0.1111111111111111,
              "#46039f"
             ],
             [
              0.2222222222222222,
              "#7201a8"
             ],
             [
              0.3333333333333333,
              "#9c179e"
             ],
             [
              0.4444444444444444,
              "#bd3786"
             ],
             [
              0.5555555555555556,
              "#d8576b"
             ],
             [
              0.6666666666666666,
              "#ed7953"
             ],
             [
              0.7777777777777778,
              "#fb9f3a"
             ],
             [
              0.8888888888888888,
              "#fdca26"
             ],
             [
              1,
              "#f0f921"
             ]
            ],
            "type": "heatmapgl"
           }
          ],
          "histogram": [
           {
            "marker": {
             "colorbar": {
              "outlinewidth": 0,
              "ticks": ""
             }
            },
            "type": "histogram"
           }
          ],
          "histogram2d": [
           {
            "colorbar": {
             "outlinewidth": 0,
             "ticks": ""
            },
            "colorscale": [
             [
              0,
              "#0d0887"
             ],
             [
              0.1111111111111111,
              "#46039f"
             ],
             [
              0.2222222222222222,
              "#7201a8"
             ],
             [
              0.3333333333333333,
              "#9c179e"
             ],
             [
              0.4444444444444444,
              "#bd3786"
             ],
             [
              0.5555555555555556,
              "#d8576b"
             ],
             [
              0.6666666666666666,
              "#ed7953"
             ],
             [
              0.7777777777777778,
              "#fb9f3a"
             ],
             [
              0.8888888888888888,
              "#fdca26"
             ],
             [
              1,
              "#f0f921"
             ]
            ],
            "type": "histogram2d"
           }
          ],
          "histogram2dcontour": [
           {
            "colorbar": {
             "outlinewidth": 0,
             "ticks": ""
            },
            "colorscale": [
             [
              0,
              "#0d0887"
             ],
             [
              0.1111111111111111,
              "#46039f"
             ],
             [
              0.2222222222222222,
              "#7201a8"
             ],
             [
              0.3333333333333333,
              "#9c179e"
             ],
             [
              0.4444444444444444,
              "#bd3786"
             ],
             [
              0.5555555555555556,
              "#d8576b"
             ],
             [
              0.6666666666666666,
              "#ed7953"
             ],
             [
              0.7777777777777778,
              "#fb9f3a"
             ],
             [
              0.8888888888888888,
              "#fdca26"
             ],
             [
              1,
              "#f0f921"
             ]
            ],
            "type": "histogram2dcontour"
           }
          ],
          "mesh3d": [
           {
            "colorbar": {
             "outlinewidth": 0,
             "ticks": ""
            },
            "type": "mesh3d"
           }
          ],
          "parcoords": [
           {
            "line": {
             "colorbar": {
              "outlinewidth": 0,
              "ticks": ""
             }
            },
            "type": "parcoords"
           }
          ],
          "pie": [
           {
            "automargin": true,
            "type": "pie"
           }
          ],
          "scatter": [
           {
            "marker": {
             "colorbar": {
              "outlinewidth": 0,
              "ticks": ""
             }
            },
            "type": "scatter"
           }
          ],
          "scatter3d": [
           {
            "line": {
             "colorbar": {
              "outlinewidth": 0,
              "ticks": ""
             }
            },
            "marker": {
             "colorbar": {
              "outlinewidth": 0,
              "ticks": ""
             }
            },
            "type": "scatter3d"
           }
          ],
          "scattercarpet": [
           {
            "marker": {
             "colorbar": {
              "outlinewidth": 0,
              "ticks": ""
             }
            },
            "type": "scattercarpet"
           }
          ],
          "scattergeo": [
           {
            "marker": {
             "colorbar": {
              "outlinewidth": 0,
              "ticks": ""
             }
            },
            "type": "scattergeo"
           }
          ],
          "scattergl": [
           {
            "marker": {
             "colorbar": {
              "outlinewidth": 0,
              "ticks": ""
             }
            },
            "type": "scattergl"
           }
          ],
          "scattermapbox": [
           {
            "marker": {
             "colorbar": {
              "outlinewidth": 0,
              "ticks": ""
             }
            },
            "type": "scattermapbox"
           }
          ],
          "scatterpolar": [
           {
            "marker": {
             "colorbar": {
              "outlinewidth": 0,
              "ticks": ""
             }
            },
            "type": "scatterpolar"
           }
          ],
          "scatterpolargl": [
           {
            "marker": {
             "colorbar": {
              "outlinewidth": 0,
              "ticks": ""
             }
            },
            "type": "scatterpolargl"
           }
          ],
          "scatterternary": [
           {
            "marker": {
             "colorbar": {
              "outlinewidth": 0,
              "ticks": ""
             }
            },
            "type": "scatterternary"
           }
          ],
          "surface": [
           {
            "colorbar": {
             "outlinewidth": 0,
             "ticks": ""
            },
            "colorscale": [
             [
              0,
              "#0d0887"
             ],
             [
              0.1111111111111111,
              "#46039f"
             ],
             [
              0.2222222222222222,
              "#7201a8"
             ],
             [
              0.3333333333333333,
              "#9c179e"
             ],
             [
              0.4444444444444444,
              "#bd3786"
             ],
             [
              0.5555555555555556,
              "#d8576b"
             ],
             [
              0.6666666666666666,
              "#ed7953"
             ],
             [
              0.7777777777777778,
              "#fb9f3a"
             ],
             [
              0.8888888888888888,
              "#fdca26"
             ],
             [
              1,
              "#f0f921"
             ]
            ],
            "type": "surface"
           }
          ],
          "table": [
           {
            "cells": {
             "fill": {
              "color": "#EBF0F8"
             },
             "line": {
              "color": "white"
             }
            },
            "header": {
             "fill": {
              "color": "#C8D4E3"
             },
             "line": {
              "color": "white"
             }
            },
            "type": "table"
           }
          ]
         },
         "layout": {
          "annotationdefaults": {
           "arrowcolor": "#2a3f5f",
           "arrowhead": 0,
           "arrowwidth": 1
          },
          "coloraxis": {
           "colorbar": {
            "outlinewidth": 0,
            "ticks": ""
           }
          },
          "colorscale": {
           "diverging": [
            [
             0,
             "#8e0152"
            ],
            [
             0.1,
             "#c51b7d"
            ],
            [
             0.2,
             "#de77ae"
            ],
            [
             0.3,
             "#f1b6da"
            ],
            [
             0.4,
             "#fde0ef"
            ],
            [
             0.5,
             "#f7f7f7"
            ],
            [
             0.6,
             "#e6f5d0"
            ],
            [
             0.7,
             "#b8e186"
            ],
            [
             0.8,
             "#7fbc41"
            ],
            [
             0.9,
             "#4d9221"
            ],
            [
             1,
             "#276419"
            ]
           ],
           "sequential": [
            [
             0,
             "#0d0887"
            ],
            [
             0.1111111111111111,
             "#46039f"
            ],
            [
             0.2222222222222222,
             "#7201a8"
            ],
            [
             0.3333333333333333,
             "#9c179e"
            ],
            [
             0.4444444444444444,
             "#bd3786"
            ],
            [
             0.5555555555555556,
             "#d8576b"
            ],
            [
             0.6666666666666666,
             "#ed7953"
            ],
            [
             0.7777777777777778,
             "#fb9f3a"
            ],
            [
             0.8888888888888888,
             "#fdca26"
            ],
            [
             1,
             "#f0f921"
            ]
           ],
           "sequentialminus": [
            [
             0,
             "#0d0887"
            ],
            [
             0.1111111111111111,
             "#46039f"
            ],
            [
             0.2222222222222222,
             "#7201a8"
            ],
            [
             0.3333333333333333,
             "#9c179e"
            ],
            [
             0.4444444444444444,
             "#bd3786"
            ],
            [
             0.5555555555555556,
             "#d8576b"
            ],
            [
             0.6666666666666666,
             "#ed7953"
            ],
            [
             0.7777777777777778,
             "#fb9f3a"
            ],
            [
             0.8888888888888888,
             "#fdca26"
            ],
            [
             1,
             "#f0f921"
            ]
           ]
          },
          "colorway": [
           "#636efa",
           "#EF553B",
           "#00cc96",
           "#ab63fa",
           "#FFA15A",
           "#19d3f3",
           "#FF6692",
           "#B6E880",
           "#FF97FF",
           "#FECB52"
          ],
          "font": {
           "color": "#2a3f5f"
          },
          "geo": {
           "bgcolor": "white",
           "lakecolor": "white",
           "landcolor": "#E5ECF6",
           "showlakes": true,
           "showland": true,
           "subunitcolor": "white"
          },
          "hoverlabel": {
           "align": "left"
          },
          "hovermode": "closest",
          "mapbox": {
           "style": "light"
          },
          "paper_bgcolor": "white",
          "plot_bgcolor": "#E5ECF6",
          "polar": {
           "angularaxis": {
            "gridcolor": "white",
            "linecolor": "white",
            "ticks": ""
           },
           "bgcolor": "#E5ECF6",
           "radialaxis": {
            "gridcolor": "white",
            "linecolor": "white",
            "ticks": ""
           }
          },
          "scene": {
           "xaxis": {
            "backgroundcolor": "#E5ECF6",
            "gridcolor": "white",
            "gridwidth": 2,
            "linecolor": "white",
            "showbackground": true,
            "ticks": "",
            "zerolinecolor": "white"
           },
           "yaxis": {
            "backgroundcolor": "#E5ECF6",
            "gridcolor": "white",
            "gridwidth": 2,
            "linecolor": "white",
            "showbackground": true,
            "ticks": "",
            "zerolinecolor": "white"
           },
           "zaxis": {
            "backgroundcolor": "#E5ECF6",
            "gridcolor": "white",
            "gridwidth": 2,
            "linecolor": "white",
            "showbackground": true,
            "ticks": "",
            "zerolinecolor": "white"
           }
          },
          "shapedefaults": {
           "line": {
            "color": "#2a3f5f"
           }
          },
          "ternary": {
           "aaxis": {
            "gridcolor": "white",
            "linecolor": "white",
            "ticks": ""
           },
           "baxis": {
            "gridcolor": "white",
            "linecolor": "white",
            "ticks": ""
           },
           "bgcolor": "#E5ECF6",
           "caxis": {
            "gridcolor": "white",
            "linecolor": "white",
            "ticks": ""
           }
          },
          "title": {
           "x": 0.05
          },
          "xaxis": {
           "automargin": true,
           "gridcolor": "white",
           "linecolor": "white",
           "ticks": "",
           "title": {
            "standoff": 15
           },
           "zerolinecolor": "white",
           "zerolinewidth": 2
          },
          "yaxis": {
           "automargin": true,
           "gridcolor": "white",
           "linecolor": "white",
           "ticks": "",
           "title": {
            "standoff": 15
           },
           "zerolinecolor": "white",
           "zerolinewidth": 2
          }
         }
        },
        "title": {
         "text": "Outliers of COVID cases in Colombia"
        }
       }
      }
     },
     "metadata": {}
    }
   ],
   "source": [
    "fig = go.Figure()\n",
    "fig.add_trace(go.Box(y=dfc.Col_average,\n",
    "                     boxmean=True, # only mean visible on plot\n",
    "                     marker_color=\"green\",\n",
    "                     name=\"Col\"))\n",
    "fig.add_trace(go.Box(y=dfc.date,\n",
    "                     boxmean='sd', # mean and SD visible on plot\n",
    "                     marker_color=\"darkorchid\",\n",
    "                     name=\"D\"))\n",
    "fig.update_layout(title=\"Outliers of COVID cases in Colombia\")\n",
    "fig.show()              #@Natalio666Altube"
   ]
  },
  {
   "cell_type": "code",
   "execution_count": 190,
   "metadata": {},
   "outputs": [
    {
     "output_type": "execute_result",
     "data": {
      "text/plain": "     iso_code continent location        date  total_cases  new_cases  \\\n9656      ESP    Europe    Spain  2019-12-31          0.0        0.0   \n9657      ESP    Europe    Spain  2020-01-01          0.0        0.0   \n9658      ESP    Europe    Spain  2020-01-02          0.0        0.0   \n9659      ESP    Europe    Spain  2020-01-03          0.0        0.0   \n9660      ESP    Europe    Spain  2020-01-04          0.0        0.0   \n...       ...       ...      ...         ...          ...        ...   \n9864      ESP    Europe    Spain  2020-07-26     272421.0        0.0   \n9865      ESP    Europe    Spain  2020-07-27     278782.0     6361.0   \n9866      ESP    Europe    Spain  2020-07-28     280610.0     1828.0   \n9867      ESP    Europe    Spain  2020-07-29     282641.0     2031.0   \n9868      ESP    Europe    Spain  2020-07-30     285430.0     2789.0   \n\n      total_deaths  new_deaths  total_cases_per_million  \\\n9656           0.0         0.0                    0.000   \n9657           0.0         0.0                    0.000   \n9658           0.0         0.0                    0.000   \n9659           0.0         0.0                    0.000   \n9660           0.0         0.0                    0.000   \n...            ...         ...                      ...   \n9864       28432.0         0.0                 5826.591   \n9865       28434.0         2.0                 5962.641   \n9866       28436.0         2.0                 6001.739   \n9867       28441.0         5.0                 6045.178   \n9868       28443.0         2.0                 6104.830   \n\n      new_cases_per_million  ...  aged_70_older  gdp_per_capita  \\\n9656                  0.000  ...         13.799        34272.36   \n9657                  0.000  ...         13.799        34272.36   \n9658                  0.000  ...         13.799        34272.36   \n9659                  0.000  ...         13.799        34272.36   \n9660                  0.000  ...         13.799        34272.36   \n...                     ...  ...            ...             ...   \n9864                  0.000  ...         13.799        34272.36   \n9865                136.050  ...         13.799        34272.36   \n9866                 39.098  ...         13.799        34272.36   \n9867                 43.439  ...         13.799        34272.36   \n9868                 59.652  ...         13.799        34272.36   \n\n      extreme_poverty  cardiovasc_death_rate  diabetes_prevalence  \\\n9656              1.0                 99.403                 7.17   \n9657              1.0                 99.403                 7.17   \n9658              1.0                 99.403                 7.17   \n9659              1.0                 99.403                 7.17   \n9660              1.0                 99.403                 7.17   \n...               ...                    ...                  ...   \n9864              1.0                 99.403                 7.17   \n9865              1.0                 99.403                 7.17   \n9866              1.0                 99.403                 7.17   \n9867              1.0                 99.403                 7.17   \n9868              1.0                 99.403                 7.17   \n\n      female_smokers  male_smokers  handwashing_facilities  \\\n9656            27.4          31.4                     NaN   \n9657            27.4          31.4                     NaN   \n9658            27.4          31.4                     NaN   \n9659            27.4          31.4                     NaN   \n9660            27.4          31.4                     NaN   \n...              ...           ...                     ...   \n9864            27.4          31.4                     NaN   \n9865            27.4          31.4                     NaN   \n9866            27.4          31.4                     NaN   \n9867            27.4          31.4                     NaN   \n9868            27.4          31.4                     NaN   \n\n     hospital_beds_per_thousand  life_expectancy  \n9656                       2.97            83.56  \n9657                       2.97            83.56  \n9658                       2.97            83.56  \n9659                       2.97            83.56  \n9660                       2.97            83.56  \n...                         ...              ...  \n9864                       2.97            83.56  \n9865                       2.97            83.56  \n9866                       2.97            83.56  \n9867                       2.97            83.56  \n9868                       2.97            83.56  \n\n[213 rows x 34 columns]",
      "text/html": "<div>\n<style scoped>\n    .dataframe tbody tr th:only-of-type {\n        vertical-align: middle;\n    }\n\n    .dataframe tbody tr th {\n        vertical-align: top;\n    }\n\n    .dataframe thead th {\n        text-align: right;\n    }\n</style>\n<table border=\"1\" class=\"dataframe\">\n  <thead>\n    <tr style=\"text-align: right;\">\n      <th></th>\n      <th>iso_code</th>\n      <th>continent</th>\n      <th>location</th>\n      <th>date</th>\n      <th>total_cases</th>\n      <th>new_cases</th>\n      <th>total_deaths</th>\n      <th>new_deaths</th>\n      <th>total_cases_per_million</th>\n      <th>new_cases_per_million</th>\n      <th>...</th>\n      <th>aged_70_older</th>\n      <th>gdp_per_capita</th>\n      <th>extreme_poverty</th>\n      <th>cardiovasc_death_rate</th>\n      <th>diabetes_prevalence</th>\n      <th>female_smokers</th>\n      <th>male_smokers</th>\n      <th>handwashing_facilities</th>\n      <th>hospital_beds_per_thousand</th>\n      <th>life_expectancy</th>\n    </tr>\n  </thead>\n  <tbody>\n    <tr>\n      <th>9656</th>\n      <td>ESP</td>\n      <td>Europe</td>\n      <td>Spain</td>\n      <td>2019-12-31</td>\n      <td>0.0</td>\n      <td>0.0</td>\n      <td>0.0</td>\n      <td>0.0</td>\n      <td>0.000</td>\n      <td>0.000</td>\n      <td>...</td>\n      <td>13.799</td>\n      <td>34272.36</td>\n      <td>1.0</td>\n      <td>99.403</td>\n      <td>7.17</td>\n      <td>27.4</td>\n      <td>31.4</td>\n      <td>NaN</td>\n      <td>2.97</td>\n      <td>83.56</td>\n    </tr>\n    <tr>\n      <th>9657</th>\n      <td>ESP</td>\n      <td>Europe</td>\n      <td>Spain</td>\n      <td>2020-01-01</td>\n      <td>0.0</td>\n      <td>0.0</td>\n      <td>0.0</td>\n      <td>0.0</td>\n      <td>0.000</td>\n      <td>0.000</td>\n      <td>...</td>\n      <td>13.799</td>\n      <td>34272.36</td>\n      <td>1.0</td>\n      <td>99.403</td>\n      <td>7.17</td>\n      <td>27.4</td>\n      <td>31.4</td>\n      <td>NaN</td>\n      <td>2.97</td>\n      <td>83.56</td>\n    </tr>\n    <tr>\n      <th>9658</th>\n      <td>ESP</td>\n      <td>Europe</td>\n      <td>Spain</td>\n      <td>2020-01-02</td>\n      <td>0.0</td>\n      <td>0.0</td>\n      <td>0.0</td>\n      <td>0.0</td>\n      <td>0.000</td>\n      <td>0.000</td>\n      <td>...</td>\n      <td>13.799</td>\n      <td>34272.36</td>\n      <td>1.0</td>\n      <td>99.403</td>\n      <td>7.17</td>\n      <td>27.4</td>\n      <td>31.4</td>\n      <td>NaN</td>\n      <td>2.97</td>\n      <td>83.56</td>\n    </tr>\n    <tr>\n      <th>9659</th>\n      <td>ESP</td>\n      <td>Europe</td>\n      <td>Spain</td>\n      <td>2020-01-03</td>\n      <td>0.0</td>\n      <td>0.0</td>\n      <td>0.0</td>\n      <td>0.0</td>\n      <td>0.000</td>\n      <td>0.000</td>\n      <td>...</td>\n      <td>13.799</td>\n      <td>34272.36</td>\n      <td>1.0</td>\n      <td>99.403</td>\n      <td>7.17</td>\n      <td>27.4</td>\n      <td>31.4</td>\n      <td>NaN</td>\n      <td>2.97</td>\n      <td>83.56</td>\n    </tr>\n    <tr>\n      <th>9660</th>\n      <td>ESP</td>\n      <td>Europe</td>\n      <td>Spain</td>\n      <td>2020-01-04</td>\n      <td>0.0</td>\n      <td>0.0</td>\n      <td>0.0</td>\n      <td>0.0</td>\n      <td>0.000</td>\n      <td>0.000</td>\n      <td>...</td>\n      <td>13.799</td>\n      <td>34272.36</td>\n      <td>1.0</td>\n      <td>99.403</td>\n      <td>7.17</td>\n      <td>27.4</td>\n      <td>31.4</td>\n      <td>NaN</td>\n      <td>2.97</td>\n      <td>83.56</td>\n    </tr>\n    <tr>\n      <th>...</th>\n      <td>...</td>\n      <td>...</td>\n      <td>...</td>\n      <td>...</td>\n      <td>...</td>\n      <td>...</td>\n      <td>...</td>\n      <td>...</td>\n      <td>...</td>\n      <td>...</td>\n      <td>...</td>\n      <td>...</td>\n      <td>...</td>\n      <td>...</td>\n      <td>...</td>\n      <td>...</td>\n      <td>...</td>\n      <td>...</td>\n      <td>...</td>\n      <td>...</td>\n      <td>...</td>\n    </tr>\n    <tr>\n      <th>9864</th>\n      <td>ESP</td>\n      <td>Europe</td>\n      <td>Spain</td>\n      <td>2020-07-26</td>\n      <td>272421.0</td>\n      <td>0.0</td>\n      <td>28432.0</td>\n      <td>0.0</td>\n      <td>5826.591</td>\n      <td>0.000</td>\n      <td>...</td>\n      <td>13.799</td>\n      <td>34272.36</td>\n      <td>1.0</td>\n      <td>99.403</td>\n      <td>7.17</td>\n      <td>27.4</td>\n      <td>31.4</td>\n      <td>NaN</td>\n      <td>2.97</td>\n      <td>83.56</td>\n    </tr>\n    <tr>\n      <th>9865</th>\n      <td>ESP</td>\n      <td>Europe</td>\n      <td>Spain</td>\n      <td>2020-07-27</td>\n      <td>278782.0</td>\n      <td>6361.0</td>\n      <td>28434.0</td>\n      <td>2.0</td>\n      <td>5962.641</td>\n      <td>136.050</td>\n      <td>...</td>\n      <td>13.799</td>\n      <td>34272.36</td>\n      <td>1.0</td>\n      <td>99.403</td>\n      <td>7.17</td>\n      <td>27.4</td>\n      <td>31.4</td>\n      <td>NaN</td>\n      <td>2.97</td>\n      <td>83.56</td>\n    </tr>\n    <tr>\n      <th>9866</th>\n      <td>ESP</td>\n      <td>Europe</td>\n      <td>Spain</td>\n      <td>2020-07-28</td>\n      <td>280610.0</td>\n      <td>1828.0</td>\n      <td>28436.0</td>\n      <td>2.0</td>\n      <td>6001.739</td>\n      <td>39.098</td>\n      <td>...</td>\n      <td>13.799</td>\n      <td>34272.36</td>\n      <td>1.0</td>\n      <td>99.403</td>\n      <td>7.17</td>\n      <td>27.4</td>\n      <td>31.4</td>\n      <td>NaN</td>\n      <td>2.97</td>\n      <td>83.56</td>\n    </tr>\n    <tr>\n      <th>9867</th>\n      <td>ESP</td>\n      <td>Europe</td>\n      <td>Spain</td>\n      <td>2020-07-29</td>\n      <td>282641.0</td>\n      <td>2031.0</td>\n      <td>28441.0</td>\n      <td>5.0</td>\n      <td>6045.178</td>\n      <td>43.439</td>\n      <td>...</td>\n      <td>13.799</td>\n      <td>34272.36</td>\n      <td>1.0</td>\n      <td>99.403</td>\n      <td>7.17</td>\n      <td>27.4</td>\n      <td>31.4</td>\n      <td>NaN</td>\n      <td>2.97</td>\n      <td>83.56</td>\n    </tr>\n    <tr>\n      <th>9868</th>\n      <td>ESP</td>\n      <td>Europe</td>\n      <td>Spain</td>\n      <td>2020-07-30</td>\n      <td>285430.0</td>\n      <td>2789.0</td>\n      <td>28443.0</td>\n      <td>2.0</td>\n      <td>6104.830</td>\n      <td>59.652</td>\n      <td>...</td>\n      <td>13.799</td>\n      <td>34272.36</td>\n      <td>1.0</td>\n      <td>99.403</td>\n      <td>7.17</td>\n      <td>27.4</td>\n      <td>31.4</td>\n      <td>NaN</td>\n      <td>2.97</td>\n      <td>83.56</td>\n    </tr>\n  </tbody>\n</table>\n<p>213 rows × 34 columns</p>\n</div>"
     },
     "metadata": {},
     "execution_count": 190
    }
   ],
   "source": [
    "dfs = covid1[covid1['location']=='Spain']           #@Natalio666Altube\n",
    "dfs"
   ]
  },
  {
   "cell_type": "code",
   "execution_count": 191,
   "metadata": {},
   "outputs": [],
   "source": [
    "dfs.dropna(subset=['new_cases'],axis=0, inplace=True)           #@Natalio666Altube"
   ]
  },
  {
   "cell_type": "code",
   "execution_count": 192,
   "metadata": {},
   "outputs": [
    {
     "output_type": "execute_result",
     "data": {
      "text/plain": "     iso_code continent location        date  total_cases  new_cases  \\\n9656      ESP    Europe    Spain  2019-12-31          0.0        0.0   \n9657      ESP    Europe    Spain  2020-01-01          0.0        0.0   \n9658      ESP    Europe    Spain  2020-01-02          0.0        0.0   \n9659      ESP    Europe    Spain  2020-01-03          0.0        0.0   \n9660      ESP    Europe    Spain  2020-01-04          0.0        0.0   \n...       ...       ...      ...         ...          ...        ...   \n9864      ESP    Europe    Spain  2020-07-26     272421.0        0.0   \n9865      ESP    Europe    Spain  2020-07-27     278782.0     6361.0   \n9866      ESP    Europe    Spain  2020-07-28     280610.0     1828.0   \n9867      ESP    Europe    Spain  2020-07-29     282641.0     2031.0   \n9868      ESP    Europe    Spain  2020-07-30     285430.0     2789.0   \n\n      total_deaths  new_deaths  total_cases_per_million  \\\n9656           0.0         0.0                    0.000   \n9657           0.0         0.0                    0.000   \n9658           0.0         0.0                    0.000   \n9659           0.0         0.0                    0.000   \n9660           0.0         0.0                    0.000   \n...            ...         ...                      ...   \n9864       28432.0         0.0                 5826.591   \n9865       28434.0         2.0                 5962.641   \n9866       28436.0         2.0                 6001.739   \n9867       28441.0         5.0                 6045.178   \n9868       28443.0         2.0                 6104.830   \n\n      new_cases_per_million  ...  aged_70_older  gdp_per_capita  \\\n9656                  0.000  ...         13.799        34272.36   \n9657                  0.000  ...         13.799        34272.36   \n9658                  0.000  ...         13.799        34272.36   \n9659                  0.000  ...         13.799        34272.36   \n9660                  0.000  ...         13.799        34272.36   \n...                     ...  ...            ...             ...   \n9864                  0.000  ...         13.799        34272.36   \n9865                136.050  ...         13.799        34272.36   \n9866                 39.098  ...         13.799        34272.36   \n9867                 43.439  ...         13.799        34272.36   \n9868                 59.652  ...         13.799        34272.36   \n\n      extreme_poverty  cardiovasc_death_rate  diabetes_prevalence  \\\n9656              1.0                 99.403                 7.17   \n9657              1.0                 99.403                 7.17   \n9658              1.0                 99.403                 7.17   \n9659              1.0                 99.403                 7.17   \n9660              1.0                 99.403                 7.17   \n...               ...                    ...                  ...   \n9864              1.0                 99.403                 7.17   \n9865              1.0                 99.403                 7.17   \n9866              1.0                 99.403                 7.17   \n9867              1.0                 99.403                 7.17   \n9868              1.0                 99.403                 7.17   \n\n      female_smokers  male_smokers  handwashing_facilities  \\\n9656            27.4          31.4                     NaN   \n9657            27.4          31.4                     NaN   \n9658            27.4          31.4                     NaN   \n9659            27.4          31.4                     NaN   \n9660            27.4          31.4                     NaN   \n...              ...           ...                     ...   \n9864            27.4          31.4                     NaN   \n9865            27.4          31.4                     NaN   \n9866            27.4          31.4                     NaN   \n9867            27.4          31.4                     NaN   \n9868            27.4          31.4                     NaN   \n\n     hospital_beds_per_thousand  life_expectancy  \n9656                       2.97            83.56  \n9657                       2.97            83.56  \n9658                       2.97            83.56  \n9659                       2.97            83.56  \n9660                       2.97            83.56  \n...                         ...              ...  \n9864                       2.97            83.56  \n9865                       2.97            83.56  \n9866                       2.97            83.56  \n9867                       2.97            83.56  \n9868                       2.97            83.56  \n\n[213 rows x 34 columns]",
      "text/html": "<div>\n<style scoped>\n    .dataframe tbody tr th:only-of-type {\n        vertical-align: middle;\n    }\n\n    .dataframe tbody tr th {\n        vertical-align: top;\n    }\n\n    .dataframe thead th {\n        text-align: right;\n    }\n</style>\n<table border=\"1\" class=\"dataframe\">\n  <thead>\n    <tr style=\"text-align: right;\">\n      <th></th>\n      <th>iso_code</th>\n      <th>continent</th>\n      <th>location</th>\n      <th>date</th>\n      <th>total_cases</th>\n      <th>new_cases</th>\n      <th>total_deaths</th>\n      <th>new_deaths</th>\n      <th>total_cases_per_million</th>\n      <th>new_cases_per_million</th>\n      <th>...</th>\n      <th>aged_70_older</th>\n      <th>gdp_per_capita</th>\n      <th>extreme_poverty</th>\n      <th>cardiovasc_death_rate</th>\n      <th>diabetes_prevalence</th>\n      <th>female_smokers</th>\n      <th>male_smokers</th>\n      <th>handwashing_facilities</th>\n      <th>hospital_beds_per_thousand</th>\n      <th>life_expectancy</th>\n    </tr>\n  </thead>\n  <tbody>\n    <tr>\n      <th>9656</th>\n      <td>ESP</td>\n      <td>Europe</td>\n      <td>Spain</td>\n      <td>2019-12-31</td>\n      <td>0.0</td>\n      <td>0.0</td>\n      <td>0.0</td>\n      <td>0.0</td>\n      <td>0.000</td>\n      <td>0.000</td>\n      <td>...</td>\n      <td>13.799</td>\n      <td>34272.36</td>\n      <td>1.0</td>\n      <td>99.403</td>\n      <td>7.17</td>\n      <td>27.4</td>\n      <td>31.4</td>\n      <td>NaN</td>\n      <td>2.97</td>\n      <td>83.56</td>\n    </tr>\n    <tr>\n      <th>9657</th>\n      <td>ESP</td>\n      <td>Europe</td>\n      <td>Spain</td>\n      <td>2020-01-01</td>\n      <td>0.0</td>\n      <td>0.0</td>\n      <td>0.0</td>\n      <td>0.0</td>\n      <td>0.000</td>\n      <td>0.000</td>\n      <td>...</td>\n      <td>13.799</td>\n      <td>34272.36</td>\n      <td>1.0</td>\n      <td>99.403</td>\n      <td>7.17</td>\n      <td>27.4</td>\n      <td>31.4</td>\n      <td>NaN</td>\n      <td>2.97</td>\n      <td>83.56</td>\n    </tr>\n    <tr>\n      <th>9658</th>\n      <td>ESP</td>\n      <td>Europe</td>\n      <td>Spain</td>\n      <td>2020-01-02</td>\n      <td>0.0</td>\n      <td>0.0</td>\n      <td>0.0</td>\n      <td>0.0</td>\n      <td>0.000</td>\n      <td>0.000</td>\n      <td>...</td>\n      <td>13.799</td>\n      <td>34272.36</td>\n      <td>1.0</td>\n      <td>99.403</td>\n      <td>7.17</td>\n      <td>27.4</td>\n      <td>31.4</td>\n      <td>NaN</td>\n      <td>2.97</td>\n      <td>83.56</td>\n    </tr>\n    <tr>\n      <th>9659</th>\n      <td>ESP</td>\n      <td>Europe</td>\n      <td>Spain</td>\n      <td>2020-01-03</td>\n      <td>0.0</td>\n      <td>0.0</td>\n      <td>0.0</td>\n      <td>0.0</td>\n      <td>0.000</td>\n      <td>0.000</td>\n      <td>...</td>\n      <td>13.799</td>\n      <td>34272.36</td>\n      <td>1.0</td>\n      <td>99.403</td>\n      <td>7.17</td>\n      <td>27.4</td>\n      <td>31.4</td>\n      <td>NaN</td>\n      <td>2.97</td>\n      <td>83.56</td>\n    </tr>\n    <tr>\n      <th>9660</th>\n      <td>ESP</td>\n      <td>Europe</td>\n      <td>Spain</td>\n      <td>2020-01-04</td>\n      <td>0.0</td>\n      <td>0.0</td>\n      <td>0.0</td>\n      <td>0.0</td>\n      <td>0.000</td>\n      <td>0.000</td>\n      <td>...</td>\n      <td>13.799</td>\n      <td>34272.36</td>\n      <td>1.0</td>\n      <td>99.403</td>\n      <td>7.17</td>\n      <td>27.4</td>\n      <td>31.4</td>\n      <td>NaN</td>\n      <td>2.97</td>\n      <td>83.56</td>\n    </tr>\n    <tr>\n      <th>...</th>\n      <td>...</td>\n      <td>...</td>\n      <td>...</td>\n      <td>...</td>\n      <td>...</td>\n      <td>...</td>\n      <td>...</td>\n      <td>...</td>\n      <td>...</td>\n      <td>...</td>\n      <td>...</td>\n      <td>...</td>\n      <td>...</td>\n      <td>...</td>\n      <td>...</td>\n      <td>...</td>\n      <td>...</td>\n      <td>...</td>\n      <td>...</td>\n      <td>...</td>\n      <td>...</td>\n    </tr>\n    <tr>\n      <th>9864</th>\n      <td>ESP</td>\n      <td>Europe</td>\n      <td>Spain</td>\n      <td>2020-07-26</td>\n      <td>272421.0</td>\n      <td>0.0</td>\n      <td>28432.0</td>\n      <td>0.0</td>\n      <td>5826.591</td>\n      <td>0.000</td>\n      <td>...</td>\n      <td>13.799</td>\n      <td>34272.36</td>\n      <td>1.0</td>\n      <td>99.403</td>\n      <td>7.17</td>\n      <td>27.4</td>\n      <td>31.4</td>\n      <td>NaN</td>\n      <td>2.97</td>\n      <td>83.56</td>\n    </tr>\n    <tr>\n      <th>9865</th>\n      <td>ESP</td>\n      <td>Europe</td>\n      <td>Spain</td>\n      <td>2020-07-27</td>\n      <td>278782.0</td>\n      <td>6361.0</td>\n      <td>28434.0</td>\n      <td>2.0</td>\n      <td>5962.641</td>\n      <td>136.050</td>\n      <td>...</td>\n      <td>13.799</td>\n      <td>34272.36</td>\n      <td>1.0</td>\n      <td>99.403</td>\n      <td>7.17</td>\n      <td>27.4</td>\n      <td>31.4</td>\n      <td>NaN</td>\n      <td>2.97</td>\n      <td>83.56</td>\n    </tr>\n    <tr>\n      <th>9866</th>\n      <td>ESP</td>\n      <td>Europe</td>\n      <td>Spain</td>\n      <td>2020-07-28</td>\n      <td>280610.0</td>\n      <td>1828.0</td>\n      <td>28436.0</td>\n      <td>2.0</td>\n      <td>6001.739</td>\n      <td>39.098</td>\n      <td>...</td>\n      <td>13.799</td>\n      <td>34272.36</td>\n      <td>1.0</td>\n      <td>99.403</td>\n      <td>7.17</td>\n      <td>27.4</td>\n      <td>31.4</td>\n      <td>NaN</td>\n      <td>2.97</td>\n      <td>83.56</td>\n    </tr>\n    <tr>\n      <th>9867</th>\n      <td>ESP</td>\n      <td>Europe</td>\n      <td>Spain</td>\n      <td>2020-07-29</td>\n      <td>282641.0</td>\n      <td>2031.0</td>\n      <td>28441.0</td>\n      <td>5.0</td>\n      <td>6045.178</td>\n      <td>43.439</td>\n      <td>...</td>\n      <td>13.799</td>\n      <td>34272.36</td>\n      <td>1.0</td>\n      <td>99.403</td>\n      <td>7.17</td>\n      <td>27.4</td>\n      <td>31.4</td>\n      <td>NaN</td>\n      <td>2.97</td>\n      <td>83.56</td>\n    </tr>\n    <tr>\n      <th>9868</th>\n      <td>ESP</td>\n      <td>Europe</td>\n      <td>Spain</td>\n      <td>2020-07-30</td>\n      <td>285430.0</td>\n      <td>2789.0</td>\n      <td>28443.0</td>\n      <td>2.0</td>\n      <td>6104.830</td>\n      <td>59.652</td>\n      <td>...</td>\n      <td>13.799</td>\n      <td>34272.36</td>\n      <td>1.0</td>\n      <td>99.403</td>\n      <td>7.17</td>\n      <td>27.4</td>\n      <td>31.4</td>\n      <td>NaN</td>\n      <td>2.97</td>\n      <td>83.56</td>\n    </tr>\n  </tbody>\n</table>\n<p>213 rows × 34 columns</p>\n</div>"
     },
     "metadata": {},
     "execution_count": 192
    }
   ],
   "source": [
    "dfs             #@Natalio666Altube"
   ]
  },
  {
   "cell_type": "code",
   "execution_count": 193,
   "metadata": {},
   "outputs": [],
   "source": [
    "dfs= dfs.drop(['iso_code', 'continent', 'total_cases',\n",
    "       'total_deaths', 'new_deaths', 'total_cases_per_million',\n",
    "       'new_cases_per_million', 'total_deaths_per_million',\n",
    "       'new_deaths_per_million', 'new_tests', 'total_tests',\n",
    "       'total_tests_per_thousand', 'new_tests_per_thousand',\n",
    "       'new_tests_smoothed', 'new_tests_smoothed_per_thousand', 'tests_units',\n",
    "       'stringency_index', 'population', 'population_density', 'median_age',\n",
    "       'aged_65_older', 'aged_70_older', 'gdp_per_capita', 'extreme_poverty',\n",
    "       'cardiovasc_death_rate', 'diabetes_prevalence', 'female_smokers',\n",
    "       'male_smokers', 'handwashing_facilities', 'hospital_beds_per_thousand',\n",
    "       'life_expectancy'], axis=1)\n",
    "\n",
    "       #@Natalio666Altube"
   ]
  },
  {
   "cell_type": "code",
   "execution_count": 194,
   "metadata": {},
   "outputs": [
    {
     "output_type": "execute_result",
     "data": {
      "text/plain": "            new_cases\ndate                 \n2019-12-31        0.0\n2020-01-01        0.0\n2020-01-02        0.0\n2020-01-03        0.0\n2020-01-04        0.0\n...               ...\n2020-07-26        0.0\n2020-07-27     6361.0\n2020-07-28     1828.0\n2020-07-29     2031.0\n2020-07-30     2789.0\n\n[213 rows x 1 columns]",
      "text/html": "<div>\n<style scoped>\n    .dataframe tbody tr th:only-of-type {\n        vertical-align: middle;\n    }\n\n    .dataframe tbody tr th {\n        vertical-align: top;\n    }\n\n    .dataframe thead th {\n        text-align: right;\n    }\n</style>\n<table border=\"1\" class=\"dataframe\">\n  <thead>\n    <tr style=\"text-align: right;\">\n      <th></th>\n      <th>new_cases</th>\n    </tr>\n    <tr>\n      <th>date</th>\n      <th></th>\n    </tr>\n  </thead>\n  <tbody>\n    <tr>\n      <th>2019-12-31</th>\n      <td>0.0</td>\n    </tr>\n    <tr>\n      <th>2020-01-01</th>\n      <td>0.0</td>\n    </tr>\n    <tr>\n      <th>2020-01-02</th>\n      <td>0.0</td>\n    </tr>\n    <tr>\n      <th>2020-01-03</th>\n      <td>0.0</td>\n    </tr>\n    <tr>\n      <th>2020-01-04</th>\n      <td>0.0</td>\n    </tr>\n    <tr>\n      <th>...</th>\n      <td>...</td>\n    </tr>\n    <tr>\n      <th>2020-07-26</th>\n      <td>0.0</td>\n    </tr>\n    <tr>\n      <th>2020-07-27</th>\n      <td>6361.0</td>\n    </tr>\n    <tr>\n      <th>2020-07-28</th>\n      <td>1828.0</td>\n    </tr>\n    <tr>\n      <th>2020-07-29</th>\n      <td>2031.0</td>\n    </tr>\n    <tr>\n      <th>2020-07-30</th>\n      <td>2789.0</td>\n    </tr>\n  </tbody>\n</table>\n<p>213 rows × 1 columns</p>\n</div>"
     },
     "metadata": {},
     "execution_count": 194
    }
   ],
   "source": [
    "dfs.groupby('date').mean()      #@Natalio666Altube"
   ]
  },
  {
   "cell_type": "code",
   "execution_count": 195,
   "metadata": {},
   "outputs": [],
   "source": [
    "dfs.rename(columns={'new_cases': 'Spa_average'},inplace=True)       #@Natalio666Altube"
   ]
  },
  {
   "cell_type": "code",
   "execution_count": 196,
   "metadata": {},
   "outputs": [
    {
     "output_type": "execute_result",
     "data": {
      "text/plain": "     location        date  Spa_average\n9656    Spain  2019-12-31          0.0\n9657    Spain  2020-01-01          0.0\n9658    Spain  2020-01-02          0.0\n9659    Spain  2020-01-03          0.0\n9660    Spain  2020-01-04          0.0\n...       ...         ...          ...\n9864    Spain  2020-07-26          0.0\n9865    Spain  2020-07-27       6361.0\n9866    Spain  2020-07-28       1828.0\n9867    Spain  2020-07-29       2031.0\n9868    Spain  2020-07-30       2789.0\n\n[213 rows x 3 columns]",
      "text/html": "<div>\n<style scoped>\n    .dataframe tbody tr th:only-of-type {\n        vertical-align: middle;\n    }\n\n    .dataframe tbody tr th {\n        vertical-align: top;\n    }\n\n    .dataframe thead th {\n        text-align: right;\n    }\n</style>\n<table border=\"1\" class=\"dataframe\">\n  <thead>\n    <tr style=\"text-align: right;\">\n      <th></th>\n      <th>location</th>\n      <th>date</th>\n      <th>Spa_average</th>\n    </tr>\n  </thead>\n  <tbody>\n    <tr>\n      <th>9656</th>\n      <td>Spain</td>\n      <td>2019-12-31</td>\n      <td>0.0</td>\n    </tr>\n    <tr>\n      <th>9657</th>\n      <td>Spain</td>\n      <td>2020-01-01</td>\n      <td>0.0</td>\n    </tr>\n    <tr>\n      <th>9658</th>\n      <td>Spain</td>\n      <td>2020-01-02</td>\n      <td>0.0</td>\n    </tr>\n    <tr>\n      <th>9659</th>\n      <td>Spain</td>\n      <td>2020-01-03</td>\n      <td>0.0</td>\n    </tr>\n    <tr>\n      <th>9660</th>\n      <td>Spain</td>\n      <td>2020-01-04</td>\n      <td>0.0</td>\n    </tr>\n    <tr>\n      <th>...</th>\n      <td>...</td>\n      <td>...</td>\n      <td>...</td>\n    </tr>\n    <tr>\n      <th>9864</th>\n      <td>Spain</td>\n      <td>2020-07-26</td>\n      <td>0.0</td>\n    </tr>\n    <tr>\n      <th>9865</th>\n      <td>Spain</td>\n      <td>2020-07-27</td>\n      <td>6361.0</td>\n    </tr>\n    <tr>\n      <th>9866</th>\n      <td>Spain</td>\n      <td>2020-07-28</td>\n      <td>1828.0</td>\n    </tr>\n    <tr>\n      <th>9867</th>\n      <td>Spain</td>\n      <td>2020-07-29</td>\n      <td>2031.0</td>\n    </tr>\n    <tr>\n      <th>9868</th>\n      <td>Spain</td>\n      <td>2020-07-30</td>\n      <td>2789.0</td>\n    </tr>\n  </tbody>\n</table>\n<p>213 rows × 3 columns</p>\n</div>"
     },
     "metadata": {},
     "execution_count": 196
    }
   ],
   "source": [
    "dfs         #@Natalio666Altube"
   ]
  },
  {
   "cell_type": "code",
   "execution_count": 197,
   "metadata": {},
   "outputs": [
    {
     "output_type": "display_data",
     "data": {
      "application/vnd.plotly.v1+json": {
       "config": {
        "plotlyServerURL": "https://plot.ly"
       },
       "data": [
        {
         "marker": {
          "color": "black"
         },
         "mode": "lines",
         "type": "scatter",
         "x": [
          "2019-12-31",
          "2020-01-01",
          "2020-01-02",
          "2020-01-03",
          "2020-01-04",
          "2020-01-05",
          "2020-01-06",
          "2020-01-07",
          "2020-01-08",
          "2020-01-09",
          "2020-01-10",
          "2020-01-11",
          "2020-01-12",
          "2020-01-13",
          "2020-01-14",
          "2020-01-15",
          "2020-01-16",
          "2020-01-17",
          "2020-01-18",
          "2020-01-19",
          "2020-01-20",
          "2020-01-21",
          "2020-01-22",
          "2020-01-23",
          "2020-01-24",
          "2020-01-25",
          "2020-01-26",
          "2020-01-27",
          "2020-01-28",
          "2020-01-29",
          "2020-01-30",
          "2020-01-31",
          "2020-02-01",
          "2020-02-02",
          "2020-02-03",
          "2020-02-04",
          "2020-02-05",
          "2020-02-06",
          "2020-02-07",
          "2020-02-08",
          "2020-02-09",
          "2020-02-10",
          "2020-02-11",
          "2020-02-12",
          "2020-02-13",
          "2020-02-14",
          "2020-02-15",
          "2020-02-16",
          "2020-02-17",
          "2020-02-18",
          "2020-02-19",
          "2020-02-20",
          "2020-02-21",
          "2020-02-22",
          "2020-02-23",
          "2020-02-24",
          "2020-02-25",
          "2020-02-26",
          "2020-02-27",
          "2020-02-28",
          "2020-02-29",
          "2020-03-01",
          "2020-03-02",
          "2020-03-03",
          "2020-03-04",
          "2020-03-05",
          "2020-03-06",
          "2020-03-07",
          "2020-03-08",
          "2020-03-09",
          "2020-03-10",
          "2020-03-11",
          "2020-03-12",
          "2020-03-13",
          "2020-03-14",
          "2020-03-15",
          "2020-03-16",
          "2020-03-17",
          "2020-03-18",
          "2020-03-19",
          "2020-03-20",
          "2020-03-21",
          "2020-03-22",
          "2020-03-23",
          "2020-03-24",
          "2020-03-25",
          "2020-03-26",
          "2020-03-27",
          "2020-03-28",
          "2020-03-29",
          "2020-03-30",
          "2020-03-31",
          "2020-04-01",
          "2020-04-02",
          "2020-04-03",
          "2020-04-04",
          "2020-04-05",
          "2020-04-06",
          "2020-04-07",
          "2020-04-08",
          "2020-04-09",
          "2020-04-10",
          "2020-04-11",
          "2020-04-12",
          "2020-04-13",
          "2020-04-14",
          "2020-04-15",
          "2020-04-16",
          "2020-04-17",
          "2020-04-18",
          "2020-04-19",
          "2020-04-20",
          "2020-04-21",
          "2020-04-22",
          "2020-04-23",
          "2020-04-24",
          "2020-04-25",
          "2020-04-26",
          "2020-04-27",
          "2020-04-28",
          "2020-04-29",
          "2020-04-30",
          "2020-05-01",
          "2020-05-02",
          "2020-05-03",
          "2020-05-04",
          "2020-05-05",
          "2020-05-06",
          "2020-05-07",
          "2020-05-08",
          "2020-05-09",
          "2020-05-10",
          "2020-05-11",
          "2020-05-12",
          "2020-05-13",
          "2020-05-14",
          "2020-05-15",
          "2020-05-16",
          "2020-05-17",
          "2020-05-18",
          "2020-05-19",
          "2020-05-20",
          "2020-05-21",
          "2020-05-22",
          "2020-05-23",
          "2020-05-24",
          "2020-05-25",
          "2020-05-26",
          "2020-05-27",
          "2020-05-28",
          "2020-05-29",
          "2020-05-30",
          "2020-05-31",
          "2020-06-01",
          "2020-06-02",
          "2020-06-03",
          "2020-06-04",
          "2020-06-05",
          "2020-06-06",
          "2020-06-07",
          "2020-06-08",
          "2020-06-09",
          "2020-06-10",
          "2020-06-11",
          "2020-06-12",
          "2020-06-13",
          "2020-06-14",
          "2020-06-15",
          "2020-06-16",
          "2020-06-17",
          "2020-06-18",
          "2020-06-19",
          "2020-06-20",
          "2020-06-21",
          "2020-06-22",
          "2020-06-23",
          "2020-06-24",
          "2020-06-25",
          "2020-06-26",
          "2020-06-27",
          "2020-06-28",
          "2020-06-29",
          "2020-06-30",
          "2020-07-01",
          "2020-07-02",
          "2020-07-03",
          "2020-07-04",
          "2020-07-05",
          "2020-07-06",
          "2020-07-07",
          "2020-07-08",
          "2020-07-09",
          "2020-07-10",
          "2020-07-11",
          "2020-07-12",
          "2020-07-13",
          "2020-07-14",
          "2020-07-15",
          "2020-07-16",
          "2020-07-17",
          "2020-07-18",
          "2020-07-19",
          "2020-07-20",
          "2020-07-21",
          "2020-07-22",
          "2020-07-23",
          "2020-07-24",
          "2020-07-25",
          "2020-07-26",
          "2020-07-27",
          "2020-07-28",
          "2020-07-29",
          "2020-07-30"
         ],
         "y": [
          0,
          0,
          0,
          0,
          0,
          0,
          0,
          0,
          0,
          0,
          0,
          0,
          0,
          0,
          0,
          0,
          0,
          0,
          0,
          0,
          0,
          0,
          0,
          0,
          0,
          0,
          0,
          0,
          0,
          0,
          0,
          0,
          1,
          0,
          0,
          0,
          0,
          0,
          0,
          0,
          0,
          1,
          0,
          0,
          0,
          0,
          0,
          0,
          0,
          0,
          0,
          0,
          0,
          0,
          0,
          0,
          1,
          6,
          8,
          18,
          19,
          28,
          54,
          56,
          75,
          81,
          183,
          233,
          330,
          433,
          772,
          975,
          1153,
          1531,
          1683,
          2144,
          1706,
          2503,
          3694,
          4047,
          4569,
          5446,
          4866,
          4646,
          7691,
          8553,
          8954,
          9181,
          8244,
          6424,
          5813,
          8145,
          7413,
          7583,
          7272,
          6663,
          5533,
          3667,
          5209,
          5583,
          5745,
          4537,
          4550,
          3899,
          3030,
          3116,
          4424,
          3820,
          3818,
          3836,
          -713,
          2218,
          2951,
          2312,
          2916,
          2114,
          2506,
          1641,
          1660,
          1525,
          847,
          1241,
          1387,
          1234,
          935,
          466,
          1039,
          880,
          921,
          1173,
          743,
          3416,
          393,
          482,
          439,
          849,
          643,
          515,
          652,
          256,
          431,
          518,
          482,
          1787,
          466,
          482,
          -372,
          859,
          510,
          1137,
          658,
          664,
          201,
          209,
          294,
          394,
          334,
          318,
          332,
          240,
          167,
          249,
          314,
          427,
          502,
          396,
          323,
          181,
          219,
          355,
          585,
          307,
          363,
          334,
          232,
          248,
          334,
          400,
          419,
          564,
          301,
          200,
          301,
          388,
          444,
          442,
          0,
          0,
          1244,
          341,
          383,
          543,
          852,
          0,
          0,
          2045,
          666,
          875,
          1361,
          1400,
          0,
          0,
          4581,
          1358,
          1357,
          2615,
          2255,
          0,
          0,
          6361,
          1828,
          2031,
          2789
         ]
        }
       ],
       "layout": {
        "template": {
         "data": {
          "bar": [
           {
            "error_x": {
             "color": "#2a3f5f"
            },
            "error_y": {
             "color": "#2a3f5f"
            },
            "marker": {
             "line": {
              "color": "#E5ECF6",
              "width": 0.5
             }
            },
            "type": "bar"
           }
          ],
          "barpolar": [
           {
            "marker": {
             "line": {
              "color": "#E5ECF6",
              "width": 0.5
             }
            },
            "type": "barpolar"
           }
          ],
          "carpet": [
           {
            "aaxis": {
             "endlinecolor": "#2a3f5f",
             "gridcolor": "white",
             "linecolor": "white",
             "minorgridcolor": "white",
             "startlinecolor": "#2a3f5f"
            },
            "baxis": {
             "endlinecolor": "#2a3f5f",
             "gridcolor": "white",
             "linecolor": "white",
             "minorgridcolor": "white",
             "startlinecolor": "#2a3f5f"
            },
            "type": "carpet"
           }
          ],
          "choropleth": [
           {
            "colorbar": {
             "outlinewidth": 0,
             "ticks": ""
            },
            "type": "choropleth"
           }
          ],
          "contour": [
           {
            "colorbar": {
             "outlinewidth": 0,
             "ticks": ""
            },
            "colorscale": [
             [
              0,
              "#0d0887"
             ],
             [
              0.1111111111111111,
              "#46039f"
             ],
             [
              0.2222222222222222,
              "#7201a8"
             ],
             [
              0.3333333333333333,
              "#9c179e"
             ],
             [
              0.4444444444444444,
              "#bd3786"
             ],
             [
              0.5555555555555556,
              "#d8576b"
             ],
             [
              0.6666666666666666,
              "#ed7953"
             ],
             [
              0.7777777777777778,
              "#fb9f3a"
             ],
             [
              0.8888888888888888,
              "#fdca26"
             ],
             [
              1,
              "#f0f921"
             ]
            ],
            "type": "contour"
           }
          ],
          "contourcarpet": [
           {
            "colorbar": {
             "outlinewidth": 0,
             "ticks": ""
            },
            "type": "contourcarpet"
           }
          ],
          "heatmap": [
           {
            "colorbar": {
             "outlinewidth": 0,
             "ticks": ""
            },
            "colorscale": [
             [
              0,
              "#0d0887"
             ],
             [
              0.1111111111111111,
              "#46039f"
             ],
             [
              0.2222222222222222,
              "#7201a8"
             ],
             [
              0.3333333333333333,
              "#9c179e"
             ],
             [
              0.4444444444444444,
              "#bd3786"
             ],
             [
              0.5555555555555556,
              "#d8576b"
             ],
             [
              0.6666666666666666,
              "#ed7953"
             ],
             [
              0.7777777777777778,
              "#fb9f3a"
             ],
             [
              0.8888888888888888,
              "#fdca26"
             ],
             [
              1,
              "#f0f921"
             ]
            ],
            "type": "heatmap"
           }
          ],
          "heatmapgl": [
           {
            "colorbar": {
             "outlinewidth": 0,
             "ticks": ""
            },
            "colorscale": [
             [
              0,
              "#0d0887"
             ],
             [
              0.1111111111111111,
              "#46039f"
             ],
             [
              0.2222222222222222,
              "#7201a8"
             ],
             [
              0.3333333333333333,
              "#9c179e"
             ],
             [
              0.4444444444444444,
              "#bd3786"
             ],
             [
              0.5555555555555556,
              "#d8576b"
             ],
             [
              0.6666666666666666,
              "#ed7953"
             ],
             [
              0.7777777777777778,
              "#fb9f3a"
             ],
             [
              0.8888888888888888,
              "#fdca26"
             ],
             [
              1,
              "#f0f921"
             ]
            ],
            "type": "heatmapgl"
           }
          ],
          "histogram": [
           {
            "marker": {
             "colorbar": {
              "outlinewidth": 0,
              "ticks": ""
             }
            },
            "type": "histogram"
           }
          ],
          "histogram2d": [
           {
            "colorbar": {
             "outlinewidth": 0,
             "ticks": ""
            },
            "colorscale": [
             [
              0,
              "#0d0887"
             ],
             [
              0.1111111111111111,
              "#46039f"
             ],
             [
              0.2222222222222222,
              "#7201a8"
             ],
             [
              0.3333333333333333,
              "#9c179e"
             ],
             [
              0.4444444444444444,
              "#bd3786"
             ],
             [
              0.5555555555555556,
              "#d8576b"
             ],
             [
              0.6666666666666666,
              "#ed7953"
             ],
             [
              0.7777777777777778,
              "#fb9f3a"
             ],
             [
              0.8888888888888888,
              "#fdca26"
             ],
             [
              1,
              "#f0f921"
             ]
            ],
            "type": "histogram2d"
           }
          ],
          "histogram2dcontour": [
           {
            "colorbar": {
             "outlinewidth": 0,
             "ticks": ""
            },
            "colorscale": [
             [
              0,
              "#0d0887"
             ],
             [
              0.1111111111111111,
              "#46039f"
             ],
             [
              0.2222222222222222,
              "#7201a8"
             ],
             [
              0.3333333333333333,
              "#9c179e"
             ],
             [
              0.4444444444444444,
              "#bd3786"
             ],
             [
              0.5555555555555556,
              "#d8576b"
             ],
             [
              0.6666666666666666,
              "#ed7953"
             ],
             [
              0.7777777777777778,
              "#fb9f3a"
             ],
             [
              0.8888888888888888,
              "#fdca26"
             ],
             [
              1,
              "#f0f921"
             ]
            ],
            "type": "histogram2dcontour"
           }
          ],
          "mesh3d": [
           {
            "colorbar": {
             "outlinewidth": 0,
             "ticks": ""
            },
            "type": "mesh3d"
           }
          ],
          "parcoords": [
           {
            "line": {
             "colorbar": {
              "outlinewidth": 0,
              "ticks": ""
             }
            },
            "type": "parcoords"
           }
          ],
          "pie": [
           {
            "automargin": true,
            "type": "pie"
           }
          ],
          "scatter": [
           {
            "marker": {
             "colorbar": {
              "outlinewidth": 0,
              "ticks": ""
             }
            },
            "type": "scatter"
           }
          ],
          "scatter3d": [
           {
            "line": {
             "colorbar": {
              "outlinewidth": 0,
              "ticks": ""
             }
            },
            "marker": {
             "colorbar": {
              "outlinewidth": 0,
              "ticks": ""
             }
            },
            "type": "scatter3d"
           }
          ],
          "scattercarpet": [
           {
            "marker": {
             "colorbar": {
              "outlinewidth": 0,
              "ticks": ""
             }
            },
            "type": "scattercarpet"
           }
          ],
          "scattergeo": [
           {
            "marker": {
             "colorbar": {
              "outlinewidth": 0,
              "ticks": ""
             }
            },
            "type": "scattergeo"
           }
          ],
          "scattergl": [
           {
            "marker": {
             "colorbar": {
              "outlinewidth": 0,
              "ticks": ""
             }
            },
            "type": "scattergl"
           }
          ],
          "scattermapbox": [
           {
            "marker": {
             "colorbar": {
              "outlinewidth": 0,
              "ticks": ""
             }
            },
            "type": "scattermapbox"
           }
          ],
          "scatterpolar": [
           {
            "marker": {
             "colorbar": {
              "outlinewidth": 0,
              "ticks": ""
             }
            },
            "type": "scatterpolar"
           }
          ],
          "scatterpolargl": [
           {
            "marker": {
             "colorbar": {
              "outlinewidth": 0,
              "ticks": ""
             }
            },
            "type": "scatterpolargl"
           }
          ],
          "scatterternary": [
           {
            "marker": {
             "colorbar": {
              "outlinewidth": 0,
              "ticks": ""
             }
            },
            "type": "scatterternary"
           }
          ],
          "surface": [
           {
            "colorbar": {
             "outlinewidth": 0,
             "ticks": ""
            },
            "colorscale": [
             [
              0,
              "#0d0887"
             ],
             [
              0.1111111111111111,
              "#46039f"
             ],
             [
              0.2222222222222222,
              "#7201a8"
             ],
             [
              0.3333333333333333,
              "#9c179e"
             ],
             [
              0.4444444444444444,
              "#bd3786"
             ],
             [
              0.5555555555555556,
              "#d8576b"
             ],
             [
              0.6666666666666666,
              "#ed7953"
             ],
             [
              0.7777777777777778,
              "#fb9f3a"
             ],
             [
              0.8888888888888888,
              "#fdca26"
             ],
             [
              1,
              "#f0f921"
             ]
            ],
            "type": "surface"
           }
          ],
          "table": [
           {
            "cells": {
             "fill": {
              "color": "#EBF0F8"
             },
             "line": {
              "color": "white"
             }
            },
            "header": {
             "fill": {
              "color": "#C8D4E3"
             },
             "line": {
              "color": "white"
             }
            },
            "type": "table"
           }
          ]
         },
         "layout": {
          "annotationdefaults": {
           "arrowcolor": "#2a3f5f",
           "arrowhead": 0,
           "arrowwidth": 1
          },
          "coloraxis": {
           "colorbar": {
            "outlinewidth": 0,
            "ticks": ""
           }
          },
          "colorscale": {
           "diverging": [
            [
             0,
             "#8e0152"
            ],
            [
             0.1,
             "#c51b7d"
            ],
            [
             0.2,
             "#de77ae"
            ],
            [
             0.3,
             "#f1b6da"
            ],
            [
             0.4,
             "#fde0ef"
            ],
            [
             0.5,
             "#f7f7f7"
            ],
            [
             0.6,
             "#e6f5d0"
            ],
            [
             0.7,
             "#b8e186"
            ],
            [
             0.8,
             "#7fbc41"
            ],
            [
             0.9,
             "#4d9221"
            ],
            [
             1,
             "#276419"
            ]
           ],
           "sequential": [
            [
             0,
             "#0d0887"
            ],
            [
             0.1111111111111111,
             "#46039f"
            ],
            [
             0.2222222222222222,
             "#7201a8"
            ],
            [
             0.3333333333333333,
             "#9c179e"
            ],
            [
             0.4444444444444444,
             "#bd3786"
            ],
            [
             0.5555555555555556,
             "#d8576b"
            ],
            [
             0.6666666666666666,
             "#ed7953"
            ],
            [
             0.7777777777777778,
             "#fb9f3a"
            ],
            [
             0.8888888888888888,
             "#fdca26"
            ],
            [
             1,
             "#f0f921"
            ]
           ],
           "sequentialminus": [
            [
             0,
             "#0d0887"
            ],
            [
             0.1111111111111111,
             "#46039f"
            ],
            [
             0.2222222222222222,
             "#7201a8"
            ],
            [
             0.3333333333333333,
             "#9c179e"
            ],
            [
             0.4444444444444444,
             "#bd3786"
            ],
            [
             0.5555555555555556,
             "#d8576b"
            ],
            [
             0.6666666666666666,
             "#ed7953"
            ],
            [
             0.7777777777777778,
             "#fb9f3a"
            ],
            [
             0.8888888888888888,
             "#fdca26"
            ],
            [
             1,
             "#f0f921"
            ]
           ]
          },
          "colorway": [
           "#636efa",
           "#EF553B",
           "#00cc96",
           "#ab63fa",
           "#FFA15A",
           "#19d3f3",
           "#FF6692",
           "#B6E880",
           "#FF97FF",
           "#FECB52"
          ],
          "font": {
           "color": "#2a3f5f"
          },
          "geo": {
           "bgcolor": "white",
           "lakecolor": "white",
           "landcolor": "#E5ECF6",
           "showlakes": true,
           "showland": true,
           "subunitcolor": "white"
          },
          "hoverlabel": {
           "align": "left"
          },
          "hovermode": "closest",
          "mapbox": {
           "style": "light"
          },
          "paper_bgcolor": "white",
          "plot_bgcolor": "#E5ECF6",
          "polar": {
           "angularaxis": {
            "gridcolor": "white",
            "linecolor": "white",
            "ticks": ""
           },
           "bgcolor": "#E5ECF6",
           "radialaxis": {
            "gridcolor": "white",
            "linecolor": "white",
            "ticks": ""
           }
          },
          "scene": {
           "xaxis": {
            "backgroundcolor": "#E5ECF6",
            "gridcolor": "white",
            "gridwidth": 2,
            "linecolor": "white",
            "showbackground": true,
            "ticks": "",
            "zerolinecolor": "white"
           },
           "yaxis": {
            "backgroundcolor": "#E5ECF6",
            "gridcolor": "white",
            "gridwidth": 2,
            "linecolor": "white",
            "showbackground": true,
            "ticks": "",
            "zerolinecolor": "white"
           },
           "zaxis": {
            "backgroundcolor": "#E5ECF6",
            "gridcolor": "white",
            "gridwidth": 2,
            "linecolor": "white",
            "showbackground": true,
            "ticks": "",
            "zerolinecolor": "white"
           }
          },
          "shapedefaults": {
           "line": {
            "color": "#2a3f5f"
           }
          },
          "ternary": {
           "aaxis": {
            "gridcolor": "white",
            "linecolor": "white",
            "ticks": ""
           },
           "baxis": {
            "gridcolor": "white",
            "linecolor": "white",
            "ticks": ""
           },
           "bgcolor": "#E5ECF6",
           "caxis": {
            "gridcolor": "white",
            "linecolor": "white",
            "ticks": ""
           }
          },
          "title": {
           "x": 0.05
          },
          "xaxis": {
           "automargin": true,
           "gridcolor": "white",
           "linecolor": "white",
           "ticks": "",
           "title": {
            "standoff": 15
           },
           "zerolinecolor": "white",
           "zerolinewidth": 2
          },
          "yaxis": {
           "automargin": true,
           "gridcolor": "white",
           "linecolor": "white",
           "ticks": "",
           "title": {
            "standoff": 15
           },
           "zerolinecolor": "white",
           "zerolinewidth": 2
          }
         }
        },
        "title": {
         "text": "Number of COVID cases over time in Spain"
        },
        "xaxis": {
         "title": {
          "text": "Date"
         }
        },
        "yaxis": {
         "title": {
          "text": "Number of cases"
         }
        }
       }
      }
     },
     "metadata": {}
    }
   ],
   "source": [
    "fig = go.Figure(data=go.Scatter(x=dfs['date'],y=dfs['Spa_average'],mode='lines',marker_color='black')) # hover text goes here\n",
    "fig.update_layout(title='Number of COVID cases over time in Spain',xaxis_title=\"Date\",yaxis_title=\"Number of cases\")\n",
    "fig.show()              #@Natalio666Altube"
   ]
  },
  {
   "cell_type": "code",
   "execution_count": 198,
   "metadata": {},
   "outputs": [
    {
     "output_type": "display_data",
     "data": {
      "application/vnd.plotly.v1+json": {
       "config": {
        "plotlyServerURL": "https://plot.ly"
       },
       "data": [
        {
         "boxmean": true,
         "marker": {
          "color": "green"
         },
         "name": "Spa",
         "type": "box",
         "y": [
          0,
          0,
          0,
          0,
          0,
          0,
          0,
          0,
          0,
          0,
          0,
          0,
          0,
          0,
          0,
          0,
          0,
          0,
          0,
          0,
          0,
          0,
          0,
          0,
          0,
          0,
          0,
          0,
          0,
          0,
          0,
          0,
          1,
          0,
          0,
          0,
          0,
          0,
          0,
          0,
          0,
          1,
          0,
          0,
          0,
          0,
          0,
          0,
          0,
          0,
          0,
          0,
          0,
          0,
          0,
          0,
          1,
          6,
          8,
          18,
          19,
          28,
          54,
          56,
          75,
          81,
          183,
          233,
          330,
          433,
          772,
          975,
          1153,
          1531,
          1683,
          2144,
          1706,
          2503,
          3694,
          4047,
          4569,
          5446,
          4866,
          4646,
          7691,
          8553,
          8954,
          9181,
          8244,
          6424,
          5813,
          8145,
          7413,
          7583,
          7272,
          6663,
          5533,
          3667,
          5209,
          5583,
          5745,
          4537,
          4550,
          3899,
          3030,
          3116,
          4424,
          3820,
          3818,
          3836,
          -713,
          2218,
          2951,
          2312,
          2916,
          2114,
          2506,
          1641,
          1660,
          1525,
          847,
          1241,
          1387,
          1234,
          935,
          466,
          1039,
          880,
          921,
          1173,
          743,
          3416,
          393,
          482,
          439,
          849,
          643,
          515,
          652,
          256,
          431,
          518,
          482,
          1787,
          466,
          482,
          -372,
          859,
          510,
          1137,
          658,
          664,
          201,
          209,
          294,
          394,
          334,
          318,
          332,
          240,
          167,
          249,
          314,
          427,
          502,
          396,
          323,
          181,
          219,
          355,
          585,
          307,
          363,
          334,
          232,
          248,
          334,
          400,
          419,
          564,
          301,
          200,
          301,
          388,
          444,
          442,
          0,
          0,
          1244,
          341,
          383,
          543,
          852,
          0,
          0,
          2045,
          666,
          875,
          1361,
          1400,
          0,
          0,
          4581,
          1358,
          1357,
          2615,
          2255,
          0,
          0,
          6361,
          1828,
          2031,
          2789
         ]
        },
        {
         "boxmean": "sd",
         "marker": {
          "color": "darkorchid"
         },
         "name": "D",
         "type": "box",
         "y": [
          "2019-12-31",
          "2020-01-01",
          "2020-01-02",
          "2020-01-03",
          "2020-01-04",
          "2020-01-05",
          "2020-01-06",
          "2020-01-07",
          "2020-01-08",
          "2020-01-09",
          "2020-01-10",
          "2020-01-11",
          "2020-01-12",
          "2020-01-13",
          "2020-01-14",
          "2020-01-15",
          "2020-01-16",
          "2020-01-17",
          "2020-01-18",
          "2020-01-19",
          "2020-01-20",
          "2020-01-21",
          "2020-01-22",
          "2020-01-23",
          "2020-01-24",
          "2020-01-25",
          "2020-01-26",
          "2020-01-27",
          "2020-01-28",
          "2020-01-29",
          "2020-01-30",
          "2020-01-31",
          "2020-02-01",
          "2020-02-02",
          "2020-02-03",
          "2020-02-04",
          "2020-02-05",
          "2020-02-06",
          "2020-02-07",
          "2020-02-08",
          "2020-02-09",
          "2020-02-10",
          "2020-02-11",
          "2020-02-12",
          "2020-02-13",
          "2020-02-14",
          "2020-02-15",
          "2020-02-16",
          "2020-02-17",
          "2020-02-18",
          "2020-02-19",
          "2020-02-20",
          "2020-02-21",
          "2020-02-22",
          "2020-02-23",
          "2020-02-24",
          "2020-02-25",
          "2020-02-26",
          "2020-02-27",
          "2020-02-28",
          "2020-02-29",
          "2020-03-01",
          "2020-03-02",
          "2020-03-03",
          "2020-03-04",
          "2020-03-05",
          "2020-03-06",
          "2020-03-07",
          "2020-03-08",
          "2020-03-09",
          "2020-03-10",
          "2020-03-11",
          "2020-03-12",
          "2020-03-13",
          "2020-03-14",
          "2020-03-15",
          "2020-03-16",
          "2020-03-17",
          "2020-03-18",
          "2020-03-19",
          "2020-03-20",
          "2020-03-21",
          "2020-03-22",
          "2020-03-23",
          "2020-03-24",
          "2020-03-25",
          "2020-03-26",
          "2020-03-27",
          "2020-03-28",
          "2020-03-29",
          "2020-03-30",
          "2020-03-31",
          "2020-04-01",
          "2020-04-02",
          "2020-04-03",
          "2020-04-04",
          "2020-04-05",
          "2020-04-06",
          "2020-04-07",
          "2020-04-08",
          "2020-04-09",
          "2020-04-10",
          "2020-04-11",
          "2020-04-12",
          "2020-04-13",
          "2020-04-14",
          "2020-04-15",
          "2020-04-16",
          "2020-04-17",
          "2020-04-18",
          "2020-04-19",
          "2020-04-20",
          "2020-04-21",
          "2020-04-22",
          "2020-04-23",
          "2020-04-24",
          "2020-04-25",
          "2020-04-26",
          "2020-04-27",
          "2020-04-28",
          "2020-04-29",
          "2020-04-30",
          "2020-05-01",
          "2020-05-02",
          "2020-05-03",
          "2020-05-04",
          "2020-05-05",
          "2020-05-06",
          "2020-05-07",
          "2020-05-08",
          "2020-05-09",
          "2020-05-10",
          "2020-05-11",
          "2020-05-12",
          "2020-05-13",
          "2020-05-14",
          "2020-05-15",
          "2020-05-16",
          "2020-05-17",
          "2020-05-18",
          "2020-05-19",
          "2020-05-20",
          "2020-05-21",
          "2020-05-22",
          "2020-05-23",
          "2020-05-24",
          "2020-05-25",
          "2020-05-26",
          "2020-05-27",
          "2020-05-28",
          "2020-05-29",
          "2020-05-30",
          "2020-05-31",
          "2020-06-01",
          "2020-06-02",
          "2020-06-03",
          "2020-06-04",
          "2020-06-05",
          "2020-06-06",
          "2020-06-07",
          "2020-06-08",
          "2020-06-09",
          "2020-06-10",
          "2020-06-11",
          "2020-06-12",
          "2020-06-13",
          "2020-06-14",
          "2020-06-15",
          "2020-06-16",
          "2020-06-17",
          "2020-06-18",
          "2020-06-19",
          "2020-06-20",
          "2020-06-21",
          "2020-06-22",
          "2020-06-23",
          "2020-06-24",
          "2020-06-25",
          "2020-06-26",
          "2020-06-27",
          "2020-06-28",
          "2020-06-29",
          "2020-06-30",
          "2020-07-01",
          "2020-07-02",
          "2020-07-03",
          "2020-07-04",
          "2020-07-05",
          "2020-07-06",
          "2020-07-07",
          "2020-07-08",
          "2020-07-09",
          "2020-07-10",
          "2020-07-11",
          "2020-07-12",
          "2020-07-13",
          "2020-07-14",
          "2020-07-15",
          "2020-07-16",
          "2020-07-17",
          "2020-07-18",
          "2020-07-19",
          "2020-07-20",
          "2020-07-21",
          "2020-07-22",
          "2020-07-23",
          "2020-07-24",
          "2020-07-25",
          "2020-07-26",
          "2020-07-27",
          "2020-07-28",
          "2020-07-29",
          "2020-07-30"
         ]
        }
       ],
       "layout": {
        "template": {
         "data": {
          "bar": [
           {
            "error_x": {
             "color": "#2a3f5f"
            },
            "error_y": {
             "color": "#2a3f5f"
            },
            "marker": {
             "line": {
              "color": "#E5ECF6",
              "width": 0.5
             }
            },
            "type": "bar"
           }
          ],
          "barpolar": [
           {
            "marker": {
             "line": {
              "color": "#E5ECF6",
              "width": 0.5
             }
            },
            "type": "barpolar"
           }
          ],
          "carpet": [
           {
            "aaxis": {
             "endlinecolor": "#2a3f5f",
             "gridcolor": "white",
             "linecolor": "white",
             "minorgridcolor": "white",
             "startlinecolor": "#2a3f5f"
            },
            "baxis": {
             "endlinecolor": "#2a3f5f",
             "gridcolor": "white",
             "linecolor": "white",
             "minorgridcolor": "white",
             "startlinecolor": "#2a3f5f"
            },
            "type": "carpet"
           }
          ],
          "choropleth": [
           {
            "colorbar": {
             "outlinewidth": 0,
             "ticks": ""
            },
            "type": "choropleth"
           }
          ],
          "contour": [
           {
            "colorbar": {
             "outlinewidth": 0,
             "ticks": ""
            },
            "colorscale": [
             [
              0,
              "#0d0887"
             ],
             [
              0.1111111111111111,
              "#46039f"
             ],
             [
              0.2222222222222222,
              "#7201a8"
             ],
             [
              0.3333333333333333,
              "#9c179e"
             ],
             [
              0.4444444444444444,
              "#bd3786"
             ],
             [
              0.5555555555555556,
              "#d8576b"
             ],
             [
              0.6666666666666666,
              "#ed7953"
             ],
             [
              0.7777777777777778,
              "#fb9f3a"
             ],
             [
              0.8888888888888888,
              "#fdca26"
             ],
             [
              1,
              "#f0f921"
             ]
            ],
            "type": "contour"
           }
          ],
          "contourcarpet": [
           {
            "colorbar": {
             "outlinewidth": 0,
             "ticks": ""
            },
            "type": "contourcarpet"
           }
          ],
          "heatmap": [
           {
            "colorbar": {
             "outlinewidth": 0,
             "ticks": ""
            },
            "colorscale": [
             [
              0,
              "#0d0887"
             ],
             [
              0.1111111111111111,
              "#46039f"
             ],
             [
              0.2222222222222222,
              "#7201a8"
             ],
             [
              0.3333333333333333,
              "#9c179e"
             ],
             [
              0.4444444444444444,
              "#bd3786"
             ],
             [
              0.5555555555555556,
              "#d8576b"
             ],
             [
              0.6666666666666666,
              "#ed7953"
             ],
             [
              0.7777777777777778,
              "#fb9f3a"
             ],
             [
              0.8888888888888888,
              "#fdca26"
             ],
             [
              1,
              "#f0f921"
             ]
            ],
            "type": "heatmap"
           }
          ],
          "heatmapgl": [
           {
            "colorbar": {
             "outlinewidth": 0,
             "ticks": ""
            },
            "colorscale": [
             [
              0,
              "#0d0887"
             ],
             [
              0.1111111111111111,
              "#46039f"
             ],
             [
              0.2222222222222222,
              "#7201a8"
             ],
             [
              0.3333333333333333,
              "#9c179e"
             ],
             [
              0.4444444444444444,
              "#bd3786"
             ],
             [
              0.5555555555555556,
              "#d8576b"
             ],
             [
              0.6666666666666666,
              "#ed7953"
             ],
             [
              0.7777777777777778,
              "#fb9f3a"
             ],
             [
              0.8888888888888888,
              "#fdca26"
             ],
             [
              1,
              "#f0f921"
             ]
            ],
            "type": "heatmapgl"
           }
          ],
          "histogram": [
           {
            "marker": {
             "colorbar": {
              "outlinewidth": 0,
              "ticks": ""
             }
            },
            "type": "histogram"
           }
          ],
          "histogram2d": [
           {
            "colorbar": {
             "outlinewidth": 0,
             "ticks": ""
            },
            "colorscale": [
             [
              0,
              "#0d0887"
             ],
             [
              0.1111111111111111,
              "#46039f"
             ],
             [
              0.2222222222222222,
              "#7201a8"
             ],
             [
              0.3333333333333333,
              "#9c179e"
             ],
             [
              0.4444444444444444,
              "#bd3786"
             ],
             [
              0.5555555555555556,
              "#d8576b"
             ],
             [
              0.6666666666666666,
              "#ed7953"
             ],
             [
              0.7777777777777778,
              "#fb9f3a"
             ],
             [
              0.8888888888888888,
              "#fdca26"
             ],
             [
              1,
              "#f0f921"
             ]
            ],
            "type": "histogram2d"
           }
          ],
          "histogram2dcontour": [
           {
            "colorbar": {
             "outlinewidth": 0,
             "ticks": ""
            },
            "colorscale": [
             [
              0,
              "#0d0887"
             ],
             [
              0.1111111111111111,
              "#46039f"
             ],
             [
              0.2222222222222222,
              "#7201a8"
             ],
             [
              0.3333333333333333,
              "#9c179e"
             ],
             [
              0.4444444444444444,
              "#bd3786"
             ],
             [
              0.5555555555555556,
              "#d8576b"
             ],
             [
              0.6666666666666666,
              "#ed7953"
             ],
             [
              0.7777777777777778,
              "#fb9f3a"
             ],
             [
              0.8888888888888888,
              "#fdca26"
             ],
             [
              1,
              "#f0f921"
             ]
            ],
            "type": "histogram2dcontour"
           }
          ],
          "mesh3d": [
           {
            "colorbar": {
             "outlinewidth": 0,
             "ticks": ""
            },
            "type": "mesh3d"
           }
          ],
          "parcoords": [
           {
            "line": {
             "colorbar": {
              "outlinewidth": 0,
              "ticks": ""
             }
            },
            "type": "parcoords"
           }
          ],
          "pie": [
           {
            "automargin": true,
            "type": "pie"
           }
          ],
          "scatter": [
           {
            "marker": {
             "colorbar": {
              "outlinewidth": 0,
              "ticks": ""
             }
            },
            "type": "scatter"
           }
          ],
          "scatter3d": [
           {
            "line": {
             "colorbar": {
              "outlinewidth": 0,
              "ticks": ""
             }
            },
            "marker": {
             "colorbar": {
              "outlinewidth": 0,
              "ticks": ""
             }
            },
            "type": "scatter3d"
           }
          ],
          "scattercarpet": [
           {
            "marker": {
             "colorbar": {
              "outlinewidth": 0,
              "ticks": ""
             }
            },
            "type": "scattercarpet"
           }
          ],
          "scattergeo": [
           {
            "marker": {
             "colorbar": {
              "outlinewidth": 0,
              "ticks": ""
             }
            },
            "type": "scattergeo"
           }
          ],
          "scattergl": [
           {
            "marker": {
             "colorbar": {
              "outlinewidth": 0,
              "ticks": ""
             }
            },
            "type": "scattergl"
           }
          ],
          "scattermapbox": [
           {
            "marker": {
             "colorbar": {
              "outlinewidth": 0,
              "ticks": ""
             }
            },
            "type": "scattermapbox"
           }
          ],
          "scatterpolar": [
           {
            "marker": {
             "colorbar": {
              "outlinewidth": 0,
              "ticks": ""
             }
            },
            "type": "scatterpolar"
           }
          ],
          "scatterpolargl": [
           {
            "marker": {
             "colorbar": {
              "outlinewidth": 0,
              "ticks": ""
             }
            },
            "type": "scatterpolargl"
           }
          ],
          "scatterternary": [
           {
            "marker": {
             "colorbar": {
              "outlinewidth": 0,
              "ticks": ""
             }
            },
            "type": "scatterternary"
           }
          ],
          "surface": [
           {
            "colorbar": {
             "outlinewidth": 0,
             "ticks": ""
            },
            "colorscale": [
             [
              0,
              "#0d0887"
             ],
             [
              0.1111111111111111,
              "#46039f"
             ],
             [
              0.2222222222222222,
              "#7201a8"
             ],
             [
              0.3333333333333333,
              "#9c179e"
             ],
             [
              0.4444444444444444,
              "#bd3786"
             ],
             [
              0.5555555555555556,
              "#d8576b"
             ],
             [
              0.6666666666666666,
              "#ed7953"
             ],
             [
              0.7777777777777778,
              "#fb9f3a"
             ],
             [
              0.8888888888888888,
              "#fdca26"
             ],
             [
              1,
              "#f0f921"
             ]
            ],
            "type": "surface"
           }
          ],
          "table": [
           {
            "cells": {
             "fill": {
              "color": "#EBF0F8"
             },
             "line": {
              "color": "white"
             }
            },
            "header": {
             "fill": {
              "color": "#C8D4E3"
             },
             "line": {
              "color": "white"
             }
            },
            "type": "table"
           }
          ]
         },
         "layout": {
          "annotationdefaults": {
           "arrowcolor": "#2a3f5f",
           "arrowhead": 0,
           "arrowwidth": 1
          },
          "coloraxis": {
           "colorbar": {
            "outlinewidth": 0,
            "ticks": ""
           }
          },
          "colorscale": {
           "diverging": [
            [
             0,
             "#8e0152"
            ],
            [
             0.1,
             "#c51b7d"
            ],
            [
             0.2,
             "#de77ae"
            ],
            [
             0.3,
             "#f1b6da"
            ],
            [
             0.4,
             "#fde0ef"
            ],
            [
             0.5,
             "#f7f7f7"
            ],
            [
             0.6,
             "#e6f5d0"
            ],
            [
             0.7,
             "#b8e186"
            ],
            [
             0.8,
             "#7fbc41"
            ],
            [
             0.9,
             "#4d9221"
            ],
            [
             1,
             "#276419"
            ]
           ],
           "sequential": [
            [
             0,
             "#0d0887"
            ],
            [
             0.1111111111111111,
             "#46039f"
            ],
            [
             0.2222222222222222,
             "#7201a8"
            ],
            [
             0.3333333333333333,
             "#9c179e"
            ],
            [
             0.4444444444444444,
             "#bd3786"
            ],
            [
             0.5555555555555556,
             "#d8576b"
            ],
            [
             0.6666666666666666,
             "#ed7953"
            ],
            [
             0.7777777777777778,
             "#fb9f3a"
            ],
            [
             0.8888888888888888,
             "#fdca26"
            ],
            [
             1,
             "#f0f921"
            ]
           ],
           "sequentialminus": [
            [
             0,
             "#0d0887"
            ],
            [
             0.1111111111111111,
             "#46039f"
            ],
            [
             0.2222222222222222,
             "#7201a8"
            ],
            [
             0.3333333333333333,
             "#9c179e"
            ],
            [
             0.4444444444444444,
             "#bd3786"
            ],
            [
             0.5555555555555556,
             "#d8576b"
            ],
            [
             0.6666666666666666,
             "#ed7953"
            ],
            [
             0.7777777777777778,
             "#fb9f3a"
            ],
            [
             0.8888888888888888,
             "#fdca26"
            ],
            [
             1,
             "#f0f921"
            ]
           ]
          },
          "colorway": [
           "#636efa",
           "#EF553B",
           "#00cc96",
           "#ab63fa",
           "#FFA15A",
           "#19d3f3",
           "#FF6692",
           "#B6E880",
           "#FF97FF",
           "#FECB52"
          ],
          "font": {
           "color": "#2a3f5f"
          },
          "geo": {
           "bgcolor": "white",
           "lakecolor": "white",
           "landcolor": "#E5ECF6",
           "showlakes": true,
           "showland": true,
           "subunitcolor": "white"
          },
          "hoverlabel": {
           "align": "left"
          },
          "hovermode": "closest",
          "mapbox": {
           "style": "light"
          },
          "paper_bgcolor": "white",
          "plot_bgcolor": "#E5ECF6",
          "polar": {
           "angularaxis": {
            "gridcolor": "white",
            "linecolor": "white",
            "ticks": ""
           },
           "bgcolor": "#E5ECF6",
           "radialaxis": {
            "gridcolor": "white",
            "linecolor": "white",
            "ticks": ""
           }
          },
          "scene": {
           "xaxis": {
            "backgroundcolor": "#E5ECF6",
            "gridcolor": "white",
            "gridwidth": 2,
            "linecolor": "white",
            "showbackground": true,
            "ticks": "",
            "zerolinecolor": "white"
           },
           "yaxis": {
            "backgroundcolor": "#E5ECF6",
            "gridcolor": "white",
            "gridwidth": 2,
            "linecolor": "white",
            "showbackground": true,
            "ticks": "",
            "zerolinecolor": "white"
           },
           "zaxis": {
            "backgroundcolor": "#E5ECF6",
            "gridcolor": "white",
            "gridwidth": 2,
            "linecolor": "white",
            "showbackground": true,
            "ticks": "",
            "zerolinecolor": "white"
           }
          },
          "shapedefaults": {
           "line": {
            "color": "#2a3f5f"
           }
          },
          "ternary": {
           "aaxis": {
            "gridcolor": "white",
            "linecolor": "white",
            "ticks": ""
           },
           "baxis": {
            "gridcolor": "white",
            "linecolor": "white",
            "ticks": ""
           },
           "bgcolor": "#E5ECF6",
           "caxis": {
            "gridcolor": "white",
            "linecolor": "white",
            "ticks": ""
           }
          },
          "title": {
           "x": 0.05
          },
          "xaxis": {
           "automargin": true,
           "gridcolor": "white",
           "linecolor": "white",
           "ticks": "",
           "title": {
            "standoff": 15
           },
           "zerolinecolor": "white",
           "zerolinewidth": 2
          },
          "yaxis": {
           "automargin": true,
           "gridcolor": "white",
           "linecolor": "white",
           "ticks": "",
           "title": {
            "standoff": 15
           },
           "zerolinecolor": "white",
           "zerolinewidth": 2
          }
         }
        },
        "title": {
         "text": "Outliers of COVID cases in Spain"
        }
       }
      }
     },
     "metadata": {}
    }
   ],
   "source": [
    "fig = go.Figure()\n",
    "fig.add_trace(go.Box(y=dfs.Spa_average,\n",
    "                     boxmean=True, # only mean visible on plot\n",
    "                     marker_color=\"green\",\n",
    "                     name=\"Spa\"))\n",
    "fig.add_trace(go.Box(y=dfs.date,\n",
    "                     boxmean='sd', # mean and SD visible on plot\n",
    "                     marker_color=\"darkorchid\",\n",
    "                     name=\"D\"))\n",
    "fig.update_layout(title=\"Outliers of COVID cases in Spain\")\n",
    "fig.show()              #@Natalio666Altube"
   ]
  },
  {
   "cell_type": "code",
   "execution_count": 199,
   "metadata": {},
   "outputs": [
    {
     "output_type": "execute_result",
     "data": {
      "text/plain": "     iso_code      continent location        date  total_cases  new_cases  \\\n5699      CHL  South America    Chile  2020-03-04          1.0        1.0   \n5700      CHL  South America    Chile  2020-03-05          3.0        2.0   \n5701      CHL  South America    Chile  2020-03-06          4.0        1.0   \n5702      CHL  South America    Chile  2020-03-07          5.0        1.0   \n5703      CHL  South America    Chile  2020-03-09         10.0        5.0   \n...       ...            ...      ...         ...          ...        ...   \n5843      CHL  South America    Chile  2020-07-27     345790.0     2198.0   \n5844      CHL  South America    Chile  2020-07-28     347923.0     2133.0   \n5845      CHL  South America    Chile  2020-07-29     349800.0     1877.0   \n5846      CHL  South America    Chile  2020-07-30     351575.0     1775.0   \n5847      CHL  South America    Chile  2020-07-31     353536.0     1961.0   \n\n      total_deaths  new_deaths  total_cases_per_million  \\\n5699           0.0         0.0                    0.052   \n5700           0.0         0.0                    0.157   \n5701           0.0         0.0                    0.209   \n5702           0.0         0.0                    0.262   \n5703           0.0         0.0                    0.523   \n...            ...         ...                      ...   \n5843        9112.0        92.0                18088.838   \n5844        9187.0        75.0                18200.418   \n5845        9240.0        53.0                18298.607   \n5846        9278.0        38.0                18391.460   \n5847        9377.0        99.0                18494.043   \n\n      new_cases_per_million  ...  aged_70_older  gdp_per_capita  \\\n5699                  0.052  ...          6.938       22767.037   \n5700                  0.105  ...          6.938       22767.037   \n5701                  0.052  ...          6.938       22767.037   \n5702                  0.052  ...          6.938       22767.037   \n5703                  0.262  ...          6.938       22767.037   \n...                     ...  ...            ...             ...   \n5843                114.981  ...          6.938       22767.037   \n5844                111.581  ...          6.938       22767.037   \n5845                 98.189  ...          6.938       22767.037   \n5846                 92.853  ...          6.938       22767.037   \n5847                102.583  ...          6.938       22767.037   \n\n      extreme_poverty  cardiovasc_death_rate  diabetes_prevalence  \\\n5699              1.3                127.993                 8.46   \n5700              1.3                127.993                 8.46   \n5701              1.3                127.993                 8.46   \n5702              1.3                127.993                 8.46   \n5703              1.3                127.993                 8.46   \n...               ...                    ...                  ...   \n5843              1.3                127.993                 8.46   \n5844              1.3                127.993                 8.46   \n5845              1.3                127.993                 8.46   \n5846              1.3                127.993                 8.46   \n5847              1.3                127.993                 8.46   \n\n      female_smokers  male_smokers  handwashing_facilities  \\\n5699            34.2          41.5                     NaN   \n5700            34.2          41.5                     NaN   \n5701            34.2          41.5                     NaN   \n5702            34.2          41.5                     NaN   \n5703            34.2          41.5                     NaN   \n...              ...           ...                     ...   \n5843            34.2          41.5                     NaN   \n5844            34.2          41.5                     NaN   \n5845            34.2          41.5                     NaN   \n5846            34.2          41.5                     NaN   \n5847            34.2          41.5                     NaN   \n\n     hospital_beds_per_thousand  life_expectancy  \n5699                       2.11            80.18  \n5700                       2.11            80.18  \n5701                       2.11            80.18  \n5702                       2.11            80.18  \n5703                       2.11            80.18  \n...                         ...              ...  \n5843                       2.11            80.18  \n5844                       2.11            80.18  \n5845                       2.11            80.18  \n5846                       2.11            80.18  \n5847                       2.11            80.18  \n\n[149 rows x 34 columns]",
      "text/html": "<div>\n<style scoped>\n    .dataframe tbody tr th:only-of-type {\n        vertical-align: middle;\n    }\n\n    .dataframe tbody tr th {\n        vertical-align: top;\n    }\n\n    .dataframe thead th {\n        text-align: right;\n    }\n</style>\n<table border=\"1\" class=\"dataframe\">\n  <thead>\n    <tr style=\"text-align: right;\">\n      <th></th>\n      <th>iso_code</th>\n      <th>continent</th>\n      <th>location</th>\n      <th>date</th>\n      <th>total_cases</th>\n      <th>new_cases</th>\n      <th>total_deaths</th>\n      <th>new_deaths</th>\n      <th>total_cases_per_million</th>\n      <th>new_cases_per_million</th>\n      <th>...</th>\n      <th>aged_70_older</th>\n      <th>gdp_per_capita</th>\n      <th>extreme_poverty</th>\n      <th>cardiovasc_death_rate</th>\n      <th>diabetes_prevalence</th>\n      <th>female_smokers</th>\n      <th>male_smokers</th>\n      <th>handwashing_facilities</th>\n      <th>hospital_beds_per_thousand</th>\n      <th>life_expectancy</th>\n    </tr>\n  </thead>\n  <tbody>\n    <tr>\n      <th>5699</th>\n      <td>CHL</td>\n      <td>South America</td>\n      <td>Chile</td>\n      <td>2020-03-04</td>\n      <td>1.0</td>\n      <td>1.0</td>\n      <td>0.0</td>\n      <td>0.0</td>\n      <td>0.052</td>\n      <td>0.052</td>\n      <td>...</td>\n      <td>6.938</td>\n      <td>22767.037</td>\n      <td>1.3</td>\n      <td>127.993</td>\n      <td>8.46</td>\n      <td>34.2</td>\n      <td>41.5</td>\n      <td>NaN</td>\n      <td>2.11</td>\n      <td>80.18</td>\n    </tr>\n    <tr>\n      <th>5700</th>\n      <td>CHL</td>\n      <td>South America</td>\n      <td>Chile</td>\n      <td>2020-03-05</td>\n      <td>3.0</td>\n      <td>2.0</td>\n      <td>0.0</td>\n      <td>0.0</td>\n      <td>0.157</td>\n      <td>0.105</td>\n      <td>...</td>\n      <td>6.938</td>\n      <td>22767.037</td>\n      <td>1.3</td>\n      <td>127.993</td>\n      <td>8.46</td>\n      <td>34.2</td>\n      <td>41.5</td>\n      <td>NaN</td>\n      <td>2.11</td>\n      <td>80.18</td>\n    </tr>\n    <tr>\n      <th>5701</th>\n      <td>CHL</td>\n      <td>South America</td>\n      <td>Chile</td>\n      <td>2020-03-06</td>\n      <td>4.0</td>\n      <td>1.0</td>\n      <td>0.0</td>\n      <td>0.0</td>\n      <td>0.209</td>\n      <td>0.052</td>\n      <td>...</td>\n      <td>6.938</td>\n      <td>22767.037</td>\n      <td>1.3</td>\n      <td>127.993</td>\n      <td>8.46</td>\n      <td>34.2</td>\n      <td>41.5</td>\n      <td>NaN</td>\n      <td>2.11</td>\n      <td>80.18</td>\n    </tr>\n    <tr>\n      <th>5702</th>\n      <td>CHL</td>\n      <td>South America</td>\n      <td>Chile</td>\n      <td>2020-03-07</td>\n      <td>5.0</td>\n      <td>1.0</td>\n      <td>0.0</td>\n      <td>0.0</td>\n      <td>0.262</td>\n      <td>0.052</td>\n      <td>...</td>\n      <td>6.938</td>\n      <td>22767.037</td>\n      <td>1.3</td>\n      <td>127.993</td>\n      <td>8.46</td>\n      <td>34.2</td>\n      <td>41.5</td>\n      <td>NaN</td>\n      <td>2.11</td>\n      <td>80.18</td>\n    </tr>\n    <tr>\n      <th>5703</th>\n      <td>CHL</td>\n      <td>South America</td>\n      <td>Chile</td>\n      <td>2020-03-09</td>\n      <td>10.0</td>\n      <td>5.0</td>\n      <td>0.0</td>\n      <td>0.0</td>\n      <td>0.523</td>\n      <td>0.262</td>\n      <td>...</td>\n      <td>6.938</td>\n      <td>22767.037</td>\n      <td>1.3</td>\n      <td>127.993</td>\n      <td>8.46</td>\n      <td>34.2</td>\n      <td>41.5</td>\n      <td>NaN</td>\n      <td>2.11</td>\n      <td>80.18</td>\n    </tr>\n    <tr>\n      <th>...</th>\n      <td>...</td>\n      <td>...</td>\n      <td>...</td>\n      <td>...</td>\n      <td>...</td>\n      <td>...</td>\n      <td>...</td>\n      <td>...</td>\n      <td>...</td>\n      <td>...</td>\n      <td>...</td>\n      <td>...</td>\n      <td>...</td>\n      <td>...</td>\n      <td>...</td>\n      <td>...</td>\n      <td>...</td>\n      <td>...</td>\n      <td>...</td>\n      <td>...</td>\n      <td>...</td>\n    </tr>\n    <tr>\n      <th>5843</th>\n      <td>CHL</td>\n      <td>South America</td>\n      <td>Chile</td>\n      <td>2020-07-27</td>\n      <td>345790.0</td>\n      <td>2198.0</td>\n      <td>9112.0</td>\n      <td>92.0</td>\n      <td>18088.838</td>\n      <td>114.981</td>\n      <td>...</td>\n      <td>6.938</td>\n      <td>22767.037</td>\n      <td>1.3</td>\n      <td>127.993</td>\n      <td>8.46</td>\n      <td>34.2</td>\n      <td>41.5</td>\n      <td>NaN</td>\n      <td>2.11</td>\n      <td>80.18</td>\n    </tr>\n    <tr>\n      <th>5844</th>\n      <td>CHL</td>\n      <td>South America</td>\n      <td>Chile</td>\n      <td>2020-07-28</td>\n      <td>347923.0</td>\n      <td>2133.0</td>\n      <td>9187.0</td>\n      <td>75.0</td>\n      <td>18200.418</td>\n      <td>111.581</td>\n      <td>...</td>\n      <td>6.938</td>\n      <td>22767.037</td>\n      <td>1.3</td>\n      <td>127.993</td>\n      <td>8.46</td>\n      <td>34.2</td>\n      <td>41.5</td>\n      <td>NaN</td>\n      <td>2.11</td>\n      <td>80.18</td>\n    </tr>\n    <tr>\n      <th>5845</th>\n      <td>CHL</td>\n      <td>South America</td>\n      <td>Chile</td>\n      <td>2020-07-29</td>\n      <td>349800.0</td>\n      <td>1877.0</td>\n      <td>9240.0</td>\n      <td>53.0</td>\n      <td>18298.607</td>\n      <td>98.189</td>\n      <td>...</td>\n      <td>6.938</td>\n      <td>22767.037</td>\n      <td>1.3</td>\n      <td>127.993</td>\n      <td>8.46</td>\n      <td>34.2</td>\n      <td>41.5</td>\n      <td>NaN</td>\n      <td>2.11</td>\n      <td>80.18</td>\n    </tr>\n    <tr>\n      <th>5846</th>\n      <td>CHL</td>\n      <td>South America</td>\n      <td>Chile</td>\n      <td>2020-07-30</td>\n      <td>351575.0</td>\n      <td>1775.0</td>\n      <td>9278.0</td>\n      <td>38.0</td>\n      <td>18391.460</td>\n      <td>92.853</td>\n      <td>...</td>\n      <td>6.938</td>\n      <td>22767.037</td>\n      <td>1.3</td>\n      <td>127.993</td>\n      <td>8.46</td>\n      <td>34.2</td>\n      <td>41.5</td>\n      <td>NaN</td>\n      <td>2.11</td>\n      <td>80.18</td>\n    </tr>\n    <tr>\n      <th>5847</th>\n      <td>CHL</td>\n      <td>South America</td>\n      <td>Chile</td>\n      <td>2020-07-31</td>\n      <td>353536.0</td>\n      <td>1961.0</td>\n      <td>9377.0</td>\n      <td>99.0</td>\n      <td>18494.043</td>\n      <td>102.583</td>\n      <td>...</td>\n      <td>6.938</td>\n      <td>22767.037</td>\n      <td>1.3</td>\n      <td>127.993</td>\n      <td>8.46</td>\n      <td>34.2</td>\n      <td>41.5</td>\n      <td>NaN</td>\n      <td>2.11</td>\n      <td>80.18</td>\n    </tr>\n  </tbody>\n</table>\n<p>149 rows × 34 columns</p>\n</div>"
     },
     "metadata": {},
     "execution_count": 199
    }
   ],
   "source": [
    "dfcl = covid1[covid1['location']=='Chile']          #@Natalio666Altube\n",
    "dfcl"
   ]
  },
  {
   "cell_type": "code",
   "execution_count": 200,
   "metadata": {},
   "outputs": [],
   "source": [
    "dfcl.dropna(subset=['new_cases'],axis=0, inplace=True)      #@Natalio666Altube"
   ]
  },
  {
   "cell_type": "code",
   "execution_count": 201,
   "metadata": {},
   "outputs": [],
   "source": [
    "dfcl= dfcl.drop(['iso_code', 'continent', 'total_cases',\n",
    "       'total_deaths', 'new_deaths', 'total_cases_per_million',\n",
    "       'new_cases_per_million', 'total_deaths_per_million',\n",
    "       'new_deaths_per_million', 'new_tests', 'total_tests',\n",
    "       'total_tests_per_thousand', 'new_tests_per_thousand',\n",
    "       'new_tests_smoothed', 'new_tests_smoothed_per_thousand', 'tests_units',\n",
    "       'stringency_index', 'population', 'population_density', 'median_age',\n",
    "       'aged_65_older', 'aged_70_older', 'gdp_per_capita', 'extreme_poverty',\n",
    "       'cardiovasc_death_rate', 'diabetes_prevalence', 'female_smokers',\n",
    "       'male_smokers', 'handwashing_facilities', 'hospital_beds_per_thousand',\n",
    "       'life_expectancy'], axis=1)\n",
    "\n",
    "       #@Natalio666Altube"
   ]
  },
  {
   "cell_type": "code",
   "execution_count": 202,
   "metadata": {},
   "outputs": [
    {
     "output_type": "execute_result",
     "data": {
      "text/plain": "            new_cases\ndate                 \n2020-03-04        1.0\n2020-03-05        2.0\n2020-03-06        1.0\n2020-03-07        1.0\n2020-03-09        5.0\n...               ...\n2020-07-27     2198.0\n2020-07-28     2133.0\n2020-07-29     1877.0\n2020-07-30     1775.0\n2020-07-31     1961.0\n\n[149 rows x 1 columns]",
      "text/html": "<div>\n<style scoped>\n    .dataframe tbody tr th:only-of-type {\n        vertical-align: middle;\n    }\n\n    .dataframe tbody tr th {\n        vertical-align: top;\n    }\n\n    .dataframe thead th {\n        text-align: right;\n    }\n</style>\n<table border=\"1\" class=\"dataframe\">\n  <thead>\n    <tr style=\"text-align: right;\">\n      <th></th>\n      <th>new_cases</th>\n    </tr>\n    <tr>\n      <th>date</th>\n      <th></th>\n    </tr>\n  </thead>\n  <tbody>\n    <tr>\n      <th>2020-03-04</th>\n      <td>1.0</td>\n    </tr>\n    <tr>\n      <th>2020-03-05</th>\n      <td>2.0</td>\n    </tr>\n    <tr>\n      <th>2020-03-06</th>\n      <td>1.0</td>\n    </tr>\n    <tr>\n      <th>2020-03-07</th>\n      <td>1.0</td>\n    </tr>\n    <tr>\n      <th>2020-03-09</th>\n      <td>5.0</td>\n    </tr>\n    <tr>\n      <th>...</th>\n      <td>...</td>\n    </tr>\n    <tr>\n      <th>2020-07-27</th>\n      <td>2198.0</td>\n    </tr>\n    <tr>\n      <th>2020-07-28</th>\n      <td>2133.0</td>\n    </tr>\n    <tr>\n      <th>2020-07-29</th>\n      <td>1877.0</td>\n    </tr>\n    <tr>\n      <th>2020-07-30</th>\n      <td>1775.0</td>\n    </tr>\n    <tr>\n      <th>2020-07-31</th>\n      <td>1961.0</td>\n    </tr>\n  </tbody>\n</table>\n<p>149 rows × 1 columns</p>\n</div>"
     },
     "metadata": {},
     "execution_count": 202
    }
   ],
   "source": [
    "dfcl.groupby('date').mean()         #@Natalio666Altube"
   ]
  },
  {
   "cell_type": "code",
   "execution_count": 203,
   "metadata": {},
   "outputs": [],
   "source": [
    "dfcl.rename(columns={'new_cases': 'Chi_average'},inplace=True)      #@Natalio666Altube"
   ]
  },
  {
   "cell_type": "code",
   "execution_count": 204,
   "metadata": {},
   "outputs": [
    {
     "output_type": "execute_result",
     "data": {
      "text/plain": "     location        date  Chi_average\n5699    Chile  2020-03-04          1.0\n5700    Chile  2020-03-05          2.0\n5701    Chile  2020-03-06          1.0\n5702    Chile  2020-03-07          1.0\n5703    Chile  2020-03-09          5.0\n...       ...         ...          ...\n5843    Chile  2020-07-27       2198.0\n5844    Chile  2020-07-28       2133.0\n5845    Chile  2020-07-29       1877.0\n5846    Chile  2020-07-30       1775.0\n5847    Chile  2020-07-31       1961.0\n\n[149 rows x 3 columns]",
      "text/html": "<div>\n<style scoped>\n    .dataframe tbody tr th:only-of-type {\n        vertical-align: middle;\n    }\n\n    .dataframe tbody tr th {\n        vertical-align: top;\n    }\n\n    .dataframe thead th {\n        text-align: right;\n    }\n</style>\n<table border=\"1\" class=\"dataframe\">\n  <thead>\n    <tr style=\"text-align: right;\">\n      <th></th>\n      <th>location</th>\n      <th>date</th>\n      <th>Chi_average</th>\n    </tr>\n  </thead>\n  <tbody>\n    <tr>\n      <th>5699</th>\n      <td>Chile</td>\n      <td>2020-03-04</td>\n      <td>1.0</td>\n    </tr>\n    <tr>\n      <th>5700</th>\n      <td>Chile</td>\n      <td>2020-03-05</td>\n      <td>2.0</td>\n    </tr>\n    <tr>\n      <th>5701</th>\n      <td>Chile</td>\n      <td>2020-03-06</td>\n      <td>1.0</td>\n    </tr>\n    <tr>\n      <th>5702</th>\n      <td>Chile</td>\n      <td>2020-03-07</td>\n      <td>1.0</td>\n    </tr>\n    <tr>\n      <th>5703</th>\n      <td>Chile</td>\n      <td>2020-03-09</td>\n      <td>5.0</td>\n    </tr>\n    <tr>\n      <th>...</th>\n      <td>...</td>\n      <td>...</td>\n      <td>...</td>\n    </tr>\n    <tr>\n      <th>5843</th>\n      <td>Chile</td>\n      <td>2020-07-27</td>\n      <td>2198.0</td>\n    </tr>\n    <tr>\n      <th>5844</th>\n      <td>Chile</td>\n      <td>2020-07-28</td>\n      <td>2133.0</td>\n    </tr>\n    <tr>\n      <th>5845</th>\n      <td>Chile</td>\n      <td>2020-07-29</td>\n      <td>1877.0</td>\n    </tr>\n    <tr>\n      <th>5846</th>\n      <td>Chile</td>\n      <td>2020-07-30</td>\n      <td>1775.0</td>\n    </tr>\n    <tr>\n      <th>5847</th>\n      <td>Chile</td>\n      <td>2020-07-31</td>\n      <td>1961.0</td>\n    </tr>\n  </tbody>\n</table>\n<p>149 rows × 3 columns</p>\n</div>"
     },
     "metadata": {},
     "execution_count": 204
    }
   ],
   "source": [
    "dfcl            #@Natalio666Altube"
   ]
  },
  {
   "cell_type": "code",
   "execution_count": 205,
   "metadata": {},
   "outputs": [
    {
     "output_type": "display_data",
     "data": {
      "application/vnd.plotly.v1+json": {
       "config": {
        "plotlyServerURL": "https://plot.ly"
       },
       "data": [
        {
         "marker": {
          "color": "pink"
         },
         "mode": "lines",
         "type": "scatter",
         "x": [
          "2020-03-04",
          "2020-03-05",
          "2020-03-06",
          "2020-03-07",
          "2020-03-09",
          "2020-03-10",
          "2020-03-11",
          "2020-03-12",
          "2020-03-13",
          "2020-03-14",
          "2020-03-15",
          "2020-03-16",
          "2020-03-17",
          "2020-03-18",
          "2020-03-19",
          "2020-03-20",
          "2020-03-21",
          "2020-03-22",
          "2020-03-23",
          "2020-03-24",
          "2020-03-25",
          "2020-03-26",
          "2020-03-27",
          "2020-03-28",
          "2020-03-29",
          "2020-03-30",
          "2020-03-31",
          "2020-04-01",
          "2020-04-02",
          "2020-04-03",
          "2020-04-04",
          "2020-04-05",
          "2020-04-06",
          "2020-04-07",
          "2020-04-08",
          "2020-04-09",
          "2020-04-10",
          "2020-04-11",
          "2020-04-12",
          "2020-04-13",
          "2020-04-14",
          "2020-04-15",
          "2020-04-16",
          "2020-04-17",
          "2020-04-18",
          "2020-04-19",
          "2020-04-20",
          "2020-04-21",
          "2020-04-22",
          "2020-04-23",
          "2020-04-24",
          "2020-04-25",
          "2020-04-26",
          "2020-04-27",
          "2020-04-28",
          "2020-04-29",
          "2020-04-30",
          "2020-05-01",
          "2020-05-02",
          "2020-05-03",
          "2020-05-04",
          "2020-05-05",
          "2020-05-06",
          "2020-05-07",
          "2020-05-08",
          "2020-05-09",
          "2020-05-10",
          "2020-05-11",
          "2020-05-12",
          "2020-05-13",
          "2020-05-14",
          "2020-05-15",
          "2020-05-16",
          "2020-05-17",
          "2020-05-18",
          "2020-05-19",
          "2020-05-20",
          "2020-05-21",
          "2020-05-22",
          "2020-05-23",
          "2020-05-24",
          "2020-05-25",
          "2020-05-26",
          "2020-05-27",
          "2020-05-28",
          "2020-05-29",
          "2020-05-30",
          "2020-05-31",
          "2020-06-01",
          "2020-06-02",
          "2020-06-03",
          "2020-06-04",
          "2020-06-05",
          "2020-06-06",
          "2020-06-07",
          "2020-06-08",
          "2020-06-09",
          "2020-06-10",
          "2020-06-11",
          "2020-06-12",
          "2020-06-13",
          "2020-06-14",
          "2020-06-15",
          "2020-06-16",
          "2020-06-17",
          "2020-06-18",
          "2020-06-19",
          "2020-06-20",
          "2020-06-21",
          "2020-06-22",
          "2020-06-23",
          "2020-06-24",
          "2020-06-25",
          "2020-06-26",
          "2020-06-27",
          "2020-06-28",
          "2020-06-29",
          "2020-06-30",
          "2020-07-01",
          "2020-07-02",
          "2020-07-03",
          "2020-07-04",
          "2020-07-05",
          "2020-07-06",
          "2020-07-07",
          "2020-07-08",
          "2020-07-09",
          "2020-07-10",
          "2020-07-11",
          "2020-07-12",
          "2020-07-13",
          "2020-07-14",
          "2020-07-15",
          "2020-07-16",
          "2020-07-17",
          "2020-07-18",
          "2020-07-19",
          "2020-07-20",
          "2020-07-21",
          "2020-07-22",
          "2020-07-23",
          "2020-07-24",
          "2020-07-25",
          "2020-07-26",
          "2020-07-27",
          "2020-07-28",
          "2020-07-29",
          "2020-07-30",
          "2020-07-31"
         ],
         "y": [
          1,
          2,
          1,
          1,
          5,
          3,
          4,
          6,
          10,
          10,
          18,
          14,
          81,
          45,
          37,
          104,
          92,
          103,
          95,
          114,
          176,
          220,
          164,
          304,
          299,
          230,
          310,
          289,
          293,
          373,
          333,
          424,
          310,
          344,
          301,
          430,
          426,
          529,
          426,
          286,
          312,
          392,
          356,
          534,
          445,
          478,
          358,
          419,
          325,
          464,
          516,
          494,
          552,
          473,
          482,
          552,
          520,
          1138,
          985,
          1427,
          1228,
          980,
          1373,
          1032,
          1533,
          1391,
          1247,
          1647,
          1197,
          1658,
          2660,
          2659,
          2502,
          1886,
          2353,
          2278,
          3520,
          4038,
          3964,
          4276,
          3536,
          3709,
          4895,
          3964,
          4328,
          4654,
          3695,
          4220,
          4830,
          5471,
          3527,
          4942,
          4664,
          4207,
          5246,
          6405,
          4696,
          3913,
          5737,
          5596,
          6754,
          6509,
          6938,
          5143,
          5013,
          36179,
          4475,
          6290,
          5355,
          5607,
          4608,
          3804,
          3649,
          4648,
          4296,
          4406,
          4216,
          4017,
          3394,
          2650,
          2498,
          3548,
          3758,
          3685,
          3025,
          2462,
          2064,
          3133,
          3058,
          2755,
          3012,
          2616,
          1836,
          1712,
          2493,
          2841,
          0,
          4391,
          2099,
          1654,
          1719,
          2357,
          2545,
          2288,
          2198,
          2133,
          1877,
          1775,
          1961
         ]
        }
       ],
       "layout": {
        "template": {
         "data": {
          "bar": [
           {
            "error_x": {
             "color": "#2a3f5f"
            },
            "error_y": {
             "color": "#2a3f5f"
            },
            "marker": {
             "line": {
              "color": "#E5ECF6",
              "width": 0.5
             }
            },
            "type": "bar"
           }
          ],
          "barpolar": [
           {
            "marker": {
             "line": {
              "color": "#E5ECF6",
              "width": 0.5
             }
            },
            "type": "barpolar"
           }
          ],
          "carpet": [
           {
            "aaxis": {
             "endlinecolor": "#2a3f5f",
             "gridcolor": "white",
             "linecolor": "white",
             "minorgridcolor": "white",
             "startlinecolor": "#2a3f5f"
            },
            "baxis": {
             "endlinecolor": "#2a3f5f",
             "gridcolor": "white",
             "linecolor": "white",
             "minorgridcolor": "white",
             "startlinecolor": "#2a3f5f"
            },
            "type": "carpet"
           }
          ],
          "choropleth": [
           {
            "colorbar": {
             "outlinewidth": 0,
             "ticks": ""
            },
            "type": "choropleth"
           }
          ],
          "contour": [
           {
            "colorbar": {
             "outlinewidth": 0,
             "ticks": ""
            },
            "colorscale": [
             [
              0,
              "#0d0887"
             ],
             [
              0.1111111111111111,
              "#46039f"
             ],
             [
              0.2222222222222222,
              "#7201a8"
             ],
             [
              0.3333333333333333,
              "#9c179e"
             ],
             [
              0.4444444444444444,
              "#bd3786"
             ],
             [
              0.5555555555555556,
              "#d8576b"
             ],
             [
              0.6666666666666666,
              "#ed7953"
             ],
             [
              0.7777777777777778,
              "#fb9f3a"
             ],
             [
              0.8888888888888888,
              "#fdca26"
             ],
             [
              1,
              "#f0f921"
             ]
            ],
            "type": "contour"
           }
          ],
          "contourcarpet": [
           {
            "colorbar": {
             "outlinewidth": 0,
             "ticks": ""
            },
            "type": "contourcarpet"
           }
          ],
          "heatmap": [
           {
            "colorbar": {
             "outlinewidth": 0,
             "ticks": ""
            },
            "colorscale": [
             [
              0,
              "#0d0887"
             ],
             [
              0.1111111111111111,
              "#46039f"
             ],
             [
              0.2222222222222222,
              "#7201a8"
             ],
             [
              0.3333333333333333,
              "#9c179e"
             ],
             [
              0.4444444444444444,
              "#bd3786"
             ],
             [
              0.5555555555555556,
              "#d8576b"
             ],
             [
              0.6666666666666666,
              "#ed7953"
             ],
             [
              0.7777777777777778,
              "#fb9f3a"
             ],
             [
              0.8888888888888888,
              "#fdca26"
             ],
             [
              1,
              "#f0f921"
             ]
            ],
            "type": "heatmap"
           }
          ],
          "heatmapgl": [
           {
            "colorbar": {
             "outlinewidth": 0,
             "ticks": ""
            },
            "colorscale": [
             [
              0,
              "#0d0887"
             ],
             [
              0.1111111111111111,
              "#46039f"
             ],
             [
              0.2222222222222222,
              "#7201a8"
             ],
             [
              0.3333333333333333,
              "#9c179e"
             ],
             [
              0.4444444444444444,
              "#bd3786"
             ],
             [
              0.5555555555555556,
              "#d8576b"
             ],
             [
              0.6666666666666666,
              "#ed7953"
             ],
             [
              0.7777777777777778,
              "#fb9f3a"
             ],
             [
              0.8888888888888888,
              "#fdca26"
             ],
             [
              1,
              "#f0f921"
             ]
            ],
            "type": "heatmapgl"
           }
          ],
          "histogram": [
           {
            "marker": {
             "colorbar": {
              "outlinewidth": 0,
              "ticks": ""
             }
            },
            "type": "histogram"
           }
          ],
          "histogram2d": [
           {
            "colorbar": {
             "outlinewidth": 0,
             "ticks": ""
            },
            "colorscale": [
             [
              0,
              "#0d0887"
             ],
             [
              0.1111111111111111,
              "#46039f"
             ],
             [
              0.2222222222222222,
              "#7201a8"
             ],
             [
              0.3333333333333333,
              "#9c179e"
             ],
             [
              0.4444444444444444,
              "#bd3786"
             ],
             [
              0.5555555555555556,
              "#d8576b"
             ],
             [
              0.6666666666666666,
              "#ed7953"
             ],
             [
              0.7777777777777778,
              "#fb9f3a"
             ],
             [
              0.8888888888888888,
              "#fdca26"
             ],
             [
              1,
              "#f0f921"
             ]
            ],
            "type": "histogram2d"
           }
          ],
          "histogram2dcontour": [
           {
            "colorbar": {
             "outlinewidth": 0,
             "ticks": ""
            },
            "colorscale": [
             [
              0,
              "#0d0887"
             ],
             [
              0.1111111111111111,
              "#46039f"
             ],
             [
              0.2222222222222222,
              "#7201a8"
             ],
             [
              0.3333333333333333,
              "#9c179e"
             ],
             [
              0.4444444444444444,
              "#bd3786"
             ],
             [
              0.5555555555555556,
              "#d8576b"
             ],
             [
              0.6666666666666666,
              "#ed7953"
             ],
             [
              0.7777777777777778,
              "#fb9f3a"
             ],
             [
              0.8888888888888888,
              "#fdca26"
             ],
             [
              1,
              "#f0f921"
             ]
            ],
            "type": "histogram2dcontour"
           }
          ],
          "mesh3d": [
           {
            "colorbar": {
             "outlinewidth": 0,
             "ticks": ""
            },
            "type": "mesh3d"
           }
          ],
          "parcoords": [
           {
            "line": {
             "colorbar": {
              "outlinewidth": 0,
              "ticks": ""
             }
            },
            "type": "parcoords"
           }
          ],
          "pie": [
           {
            "automargin": true,
            "type": "pie"
           }
          ],
          "scatter": [
           {
            "marker": {
             "colorbar": {
              "outlinewidth": 0,
              "ticks": ""
             }
            },
            "type": "scatter"
           }
          ],
          "scatter3d": [
           {
            "line": {
             "colorbar": {
              "outlinewidth": 0,
              "ticks": ""
             }
            },
            "marker": {
             "colorbar": {
              "outlinewidth": 0,
              "ticks": ""
             }
            },
            "type": "scatter3d"
           }
          ],
          "scattercarpet": [
           {
            "marker": {
             "colorbar": {
              "outlinewidth": 0,
              "ticks": ""
             }
            },
            "type": "scattercarpet"
           }
          ],
          "scattergeo": [
           {
            "marker": {
             "colorbar": {
              "outlinewidth": 0,
              "ticks": ""
             }
            },
            "type": "scattergeo"
           }
          ],
          "scattergl": [
           {
            "marker": {
             "colorbar": {
              "outlinewidth": 0,
              "ticks": ""
             }
            },
            "type": "scattergl"
           }
          ],
          "scattermapbox": [
           {
            "marker": {
             "colorbar": {
              "outlinewidth": 0,
              "ticks": ""
             }
            },
            "type": "scattermapbox"
           }
          ],
          "scatterpolar": [
           {
            "marker": {
             "colorbar": {
              "outlinewidth": 0,
              "ticks": ""
             }
            },
            "type": "scatterpolar"
           }
          ],
          "scatterpolargl": [
           {
            "marker": {
             "colorbar": {
              "outlinewidth": 0,
              "ticks": ""
             }
            },
            "type": "scatterpolargl"
           }
          ],
          "scatterternary": [
           {
            "marker": {
             "colorbar": {
              "outlinewidth": 0,
              "ticks": ""
             }
            },
            "type": "scatterternary"
           }
          ],
          "surface": [
           {
            "colorbar": {
             "outlinewidth": 0,
             "ticks": ""
            },
            "colorscale": [
             [
              0,
              "#0d0887"
             ],
             [
              0.1111111111111111,
              "#46039f"
             ],
             [
              0.2222222222222222,
              "#7201a8"
             ],
             [
              0.3333333333333333,
              "#9c179e"
             ],
             [
              0.4444444444444444,
              "#bd3786"
             ],
             [
              0.5555555555555556,
              "#d8576b"
             ],
             [
              0.6666666666666666,
              "#ed7953"
             ],
             [
              0.7777777777777778,
              "#fb9f3a"
             ],
             [
              0.8888888888888888,
              "#fdca26"
             ],
             [
              1,
              "#f0f921"
             ]
            ],
            "type": "surface"
           }
          ],
          "table": [
           {
            "cells": {
             "fill": {
              "color": "#EBF0F8"
             },
             "line": {
              "color": "white"
             }
            },
            "header": {
             "fill": {
              "color": "#C8D4E3"
             },
             "line": {
              "color": "white"
             }
            },
            "type": "table"
           }
          ]
         },
         "layout": {
          "annotationdefaults": {
           "arrowcolor": "#2a3f5f",
           "arrowhead": 0,
           "arrowwidth": 1
          },
          "coloraxis": {
           "colorbar": {
            "outlinewidth": 0,
            "ticks": ""
           }
          },
          "colorscale": {
           "diverging": [
            [
             0,
             "#8e0152"
            ],
            [
             0.1,
             "#c51b7d"
            ],
            [
             0.2,
             "#de77ae"
            ],
            [
             0.3,
             "#f1b6da"
            ],
            [
             0.4,
             "#fde0ef"
            ],
            [
             0.5,
             "#f7f7f7"
            ],
            [
             0.6,
             "#e6f5d0"
            ],
            [
             0.7,
             "#b8e186"
            ],
            [
             0.8,
             "#7fbc41"
            ],
            [
             0.9,
             "#4d9221"
            ],
            [
             1,
             "#276419"
            ]
           ],
           "sequential": [
            [
             0,
             "#0d0887"
            ],
            [
             0.1111111111111111,
             "#46039f"
            ],
            [
             0.2222222222222222,
             "#7201a8"
            ],
            [
             0.3333333333333333,
             "#9c179e"
            ],
            [
             0.4444444444444444,
             "#bd3786"
            ],
            [
             0.5555555555555556,
             "#d8576b"
            ],
            [
             0.6666666666666666,
             "#ed7953"
            ],
            [
             0.7777777777777778,
             "#fb9f3a"
            ],
            [
             0.8888888888888888,
             "#fdca26"
            ],
            [
             1,
             "#f0f921"
            ]
           ],
           "sequentialminus": [
            [
             0,
             "#0d0887"
            ],
            [
             0.1111111111111111,
             "#46039f"
            ],
            [
             0.2222222222222222,
             "#7201a8"
            ],
            [
             0.3333333333333333,
             "#9c179e"
            ],
            [
             0.4444444444444444,
             "#bd3786"
            ],
            [
             0.5555555555555556,
             "#d8576b"
            ],
            [
             0.6666666666666666,
             "#ed7953"
            ],
            [
             0.7777777777777778,
             "#fb9f3a"
            ],
            [
             0.8888888888888888,
             "#fdca26"
            ],
            [
             1,
             "#f0f921"
            ]
           ]
          },
          "colorway": [
           "#636efa",
           "#EF553B",
           "#00cc96",
           "#ab63fa",
           "#FFA15A",
           "#19d3f3",
           "#FF6692",
           "#B6E880",
           "#FF97FF",
           "#FECB52"
          ],
          "font": {
           "color": "#2a3f5f"
          },
          "geo": {
           "bgcolor": "white",
           "lakecolor": "white",
           "landcolor": "#E5ECF6",
           "showlakes": true,
           "showland": true,
           "subunitcolor": "white"
          },
          "hoverlabel": {
           "align": "left"
          },
          "hovermode": "closest",
          "mapbox": {
           "style": "light"
          },
          "paper_bgcolor": "white",
          "plot_bgcolor": "#E5ECF6",
          "polar": {
           "angularaxis": {
            "gridcolor": "white",
            "linecolor": "white",
            "ticks": ""
           },
           "bgcolor": "#E5ECF6",
           "radialaxis": {
            "gridcolor": "white",
            "linecolor": "white",
            "ticks": ""
           }
          },
          "scene": {
           "xaxis": {
            "backgroundcolor": "#E5ECF6",
            "gridcolor": "white",
            "gridwidth": 2,
            "linecolor": "white",
            "showbackground": true,
            "ticks": "",
            "zerolinecolor": "white"
           },
           "yaxis": {
            "backgroundcolor": "#E5ECF6",
            "gridcolor": "white",
            "gridwidth": 2,
            "linecolor": "white",
            "showbackground": true,
            "ticks": "",
            "zerolinecolor": "white"
           },
           "zaxis": {
            "backgroundcolor": "#E5ECF6",
            "gridcolor": "white",
            "gridwidth": 2,
            "linecolor": "white",
            "showbackground": true,
            "ticks": "",
            "zerolinecolor": "white"
           }
          },
          "shapedefaults": {
           "line": {
            "color": "#2a3f5f"
           }
          },
          "ternary": {
           "aaxis": {
            "gridcolor": "white",
            "linecolor": "white",
            "ticks": ""
           },
           "baxis": {
            "gridcolor": "white",
            "linecolor": "white",
            "ticks": ""
           },
           "bgcolor": "#E5ECF6",
           "caxis": {
            "gridcolor": "white",
            "linecolor": "white",
            "ticks": ""
           }
          },
          "title": {
           "x": 0.05
          },
          "xaxis": {
           "automargin": true,
           "gridcolor": "white",
           "linecolor": "white",
           "ticks": "",
           "title": {
            "standoff": 15
           },
           "zerolinecolor": "white",
           "zerolinewidth": 2
          },
          "yaxis": {
           "automargin": true,
           "gridcolor": "white",
           "linecolor": "white",
           "ticks": "",
           "title": {
            "standoff": 15
           },
           "zerolinecolor": "white",
           "zerolinewidth": 2
          }
         }
        },
        "title": {
         "text": "Number of COVID cases over time in Chile"
        },
        "xaxis": {
         "title": {
          "text": "Date"
         }
        },
        "yaxis": {
         "title": {
          "text": "Number of cases"
         }
        }
       }
      }
     },
     "metadata": {}
    }
   ],
   "source": [
    "fig = go.Figure(data=go.Scatter(x=dfcl['date'],y=dfcl['Chi_average'],mode='lines',marker_color='pink')) # hover text goes here\n",
    "fig.update_layout(title='Number of COVID cases over time in Chile',xaxis_title=\"Date\",yaxis_title=\"Number of cases\")\n",
    "fig.show()          #@Natalio666Altube"
   ]
  },
  {
   "cell_type": "code",
   "execution_count": 206,
   "metadata": {},
   "outputs": [
    {
     "output_type": "display_data",
     "data": {
      "application/vnd.plotly.v1+json": {
       "config": {
        "plotlyServerURL": "https://plot.ly"
       },
       "data": [
        {
         "boxmean": true,
         "marker": {
          "color": "green"
         },
         "name": "Chi",
         "type": "box",
         "y": [
          1,
          2,
          1,
          1,
          5,
          3,
          4,
          6,
          10,
          10,
          18,
          14,
          81,
          45,
          37,
          104,
          92,
          103,
          95,
          114,
          176,
          220,
          164,
          304,
          299,
          230,
          310,
          289,
          293,
          373,
          333,
          424,
          310,
          344,
          301,
          430,
          426,
          529,
          426,
          286,
          312,
          392,
          356,
          534,
          445,
          478,
          358,
          419,
          325,
          464,
          516,
          494,
          552,
          473,
          482,
          552,
          520,
          1138,
          985,
          1427,
          1228,
          980,
          1373,
          1032,
          1533,
          1391,
          1247,
          1647,
          1197,
          1658,
          2660,
          2659,
          2502,
          1886,
          2353,
          2278,
          3520,
          4038,
          3964,
          4276,
          3536,
          3709,
          4895,
          3964,
          4328,
          4654,
          3695,
          4220,
          4830,
          5471,
          3527,
          4942,
          4664,
          4207,
          5246,
          6405,
          4696,
          3913,
          5737,
          5596,
          6754,
          6509,
          6938,
          5143,
          5013,
          36179,
          4475,
          6290,
          5355,
          5607,
          4608,
          3804,
          3649,
          4648,
          4296,
          4406,
          4216,
          4017,
          3394,
          2650,
          2498,
          3548,
          3758,
          3685,
          3025,
          2462,
          2064,
          3133,
          3058,
          2755,
          3012,
          2616,
          1836,
          1712,
          2493,
          2841,
          0,
          4391,
          2099,
          1654,
          1719,
          2357,
          2545,
          2288,
          2198,
          2133,
          1877,
          1775,
          1961
         ]
        },
        {
         "boxmean": "sd",
         "marker": {
          "color": "darkorchid"
         },
         "name": "D",
         "type": "box",
         "y": [
          "2020-03-04",
          "2020-03-05",
          "2020-03-06",
          "2020-03-07",
          "2020-03-09",
          "2020-03-10",
          "2020-03-11",
          "2020-03-12",
          "2020-03-13",
          "2020-03-14",
          "2020-03-15",
          "2020-03-16",
          "2020-03-17",
          "2020-03-18",
          "2020-03-19",
          "2020-03-20",
          "2020-03-21",
          "2020-03-22",
          "2020-03-23",
          "2020-03-24",
          "2020-03-25",
          "2020-03-26",
          "2020-03-27",
          "2020-03-28",
          "2020-03-29",
          "2020-03-30",
          "2020-03-31",
          "2020-04-01",
          "2020-04-02",
          "2020-04-03",
          "2020-04-04",
          "2020-04-05",
          "2020-04-06",
          "2020-04-07",
          "2020-04-08",
          "2020-04-09",
          "2020-04-10",
          "2020-04-11",
          "2020-04-12",
          "2020-04-13",
          "2020-04-14",
          "2020-04-15",
          "2020-04-16",
          "2020-04-17",
          "2020-04-18",
          "2020-04-19",
          "2020-04-20",
          "2020-04-21",
          "2020-04-22",
          "2020-04-23",
          "2020-04-24",
          "2020-04-25",
          "2020-04-26",
          "2020-04-27",
          "2020-04-28",
          "2020-04-29",
          "2020-04-30",
          "2020-05-01",
          "2020-05-02",
          "2020-05-03",
          "2020-05-04",
          "2020-05-05",
          "2020-05-06",
          "2020-05-07",
          "2020-05-08",
          "2020-05-09",
          "2020-05-10",
          "2020-05-11",
          "2020-05-12",
          "2020-05-13",
          "2020-05-14",
          "2020-05-15",
          "2020-05-16",
          "2020-05-17",
          "2020-05-18",
          "2020-05-19",
          "2020-05-20",
          "2020-05-21",
          "2020-05-22",
          "2020-05-23",
          "2020-05-24",
          "2020-05-25",
          "2020-05-26",
          "2020-05-27",
          "2020-05-28",
          "2020-05-29",
          "2020-05-30",
          "2020-05-31",
          "2020-06-01",
          "2020-06-02",
          "2020-06-03",
          "2020-06-04",
          "2020-06-05",
          "2020-06-06",
          "2020-06-07",
          "2020-06-08",
          "2020-06-09",
          "2020-06-10",
          "2020-06-11",
          "2020-06-12",
          "2020-06-13",
          "2020-06-14",
          "2020-06-15",
          "2020-06-16",
          "2020-06-17",
          "2020-06-18",
          "2020-06-19",
          "2020-06-20",
          "2020-06-21",
          "2020-06-22",
          "2020-06-23",
          "2020-06-24",
          "2020-06-25",
          "2020-06-26",
          "2020-06-27",
          "2020-06-28",
          "2020-06-29",
          "2020-06-30",
          "2020-07-01",
          "2020-07-02",
          "2020-07-03",
          "2020-07-04",
          "2020-07-05",
          "2020-07-06",
          "2020-07-07",
          "2020-07-08",
          "2020-07-09",
          "2020-07-10",
          "2020-07-11",
          "2020-07-12",
          "2020-07-13",
          "2020-07-14",
          "2020-07-15",
          "2020-07-16",
          "2020-07-17",
          "2020-07-18",
          "2020-07-19",
          "2020-07-20",
          "2020-07-21",
          "2020-07-22",
          "2020-07-23",
          "2020-07-24",
          "2020-07-25",
          "2020-07-26",
          "2020-07-27",
          "2020-07-28",
          "2020-07-29",
          "2020-07-30",
          "2020-07-31"
         ]
        }
       ],
       "layout": {
        "template": {
         "data": {
          "bar": [
           {
            "error_x": {
             "color": "#2a3f5f"
            },
            "error_y": {
             "color": "#2a3f5f"
            },
            "marker": {
             "line": {
              "color": "#E5ECF6",
              "width": 0.5
             }
            },
            "type": "bar"
           }
          ],
          "barpolar": [
           {
            "marker": {
             "line": {
              "color": "#E5ECF6",
              "width": 0.5
             }
            },
            "type": "barpolar"
           }
          ],
          "carpet": [
           {
            "aaxis": {
             "endlinecolor": "#2a3f5f",
             "gridcolor": "white",
             "linecolor": "white",
             "minorgridcolor": "white",
             "startlinecolor": "#2a3f5f"
            },
            "baxis": {
             "endlinecolor": "#2a3f5f",
             "gridcolor": "white",
             "linecolor": "white",
             "minorgridcolor": "white",
             "startlinecolor": "#2a3f5f"
            },
            "type": "carpet"
           }
          ],
          "choropleth": [
           {
            "colorbar": {
             "outlinewidth": 0,
             "ticks": ""
            },
            "type": "choropleth"
           }
          ],
          "contour": [
           {
            "colorbar": {
             "outlinewidth": 0,
             "ticks": ""
            },
            "colorscale": [
             [
              0,
              "#0d0887"
             ],
             [
              0.1111111111111111,
              "#46039f"
             ],
             [
              0.2222222222222222,
              "#7201a8"
             ],
             [
              0.3333333333333333,
              "#9c179e"
             ],
             [
              0.4444444444444444,
              "#bd3786"
             ],
             [
              0.5555555555555556,
              "#d8576b"
             ],
             [
              0.6666666666666666,
              "#ed7953"
             ],
             [
              0.7777777777777778,
              "#fb9f3a"
             ],
             [
              0.8888888888888888,
              "#fdca26"
             ],
             [
              1,
              "#f0f921"
             ]
            ],
            "type": "contour"
           }
          ],
          "contourcarpet": [
           {
            "colorbar": {
             "outlinewidth": 0,
             "ticks": ""
            },
            "type": "contourcarpet"
           }
          ],
          "heatmap": [
           {
            "colorbar": {
             "outlinewidth": 0,
             "ticks": ""
            },
            "colorscale": [
             [
              0,
              "#0d0887"
             ],
             [
              0.1111111111111111,
              "#46039f"
             ],
             [
              0.2222222222222222,
              "#7201a8"
             ],
             [
              0.3333333333333333,
              "#9c179e"
             ],
             [
              0.4444444444444444,
              "#bd3786"
             ],
             [
              0.5555555555555556,
              "#d8576b"
             ],
             [
              0.6666666666666666,
              "#ed7953"
             ],
             [
              0.7777777777777778,
              "#fb9f3a"
             ],
             [
              0.8888888888888888,
              "#fdca26"
             ],
             [
              1,
              "#f0f921"
             ]
            ],
            "type": "heatmap"
           }
          ],
          "heatmapgl": [
           {
            "colorbar": {
             "outlinewidth": 0,
             "ticks": ""
            },
            "colorscale": [
             [
              0,
              "#0d0887"
             ],
             [
              0.1111111111111111,
              "#46039f"
             ],
             [
              0.2222222222222222,
              "#7201a8"
             ],
             [
              0.3333333333333333,
              "#9c179e"
             ],
             [
              0.4444444444444444,
              "#bd3786"
             ],
             [
              0.5555555555555556,
              "#d8576b"
             ],
             [
              0.6666666666666666,
              "#ed7953"
             ],
             [
              0.7777777777777778,
              "#fb9f3a"
             ],
             [
              0.8888888888888888,
              "#fdca26"
             ],
             [
              1,
              "#f0f921"
             ]
            ],
            "type": "heatmapgl"
           }
          ],
          "histogram": [
           {
            "marker": {
             "colorbar": {
              "outlinewidth": 0,
              "ticks": ""
             }
            },
            "type": "histogram"
           }
          ],
          "histogram2d": [
           {
            "colorbar": {
             "outlinewidth": 0,
             "ticks": ""
            },
            "colorscale": [
             [
              0,
              "#0d0887"
             ],
             [
              0.1111111111111111,
              "#46039f"
             ],
             [
              0.2222222222222222,
              "#7201a8"
             ],
             [
              0.3333333333333333,
              "#9c179e"
             ],
             [
              0.4444444444444444,
              "#bd3786"
             ],
             [
              0.5555555555555556,
              "#d8576b"
             ],
             [
              0.6666666666666666,
              "#ed7953"
             ],
             [
              0.7777777777777778,
              "#fb9f3a"
             ],
             [
              0.8888888888888888,
              "#fdca26"
             ],
             [
              1,
              "#f0f921"
             ]
            ],
            "type": "histogram2d"
           }
          ],
          "histogram2dcontour": [
           {
            "colorbar": {
             "outlinewidth": 0,
             "ticks": ""
            },
            "colorscale": [
             [
              0,
              "#0d0887"
             ],
             [
              0.1111111111111111,
              "#46039f"
             ],
             [
              0.2222222222222222,
              "#7201a8"
             ],
             [
              0.3333333333333333,
              "#9c179e"
             ],
             [
              0.4444444444444444,
              "#bd3786"
             ],
             [
              0.5555555555555556,
              "#d8576b"
             ],
             [
              0.6666666666666666,
              "#ed7953"
             ],
             [
              0.7777777777777778,
              "#fb9f3a"
             ],
             [
              0.8888888888888888,
              "#fdca26"
             ],
             [
              1,
              "#f0f921"
             ]
            ],
            "type": "histogram2dcontour"
           }
          ],
          "mesh3d": [
           {
            "colorbar": {
             "outlinewidth": 0,
             "ticks": ""
            },
            "type": "mesh3d"
           }
          ],
          "parcoords": [
           {
            "line": {
             "colorbar": {
              "outlinewidth": 0,
              "ticks": ""
             }
            },
            "type": "parcoords"
           }
          ],
          "pie": [
           {
            "automargin": true,
            "type": "pie"
           }
          ],
          "scatter": [
           {
            "marker": {
             "colorbar": {
              "outlinewidth": 0,
              "ticks": ""
             }
            },
            "type": "scatter"
           }
          ],
          "scatter3d": [
           {
            "line": {
             "colorbar": {
              "outlinewidth": 0,
              "ticks": ""
             }
            },
            "marker": {
             "colorbar": {
              "outlinewidth": 0,
              "ticks": ""
             }
            },
            "type": "scatter3d"
           }
          ],
          "scattercarpet": [
           {
            "marker": {
             "colorbar": {
              "outlinewidth": 0,
              "ticks": ""
             }
            },
            "type": "scattercarpet"
           }
          ],
          "scattergeo": [
           {
            "marker": {
             "colorbar": {
              "outlinewidth": 0,
              "ticks": ""
             }
            },
            "type": "scattergeo"
           }
          ],
          "scattergl": [
           {
            "marker": {
             "colorbar": {
              "outlinewidth": 0,
              "ticks": ""
             }
            },
            "type": "scattergl"
           }
          ],
          "scattermapbox": [
           {
            "marker": {
             "colorbar": {
              "outlinewidth": 0,
              "ticks": ""
             }
            },
            "type": "scattermapbox"
           }
          ],
          "scatterpolar": [
           {
            "marker": {
             "colorbar": {
              "outlinewidth": 0,
              "ticks": ""
             }
            },
            "type": "scatterpolar"
           }
          ],
          "scatterpolargl": [
           {
            "marker": {
             "colorbar": {
              "outlinewidth": 0,
              "ticks": ""
             }
            },
            "type": "scatterpolargl"
           }
          ],
          "scatterternary": [
           {
            "marker": {
             "colorbar": {
              "outlinewidth": 0,
              "ticks": ""
             }
            },
            "type": "scatterternary"
           }
          ],
          "surface": [
           {
            "colorbar": {
             "outlinewidth": 0,
             "ticks": ""
            },
            "colorscale": [
             [
              0,
              "#0d0887"
             ],
             [
              0.1111111111111111,
              "#46039f"
             ],
             [
              0.2222222222222222,
              "#7201a8"
             ],
             [
              0.3333333333333333,
              "#9c179e"
             ],
             [
              0.4444444444444444,
              "#bd3786"
             ],
             [
              0.5555555555555556,
              "#d8576b"
             ],
             [
              0.6666666666666666,
              "#ed7953"
             ],
             [
              0.7777777777777778,
              "#fb9f3a"
             ],
             [
              0.8888888888888888,
              "#fdca26"
             ],
             [
              1,
              "#f0f921"
             ]
            ],
            "type": "surface"
           }
          ],
          "table": [
           {
            "cells": {
             "fill": {
              "color": "#EBF0F8"
             },
             "line": {
              "color": "white"
             }
            },
            "header": {
             "fill": {
              "color": "#C8D4E3"
             },
             "line": {
              "color": "white"
             }
            },
            "type": "table"
           }
          ]
         },
         "layout": {
          "annotationdefaults": {
           "arrowcolor": "#2a3f5f",
           "arrowhead": 0,
           "arrowwidth": 1
          },
          "coloraxis": {
           "colorbar": {
            "outlinewidth": 0,
            "ticks": ""
           }
          },
          "colorscale": {
           "diverging": [
            [
             0,
             "#8e0152"
            ],
            [
             0.1,
             "#c51b7d"
            ],
            [
             0.2,
             "#de77ae"
            ],
            [
             0.3,
             "#f1b6da"
            ],
            [
             0.4,
             "#fde0ef"
            ],
            [
             0.5,
             "#f7f7f7"
            ],
            [
             0.6,
             "#e6f5d0"
            ],
            [
             0.7,
             "#b8e186"
            ],
            [
             0.8,
             "#7fbc41"
            ],
            [
             0.9,
             "#4d9221"
            ],
            [
             1,
             "#276419"
            ]
           ],
           "sequential": [
            [
             0,
             "#0d0887"
            ],
            [
             0.1111111111111111,
             "#46039f"
            ],
            [
             0.2222222222222222,
             "#7201a8"
            ],
            [
             0.3333333333333333,
             "#9c179e"
            ],
            [
             0.4444444444444444,
             "#bd3786"
            ],
            [
             0.5555555555555556,
             "#d8576b"
            ],
            [
             0.6666666666666666,
             "#ed7953"
            ],
            [
             0.7777777777777778,
             "#fb9f3a"
            ],
            [
             0.8888888888888888,
             "#fdca26"
            ],
            [
             1,
             "#f0f921"
            ]
           ],
           "sequentialminus": [
            [
             0,
             "#0d0887"
            ],
            [
             0.1111111111111111,
             "#46039f"
            ],
            [
             0.2222222222222222,
             "#7201a8"
            ],
            [
             0.3333333333333333,
             "#9c179e"
            ],
            [
             0.4444444444444444,
             "#bd3786"
            ],
            [
             0.5555555555555556,
             "#d8576b"
            ],
            [
             0.6666666666666666,
             "#ed7953"
            ],
            [
             0.7777777777777778,
             "#fb9f3a"
            ],
            [
             0.8888888888888888,
             "#fdca26"
            ],
            [
             1,
             "#f0f921"
            ]
           ]
          },
          "colorway": [
           "#636efa",
           "#EF553B",
           "#00cc96",
           "#ab63fa",
           "#FFA15A",
           "#19d3f3",
           "#FF6692",
           "#B6E880",
           "#FF97FF",
           "#FECB52"
          ],
          "font": {
           "color": "#2a3f5f"
          },
          "geo": {
           "bgcolor": "white",
           "lakecolor": "white",
           "landcolor": "#E5ECF6",
           "showlakes": true,
           "showland": true,
           "subunitcolor": "white"
          },
          "hoverlabel": {
           "align": "left"
          },
          "hovermode": "closest",
          "mapbox": {
           "style": "light"
          },
          "paper_bgcolor": "white",
          "plot_bgcolor": "#E5ECF6",
          "polar": {
           "angularaxis": {
            "gridcolor": "white",
            "linecolor": "white",
            "ticks": ""
           },
           "bgcolor": "#E5ECF6",
           "radialaxis": {
            "gridcolor": "white",
            "linecolor": "white",
            "ticks": ""
           }
          },
          "scene": {
           "xaxis": {
            "backgroundcolor": "#E5ECF6",
            "gridcolor": "white",
            "gridwidth": 2,
            "linecolor": "white",
            "showbackground": true,
            "ticks": "",
            "zerolinecolor": "white"
           },
           "yaxis": {
            "backgroundcolor": "#E5ECF6",
            "gridcolor": "white",
            "gridwidth": 2,
            "linecolor": "white",
            "showbackground": true,
            "ticks": "",
            "zerolinecolor": "white"
           },
           "zaxis": {
            "backgroundcolor": "#E5ECF6",
            "gridcolor": "white",
            "gridwidth": 2,
            "linecolor": "white",
            "showbackground": true,
            "ticks": "",
            "zerolinecolor": "white"
           }
          },
          "shapedefaults": {
           "line": {
            "color": "#2a3f5f"
           }
          },
          "ternary": {
           "aaxis": {
            "gridcolor": "white",
            "linecolor": "white",
            "ticks": ""
           },
           "baxis": {
            "gridcolor": "white",
            "linecolor": "white",
            "ticks": ""
           },
           "bgcolor": "#E5ECF6",
           "caxis": {
            "gridcolor": "white",
            "linecolor": "white",
            "ticks": ""
           }
          },
          "title": {
           "x": 0.05
          },
          "xaxis": {
           "automargin": true,
           "gridcolor": "white",
           "linecolor": "white",
           "ticks": "",
           "title": {
            "standoff": 15
           },
           "zerolinecolor": "white",
           "zerolinewidth": 2
          },
          "yaxis": {
           "automargin": true,
           "gridcolor": "white",
           "linecolor": "white",
           "ticks": "",
           "title": {
            "standoff": 15
           },
           "zerolinecolor": "white",
           "zerolinewidth": 2
          }
         }
        },
        "title": {
         "text": "Outliers of COVID cases in Chile"
        }
       }
      }
     },
     "metadata": {}
    }
   ],
   "source": [
    "fig = go.Figure()\n",
    "fig.add_trace(go.Box(y=dfcl.Chi_average,\n",
    "                     boxmean=True, # only mean visible on plot\n",
    "                     marker_color=\"green\",\n",
    "                     name=\"Chi\"))\n",
    "fig.add_trace(go.Box(y=dfcl.date,\n",
    "                     boxmean='sd', # mean and SD visible on plot\n",
    "                     marker_color=\"darkorchid\",\n",
    "                     name=\"D\"))\n",
    "fig.update_layout(title=\"Outliers of COVID cases in Chile\")\n",
    "fig.show()              #@Natalio666Altube"
   ]
  },
  {
   "cell_type": "code",
   "execution_count": 207,
   "metadata": {},
   "outputs": [
    {
     "output_type": "execute_result",
     "data": {
      "text/plain": "iso_code                            object\ncontinent                           object\nlocation                            object\ndate                                object\ntotal_cases                        float64\nnew_cases                          float64\ntotal_deaths                       float64\nnew_deaths                         float64\ntotal_cases_per_million            float64\nnew_cases_per_million              float64\ntotal_deaths_per_million           float64\nnew_deaths_per_million             float64\nnew_tests                          float64\ntotal_tests                        float64\ntotal_tests_per_thousand           float64\nnew_tests_per_thousand             float64\nnew_tests_smoothed                 float64\nnew_tests_smoothed_per_thousand    float64\ntests_units                         object\nstringency_index                   float64\npopulation                         float64\npopulation_density                 float64\nmedian_age                         float64\naged_65_older                      float64\naged_70_older                      float64\ngdp_per_capita                     float64\nextreme_poverty                    float64\ncardiovasc_death_rate              float64\ndiabetes_prevalence                float64\nfemale_smokers                     float64\nmale_smokers                       float64\nhandwashing_facilities             float64\nhospital_beds_per_thousand         float64\nlife_expectancy                    float64\ndtype: object"
     },
     "metadata": {},
     "execution_count": 207
    }
   ],
   "source": [
    "covid1.dtypes           #@Natalio666Altube"
   ]
  },
  {
   "cell_type": "code",
   "execution_count": null,
   "metadata": {},
   "outputs": [],
   "source": []
  }
 ],
 "metadata": {
  "language_info": {
   "codemirror_mode": {
    "name": "ipython",
    "version": 3
   },
   "file_extension": ".py",
   "mimetype": "text/x-python",
   "name": "python",
   "nbconvert_exporter": "python",
   "pygments_lexer": "ipython3",
   "version": 3
  },
  "orig_nbformat": 2,
  "kernelspec": {
   "name": "python_defaultSpec_1596294149828",
   "display_name": "Python 3.8.3 64-bit"
  }
 },
 "nbformat": 4,
 "nbformat_minor": 2
}